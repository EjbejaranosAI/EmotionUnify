{
  "cells": [
    {
      "cell_type": "markdown",
      "metadata": {
        "id": "view-in-github",
        "colab_type": "text"
      },
      "source": [
        "<a href=\"https://colab.research.google.com/github/EjbejaranosAI/EmotionUnify/blob/main/Multibench_part2_.ipynb\" target=\"_parent\"><img src=\"https://colab.research.google.com/assets/colab-badge.svg\" alt=\"Open In Colab\"/></a>"
      ]
    },
    {
      "cell_type": "code",
      "execution_count": 1,
      "metadata": {
        "colab": {
          "base_uri": "https://localhost:8080/"
        },
        "id": "Rl_8neKb7JFx",
        "outputId": "09a3599a-8bd8-4f1f-8626-4089c195f8ea"
      },
      "outputs": [
        {
          "output_type": "stream",
          "name": "stdout",
          "text": [
            "Cloning into 'MultiBench'...\n",
            "remote: Enumerating objects: 6931, done.\u001b[K\n",
            "remote: Counting objects: 100% (142/142), done.\u001b[K\n",
            "remote: Compressing objects: 100% (82/82), done.\u001b[K\n",
            "remote: Total 6931 (delta 65), reused 121 (delta 60), pack-reused 6789\u001b[K\n",
            "Receiving objects: 100% (6931/6931), 51.06 MiB | 16.55 MiB/s, done.\n",
            "Resolving deltas: 100% (4251/4251), done.\n",
            "/content/MultiBench\n"
          ]
        }
      ],
      "source": [
        "!git clone https://github.com/pliang279/MultiBench.git\n",
        "%cd MultiBench\n",
        "!pip install -q memory_profiler"
      ]
    },
    {
      "cell_type": "markdown",
      "metadata": {
        "id": "7RlEAA8YBX14"
      },
      "source": [
        "# Avmnist dataset"
      ]
    },
    {
      "cell_type": "code",
      "execution_count": 2,
      "metadata": {
        "colab": {
          "base_uri": "https://localhost:8080/"
        },
        "id": "itI5ryMm76Cg",
        "outputId": "c574ff88-bf64-4a2b-8809-030b9398cc41"
      },
      "outputs": [
        {
          "output_type": "stream",
          "name": "stdout",
          "text": [
            "Requirement already satisfied: gdown in /usr/local/lib/python3.10/dist-packages (4.6.6)\n",
            "Requirement already satisfied: filelock in /usr/local/lib/python3.10/dist-packages (from gdown) (3.12.2)\n",
            "Requirement already satisfied: requests[socks] in /usr/local/lib/python3.10/dist-packages (from gdown) (2.31.0)\n",
            "Requirement already satisfied: six in /usr/local/lib/python3.10/dist-packages (from gdown) (1.16.0)\n",
            "Requirement already satisfied: tqdm in /usr/local/lib/python3.10/dist-packages (from gdown) (4.66.1)\n",
            "Requirement already satisfied: beautifulsoup4 in /usr/local/lib/python3.10/dist-packages (from gdown) (4.11.2)\n",
            "Requirement already satisfied: soupsieve>1.2 in /usr/local/lib/python3.10/dist-packages (from beautifulsoup4->gdown) (2.5)\n",
            "Requirement already satisfied: charset-normalizer<4,>=2 in /usr/local/lib/python3.10/dist-packages (from requests[socks]->gdown) (3.2.0)\n",
            "Requirement already satisfied: idna<4,>=2.5 in /usr/local/lib/python3.10/dist-packages (from requests[socks]->gdown) (3.4)\n",
            "Requirement already satisfied: urllib3<3,>=1.21.1 in /usr/local/lib/python3.10/dist-packages (from requests[socks]->gdown) (2.0.4)\n",
            "Requirement already satisfied: certifi>=2017.4.17 in /usr/local/lib/python3.10/dist-packages (from requests[socks]->gdown) (2023.7.22)\n",
            "Requirement already satisfied: PySocks!=1.5.7,>=1.5.6 in /usr/local/lib/python3.10/dist-packages (from requests[socks]->gdown) (1.7.1)\n",
            "Downloading...\n",
            "From: https://drive.google.com/u/0/uc?id=1KvKynJJca5tDtI5Mmp6CoRh9pQywH8Xp\n",
            "To: /content/MultiBench/avmnist.tar.gz\n",
            "100% 1.60G/1.60G [00:17<00:00, 89.2MB/s]\n"
          ]
        }
      ],
      "source": [
        "!mkdir data\n",
        "!mkdir temp\n",
        "!pip install gdown && gdown https://drive.google.com/u/0/uc?id=1KvKynJJca5tDtI5Mmp6CoRh9pQywH8Xp&export=download"
      ]
    },
    {
      "cell_type": "code",
      "execution_count": 3,
      "metadata": {
        "colab": {
          "base_uri": "https://localhost:8080/"
        },
        "id": "VLtOeGoV7e8x",
        "outputId": "c5eedd47-0616-42be-dbeb-ff054285e29a"
      },
      "outputs": [
        {
          "output_type": "stream",
          "name": "stderr",
          "text": [
            "Downloading...\n",
            "From: https://drive.google.com/u/0/uc?id=1KvKynJJca5tDtI5Mmp6CoRh9pQywH8Xp\n",
            "To: /content/MultiBench/avmnist.tar.gz\n",
            "100%|██████████| 1.60G/1.60G [00:11<00:00, 135MB/s]\n"
          ]
        },
        {
          "output_type": "stream",
          "name": "stdout",
          "text": [
            "avmnist/\n",
            "avmnist/test_labels.npy\n",
            "avmnist/image/\n",
            "avmnist/image/train_data.npy\n",
            "avmnist/image/test_data.npy\n",
            "avmnist/audio/\n",
            "avmnist/audio/train_data.npy\n",
            "avmnist/audio/test_data.npy\n",
            "avmnist/train_labels.npy\n",
            "avmnist/avmnist_temp/\n",
            "avmnist/avmnist_temp/train_labels.npy\n",
            "avmnist/avmnist_temp/image/\n",
            "avmnist/avmnist_temp/image/test_data.npy\n",
            "avmnist/avmnist_temp/image/train_data.npy\n",
            "avmnist/avmnist_temp/test_labels.npy\n"
          ]
        }
      ],
      "source": [
        "import os\n",
        "import torch\n",
        "import sys\n",
        "import gdown\n",
        "\n",
        "# Create the directory if it doesn't exist\n",
        "if not os.path.exists('data'):\n",
        "    os.makedirs('data')\n",
        "\n",
        "# Download the file to the directory\n",
        "url = 'https://drive.google.com/u/0/uc?id=1KvKynJJca5tDtI5Mmp6CoRh9pQywH8Xp'\n",
        "output = 'avmnist.tar.gz'\n",
        "gdown.download(url, output, quiet=False)\n",
        "!tar -xvzf avmnist.tar.gz"
      ]
    },
    {
      "cell_type": "code",
      "execution_count": 4,
      "metadata": {
        "colab": {
          "base_uri": "https://localhost:8080/"
        },
        "id": "zQZ8eLVd8ZaL",
        "outputId": "2e21a1e9-7f61-4746-c30e-2a53dc548fc4"
      },
      "outputs": [
        {
          "output_type": "stream",
          "name": "stderr",
          "text": [
            "/usr/local/lib/python3.10/dist-packages/torch/utils/data/dataloader.py:560: UserWarning: This DataLoader will create 8 worker processes in total. Our suggested max number of worker in current system is 2, which is smaller than what this DataLoader is going to create. Please be aware that excessive worker creation might get DataLoader running slow or even freeze, lower the worker number to avoid potential slowness/freeze if necessary.\n",
            "  warnings.warn(_create_warning_msg(\n"
          ]
        }
      ],
      "source": [
        "from torch import nn\n",
        "import utils.surrogate as surr # This imports a learned cost model from configurations to accuracies.\n",
        "from datasets.avmnist.get_data import get_dataloader # This imports the AVMNIST dataloader\n",
        "\n",
        "traindata, validdata, testdata = get_dataloader(\n",
        "    '/content/MultiBench/avmnist', batch_size=32)"
      ]
    },
    {
      "cell_type": "code",
      "execution_count": null,
      "metadata": {
        "colab": {
          "background_save": true,
          "base_uri": "https://localhost:8080/"
        },
        "id": "dflIkgd38jaX",
        "outputId": "8100b824-c499-4dcd-bc77-4c547e3012ef"
      },
      "outputs": [
        {
          "output_type": "stream",
          "name": "stdout",
          "text": [
            "Search iteration 0 \n",
            "Progressive step 0 \n"
          ]
        },
        {
          "output_type": "stream",
          "name": "stderr",
          "text": [
            "/usr/local/lib/python3.10/dist-packages/torch/utils/data/dataloader.py:560: UserWarning: This DataLoader will create 8 worker processes in total. Our suggested max number of worker in current system is 2, which is smaller than what this DataLoader is going to create. Please be aware that excessive worker creation might get DataLoader running slow or even freeze, lower the worker number to avoid potential slowness/freeze if necessary.\n",
            "  warnings.warn(_create_warning_msg(\n"
          ]
        },
        {
          "output_type": "stream",
          "name": "stdout",
          "text": [
            "train Acc: 0.2674\n",
            "dev Acc: 0.3224\n",
            "train Acc: 0.3394\n",
            "dev Acc: 0.3838\n",
            "train Acc: 0.3585\n",
            "dev Acc: 0.3840\n",
            "train Acc: 0.3704\n",
            "dev Acc: 0.4052\n",
            "train Acc: 0.3945\n",
            "dev Acc: 0.4312\n",
            "train Acc: 0.4096\n",
            "dev Acc: 0.4446\n",
            "train Acc: 0.2066\n",
            "dev Acc: 0.2392\n",
            "train Acc: 0.2744\n",
            "dev Acc: 0.3104\n",
            "train Acc: 0.3072\n",
            "dev Acc: 0.3148\n",
            "train Acc: 0.3224\n",
            "dev Acc: 0.3452\n",
            "train Acc: 0.3366\n",
            "dev Acc: 0.3578\n",
            "train Acc: 0.3435\n",
            "dev Acc: 0.3624\n",
            "train Acc: 0.2592\n",
            "dev Acc: 0.3088\n",
            "train Acc: 0.3260\n",
            "dev Acc: 0.3486\n",
            "train Acc: 0.3426\n",
            "dev Acc: 0.3626\n",
            "train Acc: 0.3559\n",
            "dev Acc: 0.3862\n",
            "train Acc: 0.3696\n",
            "dev Acc: 0.3978\n",
            "train Acc: 0.3797\n",
            "dev Acc: 0.4044\n",
            "train Acc: 0.1833\n",
            "dev Acc: 0.2566\n",
            "train Acc: 0.2752\n",
            "dev Acc: 0.3190\n",
            "train Acc: 0.3132\n",
            "dev Acc: 0.3310\n",
            "train Acc: 0.3306\n",
            "dev Acc: 0.3482\n",
            "train Acc: 0.3425\n",
            "dev Acc: 0.3632\n",
            "train Acc: 0.3467\n",
            "dev Acc: 0.3652\n",
            "train Acc: 0.2685\n",
            "dev Acc: 0.3242\n",
            "train Acc: 0.3408\n",
            "dev Acc: 0.3854\n",
            "train Acc: 0.3647\n",
            "dev Acc: 0.3872\n",
            "train Acc: 0.3737\n",
            "dev Acc: 0.4028\n",
            "train Acc: 0.3960\n",
            "dev Acc: 0.4290\n",
            "train Acc: 0.4080\n",
            "dev Acc: 0.4364\n",
            "train Acc: 0.1880\n",
            "dev Acc: 0.2270\n",
            "train Acc: 0.2743\n",
            "dev Acc: 0.3120\n",
            "train Acc: 0.3111\n",
            "dev Acc: 0.3228\n",
            "train Acc: 0.3263\n",
            "dev Acc: 0.3558\n",
            "train Acc: 0.3433\n",
            "dev Acc: 0.3588\n",
            "train Acc: 0.3525\n",
            "dev Acc: 0.3682\n",
            "train Acc: 0.2783\n",
            "dev Acc: 0.3522\n",
            "train Acc: 0.3966\n",
            "dev Acc: 0.4398\n",
            "train Acc: 0.4391\n",
            "dev Acc: 0.4476\n",
            "train Acc: 0.4495\n",
            "dev Acc: 0.4620\n",
            "train Acc: 0.4681\n",
            "dev Acc: 0.4740\n",
            "train Acc: 0.4752\n",
            "dev Acc: 0.4796\n",
            "train Acc: 0.2208\n",
            "dev Acc: 0.2860\n",
            "train Acc: 0.3468\n",
            "dev Acc: 0.3956\n",
            "train Acc: 0.3992\n",
            "dev Acc: 0.4142\n",
            "train Acc: 0.4213\n",
            "dev Acc: 0.4450\n",
            "train Acc: 0.4477\n",
            "dev Acc: 0.4610\n",
            "train Acc: 0.4590\n",
            "dev Acc: 0.4670\n",
            "train Acc: 0.4419\n",
            "dev Acc: 0.4606\n",
            "train Acc: 0.5113\n",
            "dev Acc: 0.5082\n",
            "train Acc: 0.5271\n",
            "dev Acc: 0.5072\n",
            "train Acc: 0.5313\n",
            "dev Acc: 0.5194\n",
            "train Acc: 0.5373\n",
            "dev Acc: 0.5216\n",
            "train Acc: 0.5432\n",
            "dev Acc: 0.5264\n",
            "train Acc: 0.4089\n",
            "dev Acc: 0.4196\n",
            "train Acc: 0.4568\n",
            "dev Acc: 0.4592\n"
          ]
        }
      ],
      "source": [
        "from training_structures.architecture_search import train # This imports the MFAS training method.\n",
        "\n",
        "s_data = train(['pretrained/avmnist/image_encoder.pt',\n",
        "                'pretrained/avmnist/audio_encoder.pt'],\n",
        "               16, # Size of encoder output\n",
        "               10, # Number of classes\n",
        "               [(6, 12, 24), (6, 12, 24, 48, 96)], # Output of each layer within the unimodal encoders\n",
        "               traindata, # Training data loader.\n",
        "               validdata, # Validation data loader\n",
        "               surr.SimpleRecurrentSurrogate().cuda(), # Surrogate instance\n",
        "               (3, 5, 2), # Search space of the fusion layer\n",
        "               epochs=6 # Number of epochs\n",
        "               )"
      ]
    }
  ],
  "metadata": {
    "accelerator": "GPU",
    "colab": {
      "provenance": [],
      "gpuType": "T4",
      "authorship_tag": "ABX9TyPD+DF6C+UrEZc3sW4gOaWl",
      "include_colab_link": true
    },
    "kernelspec": {
      "display_name": "Python 3",
      "name": "python3"
    },
    "language_info": {
      "name": "python"
    }
  },
  "nbformat": 4,
  "nbformat_minor": 0
}