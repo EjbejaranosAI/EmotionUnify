{
 "cells": [
  {
   "attachments": {},
   "cell_type": "markdown",
   "metadata": {},
   "source": [
    "# CMU Mutlimodalsdk - Exploration dataset and Baseline"
   ]
  },
  {
   "cell_type": "code",
   "execution_count": 4,
   "metadata": {},
   "outputs": [
    {
     "name": "stdout",
     "output_type": "stream",
     "text": [
      "LICENSE       __init_.py    librerias.txt next_steps.md \u001b[34mwandb\u001b[m\u001b[m\n",
      "LICENSE.txt   \u001b[31mclean.sh\u001b[m\u001b[m      \u001b[34mmmsdk\u001b[m\u001b[m         optim.std\n",
      "README.md     \u001b[34mexamples\u001b[m\u001b[m      model.std     \u001b[34mrelated_repos\u001b[m\u001b[m\n"
     ]
    }
   ],
   "source": [
    "import os\n",
    "import re\n",
    "from typing import Optional\n",
    "\n",
    "# path to the SDK folder\n",
    "SDK_PATH: Optional[str] = None\n",
    "# path to the folder where you want to store data\n",
    "DATA_PATH: Optional[str] = '.src/datasets/CMU-MultimodalSDK/data/'\n",
    "# path to a pretrained word embedding file\n",
    "WORD_EMB_PATH: Optional[str] = None\n",
    "# path to loaded word embedding matrix and corresponding word2id mapping\n",
    "CACHE_PATH: Optional[str] = '.src/datasets/CMU-MultimodalSDK/data/embedding_and_mapping.pt'\n",
    "!ls"
   ]
  },
  {
   "cell_type": "code",
   "execution_count": 3,
   "metadata": {},
   "outputs": [],
   "source": [
    "# path to the folder where you want to store data\n",
    "os.chdir('./src/datasets/CMU-MultimodalSDK')"
   ]
  },
  {
   "cell_type": "code",
   "execution_count": 5,
   "metadata": {},
   "outputs": [
    {
     "name": "stdout",
     "output_type": "stream",
     "text": [
      "LICENSE       __init_.py    librerias.txt next_steps.md \u001b[34mwandb\u001b[m\u001b[m\n",
      "LICENSE.txt   \u001b[31mclean.sh\u001b[m\u001b[m      \u001b[34mmmsdk\u001b[m\u001b[m         optim.std\n",
      "README.md     \u001b[34mexamples\u001b[m\u001b[m      model.std     \u001b[34mrelated_repos\u001b[m\u001b[m\n"
     ]
    }
   ],
   "source": [
    "!ls\n",
    "import sys\n",
    "import mmsdk\n",
    "from mmsdk import mmdatasdk as md\n",
    "from subprocess import check_call, CalledProcessError"
   ]
  },
  {
   "cell_type": "code",
   "execution_count": 4,
   "metadata": {},
   "outputs": [
    {
     "name": "stdout",
     "output_type": "stream",
     "text": [
      "LICENSE       README.md     \u001b[31mclean.sh\u001b[m\u001b[m      \u001b[34mmmsdk\u001b[m\u001b[m         \u001b[34mrelated_repos\u001b[m\u001b[m\n",
      "LICENSE.txt   __init_.py    \u001b[34mexamples\u001b[m\u001b[m      next_steps.md\n"
     ]
    },
    {
     "name": "stdout",
     "output_type": "stream",
     "text": [
      "SDK path is not specified! Please specify first in constants/paths.py\n"
     ]
    },
    {
     "ename": "",
     "evalue": "",
     "output_type": "error",
     "traceback": [
      "\u001b[1;31mEl Kernel se bloqueó al ejecutar código en la celda actual o en una celda anterior. Revise el código de las celdas para identificar una posible causa del error. Haga clic <a href='https://aka.ms/vscodeJupyterKernelCrash'>aquí</a> para obtener más información. Vea el [registro] de Jupyter (command:jupyter.viewOutput) para obtener más detalles."
     ]
    }
   ],
   "source": [
    "if SDK_PATH is None:\n",
    "    print(\"SDK path is not specified! Please specify first in constants/paths.py\")\n",
    "    exit(0)\n",
    "else:\n",
    "    sys.path.append(SDK_PATH)\n",
    "\n",
    "# create folders for storing the data\n",
    "if not os.path.exists(DATA_PATH):\n",
    "    check_call(' '.join(['mkdir', '-p', DATA_PATH]), shell=True)"
   ]
  },
  {
   "attachments": {},
   "cell_type": "markdown",
   "metadata": {},
   "source": [
    "## Download data (Only neccesary to do it one time)"
   ]
  },
  {
   "cell_type": "code",
   "execution_count": 4,
   "metadata": {},
   "outputs": [
    {
     "name": "stdout",
     "output_type": "stream",
     "text": [
      "\u001b[94m\u001b[1m[2023-09-22 09:51:16.977] | Status  | \u001b[0mDownloading from http://immortal.multicomp.cs.cmu.edu/CMU-MOSI/language/CMU_MOSI_TimestampedWordVectors.csd to .src/datasets/CMU-MultimodalSDK/data/CMU_MOSI_TimestampedWordVectors.csd...\n"
     ]
    },
    {
     "name": "stderr",
     "output_type": "stream",
     "text": [
      "                                                                     \r"
     ]
    },
    {
     "name": "stdout",
     "output_type": "stream",
     "text": [
      "\u001b[92m\u001b[1m[2023-09-22 09:52:32.837] | Success | \u001b[0mDownload complete!\n",
      "\u001b[92m\u001b[1m[2023-09-22 09:52:32.846] | Success | \u001b[0mComputational sequence read from file .src/datasets/CMU-MultimodalSDK/data/CMU_MOSI_TimestampedWordVectors.csd ...\n",
      "\u001b[94m\u001b[1m[2023-09-22 09:52:32.863] | Status  | \u001b[0mChecking the integrity of the <glove_vectors> computational sequence ...\n",
      "\u001b[94m\u001b[1m[2023-09-22 09:52:32.863] | Status  | \u001b[0mChecking the format of the data in <glove_vectors> computational sequence ...\n"
     ]
    },
    {
     "name": "stderr",
     "output_type": "stream",
     "text": [
      "                                                                   \r"
     ]
    },
    {
     "name": "stdout",
     "output_type": "stream",
     "text": [
      "\u001b[92m\u001b[1m[2023-09-22 09:52:32.891] | Success | \u001b[0m<glove_vectors> computational sequence data in correct format.\n",
      "\u001b[94m\u001b[1m[2023-09-22 09:52:32.891] | Status  | \u001b[0mChecking the format of the metadata in <glove_vectors> computational sequence ...\n",
      "\u001b[93m\u001b[1m[2023-09-22 09:52:32.891] | Warning | \u001b[0m<glove_vectors> computational sequence does not have all the required metadata ... continuing \n",
      "\u001b[94m\u001b[1m[2023-09-22 09:52:33.138] | Status  | \u001b[0mDownloading from http://immortal.multicomp.cs.cmu.edu/CMU-MOSI/visual/CMU_MOSI_Visual_Facet_41.csd to .src/datasets/CMU-MultimodalSDK/data/CMU_MOSI_Visual_Facet_41.csd...\n"
     ]
    },
    {
     "name": "stderr",
     "output_type": "stream",
     "text": [
      "                                                                     \r"
     ]
    },
    {
     "name": "stdout",
     "output_type": "stream",
     "text": [
      "\u001b[92m\u001b[1m[2023-09-22 09:53:56.671] | Success | \u001b[0mDownload complete!\n",
      "\u001b[92m\u001b[1m[2023-09-22 09:53:56.675] | Success | \u001b[0mComputational sequence read from file .src/datasets/CMU-MultimodalSDK/data/CMU_MOSI_Visual_Facet_41.csd ...\n",
      "\u001b[94m\u001b[1m[2023-09-22 09:53:56.692] | Status  | \u001b[0mChecking the integrity of the <FACET_4.1> computational sequence ...\n",
      "\u001b[94m\u001b[1m[2023-09-22 09:53:56.692] | Status  | \u001b[0mChecking the format of the data in <FACET_4.1> computational sequence ...\n"
     ]
    },
    {
     "name": "stderr",
     "output_type": "stream",
     "text": [
      "                                                                   \r"
     ]
    },
    {
     "name": "stdout",
     "output_type": "stream",
     "text": [
      "\u001b[92m\u001b[1m[2023-09-22 09:53:56.726] | Success | \u001b[0m<FACET_4.1> computational sequence data in correct format.\n",
      "\u001b[94m\u001b[1m[2023-09-22 09:53:56.726] | Status  | \u001b[0mChecking the format of the metadata in <FACET_4.1> computational sequence ...\n",
      "\u001b[93m\u001b[1m[2023-09-22 09:53:56.726] | Warning | \u001b[0m<FACET_4.1> computational sequence does not have all the required metadata ... continuing \n",
      "\u001b[94m\u001b[1m[2023-09-22 09:53:56.987] | Status  | \u001b[0mDownloading from http://immortal.multicomp.cs.cmu.edu/CMU-MOSI/visual/CMU_MOSI_Visual_Facet_42.csd to .src/datasets/CMU-MultimodalSDK/data/CMU_MOSI_Visual_Facet_42.csd...\n"
     ]
    },
    {
     "name": "stderr",
     "output_type": "stream",
     "text": [
      "                                                                     \r"
     ]
    },
    {
     "name": "stdout",
     "output_type": "stream",
     "text": [
      "\u001b[92m\u001b[1m[2023-09-22 09:55:02.927] | Success | \u001b[0mDownload complete!\n",
      "\u001b[92m\u001b[1m[2023-09-22 09:55:02.929] | Success | \u001b[0mComputational sequence read from file .src/datasets/CMU-MultimodalSDK/data/CMU_MOSI_Visual_Facet_42.csd ...\n",
      "\u001b[94m\u001b[1m[2023-09-22 09:55:02.941] | Status  | \u001b[0mChecking the integrity of the <FACET_4.2> computational sequence ...\n",
      "\u001b[94m\u001b[1m[2023-09-22 09:55:02.941] | Status  | \u001b[0mChecking the format of the data in <FACET_4.2> computational sequence ...\n"
     ]
    },
    {
     "name": "stderr",
     "output_type": "stream",
     "text": [
      "                                                                   \r"
     ]
    },
    {
     "name": "stdout",
     "output_type": "stream",
     "text": [
      "\u001b[92m\u001b[1m[2023-09-22 09:55:02.974] | Success | \u001b[0m<FACET_4.2> computational sequence data in correct format.\n",
      "\u001b[94m\u001b[1m[2023-09-22 09:55:02.974] | Status  | \u001b[0mChecking the format of the metadata in <FACET_4.2> computational sequence ...\n",
      "\u001b[93m\u001b[1m[2023-09-22 09:55:02.974] | Warning | \u001b[0m<FACET_4.2> computational sequence does not have all the required metadata ... continuing \n",
      "\u001b[94m\u001b[1m[2023-09-22 09:55:03.239] | Status  | \u001b[0mDownloading from http://immortal.multicomp.cs.cmu.edu/CMU-MOSI/acoustic/CMU_MOSI_OpenSmile_EB10.csd to .src/datasets/CMU-MultimodalSDK/data/CMU_MOSI_OpenSmile_EB10.csd...\n"
     ]
    },
    {
     "name": "stderr",
     "output_type": "stream",
     "text": [
      "                                                                    \r"
     ]
    },
    {
     "name": "stdout",
     "output_type": "stream",
     "text": [
      "\u001b[92m\u001b[1m[2023-09-22 09:55:19.269] | Success | \u001b[0mDownload complete!\n",
      "\u001b[92m\u001b[1m[2023-09-22 09:55:19.270] | Success | \u001b[0mComputational sequence read from file .src/datasets/CMU-MultimodalSDK/data/CMU_MOSI_OpenSmile_EB10.csd ...\n",
      "\u001b[94m\u001b[1m[2023-09-22 09:55:19.274] | Status  | \u001b[0mChecking the integrity of the <OpenSmile_emobase2010> computational sequence ...\n",
      "\u001b[94m\u001b[1m[2023-09-22 09:55:19.274] | Status  | \u001b[0mChecking the format of the data in <OpenSmile_emobase2010> computational sequence ...\n"
     ]
    },
    {
     "name": "stderr",
     "output_type": "stream",
     "text": [
      "                                                                   \r"
     ]
    },
    {
     "name": "stdout",
     "output_type": "stream",
     "text": [
      "\u001b[92m\u001b[1m[2023-09-22 09:55:19.295] | Success | \u001b[0m<OpenSmile_emobase2010> computational sequence data in correct format.\n",
      "\u001b[94m\u001b[1m[2023-09-22 09:55:19.295] | Status  | \u001b[0mChecking the format of the metadata in <OpenSmile_emobase2010> computational sequence ...\n",
      "\u001b[93m\u001b[1m[2023-09-22 09:55:19.295] | Warning | \u001b[0m<OpenSmile_emobase2010> computational sequence does not have all the required metadata ... continuing \n",
      "\u001b[94m\u001b[1m[2023-09-22 09:55:19.551] | Status  | \u001b[0mDownloading from http://immortal.multicomp.cs.cmu.edu/CMU-MOSI/acoustic/CMU_MOSI_openSMILE_IS09.csd to .src/datasets/CMU-MultimodalSDK/data/CMU_MOSI_openSMILE_IS09.csd...\n"
     ]
    },
    {
     "name": "stderr",
     "output_type": "stream",
     "text": [
      "                                                                        \r"
     ]
    },
    {
     "name": "stdout",
     "output_type": "stream",
     "text": [
      "\u001b[92m\u001b[1m[2023-09-22 10:05:27.038] | Success | \u001b[0mDownload complete!\n",
      "\u001b[92m\u001b[1m[2023-09-22 10:05:27.040] | Success | \u001b[0mComputational sequence read from file .src/datasets/CMU-MultimodalSDK/data/CMU_MOSI_openSMILE_IS09.csd ...\n",
      "\u001b[94m\u001b[1m[2023-09-22 10:05:27.052] | Status  | \u001b[0mChecking the integrity of the <b'OpenSMILE'> computational sequence ...\n",
      "\u001b[94m\u001b[1m[2023-09-22 10:05:27.052] | Status  | \u001b[0mChecking the format of the data in <b'OpenSMILE'> computational sequence ...\n"
     ]
    },
    {
     "name": "stderr",
     "output_type": "stream",
     "text": [
      "                                                                   \r"
     ]
    },
    {
     "name": "stdout",
     "output_type": "stream",
     "text": [
      "\u001b[92m\u001b[1m[2023-09-22 10:05:27.072] | Success | \u001b[0m<b'OpenSMILE'> computational sequence data in correct format.\n",
      "\u001b[94m\u001b[1m[2023-09-22 10:05:27.072] | Status  | \u001b[0mChecking the format of the metadata in <b'OpenSMILE'> computational sequence ...\n",
      "\u001b[93m\u001b[1m[2023-09-22 10:05:27.072] | Warning | \u001b[0m<b'OpenSMILE'> computational sequence does not have all the required metadata ... continuing \n",
      "\u001b[94m\u001b[1m[2023-09-22 10:05:27.340] | Status  | \u001b[0mDownloading from http://immortal.multicomp.cs.cmu.edu/CMU-MOSI/visual/CMU_MOSI_Visual_OpenFace_1.csd to .src/datasets/CMU-MultimodalSDK/data/CMU_MOSI_Visual_OpenFace_1.csd...\n"
     ]
    },
    {
     "name": "stderr",
     "output_type": "stream",
     "text": [
      "                                                                       \r"
     ]
    },
    {
     "name": "stdout",
     "output_type": "stream",
     "text": [
      "\u001b[92m\u001b[1m[2023-09-22 10:17:06.541] | Success | \u001b[0mDownload complete!\n",
      "\u001b[92m\u001b[1m[2023-09-22 10:17:06.545] | Success | \u001b[0mComputational sequence read from file .src/datasets/CMU-MultimodalSDK/data/CMU_MOSI_Visual_OpenFace_1.csd ...\n",
      "\u001b[94m\u001b[1m[2023-09-22 10:17:06.561] | Status  | \u001b[0mChecking the integrity of the <OpenFace_1> computational sequence ...\n",
      "\u001b[94m\u001b[1m[2023-09-22 10:17:06.561] | Status  | \u001b[0mChecking the format of the data in <OpenFace_1> computational sequence ...\n"
     ]
    },
    {
     "name": "stderr",
     "output_type": "stream",
     "text": [
      "                                                                   \r"
     ]
    },
    {
     "name": "stdout",
     "output_type": "stream",
     "text": [
      "\u001b[92m\u001b[1m[2023-09-22 10:17:06.596] | Success | \u001b[0m<OpenFace_1> computational sequence data in correct format.\n",
      "\u001b[94m\u001b[1m[2023-09-22 10:17:06.596] | Status  | \u001b[0mChecking the format of the metadata in <OpenFace_1> computational sequence ...\n",
      "\u001b[93m\u001b[1m[2023-09-22 10:17:06.596] | Warning | \u001b[0m<OpenFace_1> computational sequence does not have all the required metadata ... continuing \n",
      "\u001b[94m\u001b[1m[2023-09-22 10:17:06.977] | Status  | \u001b[0mDownloading from http://immortal.multicomp.cs.cmu.edu/CMU-MOSI/visual/CMU_MOSI_Visual_OpenFace_2.csd to .src/datasets/CMU-MultimodalSDK/data/CMU_MOSI_Visual_OpenFace_2.csd...\n"
     ]
    },
    {
     "name": "stderr",
     "output_type": "stream",
     "text": [
      "                                                                       \r"
     ]
    },
    {
     "name": "stdout",
     "output_type": "stream",
     "text": [
      "\u001b[92m\u001b[1m[2023-09-22 10:29:44.959] | Success | \u001b[0mDownload complete!\n",
      "\u001b[92m\u001b[1m[2023-09-22 10:29:44.974] | Success | \u001b[0mComputational sequence read from file .src/datasets/CMU-MultimodalSDK/data/CMU_MOSI_Visual_OpenFace_2.csd ...\n",
      "\u001b[94m\u001b[1m[2023-09-22 10:29:44.991] | Status  | \u001b[0mChecking the integrity of the <OpenFace_2> computational sequence ...\n",
      "\u001b[94m\u001b[1m[2023-09-22 10:29:44.991] | Status  | \u001b[0mChecking the format of the data in <OpenFace_2> computational sequence ...\n"
     ]
    },
    {
     "name": "stderr",
     "output_type": "stream",
     "text": [
      "                                                                   \r"
     ]
    },
    {
     "name": "stdout",
     "output_type": "stream",
     "text": [
      "\u001b[92m\u001b[1m[2023-09-22 10:29:45.011] | Success | \u001b[0m<OpenFace_2> computational sequence data in correct format.\n",
      "\u001b[94m\u001b[1m[2023-09-22 10:29:45.011] | Status  | \u001b[0mChecking the format of the metadata in <OpenFace_2> computational sequence ...\n",
      "\u001b[93m\u001b[1m[2023-09-22 10:29:45.011] | Warning | \u001b[0m<OpenFace_2> computational sequence does not have all the required metadata ... continuing \n",
      "\u001b[94m\u001b[1m[2023-09-22 10:29:45.266] | Status  | \u001b[0mDownloading from http://immortal.multicomp.cs.cmu.edu/CMU-MOSI/acoustic/CMU_MOSI_COVAREP.csd to .src/datasets/CMU-MultimodalSDK/data/CMU_MOSI_COVAREP.csd...\n"
     ]
    },
    {
     "name": "stderr",
     "output_type": "stream",
     "text": [
      "                                                                       \r"
     ]
    },
    {
     "name": "stdout",
     "output_type": "stream",
     "text": [
      "\u001b[92m\u001b[1m[2023-09-22 10:36:35.141] | Success | \u001b[0mDownload complete!\n",
      "\u001b[92m\u001b[1m[2023-09-22 10:36:35.145] | Success | \u001b[0mComputational sequence read from file .src/datasets/CMU-MultimodalSDK/data/CMU_MOSI_COVAREP.csd ...\n",
      "\u001b[94m\u001b[1m[2023-09-22 10:36:35.159] | Status  | \u001b[0mChecking the integrity of the <COVAREP> computational sequence ...\n",
      "\u001b[94m\u001b[1m[2023-09-22 10:36:35.159] | Status  | \u001b[0mChecking the format of the data in <COVAREP> computational sequence ...\n"
     ]
    },
    {
     "name": "stderr",
     "output_type": "stream",
     "text": [
      "                                                                   \r"
     ]
    },
    {
     "name": "stdout",
     "output_type": "stream",
     "text": [
      "\u001b[92m\u001b[1m[2023-09-22 10:36:35.194] | Success | \u001b[0m<COVAREP> computational sequence data in correct format.\n",
      "\u001b[94m\u001b[1m[2023-09-22 10:36:35.194] | Status  | \u001b[0mChecking the format of the metadata in <COVAREP> computational sequence ...\n",
      "\u001b[93m\u001b[1m[2023-09-22 10:36:35.194] | Warning | \u001b[0m<COVAREP> computational sequence does not have all the required metadata ... continuing \n",
      "\u001b[92m\u001b[1m[2023-09-22 10:36:35.194] | Success | \u001b[0mDataset initialized successfully ... \n",
      "\u001b[94m\u001b[1m[2023-09-22 10:36:35.457] | Status  | \u001b[0mDownloading from http://immortal.multicomp.cs.cmu.edu/CMU-MOSI/language/CMU_MOSI_TimestampedWords.csd to .src/datasets/CMU-MultimodalSDK/data/CMU_MOSI_TimestampedWords.csd...\n"
     ]
    },
    {
     "name": "stderr",
     "output_type": "stream",
     "text": [
      "                                                                 \r"
     ]
    },
    {
     "name": "stdout",
     "output_type": "stream",
     "text": [
      "\u001b[92m\u001b[1m[2023-09-22 10:36:44.206] | Success | \u001b[0mDownload complete!\n",
      "\u001b[92m\u001b[1m[2023-09-22 10:36:44.207] | Success | \u001b[0mComputational sequence read from file .src/datasets/CMU-MultimodalSDK/data/CMU_MOSI_TimestampedWords.csd ...\n",
      "\u001b[94m\u001b[1m[2023-09-22 10:36:44.212] | Status  | \u001b[0mChecking the integrity of the <words> computational sequence ...\n",
      "\u001b[94m\u001b[1m[2023-09-22 10:36:44.212] | Status  | \u001b[0mChecking the format of the data in <words> computational sequence ...\n"
     ]
    },
    {
     "name": "stderr",
     "output_type": "stream",
     "text": [
      "                                                                   \r"
     ]
    },
    {
     "name": "stdout",
     "output_type": "stream",
     "text": [
      "\u001b[92m\u001b[1m[2023-09-22 10:36:44.241] | Success | \u001b[0m<words> computational sequence data in correct format.\n",
      "\u001b[94m\u001b[1m[2023-09-22 10:36:44.241] | Status  | \u001b[0mChecking the format of the metadata in <words> computational sequence ...\n",
      "\u001b[93m\u001b[1m[2023-09-22 10:36:44.241] | Warning | \u001b[0m<words> computational sequence does not have all the required metadata ... continuing \n",
      "\u001b[94m\u001b[1m[2023-09-22 10:36:44.530] | Status  | \u001b[0mDownloading from http://immortal.multicomp.cs.cmu.edu/CMU-MOSI/language/CMU_MOSI_TimestampedPhones.csd to .src/datasets/CMU-MultimodalSDK/data/CMU_MOSI_TimestampedPhones.csd...\n"
     ]
    },
    {
     "name": "stderr",
     "output_type": "stream",
     "text": [
      "                                                                   \r"
     ]
    },
    {
     "name": "stdout",
     "output_type": "stream",
     "text": [
      "\u001b[92m\u001b[1m[2023-09-22 10:36:47.505] | Success | \u001b[0mDownload complete!\n",
      "\u001b[92m\u001b[1m[2023-09-22 10:36:47.506] | Success | \u001b[0mComputational sequence read from file .src/datasets/CMU-MultimodalSDK/data/CMU_MOSI_TimestampedPhones.csd ...\n",
      "\u001b[94m\u001b[1m[2023-09-22 10:36:47.513] | Status  | \u001b[0mChecking the integrity of the <phoneme> computational sequence ...\n",
      "\u001b[94m\u001b[1m[2023-09-22 10:36:47.513] | Status  | \u001b[0mChecking the format of the data in <phoneme> computational sequence ...\n"
     ]
    },
    {
     "name": "stderr",
     "output_type": "stream",
     "text": [
      "                                                                   \r"
     ]
    },
    {
     "name": "stdout",
     "output_type": "stream",
     "text": [
      "\u001b[92m\u001b[1m[2023-09-22 10:36:47.542] | Success | \u001b[0m<phoneme> computational sequence data in correct format.\n",
      "\u001b[94m\u001b[1m[2023-09-22 10:36:47.542] | Status  | \u001b[0mChecking the format of the metadata in <phoneme> computational sequence ...\n",
      "\u001b[93m\u001b[1m[2023-09-22 10:36:47.542] | Warning | \u001b[0m<phoneme> computational sequence does not have all the required metadata ... continuing \n",
      "\u001b[92m\u001b[1m[2023-09-22 10:36:47.542] | Success | \u001b[0mDataset initialized successfully ... \n",
      "\u001b[94m\u001b[1m[2023-09-22 10:36:47.802] | Status  | \u001b[0mDownloading from http://immortal.multicomp.cs.cmu.edu/CMU-MOSI/labels/CMU_MOSI_Opinion_Labels.csd to .src/datasets/CMU-MultimodalSDK/data/CMU_MOSI_Opinion_Labels.csd...\n"
     ]
    },
    {
     "name": "stderr",
     "output_type": "stream",
     "text": [
      "                                                                \r"
     ]
    },
    {
     "name": "stdout",
     "output_type": "stream",
     "text": [
      "\u001b[92m\u001b[1m[2023-09-22 10:36:48.798] | Success | \u001b[0mDownload complete!\n",
      "\u001b[92m\u001b[1m[2023-09-22 10:36:48.799] | Success | \u001b[0mComputational sequence read from file .src/datasets/CMU-MultimodalSDK/data/CMU_MOSI_Opinion_Labels.csd ...\n",
      "\u001b[94m\u001b[1m[2023-09-22 10:36:48.805] | Status  | \u001b[0mChecking the integrity of the <Opinion Segment Labels> computational sequence ...\n",
      "\u001b[94m\u001b[1m[2023-09-22 10:36:48.805] | Status  | \u001b[0mChecking the format of the data in <Opinion Segment Labels> computational sequence ...\n"
     ]
    },
    {
     "name": "stderr",
     "output_type": "stream",
     "text": [
      "                                                                   "
     ]
    },
    {
     "name": "stdout",
     "output_type": "stream",
     "text": [
      "\u001b[92m\u001b[1m[2023-09-22 10:36:48.833] | Success | \u001b[0m<Opinion Segment Labels> computational sequence data in correct format.\n",
      "\u001b[94m\u001b[1m[2023-09-22 10:36:48.833] | Status  | \u001b[0mChecking the format of the metadata in <Opinion Segment Labels> computational sequence ...\n",
      "\u001b[93m\u001b[1m[2023-09-22 10:36:48.833] | Warning | \u001b[0m<Opinion Segment Labels> computational sequence does not have all the required metadata ... continuing \n",
      "\u001b[92m\u001b[1m[2023-09-22 10:36:48.833] | Success | \u001b[0mDataset initialized successfully ... \n"
     ]
    },
    {
     "name": "stderr",
     "output_type": "stream",
     "text": [
      "\r"
     ]
    }
   ],
   "source": [
    "# MOSI DATASET\n",
    "DATASET = md.cmu_mosi\n",
    "\n",
    "try:\n",
    "    md.mmdataset(DATASET.highlevel, DATA_PATH)\n",
    "except RuntimeError:\n",
    "    print(\"High-level features have been downloaded previously.\")\n",
    "\n",
    "try:\n",
    "    md.mmdataset(DATASET.raw, DATA_PATH)\n",
    "except RuntimeError:\n",
    "    print(\"Raw data have been downloaded previously.\")\n",
    "\n",
    "try:\n",
    "    md.mmdataset(DATASET.labels, DATA_PATH)\n",
    "except RuntimeError:\n",
    "    print(\"Labels have been downloaded previously.\")\n",
    "\n",
    "!wget https://github.com/Justin1904/CMU-MultimodalSDK-Tutorials/blob/master/data/CMU_MOSI_ModifiedTimestampedWords.csd -O .src/datasets/CMU-MultimodalSDK/data/CMU_MOSI_ModifiedTimestampedWords.csd\n",
    "data_files = os.listdir(DATA_PATH)\n",
    "\n",
    "print(\"Downloaded data: \",'\\n'.join(data_files))\n"
   ]
  },
  {
   "cell_type": "code",
   "execution_count": 6,
   "metadata": {},
   "outputs": [
    {
     "name": "stdout",
     "output_type": "stream",
     "text": [
      "Downloaded data:  CMU_MOSI_ModifiedTimestampedWords.csd\n",
      "CMU_MOSI_OpenSmile_EB10.csd\n",
      "CMU_MOSI_openSMILE_IS09.csd\n",
      "CMU_MOSI_Opinion_Labels.csd\n",
      "CMU_MOSI_TimestampedWords.csd\n",
      "CMU_MOSI_Visual_OpenFace_2.csd\n",
      "CMU_MOSI_TimestampedWordVectors.csd\n",
      "CMU_MOSI_Visual_OpenFace_1.csd\n",
      "CMU_MOSI_Visual_Facet_41.csd\n",
      "CMU_MOSI_TimestampedPhones.csd\n",
      "CMU_MOSI_Visual_Facet_42.csd\n",
      "CMU_MOSI_COVAREP.csd\n"
     ]
    }
   ],
   "source": [
    "data_files = os.listdir(DATA_PATH)\n",
    "\n",
    "print(\"Downloaded data: \",'\\n'.join(data_files))"
   ]
  },
  {
   "attachments": {},
   "cell_type": "markdown",
   "metadata": {},
   "source": [
    "## Aligned modalities"
   ]
  },
  {
   "cell_type": "code",
   "execution_count": 7,
   "metadata": {},
   "outputs": [
    {
     "name": "stdout",
     "output_type": "stream",
     "text": [
      "\u001b[92m\u001b[1m[2023-09-25 15:01:58.609] | Success | \u001b[0mComputational sequence read from file .src/datasets/CMU-MultimodalSDK/data/CMU_MOSI_ModifiedTimestampedWords.csd ...\n",
      "\u001b[94m\u001b[1m[2023-09-25 15:01:58.623] | Status  | \u001b[0mChecking the integrity of the <b'CMU_MOSI_ModifiedTimestampedWords'> computational sequence ...\n",
      "\u001b[94m\u001b[1m[2023-09-25 15:01:58.623] | Status  | \u001b[0mChecking the format of the data in <b'CMU_MOSI_ModifiedTimestampedWords'> computational sequence ...\n"
     ]
    },
    {
     "name": "stderr",
     "output_type": "stream",
     "text": [
      "                                                                   \r"
     ]
    },
    {
     "name": "stdout",
     "output_type": "stream",
     "text": [
      "\u001b[92m\u001b[1m[2023-09-25 15:01:58.655] | Success | \u001b[0m<b'CMU_MOSI_ModifiedTimestampedWords'> computational sequence data in correct format.\n",
      "\u001b[94m\u001b[1m[2023-09-25 15:01:58.655] | Status  | \u001b[0mChecking the format of the metadata in <b'CMU_MOSI_ModifiedTimestampedWords'> computational sequence ...\n",
      "\u001b[93m\u001b[1m[2023-09-25 15:01:58.656] | Warning | \u001b[0m<b'CMU_MOSI_ModifiedTimestampedWords'> computational sequence does not have all the required metadata ... continuing \n",
      "\u001b[92m\u001b[1m[2023-09-25 15:01:58.657] | Success | \u001b[0mComputational sequence read from file .src/datasets/CMU-MultimodalSDK/data/CMU_MOSI_Visual_Facet_41.csd ...\n",
      "\u001b[94m\u001b[1m[2023-09-25 15:01:58.672] | Status  | \u001b[0mChecking the integrity of the <FACET_4.1> computational sequence ...\n",
      "\u001b[94m\u001b[1m[2023-09-25 15:01:58.672] | Status  | \u001b[0mChecking the format of the data in <FACET_4.1> computational sequence ...\n"
     ]
    },
    {
     "name": "stderr",
     "output_type": "stream",
     "text": [
      "                                                                   \r"
     ]
    },
    {
     "name": "stdout",
     "output_type": "stream",
     "text": [
      "\u001b[92m\u001b[1m[2023-09-25 15:01:58.710] | Success | \u001b[0m<FACET_4.1> computational sequence data in correct format.\n",
      "\u001b[94m\u001b[1m[2023-09-25 15:01:58.710] | Status  | \u001b[0mChecking the format of the metadata in <FACET_4.1> computational sequence ...\n",
      "\u001b[93m\u001b[1m[2023-09-25 15:01:58.710] | Warning | \u001b[0m<FACET_4.1> computational sequence does not have all the required metadata ... continuing \n",
      "\u001b[92m\u001b[1m[2023-09-25 15:01:58.711] | Success | \u001b[0mComputational sequence read from file .src/datasets/CMU-MultimodalSDK/data/CMU_MOSI_COVAREP.csd ...\n",
      "\u001b[94m\u001b[1m[2023-09-25 15:01:58.720] | Status  | \u001b[0mChecking the integrity of the <COVAREP> computational sequence ...\n",
      "\u001b[94m\u001b[1m[2023-09-25 15:01:58.720] | Status  | \u001b[0mChecking the format of the data in <COVAREP> computational sequence ...\n"
     ]
    },
    {
     "name": "stderr",
     "output_type": "stream",
     "text": [
      "                                                                   "
     ]
    },
    {
     "name": "stdout",
     "output_type": "stream",
     "text": [
      "\u001b[92m\u001b[1m[2023-09-25 15:01:58.757] | Success | \u001b[0m<COVAREP> computational sequence data in correct format.\n",
      "\u001b[94m\u001b[1m[2023-09-25 15:01:58.757] | Status  | \u001b[0mChecking the format of the metadata in <COVAREP> computational sequence ...\n",
      "\u001b[93m\u001b[1m[2023-09-25 15:01:58.757] | Warning | \u001b[0m<COVAREP> computational sequence does not have all the required metadata ... continuing \n",
      "\u001b[92m\u001b[1m[2023-09-25 15:01:58.757] | Success | \u001b[0mDataset initialized successfully ... \n"
     ]
    },
    {
     "name": "stderr",
     "output_type": "stream",
     "text": [
      "\r"
     ]
    }
   ],
   "source": [
    "visual_field = 'CMU_MOSI_Visual_Facet_41'\n",
    "acoustic_field = 'CMU_MOSI_COVAREP'\n",
    "#text_field = 'CMU_MOSI_TimestampedWords'\n",
    "text_field = 'CMU_MOSI_ModifiedTimestampedWords'\n",
    "\n",
    "\n",
    "features = [\n",
    "    text_field,\n",
    "    visual_field,\n",
    "    acoustic_field\n",
    "]\n",
    "\n",
    "recipe = {feat: os.path.join(DATA_PATH, feat) + '.csd' for feat in features}\n",
    "dataset = md.mmdataset(recipe)"
   ]
  },
  {
   "cell_type": "code",
   "execution_count": 8,
   "metadata": {},
   "outputs": [
    {
     "name": "stdout",
     "output_type": "stream",
     "text": [
      "================================================================================\n",
      "Dataset keys: ['CMU_MOSI_ModifiedTimestampedWords', 'CMU_MOSI_Visual_Facet_41', 'CMU_MOSI_COVAREP']\n",
      "================================================================================\n",
      "IDs: ['03bSnISJMiM', '0h-zjBukYpk', '1DmNV9C1hbY', '1iG0909rllw', '2WGyTLYerpo']\n",
      "================================================================================\n",
      "Into IDs: ['features', 'intervals']\n",
      "Shape: [5404, 2]\n",
      "================================================================================\n",
      "Shape visual features: [5404, 47]\n",
      "Shape text features: [658, 1]\n",
      "Shape acoustic features: [18009, 74]\n",
      "Different modalities have different number of time steps!\n"
     ]
    }
   ],
   "source": [
    "print(\"=\" * 80)\n",
    "print(f\"Dataset keys: {list(dataset.keys())}\")\n",
    "print(\"=\" * 80)\n",
    "\n",
    "print(f\"IDs: {list(dataset[visual_field].keys())[:5]}\")\n",
    "print(\"=\" * 80)\n",
    "\n",
    "some_id = list(dataset[visual_field].keys())[15]\n",
    "print(f\"Into IDs: {list(dataset[visual_field][some_id].keys())}\")\n",
    "print(f\"Shape: {list(dataset[visual_field][some_id]['intervals'].shape)}\")\n",
    "print(\"=\" * 80)\n",
    "\n",
    "print(f\"Shape visual features: {list(dataset[visual_field][some_id]['features'].shape)}\")\n",
    "print(f\"Shape text features: {list(dataset[text_field][some_id]['features'].shape)}\")\n",
    "print(f\"Shape acoustic features: {list(dataset[acoustic_field][some_id]['features'].shape)}\")\n",
    "print(\"Different modalities have different number of time steps!\")"
   ]
  },
  {
   "cell_type": "code",
   "execution_count": 9,
   "metadata": {},
   "outputs": [
    {
     "name": "stdout",
     "output_type": "stream",
     "text": [
      "\u001b[94m\u001b[1m[2023-09-25 15:02:05.009] | Status  | \u001b[0mUnify was called ...\n",
      "\u001b[92m\u001b[1m[2023-09-25 15:02:05.009] | Success | \u001b[0mUnify completed ...\n",
      "\u001b[94m\u001b[1m[2023-09-25 15:02:05.009] | Status  | \u001b[0mPre-alignment based on <CMU_MOSI_ModifiedTimestampedWords> computational sequence started ...\n",
      "\u001b[94m\u001b[1m[2023-09-25 15:02:05.971] | Status  | \u001b[0mPre-alignment done for <CMU_MOSI_Visual_Facet_41> ...\n",
      "\u001b[94m\u001b[1m[2023-09-25 15:02:10.598] | Status  | \u001b[0mPre-alignment done for <CMU_MOSI_COVAREP> ...\n",
      "\u001b[94m\u001b[1m[2023-09-25 15:02:10.624] | Status  | \u001b[0mAlignment starting ...\n"
     ]
    },
    {
     "name": "stderr",
     "output_type": "stream",
     "text": [
      "                                                                                              \r"
     ]
    },
    {
     "name": "stdout",
     "output_type": "stream",
     "text": [
      "\u001b[92m\u001b[1m[2023-09-25 15:02:36.658] | Success | \u001b[0mAlignment to <CMU_MOSI_ModifiedTimestampedWords> complete.\n",
      "\u001b[94m\u001b[1m[2023-09-25 15:02:36.658] | Status  | \u001b[0mReplacing dataset content with aligned computational sequences\n",
      "\u001b[92m\u001b[1m[2023-09-25 15:02:36.672] | Success | \u001b[0mInitialized empty <CMU_MOSI_ModifiedTimestampedWords> computational sequence.\n",
      "\u001b[94m\u001b[1m[2023-09-25 15:02:36.672] | Status  | \u001b[0mChecking the format of the data in <CMU_MOSI_ModifiedTimestampedWords> computational sequence ...\n"
     ]
    },
    {
     "name": "stderr",
     "output_type": "stream",
     "text": [
      "                                                                      \r"
     ]
    },
    {
     "name": "stdout",
     "output_type": "stream",
     "text": [
      "\u001b[92m\u001b[1m[2023-09-25 15:02:36.750] | Success | \u001b[0m<CMU_MOSI_ModifiedTimestampedWords> computational sequence data in correct format.\n",
      "\u001b[94m\u001b[1m[2023-09-25 15:02:36.750] | Status  | \u001b[0mChecking the format of the metadata in <CMU_MOSI_ModifiedTimestampedWords> computational sequence ...\n",
      "\u001b[93m\u001b[1m[2023-09-25 15:02:36.750] | Warning | \u001b[0m<CMU_MOSI_ModifiedTimestampedWords> computational sequence does not have all the required metadata ... continuing \n",
      "\u001b[92m\u001b[1m[2023-09-25 15:02:36.750] | Success | \u001b[0mInitialized empty <CMU_MOSI_Visual_Facet_41> computational sequence.\n",
      "\u001b[94m\u001b[1m[2023-09-25 15:02:36.750] | Status  | \u001b[0mChecking the format of the data in <CMU_MOSI_Visual_Facet_41> computational sequence ...\n"
     ]
    },
    {
     "name": "stderr",
     "output_type": "stream",
     "text": [
      "                                                                      \r"
     ]
    },
    {
     "name": "stdout",
     "output_type": "stream",
     "text": [
      "\u001b[92m\u001b[1m[2023-09-25 15:02:36.783] | Success | \u001b[0m<CMU_MOSI_Visual_Facet_41> computational sequence data in correct format.\n",
      "\u001b[94m\u001b[1m[2023-09-25 15:02:36.783] | Status  | \u001b[0mChecking the format of the metadata in <CMU_MOSI_Visual_Facet_41> computational sequence ...\n",
      "\u001b[93m\u001b[1m[2023-09-25 15:02:36.783] | Warning | \u001b[0m<CMU_MOSI_Visual_Facet_41> computational sequence does not have all the required metadata ... continuing \n",
      "\u001b[92m\u001b[1m[2023-09-25 15:02:36.783] | Success | \u001b[0mInitialized empty <CMU_MOSI_COVAREP> computational sequence.\n",
      "\u001b[94m\u001b[1m[2023-09-25 15:02:36.783] | Status  | \u001b[0mChecking the format of the data in <CMU_MOSI_COVAREP> computational sequence ...\n"
     ]
    },
    {
     "name": "stderr",
     "output_type": "stream",
     "text": [
      "                                                                      \r"
     ]
    },
    {
     "name": "stdout",
     "output_type": "stream",
     "text": [
      "\u001b[92m\u001b[1m[2023-09-25 15:02:36.812] | Success | \u001b[0m<CMU_MOSI_COVAREP> computational sequence data in correct format.\n",
      "\u001b[94m\u001b[1m[2023-09-25 15:02:36.812] | Status  | \u001b[0mChecking the format of the metadata in <CMU_MOSI_COVAREP> computational sequence ...\n",
      "\u001b[93m\u001b[1m[2023-09-25 15:02:36.812] | Warning | \u001b[0m<CMU_MOSI_COVAREP> computational sequence does not have all the required metadata ... continuing \n"
     ]
    }
   ],
   "source": [
    "import numpy as np\n",
    "def avg(intervals: np.array, features: np.array) -> np.array:\n",
    "    try:\n",
    "        return np.average(features, axis=0)\n",
    "    except:\n",
    "        return features\n",
    "dataset.align(text_field, collapse_functions=[avg])\n"
   ]
  },
  {
   "cell_type": "code",
   "execution_count": 10,
   "metadata": {},
   "outputs": [
    {
     "name": "stdout",
     "output_type": "stream",
     "text": [
      "\u001b[92m\u001b[1m[2023-09-25 15:02:36.876] | Success | \u001b[0mComputational sequence read from file .src/datasets/CMU-MultimodalSDK/data/CMU_MOSI_Opinion_Labels.csd ...\n",
      "\u001b[94m\u001b[1m[2023-09-25 15:02:36.882] | Status  | \u001b[0mChecking the integrity of the <Opinion Segment Labels> computational sequence ...\n",
      "\u001b[94m\u001b[1m[2023-09-25 15:02:36.882] | Status  | \u001b[0mChecking the format of the data in <Opinion Segment Labels> computational sequence ...\n"
     ]
    },
    {
     "name": "stderr",
     "output_type": "stream",
     "text": [
      "                                                                   \r"
     ]
    },
    {
     "name": "stdout",
     "output_type": "stream",
     "text": [
      "\u001b[92m\u001b[1m[2023-09-25 15:02:36.896] | Success | \u001b[0m<Opinion Segment Labels> computational sequence data in correct format.\n",
      "\u001b[94m\u001b[1m[2023-09-25 15:02:36.897] | Status  | \u001b[0mChecking the format of the metadata in <Opinion Segment Labels> computational sequence ...\n",
      "\u001b[93m\u001b[1m[2023-09-25 15:02:36.897] | Warning | \u001b[0m<Opinion Segment Labels> computational sequence does not have all the required metadata ... continuing \n",
      "\u001b[94m\u001b[1m[2023-09-25 15:02:36.897] | Status  | \u001b[0mUnify was called ...\n",
      "\u001b[92m\u001b[1m[2023-09-25 15:02:36.929] | Success | \u001b[0mUnify completed ...\n",
      "\u001b[94m\u001b[1m[2023-09-25 15:02:36.930] | Status  | \u001b[0mPre-alignment based on <CMU_MOSI_Opinion_Labels> computational sequence started ...\n",
      "\u001b[94m\u001b[1m[2023-09-25 15:02:36.987] | Status  | \u001b[0mPre-alignment done for <CMU_MOSI_ModifiedTimestampedWords> ...\n",
      "\u001b[94m\u001b[1m[2023-09-25 15:02:37.052] | Status  | \u001b[0mPre-alignment done for <CMU_MOSI_Visual_Facet_41> ...\n",
      "\u001b[94m\u001b[1m[2023-09-25 15:02:37.110] | Status  | \u001b[0mPre-alignment done for <CMU_MOSI_COVAREP> ...\n",
      "\u001b[94m\u001b[1m[2023-09-25 15:02:37.112] | Status  | \u001b[0mAlignment starting ...\n"
     ]
    },
    {
     "name": "stderr",
     "output_type": "stream",
     "text": [
      "                                                                                              \r"
     ]
    },
    {
     "name": "stdout",
     "output_type": "stream",
     "text": [
      "\u001b[92m\u001b[1m[2023-09-25 15:02:38.253] | Success | \u001b[0mAlignment to <CMU_MOSI_Opinion_Labels> complete.\n",
      "\u001b[94m\u001b[1m[2023-09-25 15:02:38.253] | Status  | \u001b[0mReplacing dataset content with aligned computational sequences\n",
      "\u001b[92m\u001b[1m[2023-09-25 15:02:38.316] | Success | \u001b[0mInitialized empty <CMU_MOSI_ModifiedTimestampedWords> computational sequence.\n",
      "\u001b[94m\u001b[1m[2023-09-25 15:02:38.316] | Status  | \u001b[0mChecking the format of the data in <CMU_MOSI_ModifiedTimestampedWords> computational sequence ...\n"
     ]
    },
    {
     "name": "stderr",
     "output_type": "stream",
     "text": [
      "                                                                     \r"
     ]
    },
    {
     "name": "stdout",
     "output_type": "stream",
     "text": [
      "\u001b[92m\u001b[1m[2023-09-25 15:02:38.319] | Success | \u001b[0m<CMU_MOSI_ModifiedTimestampedWords> computational sequence data in correct format.\n",
      "\u001b[94m\u001b[1m[2023-09-25 15:02:38.319] | Status  | \u001b[0mChecking the format of the metadata in <CMU_MOSI_ModifiedTimestampedWords> computational sequence ...\n",
      "\u001b[93m\u001b[1m[2023-09-25 15:02:38.319] | Warning | \u001b[0m<CMU_MOSI_ModifiedTimestampedWords> computational sequence does not have all the required metadata ... continuing \n",
      "\u001b[92m\u001b[1m[2023-09-25 15:02:38.319] | Success | \u001b[0mInitialized empty <CMU_MOSI_Visual_Facet_41> computational sequence.\n",
      "\u001b[94m\u001b[1m[2023-09-25 15:02:38.319] | Status  | \u001b[0mChecking the format of the data in <CMU_MOSI_Visual_Facet_41> computational sequence ...\n"
     ]
    },
    {
     "name": "stderr",
     "output_type": "stream",
     "text": [
      "                                                                     \r"
     ]
    },
    {
     "name": "stdout",
     "output_type": "stream",
     "text": [
      "\u001b[92m\u001b[1m[2023-09-25 15:02:38.322] | Success | \u001b[0m<CMU_MOSI_Visual_Facet_41> computational sequence data in correct format.\n",
      "\u001b[94m\u001b[1m[2023-09-25 15:02:38.322] | Status  | \u001b[0mChecking the format of the metadata in <CMU_MOSI_Visual_Facet_41> computational sequence ...\n",
      "\u001b[93m\u001b[1m[2023-09-25 15:02:38.322] | Warning | \u001b[0m<CMU_MOSI_Visual_Facet_41> computational sequence does not have all the required metadata ... continuing \n",
      "\u001b[92m\u001b[1m[2023-09-25 15:02:38.322] | Success | \u001b[0mInitialized empty <CMU_MOSI_COVAREP> computational sequence.\n",
      "\u001b[94m\u001b[1m[2023-09-25 15:02:38.322] | Status  | \u001b[0mChecking the format of the data in <CMU_MOSI_COVAREP> computational sequence ...\n"
     ]
    },
    {
     "name": "stderr",
     "output_type": "stream",
     "text": [
      "                                                                     \r"
     ]
    },
    {
     "name": "stdout",
     "output_type": "stream",
     "text": [
      "\u001b[92m\u001b[1m[2023-09-25 15:02:38.324] | Success | \u001b[0m<CMU_MOSI_COVAREP> computational sequence data in correct format.\n",
      "\u001b[94m\u001b[1m[2023-09-25 15:02:38.324] | Status  | \u001b[0mChecking the format of the metadata in <CMU_MOSI_COVAREP> computational sequence ...\n",
      "\u001b[93m\u001b[1m[2023-09-25 15:02:38.324] | Warning | \u001b[0m<CMU_MOSI_COVAREP> computational sequence does not have all the required metadata ... continuing \n",
      "\u001b[92m\u001b[1m[2023-09-25 15:02:38.324] | Success | \u001b[0mInitialized empty <CMU_MOSI_Opinion_Labels> computational sequence.\n",
      "\u001b[94m\u001b[1m[2023-09-25 15:02:38.324] | Status  | \u001b[0mChecking the format of the data in <CMU_MOSI_Opinion_Labels> computational sequence ...\n"
     ]
    },
    {
     "name": "stderr",
     "output_type": "stream",
     "text": [
      "                                                                     \r"
     ]
    },
    {
     "name": "stdout",
     "output_type": "stream",
     "text": [
      "\u001b[92m\u001b[1m[2023-09-25 15:02:38.326] | Success | \u001b[0m<CMU_MOSI_Opinion_Labels> computational sequence data in correct format.\n",
      "\u001b[94m\u001b[1m[2023-09-25 15:02:38.326] | Status  | \u001b[0mChecking the format of the metadata in <CMU_MOSI_Opinion_Labels> computational sequence ...\n",
      "\u001b[93m\u001b[1m[2023-09-25 15:02:38.326] | Warning | \u001b[0m<CMU_MOSI_Opinion_Labels> computational sequence does not have all the required metadata ... continuing \n"
     ]
    }
   ],
   "source": [
    "label_field = 'CMU_MOSI_Opinion_Labels'\n",
    "label_recipe = {label_field: os.path.join(DATA_PATH, label_field+'.csd')}\n",
    "dataset.add_computational_sequences(label_recipe, destination=None)\n",
    "dataset.align(label_field)"
   ]
  },
  {
   "cell_type": "code",
   "execution_count": 11,
   "metadata": {},
   "outputs": [
    {
     "name": "stdout",
     "output_type": "stream",
     "text": [
      "1iG0909rllw[3]\n"
     ]
    }
   ],
   "source": [
    "# check out what the keys look like now\n",
    "print(list(dataset[label_field].keys())[55])"
   ]
  },
  {
   "attachments": {},
   "cell_type": "markdown",
   "metadata": {},
   "source": [
    "## Spliting dataset and normalizing data"
   ]
  },
  {
   "cell_type": "code",
   "execution_count": 12,
   "metadata": {},
   "outputs": [
    {
     "name": "stdout",
     "output_type": "stream",
     "text": [
      "Shape of training set: 52\n",
      "Shape of validation set: 10\n",
      "Shape of test set: 31\n"
     ]
    }
   ],
   "source": [
    "# Spliting dataset into train, test and evaluation sets\n",
    "DATASET = md.cmu_mosi\n",
    "\n",
    "train_set = DATASET.standard_folds.standard_train_fold\n",
    "valid_set = DATASET.standard_folds.standard_valid_fold\n",
    "test_set = DATASET.standard_folds.standard_test_fold\n",
    "\n",
    "print(f\"Shape of training set: {len(train_set)}\")\n",
    "print(f\"Shape of validation set: {len(valid_set)}\")\n",
    "print(f\"Shape of test set: {len(test_set)}\")"
   ]
  },
  {
   "cell_type": "code",
   "execution_count": 13,
   "metadata": {},
   "outputs": [
    {
     "name": "stdout",
     "output_type": "stream",
     "text": [
      "['tmZoasNr4rU', 'zhpQhgha_KU', 'lXPQBPVc5Cw', 'iiK8YX8oH1E', 'tStelxIAHjw', 'nzpVDcQ0ywM', 'etzxEpPuc6I', 'cW1FSBF59ik', 'd6hH302o4v8', 'k5Y_838nuGo', 'pLTX3ipuDJI', 'jUzDDGyPkXU', 'f_pcplsH_V0', 'yvsjCA6Y5Fc', 'nbWiPyCm4g0', 'rnaNMUZpvvg', 'wMbj6ajWbic', 'cM3Yna7AavY', 'yDtzw_Y-7RU', 'vyB00TXsimI', 'dq3Nf_lMPnE', 'phBUpBr1hSo', 'd3_k5Xpfmik', 'v0zCBqDeKcE', 'tIrG4oNLFzE', 'fvVhgmXxadc', 'ob23OKe5a9Q', 'cXypl4FnoZo', 'vvZ4IcEtiZc', 'f9O3YtZ2VfI', 'c7UH_rxdZv4']\n"
     ]
    }
   ],
   "source": [
    "print(test_set)"
   ]
  },
  {
   "cell_type": "code",
   "execution_count": 14,
   "metadata": {},
   "outputs": [
    {
     "name": "stdout",
     "output_type": "stream",
     "text": [
      "Total number of 0 datapoints have been dropped.\n"
     ]
    },
    {
     "name": "stderr",
     "output_type": "stream",
     "text": [
      "/var/folders/1k/7l23nvk1643grz07p393jdv40000gn/T/ipykernel_4223/410599388.py:65: RuntimeWarning: invalid value encountered in divide\n",
      "  acoustic = np.nan_to_num((acoustic - acoustic.mean(0, keepdims=True)) / (EPS + np.std(acoustic, axis=0, keepdims=True)))\n",
      "/Users/lernmi/miniconda3/envs/emotionunify/lib/python3.11/site-packages/numpy/core/_methods.py:176: RuntimeWarning: overflow encountered in multiply\n",
      "  x = um.multiply(x, x, out=x)\n",
      "/var/folders/1k/7l23nvk1643grz07p393jdv40000gn/T/ipykernel_4223/410599388.py:64: RuntimeWarning: invalid value encountered in divide\n",
      "  visual = np.nan_to_num((visual - visual.mean(0, keepdims=True)) / (EPS + np.std(visual, axis=0, keepdims=True)))\n",
      "/Users/lernmi/miniconda3/envs/emotionunify/lib/python3.11/site-packages/numpy/core/_methods.py:118: RuntimeWarning: overflow encountered in reduce\n",
      "  ret = umr_sum(arr, axis, dtype, out, keepdims, where=where)\n",
      "/Users/lernmi/miniconda3/envs/emotionunify/lib/python3.11/site-packages/numpy/core/_methods.py:152: RuntimeWarning: overflow encountered in reduce\n",
      "  arrmean = umr_sum(arr, axis, dtype, keepdims=True, where=where)\n"
     ]
    }
   ],
   "source": [
    "import torch\n",
    "import torch.nn as nn\n",
    "\n",
    "from torch.nn.utils.rnn import pad_sequence, pack_padded_sequence, pad_packed_sequence\n",
    "from torch.utils.data import DataLoader, Dataset\n",
    "from tqdm import tqdm_notebook\n",
    "from collections import defaultdict\n",
    "\n",
    "# a sentinel epsilon for safe division, without it we will replace illegal values with a constant\n",
    "EPS = 0\n",
    "\n",
    "# construct a word2id mapping that automatically takes increment when new words are encountered\n",
    "word2id = defaultdict(lambda: len(word2id))\n",
    "UNK = word2id['<unk>']\n",
    "PAD = word2id['<pad>']\n",
    "\n",
    "# place holders for the final train/dev/test dataset\n",
    "train = []\n",
    "validation = []\n",
    "test = []\n",
    "\n",
    "# define a regular expression to extract the video ID out of the keys\n",
    "pattern = re.compile('(.*)\\[.*\\]')\n",
    "num_drop = 0 # a counter to count how many data points went into some processing issues\n",
    "\n",
    "for segment in dataset[label_field].keys():\n",
    "\n",
    "    # get the video ID and the features out of the aligned dataset\n",
    "    vid = re.search(pattern, segment).group(1)\n",
    "    label = dataset[label_field][segment]['features']\n",
    "    _words = dataset[text_field][segment]['features']\n",
    "    _visual = dataset[visual_field][segment]['features']\n",
    "    _acoustic = dataset[acoustic_field][segment]['features']\n",
    "\n",
    "    # if the sequences are not same length after alignment, there must be some problem with some modalities\n",
    "    # we should drop it or inspect the data again\n",
    "    if not _words.shape[0] == _visual.shape[0] == _acoustic.shape[0]:\n",
    "        print(f\"Encountered datapoint {vid} with text shape {_words.shape}, visual shape {_visual.shape}, acoustic shape {_acoustic.shape}\")\n",
    "        num_drop += 1\n",
    "        continue\n",
    "\n",
    "    # remove nan values\n",
    "    label = np.nan_to_num(label)\n",
    "    _visual = np.nan_to_num(_visual)\n",
    "    _acoustic = np.nan_to_num(_acoustic)\n",
    "\n",
    "    # remove speech pause tokens - this is in general helpful\n",
    "    # we should remove speech pauses and corresponding visual/acoustic features together\n",
    "    # otherwise modalities would no longer be aligned\n",
    "    words = []\n",
    "    visual = []\n",
    "    acoustic = []\n",
    "    for i, word in enumerate(_words):\n",
    "        if word[0] != b'sp':\n",
    "            words.append(word2id[word[0].decode('utf-8')]) # SDK stores strings as bytes, decode into strings here\n",
    "            visual.append(_visual[i, :])\n",
    "            acoustic.append(_acoustic[i, :])\n",
    "\n",
    "    words = np.asarray(words)\n",
    "    visual = np.asarray(visual)\n",
    "    acoustic = np.asarray(acoustic)\n",
    "\n",
    "    # z-normalization per instance and remove nan/infs\n",
    "    visual = np.nan_to_num((visual - visual.mean(0, keepdims=True)) / (EPS + np.std(visual, axis=0, keepdims=True)))\n",
    "    acoustic = np.nan_to_num((acoustic - acoustic.mean(0, keepdims=True)) / (EPS + np.std(acoustic, axis=0, keepdims=True)))\n",
    "\n",
    "    if vid in train_set:\n",
    "        train.append(((words, visual, acoustic), label, segment))\n",
    "    elif vid in valid_set:\n",
    "        validation.append(((words, visual, acoustic), label, segment))\n",
    "    elif vid in test_set:\n",
    "        test.append(((words, visual, acoustic), label, segment))\n",
    "    else:\n",
    "        print(f\"Found video that doesn't belong to any splits: {vid}\")\n",
    "\n",
    "print(f\"Total number of {num_drop} datapoints have been dropped.\")\n",
    "\n",
    "# turn off the word2id - define a named function here to allow for pickling\n",
    "def return_unk():\n",
    "    return UNK\n",
    "word2id.default_factory = return_unk\n"
   ]
  },
  {
   "cell_type": "code",
   "execution_count": 15,
   "metadata": {},
   "outputs": [
    {
     "name": "stdout",
     "output_type": "stream",
     "text": [
      "================================================================================\n",
      "Train set aligned with label added: 1283\n",
      "Test set aligned with label added: 686\n",
      "Validation set aligned with label added: 229\n",
      "================================================================================\n",
      "Shape into sequences: 3\n",
      "Shape into batch: 3\n",
      "================================================================================\n",
      "Text vector shape: (5,)\n",
      "Visual vector shape: (5, 47)\n",
      "Acoustic vector shape: (5, 74)\n"
     ]
    }
   ],
   "source": [
    "print(80*\"=\")\n",
    "print(f'Train set aligned with label added: {len(train)}') \n",
    "print(f'Test set aligned with label added: {len(test)}') \n",
    "print(f'Validation set aligned with label added: {len(validation)}') \n",
    "print(80*\"=\")\n",
    "print(f'Shape into sequences: {len(train[0])}') \n",
    "print(f'Shape into batch: {len(train[0][0])}') \n",
    "print(80*\"=\")\n",
    "print(f'Text vector shape: {train[0][0][0].shape}')\n",
    "print(f'Visual vector shape: {train[0][0][1].shape}')\n",
    "print(f'Acoustic vector shape: {train[0][0][2].shape}')\n"
   ]
  },
  {
   "cell_type": "code",
   "execution_count": 16,
   "metadata": {},
   "outputs": [
    {
     "data": {
      "text/plain": [
       "(array([2, 3, 4, 5, 6]),\n",
       " array([[-1.99193895e+00, -1.56130433e+00,  2.24037215e-01,\n",
       "          2.24037215e-01, -1.30791950e+00, -5.24096489e-01,\n",
       "          1.08224618e+00,  4.84659851e-01,  6.20539188e-01,\n",
       "         -8.82908583e-01,  1.75792313e+00,  4.26066786e-01,\n",
       "         -8.13734174e-01,  1.10976946e+00,  4.64716285e-01,\n",
       "         -1.12349319e+00, -7.46687233e-01, -5.96176326e-01,\n",
       "          1.65984178e+00,  6.28019050e-02,  8.35817695e-01,\n",
       "         -9.04375374e-01,  1.90320683e+00,  2.73384601e-01,\n",
       "         -7.74063706e-01,  1.00022411e+00,  5.14332838e-02,\n",
       "         -7.44960308e-01,  3.13304812e-01,  6.73187897e-02,\n",
       "          8.88872266e-01, -1.79359889e+00, -1.04357433e+00,\n",
       "          1.11288726e+00, -2.41447568e-01, -5.12846828e-01,\n",
       "         -1.19174254e+00,  6.11311018e-01, -5.77251315e-01,\n",
       "         -8.56405020e-01, -1.29991710e+00,  5.23986220e-01,\n",
       "         -1.32399571e+00, -9.65939343e-01,  1.30997336e+00,\n",
       "          1.44799495e+00,  9.02126491e-01],\n",
       "        [ 5.74711084e-01,  1.06038904e+00, -2.97105342e-01,\n",
       "         -2.97105342e-01,  1.43469846e+00, -8.47869575e-01,\n",
       "         -7.88133442e-01,  7.68965721e-01, -2.82070816e-01,\n",
       "         -7.29235634e-02, -1.21650445e+00,  5.64876080e-01,\n",
       "         -4.72695619e-01, -1.18835950e+00, -1.54848325e+00,\n",
       "         -3.84068757e-01,  1.71588767e+00, -8.66281271e-01,\n",
       "         -7.17658877e-01,  6.28285885e-01,  1.42355397e-01,\n",
       "          1.17085055e-01, -9.44404244e-01,  4.25736904e-01,\n",
       "         -6.66808069e-01, -9.83002901e-01, -8.72651875e-01,\n",
       "         -7.52265394e-01, -5.46098292e-01,  3.66133869e-01,\n",
       "          3.09503168e-01, -2.52752423e-01,  1.38472617e+00,\n",
       "          1.06864309e+00, -1.55483735e+00,  1.44592249e+00,\n",
       "         -1.08731639e+00, -2.11982071e-01, -1.07606828e+00,\n",
       "         -8.47806573e-01, -7.24667907e-01,  1.20478845e+00,\n",
       "         -2.34222710e-01, -3.55985522e-01, -1.53143549e+00,\n",
       "          2.24965155e-01,  1.29731071e+00],\n",
       "        [ 5.91449499e-01, -3.01213980e-01, -1.68665028e+00,\n",
       "         -1.68665028e+00,  2.53856212e-01,  1.28438973e+00,\n",
       "          8.70518148e-01, -1.51642406e+00,  7.92516351e-01,\n",
       "          1.37622643e+00, -1.26406422e-03, -1.46676755e+00,\n",
       "          1.35167146e+00, -3.46050560e-01,  1.31962061e+00,\n",
       "          1.06637049e+00, -4.65919003e-02,  1.35089231e+00,\n",
       "          4.35472488e-01, -1.16669726e+00,  3.07325333e-01,\n",
       "          1.17836583e+00, -1.96485981e-01, -1.29859257e+00,\n",
       "          1.77220607e+00, -5.73528290e-01,  1.82406938e+00,\n",
       "          5.01019597e-01,  1.82440206e-02,  1.19488068e-01,\n",
       "         -1.76551497e+00,  2.80729502e-01, -7.49780834e-01,\n",
       "          9.99387279e-02,  1.07295990e+00, -1.08122754e+00,\n",
       "          9.33049202e-01,  5.09970844e-01,  1.19833827e+00,\n",
       "          1.07668352e+00,  9.76164639e-01, -1.20722818e+00,\n",
       "          1.03736985e+00,  1.27897060e+00, -4.41803992e-01,\n",
       "         -1.06615758e+00, -3.12104821e-02],\n",
       "        [ 4.87453789e-01, -3.14994425e-01,  3.95901620e-01,\n",
       "          3.95901620e-01,  5.49311519e-01,  1.12844193e+00,\n",
       "          3.58854264e-01, -8.27694237e-01, -1.84371817e+00,\n",
       "          8.46398830e-01,  1.06710143e-01, -8.19151521e-01,\n",
       "          1.03631592e+00, -8.23609769e-01,  4.37512785e-01,\n",
       "          1.30590332e+00,  2.70273596e-01,  1.07141006e+00,\n",
       "         -1.45096183e-01, -1.01260066e+00, -1.93898225e+00,\n",
       "          9.67084408e-01, -1.01217359e-01, -8.99844170e-01,\n",
       "          4.51012135e-01, -8.50913167e-01, -5.10103963e-02,\n",
       "          1.74948156e+00, -1.40604508e+00, -1.80850577e+00,\n",
       "         -3.63054663e-01,  1.08480048e+00, -6.16607368e-01,\n",
       "         -1.08184671e+00,  1.10709584e+00, -7.82156408e-01,\n",
       "          1.23024857e+00,  9.43184853e-01,  1.21979570e+00,\n",
       "          1.36058056e+00,  1.32501650e+00, -1.17742980e+00,\n",
       "          1.25551176e+00,  1.09468448e+00, -1.79993480e-01,\n",
       "         -1.17858827e+00, -1.35941005e+00],\n",
       "        [ 3.38322818e-01,  1.11711824e+00,  1.36382139e+00,\n",
       "          1.36382139e+00, -9.29946721e-01, -1.04086602e+00,\n",
       "         -1.52348650e+00,  1.09049392e+00,  7.12733090e-01,\n",
       "         -1.26679277e+00, -6.46865427e-01,  1.29497707e+00,\n",
       "         -1.10155761e+00,  1.24825060e+00, -6.73366368e-01,\n",
       "         -8.64710987e-01, -1.19288290e+00, -9.59844291e-01,\n",
       "         -1.23255908e+00,  1.48821044e+00,  6.53485417e-01,\n",
       "         -1.35816002e+00, -6.61099315e-01,  1.49931538e+00,\n",
       "         -7.82346368e-01,  1.40722024e+00, -9.51841056e-01,\n",
       "         -7.53275514e-01,  1.62059295e+00,  1.25556505e+00,\n",
       "          9.30194676e-01,  6.80821598e-01,  1.02523637e+00,\n",
       "         -1.19962656e+00, -3.83770287e-01,  9.30309176e-01,\n",
       "          1.15761220e-01, -1.85248339e+00, -7.64814436e-01,\n",
       "         -7.33053565e-01, -2.76596516e-01,  6.55883431e-01,\n",
       "         -7.34662771e-01, -1.05173004e+00,  8.43259633e-01,\n",
       "          5.71785629e-01, -8.08816195e-01]], dtype=float32),\n",
       " array([[ 1.2337455 , -1.2865584 , -1.4212074 , -0.98561466, -0.554881  ,\n",
       "         -1.2530013 , -0.08835446,  1.347171  , -0.73087543, -1.0554795 ,\n",
       "          0.28273967, -0.60849464, -1.4422859 , -0.7819848 , -0.5617527 ,\n",
       "         -0.35296094, -0.02896533,  0.60175824,  1.3344476 ,  0.12467237,\n",
       "         -0.11090465, -0.9196475 ,  1.5485014 , -0.6844348 ,  0.42112482,\n",
       "         -0.87435156,  0.95257026, -1.4756348 ,  0.4875557 ,  1.6191478 ,\n",
       "         -0.723377  ,  0.17529337,  0.743496  , -1.2450515 ,  0.4543776 ,\n",
       "          0.34469157,  0.        ,  0.        ,  0.        ,  0.        ,\n",
       "          0.        ,  0.        ,  0.        , -0.09082218, -0.5224229 ,\n",
       "         -0.40689698, -0.8052265 , -1.0065228 , -1.0303878 , -1.0251762 ,\n",
       "         -0.7999101 , -0.88762605,  1.3008825 , -1.0669531 , -0.84140706,\n",
       "         -1.6679962 , -0.7544485 ,  1.0617316 , -1.5976877 ,  0.1926626 ,\n",
       "         -1.7908894 ,  1.2296748 ,  1.2308731 ,  1.1788867 ,  0.99051017,\n",
       "          0.8340707 ,  1.7342516 , -0.32687488, -0.7460231 , -1.1373225 ,\n",
       "         -1.2700351 , -1.2877431 , -1.2262467 , -1.2835587 ],\n",
       "        [ 1.074647  , -1.1266305 , -0.54900473, -0.9282314 , -0.3125983 ,\n",
       "         -0.9559189 , -1.1073134 ,  0.34857723,  0.20529433, -0.938075  ,\n",
       "          1.0487635 , -1.1566954 , -0.78036976, -0.58632064, -1.2302734 ,\n",
       "          0.19227737,  0.49068025,  0.89940447,  0.4559686 ,  0.43048722,\n",
       "          1.1807787 , -0.7309116 , -1.0421906 , -0.5099248 ,  1.5949066 ,\n",
       "          0.9319966 , -0.83736545, -0.6112021 ,  1.2187859 , -0.10932878,\n",
       "         -0.5793332 ,  0.3412901 ,  0.49943042, -1.0724478 ,  0.30301863,\n",
       "          0.7039117 ,  0.        ,  0.        ,  0.        ,  0.        ,\n",
       "          0.        ,  0.        ,  0.        ,  1.70756   ,  1.8102696 ,\n",
       "          1.1928737 , -1.4421339 , -1.2948874 , -1.249918  , -1.0221747 ,\n",
       "         -0.94250727, -0.27851093, -0.05589927, -0.11015978, -1.0288332 ,\n",
       "         -0.5433321 , -0.16289367,  0.7212912 , -0.5658691 , -0.40100884,\n",
       "         -0.32844985,  1.1290553 ,  1.1402171 ,  1.2075928 ,  1.1825055 ,\n",
       "          0.736712  , -0.66805756, -0.8078154 , -0.7430187 , -1.121479  ,\n",
       "         -1.1392351 , -1.1497978 , -1.1240605 , -1.0739312 ],\n",
       "        [-1.0991822 ,  1.038759  ,  1.4546305 ,  0.94446707,  1.9204297 ,\n",
       "          1.221448  ,  0.19008975, -0.2576876 ,  0.580528  ,  0.6596706 ,\n",
       "          0.23857516,  0.42382792,  0.36521643,  1.055999  ,  1.4547172 ,\n",
       "          0.10826273,  1.2360445 , -1.4697756 , -0.8465401 ,  0.9947606 ,\n",
       "         -1.7178859 , -0.73598725, -0.08553627,  1.2551278 , -0.69779414,\n",
       "          1.0808734 , -1.4937911 , -0.11862117,  0.5763777 , -0.9403572 ,\n",
       "          0.9209688 ,  0.20174114, -1.7346648 ,  0.2247009 ,  1.2429702 ,\n",
       "         -1.6508875 ,  0.        ,  0.        ,  0.        ,  0.        ,\n",
       "          0.        ,  0.        ,  0.        , -0.09082218,  0.3166831 ,\n",
       "          1.1060466 ,  0.6002335 ,  0.6719273 ,  0.47271457,  0.45714644,\n",
       "          0.22982216,  0.16039036, -1.0962485 ,  1.8934242 ,  0.75132096,\n",
       "          0.9046386 , -1.3202695 , -1.7738312 ,  1.1079339 ,  0.7076948 ,\n",
       "          0.6488784 , -1.1059477 , -0.9870454 , -1.2018663 , -1.2964536 ,\n",
       "         -1.3012007 , -0.3687333 ,  1.9451149 ,  1.9393773 ,  1.3985155 ,\n",
       "          0.5703951 ,  0.79599017,  1.1160502 ,  0.5346432 ],\n",
       "        [-0.16659446,  0.5260907 , -0.20583725, -0.46533224, -0.94599104,\n",
       "         -0.02429766,  1.772498  , -1.7097907 ,  1.4017127 , -0.24989839,\n",
       "         -1.9099085 , -0.38111004,  1.4043307 ,  1.3563255 , -0.5376639 ,\n",
       "          1.5794897 ,  0.09700492,  0.89760435, -1.4335152 , -1.9169896 ,\n",
       "         -0.1409503 ,  1.5327857 ,  0.6322694 , -1.1910594 ,  0.02026974,\n",
       "          0.3112215 ,  0.3654359 ,  1.1404073 , -0.7295129 , -1.097133  ,\n",
       "         -1.0779972 ,  1.1498272 , -0.48482162,  1.2186034 , -1.7604505 ,\n",
       "          1.161053  ,  0.        ,  0.        ,  0.        ,  0.        ,\n",
       "          0.        ,  0.        ,  0.        , -0.09082218, -0.625556  ,\n",
       "         -0.49976537,  0.2967499 ,  0.29943323,  0.39445567, -0.0507151 ,\n",
       "         -0.31024665, -0.8393381 , -1.0970497 , -0.42088577, -0.4512489 ,\n",
       "          1.0072439 ,  1.3996162 ,  0.31629777,  0.9416343 ,  1.1954153 ,\n",
       "          0.43301922, -0.30601373, -0.33649164, -0.53841114, -0.96534777,\n",
       "         -1.1427892 , -1.1125599 , -0.15151715, -0.34514117,  0.6780252 ,\n",
       "          0.7282936 ,  0.9599467 ,  0.28131363,  0.5565146 ],\n",
       "        [-1.0426174 ,  0.8483393 ,  0.7214187 ,  1.4347118 , -0.10695982,\n",
       "          1.0117713 , -0.7669206 ,  0.2717295 , -1.4566619 ,  1.5837815 ,\n",
       "          0.33983016,  1.7224735 ,  0.45310813, -1.0440187 ,  0.87497246,\n",
       "         -1.5270689 , -1.7947642 , -0.9289915 ,  0.48963907,  0.3670694 ,\n",
       "          0.7889627 ,  0.8537604 , -1.053044  ,  1.1302909 , -1.3385066 ,\n",
       "         -1.4497399 ,  1.0131503 ,  1.0650507 , -1.5532063 ,  0.5276705 ,\n",
       "          1.4597387 , -1.8681519 ,  0.97656   ,  0.8741952 , -0.239916  ,\n",
       "         -0.5587689 ,  0.        ,  0.        ,  0.        ,  0.        ,\n",
       "          0.        ,  0.        ,  0.        , -1.4350934 , -0.97897375,\n",
       "         -1.392258  ,  1.3503774 ,  1.3300498 ,  1.4131354 ,  1.6409198 ,\n",
       "          1.8228418 ,  1.8450847 ,  0.94831496, -0.2954255 ,  1.5701681 ,\n",
       "          0.29944575,  0.8379954 , -0.32548916,  0.11398853, -1.6947637 ,\n",
       "          1.0374426 , -0.9467676 , -1.0475549 , -0.646202  ,  0.08878053,\n",
       "          0.8732073 ,  0.4151104 , -0.6589064 , -0.10519248,  0.18226017,\n",
       "          1.110582  ,  0.6816042 ,  0.95294344,  1.2663324 ]],\n",
       "       dtype=float32))"
      ]
     },
     "execution_count": 16,
     "metadata": {},
     "output_type": "execute_result"
    }
   ],
   "source": [
    "train[0][0]"
   ]
  },
  {
   "cell_type": "code",
   "execution_count": 17,
   "metadata": {},
   "outputs": [
    {
     "name": "stdout",
     "output_type": "stream",
     "text": [
      "================================================================================\n",
      "Batch shape: 5\n",
      "================================================================================\n",
      "Text shape: torch.Size([32, 8])\n",
      "Visual shape: torch.Size([32, 8, 47])\n",
      "Acoustic shape: torch.Size([32, 8, 74])\n",
      "================================================================================\n",
      "Labels: tensor([[ 0.6000],\n",
      "        [ 2.0000],\n",
      "        [ 1.4000],\n",
      "        [-1.4000],\n",
      "        [-2.2000],\n",
      "        [-0.4000],\n",
      "        [ 1.2000],\n",
      "        [ 1.2000]])\n",
      "Length: tensor([32, 14, 12, 10, 10,  7,  7,  6])\n",
      "================================================================================\n"
     ]
    }
   ],
   "source": [
    "def multi_collate(batch):\n",
    "    '''\n",
    "    Collate functions assume batch = [Dataset[i] for i in index_set]\n",
    "    '''\n",
    "    # for later use we sort the batch in descending order of length\n",
    "    batch = sorted(batch, key=lambda x: x[0][0].shape[0], reverse=True)\n",
    "\n",
    "    # get the data out of the batch - use pad sequence util functions from PyTorch to pad things\n",
    "    #print([torch.from_numpy(sample[0]) for sample in batch])\n",
    "    labels = torch.cat([torch.from_numpy(sample[1]) for sample in batch], dim=0)\n",
    "    visual = pad_sequence([torch.FloatTensor(sample[0][1]) for sample in batch])\n",
    "    sentences = pad_sequence([torch.LongTensor(sample[0][0]) for sample in batch], padding_value=PAD)\n",
    "    acoustic = pad_sequence([torch.FloatTensor(sample[0][2]) for sample in batch])\n",
    "\n",
    "    # lengths are useful later in using RNNs\n",
    "    lengths = torch.LongTensor([sample[0][0].shape[0] for sample in batch])\n",
    "    return sentences, visual, acoustic, labels, lengths\n",
    "\n",
    "# construct dataloaders, dev and test could use around ~X3 times batch size since no_grad is used during eval\n",
    "batch_sz = 56\n",
    "train_loader = DataLoader(train, shuffle=True, batch_size=batch_sz, collate_fn=multi_collate)\n",
    "validation_loader = DataLoader(validation, shuffle=False, batch_size=batch_sz*3, collate_fn=multi_collate)\n",
    "test_loader = DataLoader(test, shuffle=False, batch_size=batch_sz*3, collate_fn=multi_collate)\n",
    "\n",
    "\n",
    "# let's create a temporary dataloader just to see how the batch looks like\n",
    "temp_loader = iter(DataLoader(test, shuffle=True, batch_size=8, collate_fn=multi_collate))\n",
    "batch = next(temp_loader)\n",
    "\n",
    "\n",
    "print(80*\"=\")\n",
    "print(f\"Batch shape: {len(batch)}\") # word vectors, padded to maxlen\n",
    "print(80*\"=\")\n",
    "print(f\"Text shape: {batch[0].shape}\") # word vectors, padded to maxlen\n",
    "print(f\"Visual shape: {batch[1].shape}\") # visual features\n",
    "print(f\"Acoustic shape: {batch[2].shape}\") # acoustic features\n",
    "print(80*\"=\")\n",
    "print(f\"Labels: {batch[3]}\") # labels\n",
    "print(f\"Length: {batch[4]}\") # lengths\n",
    "print(80*\"=\")"
   ]
  },
  {
   "cell_type": "code",
   "execution_count": 18,
   "metadata": {},
   "outputs": [
    {
     "name": "stdout",
     "output_type": "stream",
     "text": [
      "stuff and you know going into it or these watching the trailers before head i was really kind of hesitant about seeing the green lantern in the first\n",
      "[[-1.]]\n",
      "2iD-tVS8NPw[13]\n"
     ]
    }
   ],
   "source": [
    "id2word = {v:k for k,v in word2id.items()}\n",
    "examine_target = train\n",
    "idx = np.random.randint(0, len(examine_target))\n",
    "print(' '.join(list(map(lambda x: id2word[x], examine_target[idx][0][0].tolist()))))\n",
    "# print(' '.join(examine_target[idx][0]))\n",
    "print(examine_target[idx][1])\n",
    "print(examine_target[idx][2])"
   ]
  },
  {
   "attachments": {},
   "cell_type": "markdown",
   "metadata": {},
   "source": [
    "## Basic LateFusionLSTM Multimodal model"
   ]
  },
  {
   "cell_type": "code",
   "execution_count": 19,
   "metadata": {},
   "outputs": [],
   "source": [
    "\n",
    "class LateFusionLSTM(nn.Module): \n",
    "    '''\n",
    "    The LateFusionLSTM class is a PyTorch module that implements a late fusion LSTM \n",
    "    model for multimodal data fusion. It takes as input three types of data: text, \n",
    "    visual, and acoustic, and combines them using LSTM layers and concatenation. \n",
    "    The model then applies fully connected layers to produce the final output.\n",
    "\n",
    "    - How to use?\n",
    "        model = LateFusionLSTM(input_sizes=[100, 200, 300], \n",
    "                            hidden_sizes=[50, 50, 50], \n",
    "                            fc1_size=100, output_size=1, \n",
    "                            dropout_rate=0.5)\n",
    "\n",
    "\n",
    "    '''\n",
    "    def __init__(self, input_sizes, hidden_sizes, fc1_size, output_size, dropout_rate):\n",
    "        super(LateFusionLSTM, self).__init__()\n",
    "        self.input_size = input_sizes\n",
    "        self.hidden_size = hidden_sizes\n",
    "        self.fc1_size = fc1_size\n",
    "        self.output_size = output_size\n",
    "        self.dropout_rate = dropout_rate\n",
    "\n",
    "        # defining modules - two layer bidirectional LSTM with layer norm in between\n",
    "        self.embed = nn.Embedding(len(word2id), input_sizes[0])\n",
    "        self.trnn1 = nn.LSTM(input_sizes[0], hidden_sizes[0], bidirectional=True)\n",
    "        self.trnn2 = nn.LSTM(2*hidden_sizes[0], hidden_sizes[0], bidirectional=True)\n",
    "\n",
    "        self.vrnn1 = nn.LSTM(input_sizes[1], hidden_sizes[1], bidirectional=True)\n",
    "        self.vrnn2 = nn.LSTM(2*hidden_sizes[1], hidden_sizes[1], bidirectional=True)\n",
    "\n",
    "        self.arnn1 = nn.LSTM(input_sizes[2], hidden_sizes[2], bidirectional=True)\n",
    "        self.arnn2 = nn.LSTM(2*hidden_sizes[2], hidden_sizes[2], bidirectional=True)\n",
    "\n",
    "        self.fc1 = nn.Linear(sum(hidden_sizes)*4, fc1_size)\n",
    "        self.fc2 = nn.Linear(fc1_size, output_size)\n",
    "        self.relu = nn.ReLU()\n",
    "        self.dropout = nn.Dropout(dropout_rate)\n",
    "        self.tlayer_norm = nn.LayerNorm((hidden_sizes[0]*2,))\n",
    "        self.vlayer_norm = nn.LayerNorm((hidden_sizes[1]*2,))\n",
    "        self.alayer_norm = nn.LayerNorm((hidden_sizes[2]*2,))\n",
    "        self.bn = nn.BatchNorm1d(sum(hidden_sizes)*4)\n",
    "\n",
    "\n",
    "    def extract_features(self, sequence, lengths, rnn1, rnn2, layer_norm):\n",
    "        packed_sequence = pack_padded_sequence(sequence, lengths)\n",
    "        packed_h1, (final_h1, _) = rnn1(packed_sequence)\n",
    "        padded_h1, _ = pad_packed_sequence(packed_h1)\n",
    "        normed_h1 = layer_norm(padded_h1)\n",
    "        packed_normed_h1 = pack_padded_sequence(normed_h1, lengths)\n",
    "        _, (final_h2, _) = rnn2(packed_normed_h1)\n",
    "        return final_h1, final_h2\n",
    "\n",
    "\n",
    "    def fusion(self, sentences, visual, acoustic, lengths):\n",
    "        batch_size = lengths.size(0)\n",
    "        sentences = self.embed(sentences)\n",
    "\n",
    "        # extract features from text modality\n",
    "        final_h1t, final_h2t = self.extract_features(sentences, lengths, self.trnn1, self.trnn2, self.tlayer_norm)\n",
    "\n",
    "        # extract features from visual modality\n",
    "        final_h1v, final_h2v = self.extract_features(visual, lengths, self.vrnn1, self.vrnn2, self.vlayer_norm)\n",
    "\n",
    "        # extract features from acoustic modality\n",
    "        final_h1a, final_h2a = self.extract_features(acoustic, lengths, self.arnn1, self.arnn2, self.alayer_norm)\n",
    "\n",
    "\n",
    "        # simple late fusion -- concatenation + normalization\n",
    "        h = torch.cat((final_h1t, final_h2t, final_h1v, final_h2v, final_h1a, final_h2a),\n",
    "                       dim=2).permute(1, 0, 2).contiguous().view(batch_size, -1)\n",
    "        return self.bn(h)\n",
    "\n",
    "    def forward(self, sentences, visual, acoustic, lengths):\n",
    "        batch_size = lengths.size(0)\n",
    "        h = self.fusion(sentences, visual, acoustic, lengths)\n",
    "        h = self.fc1(h)\n",
    "        h = self.dropout(h)\n",
    "        h = self.relu(h)\n",
    "        h = self.dropout(h)\n",
    "        o = self.fc2(h)\n",
    "        return o\n",
    "    "
   ]
  },
  {
   "cell_type": "code",
   "execution_count": 20,
   "metadata": {},
   "outputs": [],
   "source": [
    "def load_emb(w2i, path_to_embedding, embedding_size=300, embedding_vocab=2196017, init_emb=None):\n",
    "    if init_emb is None:\n",
    "        emb_mat = np.random.randn(len(w2i), embedding_size)\n",
    "    else:\n",
    "        emb_mat = init_emb\n",
    "    f = open(path_to_embedding, 'r')\n",
    "    found = 0\n",
    "    for line in tqdm_notebook(f, total=embedding_vocab):\n",
    "        content = line.strip().split()\n",
    "        vector = np.asarray(list(map(lambda x: float(x), content[-300:])))\n",
    "        word = ' '.join(content[:-300])\n",
    "        if word in w2i:\n",
    "            idx = w2i[word]\n",
    "            emb_mat[idx, :] = vector\n",
    "            found += 1\n",
    "    print(f\"Found {found} words in the embedding file.\")\n",
    "    tensor_emb  = torch.tensor(emb_mat).float()\n",
    "    return tensor_emb"
   ]
  },
  {
   "attachments": {},
   "cell_type": "markdown",
   "metadata": {},
   "source": [
    "## Utils functions"
   ]
  },
  {
   "cell_type": "code",
   "execution_count": 21,
   "metadata": {},
   "outputs": [],
   "source": [
    "from sklearn.metrics import accuracy_score\n",
    "def calculate_accuracy(y_pred, y_true):\n",
    "    y_pred_bin = (y_pred.detach().cpu().numpy() >= 0)\n",
    "    y_true_bin = (y_true.detach().cpu().numpy() >= 0)\n",
    "    return accuracy_score(y_true_bin, y_pred_bin)"
   ]
  },
  {
   "cell_type": "code",
   "execution_count": 40,
   "metadata": {},
   "outputs": [
    {
     "name": "stdout",
     "output_type": "stream",
     "text": [
      "tensor([[456, 405,  65,  ..., 130,  65,  16],\n",
      "        [ 25,  70, 131,  ..., 121,  60,   1],\n",
      "        [  4, 732,  47,  ..., 122,   1,   1],\n",
      "        ...,\n",
      "        [301,   1,   1,  ...,   1,   1,   1],\n",
      "        [ 46,   1,   1,  ...,   1,   1,   1],\n",
      "        [560,   1,   1,  ...,   1,   1,   1]])\n"
     ]
    }
   ],
   "source": [
    "train_loader\n",
    "# acces to the train loader to check structure of the sentences\n",
    "batch = next(iter(train_loader))\n",
    "print(batch[0])"
   ]
  },
  {
   "cell_type": "code",
   "execution_count": 22,
   "metadata": {},
   "outputs": [
    {
     "name": "stdout",
     "output_type": "stream",
     "text": [
      "0.1\n"
     ]
    },
    {
     "name": "stderr",
     "output_type": "stream",
     "text": [
      "Failed to detect the name of this notebook, you can set it manually with the WANDB_NOTEBOOK_NAME environment variable to enable code saving.\n",
      "\u001b[34m\u001b[1mwandb\u001b[0m: Currently logged in as: \u001b[33mejbejaranos22\u001b[0m. Use \u001b[1m`wandb login --relogin`\u001b[0m to force relogin\n"
     ]
    },
    {
     "data": {
      "text/html": [
       "Tracking run with wandb version 0.15.11"
      ],
      "text/plain": [
       "<IPython.core.display.HTML object>"
      ]
     },
     "metadata": {},
     "output_type": "display_data"
    },
    {
     "data": {
      "text/html": [
       "Run data is saved locally in <code>/Users/lernmi/Desktop/EmotionUnify/src/datasets/CMU-MultimodalSDK/wandb/run-20230925_170257-5rce2bnp</code>"
      ],
      "text/plain": [
       "<IPython.core.display.HTML object>"
      ]
     },
     "metadata": {},
     "output_type": "display_data"
    },
    {
     "data": {
      "text/html": [
       "Syncing run <strong><a href='https://wandb.ai/ejbejaranos22/Baseline-multimodal/runs/5rce2bnp' target=\"_blank\">earthy-violet-79</a></strong> to <a href='https://wandb.ai/ejbejaranos22/Baseline-multimodal' target=\"_blank\">Weights & Biases</a> (<a href='https://wandb.me/run' target=\"_blank\">docs</a>)<br/>"
      ],
      "text/plain": [
       "<IPython.core.display.HTML object>"
      ]
     },
     "metadata": {},
     "output_type": "display_data"
    },
    {
     "data": {
      "text/html": [
       " View project at <a href='https://wandb.ai/ejbejaranos22/Baseline-multimodal' target=\"_blank\">https://wandb.ai/ejbejaranos22/Baseline-multimodal</a>"
      ],
      "text/plain": [
       "<IPython.core.display.HTML object>"
      ]
     },
     "metadata": {},
     "output_type": "display_data"
    },
    {
     "data": {
      "text/html": [
       " View run at <a href='https://wandb.ai/ejbejaranos22/Baseline-multimodal/runs/5rce2bnp' target=\"_blank\">https://wandb.ai/ejbejaranos22/Baseline-multimodal/runs/5rce2bnp</a>"
      ],
      "text/plain": [
       "<IPython.core.display.HTML object>"
      ]
     },
     "metadata": {},
     "output_type": "display_data"
    },
    {
     "name": "stderr",
     "output_type": "stream",
     "text": [
      "/Users/lernmi/miniconda3/envs/emotionunify/lib/python3.11/site-packages/torch/optim/lr_scheduler.py:139: UserWarning: Detected call of `lr_scheduler.step()` before `optimizer.step()`. In PyTorch 1.1.0 and later, you should call them in the opposite order: `optimizer.step()` before `lr_scheduler.step()`.  Failure to do this will result in PyTorch skipping the first value of the learning rate schedule. See more details at https://pytorch.org/docs/stable/optim.html#how-to-adjust-learning-rate\n",
      "  warnings.warn(\"Detected call of `lr_scheduler.step()` before `optimizer.step()`. \"\n"
     ]
    },
    {
     "name": "stdout",
     "output_type": "stream",
     "text": [
      "================================================================================\n",
      "[-->] [120, 18, 29]\n",
      "[-->] 83\n",
      "================================================================================\n",
      "Using LateFusionLSTM\n"
     ]
    },
    {
     "name": "stderr",
     "output_type": "stream",
     "text": [
      "Epoch 0/300, current batch loss: 2.1445: 100%|██████████| 23/23 [00:03<00:00,  6.59it/s]\n"
     ]
    },
    {
     "name": "stdout",
     "output_type": "stream",
     "text": [
      "[-] Training loss: 1.3508\n",
      "[-] Training accuracy: 0.4841669933693559\n",
      "Validation loss: 1.4462\n",
      "Validation accuracy: 0.4855093676814989\n",
      "Current patience: 15, current trial: 3.\n",
      "Found new best model on dev set!\n"
     ]
    },
    {
     "name": "stderr",
     "output_type": "stream",
     "text": [
      "Epoch 1/300, current batch loss: 1.2468: 100%|██████████| 23/23 [00:03<00:00,  6.85it/s]\n"
     ]
    },
    {
     "name": "stdout",
     "output_type": "stream",
     "text": [
      "[-] Training loss: 1.3228\n",
      "[-] Training accuracy: 0.5116489184400275\n",
      "Validation loss: 1.4363\n",
      "Validation accuracy: 0.5078551912568307\n",
      "Current patience: 15, current trial: 3.\n",
      "Found new best model on dev set!\n"
     ]
    },
    {
     "name": "stderr",
     "output_type": "stream",
     "text": [
      "Epoch 2/300, current batch loss: 1.739: 100%|██████████| 23/23 [00:03<00:00,  6.40it/s] \n"
     ]
    },
    {
     "name": "stdout",
     "output_type": "stream",
     "text": [
      "[-] Training loss: 1.294\n",
      "[-] Training accuracy: 0.5693061131335126\n",
      "Validation loss: 1.4293\n",
      "Validation accuracy: 0.5138075722092116\n",
      "Current patience: 15, current trial: 3.\n",
      "Found new best model on dev set!\n"
     ]
    },
    {
     "name": "stderr",
     "output_type": "stream",
     "text": [
      "Epoch 3/300, current batch loss: 2.1531: 100%|██████████| 23/23 [00:03<00:00,  6.76it/s]\n"
     ]
    },
    {
     "name": "stdout",
     "output_type": "stream",
     "text": [
      "[-] Training loss: 1.2712\n",
      "[-] Training accuracy: 0.5996314848253351\n",
      "Validation loss: 1.4214\n",
      "Validation accuracy: 0.5651834504293521\n",
      "Current patience: 15, current trial: 3.\n",
      "Found new best model on dev set!\n"
     ]
    },
    {
     "name": "stderr",
     "output_type": "stream",
     "text": [
      "Epoch 4/300, current batch loss: 0.9302: 100%|██████████| 23/23 [00:03<00:00,  6.60it/s]\n"
     ]
    },
    {
     "name": "stdout",
     "output_type": "stream",
     "text": [
      "[-] Training loss: 1.2471\n",
      "[-] Training accuracy: 0.6495011112687381\n",
      "Validation loss: 1.4159\n",
      "Validation accuracy: 0.5622072599531616\n",
      "Current patience: 15, current trial: 3.\n",
      "Found new best model on dev set!\n"
     ]
    },
    {
     "name": "stderr",
     "output_type": "stream",
     "text": [
      "Epoch 5/300, current batch loss: 1.4052: 100%|██████████| 23/23 [00:03<00:00,  6.53it/s]\n"
     ]
    },
    {
     "name": "stdout",
     "output_type": "stream",
     "text": [
      "[-] Training loss: 1.2204\n",
      "[-] Training accuracy: 0.6618194475430291\n",
      "Validation loss: 1.4098\n",
      "Validation accuracy: 0.5622072599531617\n",
      "Current patience: 15, current trial: 3.\n",
      "Found new best model on dev set!\n"
     ]
    },
    {
     "name": "stderr",
     "output_type": "stream",
     "text": [
      "Epoch 6/300, current batch loss: 1.9372: 100%|██████████| 23/23 [00:03<00:00,  6.62it/s]\n"
     ]
    },
    {
     "name": "stdout",
     "output_type": "stream",
     "text": [
      "[-] Training loss: 1.2038\n",
      "[-] Training accuracy: 0.6966010180295895\n",
      "Validation loss: 1.4025\n",
      "Validation accuracy: 0.565183450429352\n",
      "Current patience: 15, current trial: 3.\n",
      "Found new best model on dev set!\n"
     ]
    },
    {
     "name": "stderr",
     "output_type": "stream",
     "text": [
      "Epoch 7/300, current batch loss: 2.1462: 100%|██████████| 23/23 [00:03<00:00,  6.72it/s]\n"
     ]
    },
    {
     "name": "stdout",
     "output_type": "stream",
     "text": [
      "[-] Training loss: 1.1637\n",
      "[-] Training accuracy: 0.7305332309455455\n",
      "Validation loss: 1.3959\n",
      "Validation accuracy: 0.5934816549570648\n",
      "Current patience: 15, current trial: 3.\n",
      "Found new best model on dev set!\n"
     ]
    },
    {
     "name": "stderr",
     "output_type": "stream",
     "text": [
      "Epoch 8/300, current batch loss: 1.258: 100%|██████████| 23/23 [00:03<00:00,  6.74it/s] \n"
     ]
    },
    {
     "name": "stdout",
     "output_type": "stream",
     "text": [
      "[-] Training loss: 1.1433\n",
      "[-] Training accuracy: 0.7557219407722147\n",
      "Validation loss: 1.3866\n",
      "Validation accuracy: 0.6135831381733021\n",
      "Current patience: 15, current trial: 3.\n",
      "Found new best model on dev set!\n"
     ]
    },
    {
     "name": "stderr",
     "output_type": "stream",
     "text": [
      "Epoch 9/300, current batch loss: 1.1325: 100%|██████████| 23/23 [00:03<00:00,  6.52it/s]\n"
     ]
    },
    {
     "name": "stdout",
     "output_type": "stream",
     "text": [
      "[-] Training loss: 1.1202\n",
      "[-] Training accuracy: 0.7568708492298997\n",
      "Validation loss: 1.3777\n",
      "Validation accuracy: 0.6106069476971117\n",
      "Current patience: 15, current trial: 3.\n",
      "Found new best model on dev set!\n"
     ]
    },
    {
     "name": "stderr",
     "output_type": "stream",
     "text": [
      "Epoch 10/300, current batch loss: 2.2913: 100%|██████████| 23/23 [00:03<00:00,  6.65it/s]\n"
     ]
    },
    {
     "name": "stdout",
     "output_type": "stream",
     "text": [
      "[-] Training loss: 1.0985\n",
      "[-] Training accuracy: 0.7629947140146379\n",
      "Validation loss: 1.3697\n",
      "Validation accuracy: 0.6254879000780641\n",
      "Current patience: 15, current trial: 3.\n",
      "Found new best model on dev set!\n"
     ]
    },
    {
     "name": "stderr",
     "output_type": "stream",
     "text": [
      "Epoch 11/300, current batch loss: 1.7173: 100%|██████████| 23/23 [00:03<00:00,  6.74it/s]\n"
     ]
    },
    {
     "name": "stdout",
     "output_type": "stream",
     "text": [
      "[-] Training loss: 1.0664\n",
      "[-] Training accuracy: 0.7961691315954371\n",
      "Validation loss: 1.3617\n",
      "Validation accuracy: 0.625487900078064\n",
      "Current patience: 15, current trial: 3.\n",
      "Found new best model on dev set!\n"
     ]
    },
    {
     "name": "stderr",
     "output_type": "stream",
     "text": [
      "Epoch 12/300, current batch loss: 2.3276: 100%|██████████| 23/23 [00:03<00:00,  6.48it/s]\n"
     ]
    },
    {
     "name": "stdout",
     "output_type": "stream",
     "text": [
      "[-] Training loss: 1.0412\n",
      "[-] Training accuracy: 0.7931543246669297\n",
      "Validation loss: 1.3562\n",
      "Validation accuracy: 0.625487900078064\n",
      "Current patience: 15, current trial: 3.\n",
      "Found new best model on dev set!\n"
     ]
    },
    {
     "name": "stderr",
     "output_type": "stream",
     "text": [
      "Epoch 13/300, current batch loss: 1.9598: 100%|██████████| 23/23 [00:03<00:00,  6.85it/s]\n"
     ]
    },
    {
     "name": "stdout",
     "output_type": "stream",
     "text": [
      "[-] Training loss: 1.0146\n",
      "[-] Training accuracy: 0.8122826529992802\n",
      "Validation loss: 1.3483\n",
      "Validation accuracy: 0.6284640905542546\n",
      "Current patience: 15, current trial: 3.\n",
      "Found new best model on dev set!\n"
     ]
    },
    {
     "name": "stderr",
     "output_type": "stream",
     "text": [
      "Epoch 14/300, current batch loss: 1.0934: 100%|██████████| 23/23 [00:03<00:00,  6.71it/s]\n"
     ]
    },
    {
     "name": "stdout",
     "output_type": "stream",
     "text": [
      "[-] Training loss: 0.9887\n",
      "[-] Training accuracy: 0.8117629944034639\n",
      "Validation loss: 1.3395\n",
      "Validation accuracy: 0.625487900078064\n",
      "Current patience: 15, current trial: 3.\n",
      "Found new best model on dev set!\n"
     ]
    },
    {
     "name": "stderr",
     "output_type": "stream",
     "text": [
      "Epoch 15/300, current batch loss: 1.8845: 100%|██████████| 23/23 [00:03<00:00,  6.75it/s]\n"
     ]
    },
    {
     "name": "stdout",
     "output_type": "stream",
     "text": [
      "[-] Training loss: 0.9506\n",
      "[-] Training accuracy: 0.83553288526851\n",
      "Validation loss: 1.3329\n",
      "Validation accuracy: 0.6113387978142077\n",
      "Current patience: 15, current trial: 3.\n",
      "Found new best model on dev set!\n"
     ]
    },
    {
     "name": "stderr",
     "output_type": "stream",
     "text": [
      "Epoch 16/300, current batch loss: 1.0713: 100%|██████████| 23/23 [00:03<00:00,  6.66it/s]\n"
     ]
    },
    {
     "name": "stdout",
     "output_type": "stream",
     "text": [
      "[-] Training loss: 0.9316\n",
      "[-] Training accuracy: 0.8424638535045543\n",
      "Validation loss: 1.3251\n",
      "Validation accuracy: 0.6225117096018735\n",
      "Current patience: 15, current trial: 3.\n",
      "Found new best model on dev set!\n"
     ]
    },
    {
     "name": "stderr",
     "output_type": "stream",
     "text": [
      "Epoch 17/300, current batch loss: 1.7168: 100%|██████████| 23/23 [00:03<00:00,  6.77it/s]\n"
     ]
    },
    {
     "name": "stdout",
     "output_type": "stream",
     "text": [
      "[-] Training loss: 0.9112\n",
      "[-] Training accuracy: 0.8483158263305322\n",
      "Validation loss: 1.3214\n",
      "Validation accuracy: 0.6165593286494926\n",
      "Current patience: 15, current trial: 3.\n",
      "Found new best model on dev set!\n"
     ]
    },
    {
     "name": "stderr",
     "output_type": "stream",
     "text": [
      "Epoch 18/300, current batch loss: 1.054: 100%|██████████| 23/23 [00:03<00:00,  6.61it/s] \n"
     ]
    },
    {
     "name": "stdout",
     "output_type": "stream",
     "text": [
      "[-] Training loss: 0.8782\n",
      "[-] Training accuracy: 0.8556406318872729\n",
      "Validation loss: 1.3151\n",
      "Validation accuracy: 0.6277322404371585\n",
      "Current patience: 15, current trial: 3.\n",
      "Found new best model on dev set!\n"
     ]
    },
    {
     "name": "stderr",
     "output_type": "stream",
     "text": [
      "Epoch 19/300, current batch loss: 0.9848: 100%|██████████| 23/23 [00:03<00:00,  6.63it/s]\n"
     ]
    },
    {
     "name": "stdout",
     "output_type": "stream",
     "text": [
      "[-] Training loss: 0.8511\n",
      "[-] Training accuracy: 0.8444643203816181\n",
      "Validation loss: 1.3045\n",
      "Validation accuracy: 0.6478337236533958\n",
      "Current patience: 15, current trial: 3.\n",
      "Found new best model on dev set!\n"
     ]
    },
    {
     "name": "stderr",
     "output_type": "stream",
     "text": [
      "Epoch 20/300, current batch loss: 0.3183: 100%|██████████| 23/23 [00:03<00:00,  6.80it/s]\n"
     ]
    },
    {
     "name": "stdout",
     "output_type": "stream",
     "text": [
      "[-] Training loss: 0.8239\n",
      "[-] Training accuracy: 0.8599983717766944\n",
      "Validation loss: 1.3012\n",
      "Validation accuracy: 0.6478337236533959\n",
      "Current patience: 15, current trial: 3.\n",
      "Found new best model on dev set!\n"
     ]
    },
    {
     "name": "stderr",
     "output_type": "stream",
     "text": [
      "Epoch 21/300, current batch loss: 0.9767: 100%|██████████| 23/23 [00:03<00:00,  6.73it/s]\n"
     ]
    },
    {
     "name": "stdout",
     "output_type": "stream",
     "text": [
      "[-] Training loss: 0.7992\n",
      "[-] Training accuracy: 0.8728764325202697\n",
      "Validation loss: 1.304\n",
      "Validation accuracy: 0.6448575331772052\n",
      "Current patience: 15, current trial: 3.\n"
     ]
    },
    {
     "name": "stderr",
     "output_type": "stream",
     "text": [
      "Epoch 22/300, current batch loss: 0.9557: 100%|██████████| 23/23 [00:03<00:00,  6.74it/s]\n"
     ]
    },
    {
     "name": "stdout",
     "output_type": "stream",
     "text": [
      "[-] Training loss: 0.7685\n",
      "[-] Training accuracy: 0.8816856401879388\n",
      "Validation loss: 1.2931\n",
      "Validation accuracy: 0.6389051522248244\n",
      "Current patience: 14, current trial: 3.\n",
      "Found new best model on dev set!\n"
     ]
    },
    {
     "name": "stderr",
     "output_type": "stream",
     "text": [
      "Epoch 23/300, current batch loss: 1.0041: 100%|██████████| 23/23 [00:03<00:00,  6.66it/s]\n"
     ]
    },
    {
     "name": "stdout",
     "output_type": "stream",
     "text": [
      "[-] Training loss: 0.7434\n",
      "[-] Training accuracy: 0.8834204413472707\n",
      "Validation loss: 1.2932\n",
      "Validation accuracy: 0.6389051522248244\n",
      "Current patience: 15, current trial: 3.\n"
     ]
    },
    {
     "name": "stderr",
     "output_type": "stream",
     "text": [
      "Epoch 24/300, current batch loss: 0.8516: 100%|██████████| 23/23 [00:03<00:00,  6.57it/s]\n"
     ]
    },
    {
     "name": "stdout",
     "output_type": "stream",
     "text": [
      "[-] Training loss: 0.7106\n",
      "[-] Training accuracy: 0.8853885590933619\n",
      "Validation loss: 1.2927\n",
      "Validation accuracy: 0.6359289617486339\n",
      "Current patience: 14, current trial: 3.\n",
      "Found new best model on dev set!\n"
     ]
    },
    {
     "name": "stderr",
     "output_type": "stream",
     "text": [
      "Epoch 25/300, current batch loss: 0.5603: 100%|██████████| 23/23 [00:03<00:00,  6.53it/s]\n"
     ]
    },
    {
     "name": "stdout",
     "output_type": "stream",
     "text": [
      "[-] Training loss: 0.6997\n",
      "[-] Training accuracy: 0.8992939833275968\n",
      "Validation loss: 1.2826\n",
      "Validation accuracy: 0.6418813427010148\n",
      "Current patience: 15, current trial: 3.\n",
      "Found new best model on dev set!\n"
     ]
    },
    {
     "name": "stderr",
     "output_type": "stream",
     "text": [
      "Epoch 26/300, current batch loss: 0.832: 100%|██████████| 23/23 [00:03<00:00,  6.74it/s] \n"
     ]
    },
    {
     "name": "stdout",
     "output_type": "stream",
     "text": [
      "[-] Training loss: 0.6681\n",
      "[-] Training accuracy: 0.8989434433567242\n",
      "Validation loss: 1.2885\n",
      "Validation accuracy: 0.6389051522248244\n",
      "Current patience: 15, current trial: 3.\n"
     ]
    },
    {
     "name": "stderr",
     "output_type": "stream",
     "text": [
      "Epoch 27/300, current batch loss: 0.5814: 100%|██████████| 23/23 [00:03<00:00,  6.60it/s]\n"
     ]
    },
    {
     "name": "stdout",
     "output_type": "stream",
     "text": [
      "[-] Training loss: 0.6379\n",
      "[-] Training accuracy: 0.9134781048097631\n",
      "Validation loss: 1.2812\n",
      "Validation accuracy: 0.6418813427010148\n",
      "Current patience: 14, current trial: 3.\n",
      "Found new best model on dev set!\n"
     ]
    },
    {
     "name": "stderr",
     "output_type": "stream",
     "text": [
      "Epoch 28/300, current batch loss: 1.0432: 100%|██████████| 23/23 [00:03<00:00,  6.89it/s]\n"
     ]
    },
    {
     "name": "stdout",
     "output_type": "stream",
     "text": [
      "[-] Training loss: 0.6195\n",
      "[-] Training accuracy: 0.9096433122515254\n",
      "Validation loss: 1.2776\n",
      "Validation accuracy: 0.6530542544886807\n",
      "Current patience: 15, current trial: 3.\n",
      "Found new best model on dev set!\n"
     ]
    },
    {
     "name": "stderr",
     "output_type": "stream",
     "text": [
      "Epoch 29/300, current batch loss: 0.9841: 100%|██████████| 23/23 [00:03<00:00,  6.39it/s]\n"
     ]
    },
    {
     "name": "stdout",
     "output_type": "stream",
     "text": [
      "[-] Training loss: 0.6038\n",
      "[-] Training accuracy: 0.908018106377998\n",
      "Validation loss: 1.2722\n",
      "Validation accuracy: 0.6590066354410617\n",
      "Current patience: 15, current trial: 3.\n",
      "Found new best model on dev set!\n"
     ]
    },
    {
     "name": "stderr",
     "output_type": "stream",
     "text": [
      "Epoch 30/300, current batch loss: 0.3961: 100%|██████████| 23/23 [00:03<00:00,  6.90it/s]\n"
     ]
    },
    {
     "name": "stdout",
     "output_type": "stream",
     "text": [
      "[-] Training loss: 0.5775\n",
      "[-] Training accuracy: 0.9181151251592894\n",
      "Validation loss: 1.2731\n",
      "Validation accuracy: 0.6649590163934427\n",
      "Current patience: 15, current trial: 3.\n"
     ]
    },
    {
     "name": "stderr",
     "output_type": "stream",
     "text": [
      "Epoch 31/300, current batch loss: 0.8006: 100%|██████████| 23/23 [00:03<00:00,  6.91it/s]\n"
     ]
    },
    {
     "name": "stdout",
     "output_type": "stream",
     "text": [
      "[-] Training loss: 0.5704\n",
      "[-] Training accuracy: 0.9134697841000808\n",
      "Validation loss: 1.2763\n",
      "Validation accuracy: 0.6567622950819673\n",
      "Current patience: 14, current trial: 3.\n"
     ]
    },
    {
     "name": "stderr",
     "output_type": "stream",
     "text": [
      "Epoch 32/300, current batch loss: 0.6562: 100%|██████████| 23/23 [00:03<00:00,  6.71it/s]\n"
     ]
    },
    {
     "name": "stdout",
     "output_type": "stream",
     "text": [
      "[-] Training loss: 0.5382\n",
      "[-] Training accuracy: 0.9280945198592259\n",
      "Validation loss: 1.2722\n",
      "Validation accuracy: 0.6597384855581577\n",
      "Current patience: 13, current trial: 3.\n",
      "Found new best model on dev set!\n"
     ]
    },
    {
     "name": "stderr",
     "output_type": "stream",
     "text": [
      "Epoch 33/300, current batch loss: 0.4724: 100%|██████████| 23/23 [00:03<00:00,  6.71it/s]\n"
     ]
    },
    {
     "name": "stdout",
     "output_type": "stream",
     "text": [
      "[-] Training loss: 0.529\n",
      "[-] Training accuracy: 0.9299425770308122\n",
      "Validation loss: 1.2699\n",
      "Validation accuracy: 0.6649590163934426\n",
      "Current patience: 15, current trial: 3.\n",
      "Found new best model on dev set!\n"
     ]
    },
    {
     "name": "stderr",
     "output_type": "stream",
     "text": [
      "Epoch 34/300, current batch loss: 0.4358: 100%|██████████| 23/23 [00:03<00:00,  6.61it/s]\n"
     ]
    },
    {
     "name": "stdout",
     "output_type": "stream",
     "text": [
      "[-] Training loss: 0.5098\n",
      "[-] Training accuracy: 0.9287766830870277\n",
      "Validation loss: 1.2754\n",
      "Validation accuracy: 0.6597384855581576\n",
      "Current patience: 15, current trial: 3.\n"
     ]
    },
    {
     "name": "stderr",
     "output_type": "stream",
     "text": [
      "Epoch 35/300, current batch loss: 0.5142: 100%|██████████| 23/23 [00:03<00:00,  6.68it/s]\n"
     ]
    },
    {
     "name": "stdout",
     "output_type": "stream",
     "text": [
      "[-] Training loss: 0.4844\n",
      "[-] Training accuracy: 0.9291262876118189\n",
      "Validation loss: 1.2673\n",
      "Validation accuracy: 0.6537861046057768\n",
      "Current patience: 14, current trial: 3.\n",
      "Found new best model on dev set!\n"
     ]
    },
    {
     "name": "stderr",
     "output_type": "stream",
     "text": [
      "Epoch 36/300, current batch loss: 0.5623: 100%|██████████| 23/23 [00:03<00:00,  6.60it/s]\n"
     ]
    },
    {
     "name": "stdout",
     "output_type": "stream",
     "text": [
      "[-] Training loss: 0.4997\n",
      "[-] Training accuracy: 0.9314192577733199\n",
      "Validation loss: 1.2732\n",
      "Validation accuracy: 0.6478337236533958\n",
      "Current patience: 15, current trial: 3.\n"
     ]
    },
    {
     "name": "stderr",
     "output_type": "stream",
     "text": [
      "Epoch 37/300, current batch loss: 0.6364: 100%|██████████| 23/23 [00:03<00:00,  6.81it/s]\n"
     ]
    },
    {
     "name": "stdout",
     "output_type": "stream",
     "text": [
      "[-] Training loss: 0.4802\n",
      "[-] Training accuracy: 0.9303942700909708\n",
      "Validation loss: 1.2683\n",
      "Validation accuracy: 0.6567622950819672\n",
      "Current patience: 14, current trial: 3.\n"
     ]
    },
    {
     "name": "stderr",
     "output_type": "stream",
     "text": [
      "Epoch 38/300, current batch loss: 0.6605: 100%|██████████| 23/23 [00:03<00:00,  6.71it/s]\n"
     ]
    },
    {
     "name": "stdout",
     "output_type": "stream",
     "text": [
      "[-] Training loss: 0.4564\n",
      "[-] Training accuracy: 0.9420100023815193\n",
      "Validation loss: 1.2656\n",
      "Validation accuracy: 0.6537861046057767\n",
      "Current patience: 13, current trial: 3.\n",
      "Found new best model on dev set!\n"
     ]
    },
    {
     "name": "stderr",
     "output_type": "stream",
     "text": [
      "Epoch 39/300, current batch loss: 0.1774: 100%|██████████| 23/23 [00:03<00:00,  6.45it/s]\n"
     ]
    },
    {
     "name": "stdout",
     "output_type": "stream",
     "text": [
      "[-] Training loss: 0.4411\n",
      "[-] Training accuracy: 0.9446066906917657\n",
      "Validation loss: 1.2812\n",
      "Validation accuracy: 0.6455893832943013\n",
      "Current patience: 15, current trial: 3.\n"
     ]
    },
    {
     "name": "stderr",
     "output_type": "stream",
     "text": [
      "Epoch 40/300, current batch loss: 0.2352: 100%|██████████| 23/23 [00:03<00:00,  6.76it/s]\n"
     ]
    },
    {
     "name": "stdout",
     "output_type": "stream",
     "text": [
      "[-] Training loss: 0.4292\n",
      "[-] Training accuracy: 0.945703384446562\n",
      "Validation loss: 1.2833\n",
      "Validation accuracy: 0.6515417642466823\n",
      "Current patience: 14, current trial: 3.\n"
     ]
    },
    {
     "name": "stderr",
     "output_type": "stream",
     "text": [
      "Epoch 41/300, current batch loss: 0.5412: 100%|██████████| 23/23 [00:03<00:00,  6.52it/s]\n"
     ]
    },
    {
     "name": "stdout",
     "output_type": "stream",
     "text": [
      "[-] Training loss: 0.4209\n",
      "[-] Training accuracy: 0.9436193816203836\n",
      "Validation loss: 1.2782\n",
      "Validation accuracy: 0.6433450429352068\n",
      "Current patience: 13, current trial: 3.\n"
     ]
    },
    {
     "name": "stderr",
     "output_type": "stream",
     "text": [
      "Epoch 42/300, current batch loss: 0.6554: 100%|██████████| 23/23 [00:03<00:00,  6.80it/s]\n"
     ]
    },
    {
     "name": "stdout",
     "output_type": "stream",
     "text": [
      "[-] Training loss: 0.3976\n",
      "[-] Training accuracy: 0.9473274711344392\n",
      "Validation loss: 1.2679\n",
      "Validation accuracy: 0.6433450429352068\n",
      "Current patience: 12, current trial: 3.\n"
     ]
    },
    {
     "name": "stderr",
     "output_type": "stream",
     "text": [
      "Epoch 43/300, current batch loss: 0.5364: 100%|██████████| 23/23 [00:03<00:00,  6.80it/s]\n"
     ]
    },
    {
     "name": "stdout",
     "output_type": "stream",
     "text": [
      "[-] Training loss: 0.408\n",
      "[-] Training accuracy: 0.9431512459302142\n",
      "Validation loss: 1.2657\n",
      "Validation accuracy: 0.6522736143637783\n",
      "Current patience: 11, current trial: 3.\n"
     ]
    },
    {
     "name": "stderr",
     "output_type": "stream",
     "text": [
      "Epoch 44/300, current batch loss: 0.1808: 100%|██████████| 23/23 [00:03<00:00,  6.66it/s]\n"
     ]
    },
    {
     "name": "stdout",
     "output_type": "stream",
     "text": [
      "[-] Training loss: 0.3891\n",
      "[-] Training accuracy: 0.936621109515596\n",
      "Validation loss: 1.2729\n",
      "Validation accuracy: 0.6433450429352068\n",
      "Current patience: 10, current trial: 3.\n"
     ]
    },
    {
     "name": "stderr",
     "output_type": "stream",
     "text": [
      "Epoch 45/300, current batch loss: 0.2196: 100%|██████████| 23/23 [00:03<00:00,  6.67it/s]\n"
     ]
    },
    {
     "name": "stdout",
     "output_type": "stream",
     "text": [
      "[-] Training loss: 0.3604\n",
      "[-] Training accuracy: 0.955044955044955\n",
      "Validation loss: 1.2697\n",
      "Validation accuracy: 0.6381245120999219\n",
      "Current patience: 9, current trial: 3.\n"
     ]
    },
    {
     "name": "stderr",
     "output_type": "stream",
     "text": [
      "Epoch 46/300, current batch loss: 0.4581: 100%|██████████| 23/23 [00:03<00:00,  6.65it/s]\n"
     ]
    },
    {
     "name": "stdout",
     "output_type": "stream",
     "text": [
      "[-] Training loss: 0.3441\n",
      "[-] Training accuracy: 0.9609636450929256\n",
      "Validation loss: 1.2688\n",
      "Validation accuracy: 0.632903981264637\n",
      "Current patience: 8, current trial: 3.\n"
     ]
    },
    {
     "name": "stderr",
     "output_type": "stream",
     "text": [
      "Epoch 47/300, current batch loss: 0.495: 100%|██████████| 23/23 [00:03<00:00,  6.68it/s] \n"
     ]
    },
    {
     "name": "stdout",
     "output_type": "stream",
     "text": [
      "[-] Training loss: 0.3468\n",
      "[-] Training accuracy: 0.9622504138990284\n",
      "Validation loss: 1.2765\n",
      "Validation accuracy: 0.6239754098360656\n",
      "Current patience: 7, current trial: 3.\n"
     ]
    },
    {
     "name": "stderr",
     "output_type": "stream",
     "text": [
      "Epoch 48/300, current batch loss: 0.2591: 100%|██████████| 23/23 [00:03<00:00,  6.64it/s]\n"
     ]
    },
    {
     "name": "stdout",
     "output_type": "stream",
     "text": [
      "[-] Training loss: 0.353\n",
      "[-] Training accuracy: 0.9519951565147444\n",
      "Validation loss: 1.278\n",
      "Validation accuracy: 0.6403688524590163\n",
      "Current patience: 6, current trial: 3.\n"
     ]
    },
    {
     "name": "stderr",
     "output_type": "stream",
     "text": [
      "Epoch 49/300, current batch loss: 0.3999: 100%|██████████| 23/23 [00:03<00:00,  6.67it/s]\n"
     ]
    },
    {
     "name": "stdout",
     "output_type": "stream",
     "text": [
      "[-] Training loss: 0.338\n",
      "[-] Training accuracy: 0.9596445330863229\n",
      "Validation loss: 1.2796\n",
      "Validation accuracy: 0.6291959406713505\n",
      "Current patience: 5, current trial: 3.\n"
     ]
    },
    {
     "name": "stderr",
     "output_type": "stream",
     "text": [
      "Epoch 50/300, current batch loss: 0.194: 100%|██████████| 23/23 [00:03<00:00,  6.70it/s] \n"
     ]
    },
    {
     "name": "stdout",
     "output_type": "stream",
     "text": [
      "[-] Training loss: 0.327\n",
      "[-] Training accuracy: 0.9600576284232704\n",
      "Validation loss: 1.2726\n",
      "Validation accuracy: 0.6411007025761125\n",
      "Current patience: 4, current trial: 3.\n"
     ]
    },
    {
     "name": "stderr",
     "output_type": "stream",
     "text": [
      "Epoch 51/300, current batch loss: 0.32: 100%|██████████| 23/23 [00:03<00:00,  6.68it/s]  \n"
     ]
    },
    {
     "name": "stdout",
     "output_type": "stream",
     "text": [
      "[-] Training loss: 0.3245\n",
      "[-] Training accuracy: 0.9500807960658807\n",
      "Validation loss: 1.2744\n",
      "Validation accuracy: 0.632172131147541\n",
      "Current patience: 3, current trial: 3.\n"
     ]
    },
    {
     "name": "stderr",
     "output_type": "stream",
     "text": [
      "Epoch 52/300, current batch loss: 0.4786: 100%|██████████| 23/23 [00:03<00:00,  6.75it/s]\n"
     ]
    },
    {
     "name": "stdout",
     "output_type": "stream",
     "text": [
      "[-] Training loss: 0.331\n",
      "[-] Training accuracy: 0.9556721969363284\n",
      "Validation loss: 1.274\n",
      "Validation accuracy: 0.6411007025761125\n",
      "Current patience: 2, current trial: 3.\n"
     ]
    },
    {
     "name": "stderr",
     "output_type": "stream",
     "text": [
      "Epoch 53/300, current batch loss: 0.4325: 100%|██████████| 23/23 [00:03<00:00,  6.12it/s]\n"
     ]
    },
    {
     "name": "stdout",
     "output_type": "stream",
     "text": [
      "[-] Training loss: 0.3176\n",
      "[-] Training accuracy: 0.9623392522476616\n",
      "Validation loss: 1.2787\n",
      "Validation accuracy: 0.6463212334113972\n",
      "Current patience: 1, current trial: 3.\n"
     ]
    },
    {
     "name": "stderr",
     "output_type": "stream",
     "text": [
      "Epoch 54/300, current batch loss: 0.4066: 100%|██████████| 23/23 [00:03<00:00,  5.81it/s]\n"
     ]
    },
    {
     "name": "stdout",
     "output_type": "stream",
     "text": [
      "[-] Training loss: 0.2938\n",
      "[-] Training accuracy: 0.9590989776334348\n",
      "Validation loss: 1.2691\n",
      "Validation accuracy: 0.6381245120999219\n",
      "Current patience: 0, current trial: 3.\n",
      "Running out of patience, loading previous best model.\n",
      "Current learning rate: 3e-06\n"
     ]
    },
    {
     "name": "stderr",
     "output_type": "stream",
     "text": [
      "Epoch 55/300, current batch loss: 0.5746: 100%|██████████| 23/23 [00:03<00:00,  6.41it/s]\n"
     ]
    },
    {
     "name": "stdout",
     "output_type": "stream",
     "text": [
      "[-] Training loss: 0.4556\n",
      "[-] Training accuracy: 0.9476797615597964\n",
      "Validation loss: 1.2621\n",
      "Validation accuracy: 0.6515417642466822\n",
      "Current patience: 15, current trial: 2.\n",
      "Found new best model on dev set!\n"
     ]
    },
    {
     "name": "stderr",
     "output_type": "stream",
     "text": [
      "Epoch 56/300, current batch loss: 0.626: 100%|██████████| 23/23 [00:03<00:00,  6.28it/s] \n"
     ]
    },
    {
     "name": "stdout",
     "output_type": "stream",
     "text": [
      "[-] Training loss: 0.4378\n",
      "[-] Training accuracy: 0.9523978605526718\n",
      "Validation loss: 1.2671\n",
      "Validation accuracy: 0.6426131928181109\n",
      "Current patience: 15, current trial: 2.\n"
     ]
    },
    {
     "name": "stderr",
     "output_type": "stream",
     "text": [
      "Epoch 57/300, current batch loss: 0.4857: 100%|██████████| 23/23 [00:03<00:00,  6.44it/s]\n"
     ]
    },
    {
     "name": "stdout",
     "output_type": "stream",
     "text": [
      "[-] Training loss: 0.4371\n",
      "[-] Training accuracy: 0.9512104239890541\n",
      "Validation loss: 1.2697\n",
      "Validation accuracy: 0.6426131928181109\n",
      "Current patience: 14, current trial: 2.\n"
     ]
    },
    {
     "name": "stderr",
     "output_type": "stream",
     "text": [
      "Epoch 58/300, current batch loss: 0.1925: 100%|██████████| 23/23 [00:03<00:00,  6.50it/s]\n"
     ]
    },
    {
     "name": "stdout",
     "output_type": "stream",
     "text": [
      "[-] Training loss: 0.4366\n",
      "[-] Training accuracy: 0.9449757357852961\n",
      "Validation loss: 1.2691\n",
      "Validation accuracy: 0.6426131928181108\n",
      "Current patience: 13, current trial: 2.\n"
     ]
    },
    {
     "name": "stderr",
     "output_type": "stream",
     "text": [
      "Epoch 59/300, current batch loss: 0.4829: 100%|██████████| 23/23 [00:03<00:00,  6.70it/s]\n"
     ]
    },
    {
     "name": "stdout",
     "output_type": "stream",
     "text": [
      "[-] Training loss: 0.4404\n",
      "[-] Training accuracy: 0.942327699522432\n",
      "Validation loss: 1.2676\n",
      "Validation accuracy: 0.6455893832943014\n",
      "Current patience: 12, current trial: 2.\n"
     ]
    },
    {
     "name": "stderr",
     "output_type": "stream",
     "text": [
      "Epoch 60/300, current batch loss: 0.2645: 100%|██████████| 23/23 [00:03<00:00,  6.07it/s]\n"
     ]
    },
    {
     "name": "stdout",
     "output_type": "stream",
     "text": [
      "[-] Training loss: 0.441\n",
      "[-] Training accuracy: 0.9421309523809525\n",
      "Validation loss: 1.2677\n",
      "Validation accuracy: 0.6455893832943014\n",
      "Current patience: 11, current trial: 2.\n"
     ]
    },
    {
     "name": "stderr",
     "output_type": "stream",
     "text": [
      "Epoch 61/300, current batch loss: 0.6178: 100%|██████████| 23/23 [00:03<00:00,  6.58it/s]\n"
     ]
    },
    {
     "name": "stdout",
     "output_type": "stream",
     "text": [
      "[-] Training loss: 0.4476\n",
      "[-] Training accuracy: 0.9453149761433626\n",
      "Validation loss: 1.2674\n",
      "Validation accuracy: 0.6515417642466822\n",
      "Current patience: 10, current trial: 2.\n"
     ]
    },
    {
     "name": "stderr",
     "output_type": "stream",
     "text": [
      "Epoch 62/300, current batch loss: 0.3552: 100%|██████████| 23/23 [00:04<00:00,  5.68it/s]\n"
     ]
    },
    {
     "name": "stdout",
     "output_type": "stream",
     "text": [
      "[-] Training loss: 0.4216\n",
      "[-] Training accuracy: 0.9444585020242916\n",
      "Validation loss: 1.272\n",
      "Validation accuracy: 0.6396370023419203\n",
      "Current patience: 9, current trial: 2.\n"
     ]
    },
    {
     "name": "stderr",
     "output_type": "stream",
     "text": [
      "Epoch 63/300, current batch loss: 0.4617: 100%|██████████| 23/23 [00:03<00:00,  6.65it/s]\n"
     ]
    },
    {
     "name": "stdout",
     "output_type": "stream",
     "text": [
      "[-] Training loss: 0.4162\n",
      "[-] Training accuracy: 0.9458060209827313\n",
      "Validation loss: 1.2704\n",
      "Validation accuracy: 0.6396370023419203\n",
      "Current patience: 8, current trial: 2.\n"
     ]
    },
    {
     "name": "stderr",
     "output_type": "stream",
     "text": [
      "Epoch 64/300, current batch loss: 0.4517: 100%|██████████| 23/23 [00:03<00:00,  6.52it/s]\n"
     ]
    },
    {
     "name": "stdout",
     "output_type": "stream",
     "text": [
      "[-] Training loss: 0.4318\n",
      "[-] Training accuracy: 0.9510168577036477\n",
      "Validation loss: 1.2684\n",
      "Validation accuracy: 0.6515417642466822\n",
      "Current patience: 7, current trial: 2.\n"
     ]
    },
    {
     "name": "stderr",
     "output_type": "stream",
     "text": [
      "Epoch 65/300, current batch loss: 0.5131: 100%|██████████| 23/23 [00:03<00:00,  6.44it/s]\n"
     ]
    },
    {
     "name": "stdout",
     "output_type": "stream",
     "text": [
      "[-] Training loss: 0.4177\n",
      "[-] Training accuracy: 0.9540266106442579\n",
      "Validation loss: 1.2698\n",
      "Validation accuracy: 0.6485655737704917\n",
      "Current patience: 6, current trial: 2.\n"
     ]
    },
    {
     "name": "stderr",
     "output_type": "stream",
     "text": [
      "Epoch 66/300, current batch loss: 0.1767: 100%|██████████| 23/23 [00:03<00:00,  6.20it/s]\n"
     ]
    },
    {
     "name": "stdout",
     "output_type": "stream",
     "text": [
      "[-] Training loss: 0.4345\n",
      "[-] Training accuracy: 0.9552441273539118\n",
      "Validation loss: 1.2752\n",
      "Validation accuracy: 0.6396370023419203\n",
      "Current patience: 5, current trial: 2.\n"
     ]
    },
    {
     "name": "stderr",
     "output_type": "stream",
     "text": [
      "Epoch 67/300, current batch loss: 0.5499: 100%|██████████| 23/23 [00:03<00:00,  6.69it/s]\n"
     ]
    },
    {
     "name": "stdout",
     "output_type": "stream",
     "text": [
      "[-] Training loss: 0.4215\n",
      "[-] Training accuracy: 0.9423097810552792\n",
      "Validation loss: 1.2734\n",
      "Validation accuracy: 0.6426131928181109\n",
      "Current patience: 4, current trial: 2.\n"
     ]
    },
    {
     "name": "stderr",
     "output_type": "stream",
     "text": [
      "Epoch 68/300, current batch loss: 0.903: 100%|██████████| 23/23 [00:03<00:00,  6.79it/s] \n"
     ]
    },
    {
     "name": "stdout",
     "output_type": "stream",
     "text": [
      "[-] Training loss: 0.4334\n",
      "[-] Training accuracy: 0.9433728374577008\n",
      "Validation loss: 1.2713\n",
      "Validation accuracy: 0.6426131928181109\n",
      "Current patience: 3, current trial: 2.\n"
     ]
    },
    {
     "name": "stderr",
     "output_type": "stream",
     "text": [
      "Epoch 69/300, current batch loss: 0.7417: 100%|██████████| 23/23 [00:03<00:00,  6.58it/s]\n"
     ]
    },
    {
     "name": "stdout",
     "output_type": "stream",
     "text": [
      "[-] Training loss: 0.4325\n",
      "[-] Training accuracy: 0.9487134733047298\n",
      "Validation loss: 1.2695\n",
      "Validation accuracy: 0.6545179547228727\n",
      "Current patience: 2, current trial: 2.\n"
     ]
    },
    {
     "name": "stderr",
     "output_type": "stream",
     "text": [
      "Epoch 70/300, current batch loss: 0.3954: 100%|██████████| 23/23 [00:03<00:00,  6.54it/s]\n"
     ]
    },
    {
     "name": "stdout",
     "output_type": "stream",
     "text": [
      "[-] Training loss: 0.4291\n",
      "[-] Training accuracy: 0.9440970750317932\n",
      "Validation loss: 1.2689\n",
      "Validation accuracy: 0.6545179547228728\n",
      "Current patience: 1, current trial: 2.\n"
     ]
    },
    {
     "name": "stderr",
     "output_type": "stream",
     "text": [
      "Epoch 71/300, current batch loss: 0.3253: 100%|██████████| 23/23 [00:03<00:00,  6.69it/s]\n"
     ]
    },
    {
     "name": "stdout",
     "output_type": "stream",
     "text": [
      "[-] Training loss: 0.4162\n",
      "[-] Training accuracy: 0.9516852981029809\n",
      "Validation loss: 1.2749\n",
      "Validation accuracy: 0.6426131928181109\n",
      "Current patience: 0, current trial: 2.\n",
      "Running out of patience, loading previous best model.\n",
      "Current learning rate: 3.0000000000000004e-07\n"
     ]
    },
    {
     "name": "stderr",
     "output_type": "stream",
     "text": [
      "Epoch 72/300, current batch loss: 0.7722: 100%|██████████| 23/23 [00:03<00:00,  6.62it/s]\n"
     ]
    },
    {
     "name": "stdout",
     "output_type": "stream",
     "text": [
      "[-] Training loss: 0.4488\n",
      "[-] Training accuracy: 0.9434315560901779\n",
      "Validation loss: 1.2673\n",
      "Validation accuracy: 0.6426131928181109\n",
      "Current patience: 15, current trial: 1.\n"
     ]
    },
    {
     "name": "stderr",
     "output_type": "stream",
     "text": [
      "Epoch 73/300, current batch loss: 0.2512: 100%|██████████| 23/23 [00:03<00:00,  6.15it/s]\n"
     ]
    },
    {
     "name": "stdout",
     "output_type": "stream",
     "text": [
      "[-] Training loss: 0.4298\n",
      "[-] Training accuracy: 0.9489426434430465\n",
      "Validation loss: 1.2671\n",
      "Validation accuracy: 0.6508099141295863\n",
      "Current patience: 14, current trial: 1.\n"
     ]
    },
    {
     "name": "stderr",
     "output_type": "stream",
     "text": [
      "Epoch 74/300, current batch loss: 0.6733: 100%|██████████| 23/23 [00:03<00:00,  6.19it/s]\n"
     ]
    },
    {
     "name": "stdout",
     "output_type": "stream",
     "text": [
      "[-] Training loss: 0.4475\n",
      "[-] Training accuracy: 0.9453847380536373\n",
      "Validation loss: 1.2707\n",
      "Validation accuracy: 0.6455893832943014\n",
      "Current patience: 13, current trial: 1.\n"
     ]
    },
    {
     "name": "stderr",
     "output_type": "stream",
     "text": [
      "Epoch 75/300, current batch loss: 0.2672: 100%|██████████| 23/23 [00:03<00:00,  5.76it/s]\n"
     ]
    },
    {
     "name": "stdout",
     "output_type": "stream",
     "text": [
      "[-] Training loss: 0.4563\n",
      "[-] Training accuracy: 0.9295759230713981\n",
      "Validation loss: 1.266\n",
      "Validation accuracy: 0.6508099141295863\n",
      "Current patience: 12, current trial: 1.\n"
     ]
    },
    {
     "name": "stderr",
     "output_type": "stream",
     "text": [
      "Epoch 76/300, current batch loss: 0.7285: 100%|██████████| 23/23 [00:03<00:00,  6.87it/s]\n"
     ]
    },
    {
     "name": "stdout",
     "output_type": "stream",
     "text": [
      "[-] Training loss: 0.4491\n",
      "[-] Training accuracy: 0.938137688373108\n",
      "Validation loss: 1.2684\n",
      "Validation accuracy: 0.6426131928181109\n",
      "Current patience: 11, current trial: 1.\n"
     ]
    },
    {
     "name": "stderr",
     "output_type": "stream",
     "text": [
      "Epoch 77/300, current batch loss: 0.9409: 100%|██████████| 23/23 [00:03<00:00,  6.88it/s]\n"
     ]
    },
    {
     "name": "stdout",
     "output_type": "stream",
     "text": [
      "[-] Training loss: 0.4318\n",
      "[-] Training accuracy: 0.9427552569277975\n",
      "Validation loss: 1.2709\n",
      "Validation accuracy: 0.6426131928181109\n",
      "Current patience: 10, current trial: 1.\n"
     ]
    },
    {
     "name": "stderr",
     "output_type": "stream",
     "text": [
      "Epoch 78/300, current batch loss: 1.0223: 100%|██████████| 23/23 [00:03<00:00,  6.55it/s]\n"
     ]
    },
    {
     "name": "stdout",
     "output_type": "stream",
     "text": [
      "[-] Training loss: 0.4619\n",
      "[-] Training accuracy: 0.94103135144078\n",
      "Validation loss: 1.2681\n",
      "Validation accuracy: 0.6426131928181108\n",
      "Current patience: 9, current trial: 1.\n"
     ]
    },
    {
     "name": "stderr",
     "output_type": "stream",
     "text": [
      "Epoch 79/300, current batch loss: 0.7828: 100%|██████████| 23/23 [00:03<00:00,  6.56it/s]\n"
     ]
    },
    {
     "name": "stdout",
     "output_type": "stream",
     "text": [
      "[-] Training loss: 0.442\n",
      "[-] Training accuracy: 0.9426491596638656\n",
      "Validation loss: 1.2664\n",
      "Validation accuracy: 0.6537861046057768\n",
      "Current patience: 8, current trial: 1.\n"
     ]
    },
    {
     "name": "stderr",
     "output_type": "stream",
     "text": [
      "Epoch 80/300, current batch loss: 0.9888: 100%|██████████| 23/23 [00:03<00:00,  6.21it/s]\n"
     ]
    },
    {
     "name": "stdout",
     "output_type": "stream",
     "text": [
      "[-] Training loss: 0.4456\n",
      "[-] Training accuracy: 0.9417875607954626\n",
      "Validation loss: 1.2708\n",
      "Validation accuracy: 0.6426131928181108\n",
      "Current patience: 7, current trial: 1.\n"
     ]
    },
    {
     "name": "stderr",
     "output_type": "stream",
     "text": [
      "Epoch 81/300, current batch loss: 0.4016: 100%|██████████| 23/23 [00:04<00:00,  5.43it/s]\n"
     ]
    },
    {
     "name": "stdout",
     "output_type": "stream",
     "text": [
      "[-] Training loss: 0.4415\n",
      "[-] Training accuracy: 0.9423540249433108\n",
      "Validation loss: 1.272\n",
      "Validation accuracy: 0.6426131928181109\n",
      "Current patience: 6, current trial: 1.\n"
     ]
    },
    {
     "name": "stderr",
     "output_type": "stream",
     "text": [
      "Epoch 82/300, current batch loss: 0.568: 100%|██████████| 23/23 [00:03<00:00,  6.12it/s] \n"
     ]
    },
    {
     "name": "stdout",
     "output_type": "stream",
     "text": [
      "[-] Training loss: 0.4388\n",
      "[-] Training accuracy: 0.9475812171939283\n",
      "Validation loss: 1.2677\n",
      "Validation accuracy: 0.6426131928181108\n",
      "Current patience: 5, current trial: 1.\n"
     ]
    },
    {
     "name": "stderr",
     "output_type": "stream",
     "text": [
      "Epoch 83/300, current batch loss: 0.4621: 100%|██████████| 23/23 [00:03<00:00,  5.85it/s]\n"
     ]
    },
    {
     "name": "stdout",
     "output_type": "stream",
     "text": [
      "[-] Training loss: 0.4398\n",
      "[-] Training accuracy: 0.9431101745834286\n",
      "Validation loss: 1.2679\n",
      "Validation accuracy: 0.6426131928181109\n",
      "Current patience: 4, current trial: 1.\n"
     ]
    },
    {
     "name": "stderr",
     "output_type": "stream",
     "text": [
      "Epoch 84/300, current batch loss: 0.5342: 100%|██████████| 23/23 [00:03<00:00,  6.23it/s]\n"
     ]
    },
    {
     "name": "stdout",
     "output_type": "stream",
     "text": [
      "[-] Training loss: 0.4363\n",
      "[-] Training accuracy: 0.9403510905360148\n",
      "Validation loss: 1.2708\n",
      "Validation accuracy: 0.6426131928181109\n",
      "Current patience: 3, current trial: 1.\n"
     ]
    },
    {
     "name": "stderr",
     "output_type": "stream",
     "text": [
      "Epoch 85/300, current batch loss: 0.715: 100%|██████████| 23/23 [00:03<00:00,  6.77it/s] \n"
     ]
    },
    {
     "name": "stdout",
     "output_type": "stream",
     "text": [
      "[-] Training loss: 0.4421\n",
      "[-] Training accuracy: 0.935220118975425\n",
      "Validation loss: 1.2681\n",
      "Validation accuracy: 0.6426131928181108\n",
      "Current patience: 2, current trial: 1.\n"
     ]
    },
    {
     "name": "stderr",
     "output_type": "stream",
     "text": [
      "Epoch 86/300, current batch loss: 0.4264: 100%|██████████| 23/23 [00:03<00:00,  6.18it/s]\n"
     ]
    },
    {
     "name": "stdout",
     "output_type": "stream",
     "text": [
      "[-] Training loss: 0.4478\n",
      "[-] Training accuracy: 0.9354589267731263\n",
      "Validation loss: 1.2687\n",
      "Validation accuracy: 0.6426131928181108\n",
      "Current patience: 1, current trial: 1.\n"
     ]
    },
    {
     "name": "stderr",
     "output_type": "stream",
     "text": [
      "Epoch 87/300, current batch loss: 0.6353: 100%|██████████| 23/23 [00:03<00:00,  6.52it/s]\n"
     ]
    },
    {
     "name": "stdout",
     "output_type": "stream",
     "text": [
      "[-] Training loss: 0.4397\n",
      "[-] Training accuracy: 0.9404221870199692\n",
      "Validation loss: 1.269\n",
      "Validation accuracy: 0.6426131928181109\n",
      "Current patience: 0, current trial: 1.\n",
      "Running out of patience, loading previous best model.\n",
      "Current learning rate: 3.0000000000000004e-07\n",
      "Running out of patience, early stopping.\n",
      "Test set performance: 1.3202383379199414\n",
      "Test set accuracy is 0.5889212827988338\n"
     ]
    },
    {
     "data": {
      "text/html": [
       "Waiting for W&B process to finish... <strong style=\"color:green\">(success).</strong>"
      ],
      "text/plain": [
       "<IPython.core.display.HTML object>"
      ]
     },
     "metadata": {},
     "output_type": "display_data"
    },
    {
     "name": "stderr",
     "output_type": "stream",
     "text": [
      "wandb: WARNING Source type is set to 'repo' but some required information is missing from the environment. A job will not be created from this run. See https://docs.wandb.ai/guides/launch/create-job\n"
     ]
    },
    {
     "data": {
      "text/html": [
       "<style>\n",
       "    table.wandb td:nth-child(1) { padding: 0 10px; text-align: left ; width: auto;} td:nth-child(2) {text-align: left ; width: 100%}\n",
       "    .wandb-row { display: flex; flex-direction: row; flex-wrap: wrap; justify-content: flex-start; width: 100% }\n",
       "    .wandb-col { display: flex; flex-direction: column; flex-basis: 100%; flex: 1; padding: 10px; }\n",
       "    </style>\n",
       "<div class=\"wandb-row\"><div class=\"wandb-col\"><h3>Run history:</h3><br/><table class=\"wandb\"><tr><td>Batch Accuracy</td><td>▁▂▃▄▅▆▆▆▆▆▇▇▇█▇▇▇▇▇▇▇█████▇█▇▇▇██▇▇▇█▇██</td></tr><tr><td>Batch Loss</td><td>▂▆█▆▄▅▆▆▄▆▃▃▂▂▂▂▃▂▁▁▂▂▂▁▂▃▂▂▂▃▂▃▂▂▂▂▂▂▃▂</td></tr><tr><td>Epoch</td><td>▁▁▁▁▂▂▂▂▂▃▃▃▃▃▃▄▄▄▄▄▅▅▅▅▅▅▆▆▆▆▆▇▇▇▇▇▇███</td></tr><tr><td>Test Accuracy</td><td>▁</td></tr><tr><td>Test Loss</td><td>▁</td></tr><tr><td>Training Accuracy</td><td>▁▂▃▄▅▆▆▆▆▇▇▇▇▇▇█████████████████████████</td></tr><tr><td>Training Loss</td><td>██▇▇▇▆▆▅▅▄▄▄▃▃▃▂▂▂▂▂▁▁▁▁▁▂▂▂▂▂▂▂▂▂▂▂▂▂▂▂</td></tr><tr><td>Validation Accuracy</td><td>▁▂▄▄▆▆▇▆▆▇▇▇▇█████▇▇▇▇▇▇▇▇▇▇▇▇▇█▇▇▇▇▇▇▇▇</td></tr><tr><td>Validation Loss</td><td>█▇▇▆▆▅▄▄▃▂▂▂▂▁▂▁▁▁▂▁▁▁▂▁▂▁▁▁▁▁▁▁▁▁▁▁▁▁▁▁</td></tr></table><br/></div><div class=\"wandb-col\"><h3>Run summary:</h3><br/><table class=\"wandb\"><tr><td>Batch Accuracy</td><td>0.96078</td></tr><tr><td>Batch Loss</td><td>0.6353</td></tr><tr><td>Epoch</td><td>87</td></tr><tr><td>Test Accuracy</td><td>0.58892</td></tr><tr><td>Test Loss</td><td>1.32024</td></tr><tr><td>Training Accuracy</td><td>0.94042</td></tr><tr><td>Training Loss</td><td>0.43969</td></tr><tr><td>Validation Accuracy</td><td>0.64261</td></tr><tr><td>Validation Loss</td><td>1.26902</td></tr></table><br/></div></div>"
      ],
      "text/plain": [
       "<IPython.core.display.HTML object>"
      ]
     },
     "metadata": {},
     "output_type": "display_data"
    },
    {
     "data": {
      "text/html": [
       " View run <strong style=\"color:#cdcd00\">earthy-violet-79</strong> at: <a href='https://wandb.ai/ejbejaranos22/Baseline-multimodal/runs/5rce2bnp' target=\"_blank\">https://wandb.ai/ejbejaranos22/Baseline-multimodal/runs/5rce2bnp</a><br/>Synced 6 W&B file(s), 0 media file(s), 0 artifact file(s) and 0 other file(s)"
      ],
      "text/plain": [
       "<IPython.core.display.HTML object>"
      ]
     },
     "metadata": {},
     "output_type": "display_data"
    },
    {
     "data": {
      "text/html": [
       "Find logs at: <code>./wandb/run-20230925_170257-5rce2bnp/logs</code>"
      ],
      "text/plain": [
       "<IPython.core.display.HTML object>"
      ]
     },
     "metadata": {},
     "output_type": "display_data"
    },
    {
     "name": "stdout",
     "output_type": "stream",
     "text": [
      "0.5\n"
     ]
    },
    {
     "data": {
      "application/vnd.jupyter.widget-view+json": {
       "model_id": "a51bd4b2986d45b9bf911fd7b36514e7",
       "version_major": 2,
       "version_minor": 0
      },
      "text/plain": [
       "VBox(children=(Label(value='Waiting for wandb.init()...\\r'), FloatProgress(value=0.01113094999972317, max=1.0)…"
      ]
     },
     "metadata": {},
     "output_type": "display_data"
    },
    {
     "data": {
      "text/html": [
       "Tracking run with wandb version 0.15.11"
      ],
      "text/plain": [
       "<IPython.core.display.HTML object>"
      ]
     },
     "metadata": {},
     "output_type": "display_data"
    },
    {
     "data": {
      "text/html": [
       "Run data is saved locally in <code>/Users/lernmi/Desktop/EmotionUnify/src/datasets/CMU-MultimodalSDK/wandb/run-20230925_170826-ee29t9jg</code>"
      ],
      "text/plain": [
       "<IPython.core.display.HTML object>"
      ]
     },
     "metadata": {},
     "output_type": "display_data"
    },
    {
     "data": {
      "text/html": [
       "Syncing run <strong><a href='https://wandb.ai/ejbejaranos22/Baseline-multimodal/runs/ee29t9jg' target=\"_blank\">ruby-shadow-80</a></strong> to <a href='https://wandb.ai/ejbejaranos22/Baseline-multimodal' target=\"_blank\">Weights & Biases</a> (<a href='https://wandb.me/run' target=\"_blank\">docs</a>)<br/>"
      ],
      "text/plain": [
       "<IPython.core.display.HTML object>"
      ]
     },
     "metadata": {},
     "output_type": "display_data"
    },
    {
     "data": {
      "text/html": [
       " View project at <a href='https://wandb.ai/ejbejaranos22/Baseline-multimodal' target=\"_blank\">https://wandb.ai/ejbejaranos22/Baseline-multimodal</a>"
      ],
      "text/plain": [
       "<IPython.core.display.HTML object>"
      ]
     },
     "metadata": {},
     "output_type": "display_data"
    },
    {
     "data": {
      "text/html": [
       " View run at <a href='https://wandb.ai/ejbejaranos22/Baseline-multimodal/runs/ee29t9jg' target=\"_blank\">https://wandb.ai/ejbejaranos22/Baseline-multimodal/runs/ee29t9jg</a>"
      ],
      "text/plain": [
       "<IPython.core.display.HTML object>"
      ]
     },
     "metadata": {},
     "output_type": "display_data"
    },
    {
     "name": "stderr",
     "output_type": "stream",
     "text": [
      "/Users/lernmi/miniconda3/envs/emotionunify/lib/python3.11/site-packages/torch/optim/lr_scheduler.py:139: UserWarning: Detected call of `lr_scheduler.step()` before `optimizer.step()`. In PyTorch 1.1.0 and later, you should call them in the opposite order: `optimizer.step()` before `lr_scheduler.step()`.  Failure to do this will result in PyTorch skipping the first value of the learning rate schedule. See more details at https://pytorch.org/docs/stable/optim.html#how-to-adjust-learning-rate\n",
      "  warnings.warn(\"Detected call of `lr_scheduler.step()` before `optimizer.step()`. \"\n"
     ]
    },
    {
     "name": "stdout",
     "output_type": "stream",
     "text": [
      "================================================================================\n",
      "[-->] [120, 18, 29]\n",
      "[-->] 83\n",
      "================================================================================\n",
      "Using LateFusionLSTM\n"
     ]
    },
    {
     "name": "stderr",
     "output_type": "stream",
     "text": [
      "Epoch 0/300, current batch loss: 2.3617: 100%|██████████| 23/23 [00:03<00:00,  5.81it/s]\n"
     ]
    },
    {
     "name": "stdout",
     "output_type": "stream",
     "text": [
      "[-] Training loss: 1.377\n",
      "[-] Training accuracy: 0.48754836620246483\n",
      "Validation loss: 1.4481\n",
      "Validation accuracy: 0.47136026541764253\n",
      "Current patience: 15, current trial: 3.\n",
      "Found new best model on dev set!\n"
     ]
    },
    {
     "name": "stderr",
     "output_type": "stream",
     "text": [
      "Epoch 1/300, current batch loss: 1.2258: 100%|██████████| 23/23 [00:03<00:00,  6.45it/s]\n"
     ]
    },
    {
     "name": "stdout",
     "output_type": "stream",
     "text": [
      "[-] Training loss: 1.3702\n",
      "[-] Training accuracy: 0.5029582814336591\n",
      "Validation loss: 1.4423\n",
      "Validation accuracy: 0.5078551912568307\n",
      "Current patience: 15, current trial: 3.\n",
      "Found new best model on dev set!\n"
     ]
    },
    {
     "name": "stderr",
     "output_type": "stream",
     "text": [
      "Epoch 2/300, current batch loss: 1.8166: 100%|██████████| 23/23 [00:03<00:00,  6.22it/s]\n"
     ]
    },
    {
     "name": "stdout",
     "output_type": "stream",
     "text": [
      "[-] Training loss: 1.3523\n",
      "[-] Training accuracy: 0.5045915127184477\n",
      "Validation loss: 1.439\n",
      "Validation accuracy: 0.5085870413739266\n",
      "Current patience: 15, current trial: 3.\n",
      "Found new best model on dev set!\n"
     ]
    },
    {
     "name": "stderr",
     "output_type": "stream",
     "text": [
      "Epoch 3/300, current batch loss: 2.3229: 100%|██████████| 23/23 [00:03<00:00,  6.71it/s]\n"
     ]
    },
    {
     "name": "stdout",
     "output_type": "stream",
     "text": [
      "[-] Training loss: 1.34\n",
      "[-] Training accuracy: 0.5300205309396485\n",
      "Validation loss: 1.435\n",
      "Validation accuracy: 0.5197599531615925\n",
      "Current patience: 15, current trial: 3.\n",
      "Found new best model on dev set!\n"
     ]
    },
    {
     "name": "stderr",
     "output_type": "stream",
     "text": [
      "Epoch 4/300, current batch loss: 0.9748: 100%|██████████| 23/23 [00:03<00:00,  5.94it/s]\n"
     ]
    },
    {
     "name": "stdout",
     "output_type": "stream",
     "text": [
      "[-] Training loss: 1.3265\n",
      "[-] Training accuracy: 0.5373279897857853\n",
      "Validation loss: 1.4315\n",
      "Validation accuracy: 0.522736143637783\n",
      "Current patience: 15, current trial: 3.\n",
      "Found new best model on dev set!\n"
     ]
    },
    {
     "name": "stderr",
     "output_type": "stream",
     "text": [
      "Epoch 5/300, current batch loss: 1.4583: 100%|██████████| 23/23 [00:03<00:00,  6.23it/s]\n"
     ]
    },
    {
     "name": "stdout",
     "output_type": "stream",
     "text": [
      "[-] Training loss: 1.2876\n",
      "[-] Training accuracy: 0.5872155155080715\n",
      "Validation loss: 1.4283\n",
      "Validation accuracy: 0.5346409055425448\n",
      "Current patience: 15, current trial: 3.\n",
      "Found new best model on dev set!\n"
     ]
    },
    {
     "name": "stderr",
     "output_type": "stream",
     "text": [
      "Epoch 6/300, current batch loss: 2.0648: 100%|██████████| 23/23 [00:03<00:00,  6.28it/s]\n"
     ]
    },
    {
     "name": "stdout",
     "output_type": "stream",
     "text": [
      "[-] Training loss: 1.2936\n",
      "[-] Training accuracy: 0.5699954807097665\n",
      "Validation loss: 1.424\n",
      "Validation accuracy: 0.5316647150663544\n",
      "Current patience: 15, current trial: 3.\n",
      "Found new best model on dev set!\n"
     ]
    },
    {
     "name": "stderr",
     "output_type": "stream",
     "text": [
      "Epoch 7/300, current batch loss: 2.2529: 100%|██████████| 23/23 [00:03<00:00,  6.63it/s]\n"
     ]
    },
    {
     "name": "stdout",
     "output_type": "stream",
     "text": [
      "[-] Training loss: 1.2858\n",
      "[-] Training accuracy: 0.5542669819745136\n",
      "Validation loss: 1.4213\n",
      "Validation accuracy: 0.5510343481654957\n",
      "Current patience: 15, current trial: 3.\n",
      "Found new best model on dev set!\n"
     ]
    },
    {
     "name": "stderr",
     "output_type": "stream",
     "text": [
      "Epoch 8/300, current batch loss: 1.3827: 100%|██████████| 23/23 [00:03<00:00,  6.68it/s]\n"
     ]
    },
    {
     "name": "stdout",
     "output_type": "stream",
     "text": [
      "[-] Training loss: 1.2625\n",
      "[-] Training accuracy: 0.5965010364432364\n",
      "Validation loss: 1.416\n",
      "Validation accuracy: 0.5458138173302108\n",
      "Current patience: 15, current trial: 3.\n",
      "Found new best model on dev set!\n"
     ]
    },
    {
     "name": "stderr",
     "output_type": "stream",
     "text": [
      "Epoch 9/300, current batch loss: 1.2052: 100%|██████████| 23/23 [00:03<00:00,  6.47it/s]\n"
     ]
    },
    {
     "name": "stdout",
     "output_type": "stream",
     "text": [
      "[-] Training loss: 1.2679\n",
      "[-] Training accuracy: 0.5858061325420376\n",
      "Validation loss: 1.4107\n",
      "Validation accuracy: 0.5487900078064012\n",
      "Current patience: 15, current trial: 3.\n",
      "Found new best model on dev set!\n"
     ]
    },
    {
     "name": "stderr",
     "output_type": "stream",
     "text": [
      "Epoch 10/300, current batch loss: 2.584: 100%|██████████| 23/23 [00:03<00:00,  6.53it/s] \n"
     ]
    },
    {
     "name": "stdout",
     "output_type": "stream",
     "text": [
      "[-] Training loss: 1.26\n",
      "[-] Training accuracy: 0.6134040813906206\n",
      "Validation loss: 1.4069\n",
      "Validation accuracy: 0.5599629195940671\n",
      "Current patience: 15, current trial: 3.\n",
      "Found new best model on dev set!\n"
     ]
    },
    {
     "name": "stderr",
     "output_type": "stream",
     "text": [
      "Epoch 11/300, current batch loss: 1.7858: 100%|██████████| 23/23 [00:03<00:00,  6.71it/s]\n"
     ]
    },
    {
     "name": "stdout",
     "output_type": "stream",
     "text": [
      "[-] Training loss: 1.2427\n",
      "[-] Training accuracy: 0.6074175328967134\n",
      "Validation loss: 1.4036\n",
      "Validation accuracy: 0.5547423887587821\n",
      "Current patience: 15, current trial: 3.\n",
      "Found new best model on dev set!\n"
     ]
    },
    {
     "name": "stderr",
     "output_type": "stream",
     "text": [
      "Epoch 12/300, current batch loss: 2.6974: 100%|██████████| 23/23 [00:03<00:00,  6.40it/s]\n"
     ]
    },
    {
     "name": "stdout",
     "output_type": "stream",
     "text": [
      "[-] Training loss: 1.2309\n",
      "[-] Training accuracy: 0.6180251821008123\n",
      "Validation loss: 1.4\n",
      "Validation accuracy: 0.582308743169399\n",
      "Current patience: 15, current trial: 3.\n",
      "Found new best model on dev set!\n"
     ]
    },
    {
     "name": "stderr",
     "output_type": "stream",
     "text": [
      "Epoch 13/300, current batch loss: 2.5165: 100%|██████████| 23/23 [00:03<00:00,  6.66it/s]\n"
     ]
    },
    {
     "name": "stdout",
     "output_type": "stream",
     "text": [
      "[-] Training loss: 1.2112\n",
      "[-] Training accuracy: 0.6275695004523997\n",
      "Validation loss: 1.3952\n",
      "Validation accuracy: 0.571867681498829\n",
      "Current patience: 15, current trial: 3.\n",
      "Found new best model on dev set!\n"
     ]
    },
    {
     "name": "stderr",
     "output_type": "stream",
     "text": [
      "Epoch 14/300, current batch loss: 1.3066: 100%|██████████| 23/23 [00:03<00:00,  6.74it/s]\n"
     ]
    },
    {
     "name": "stdout",
     "output_type": "stream",
     "text": [
      "[-] Training loss: 1.1961\n",
      "[-] Training accuracy: 0.6263210477673757\n",
      "Validation loss: 1.3901\n",
      "Validation accuracy: 0.5882611241217799\n",
      "Current patience: 15, current trial: 3.\n",
      "Found new best model on dev set!\n"
     ]
    },
    {
     "name": "stderr",
     "output_type": "stream",
     "text": [
      "Epoch 15/300, current batch loss: 2.2735: 100%|██████████| 23/23 [00:03<00:00,  6.63it/s]\n"
     ]
    },
    {
     "name": "stdout",
     "output_type": "stream",
     "text": [
      "[-] Training loss: 1.1745\n",
      "[-] Training accuracy: 0.6657703939594223\n",
      "Validation loss: 1.3864\n",
      "Validation accuracy: 0.5882611241217799\n",
      "Current patience: 15, current trial: 3.\n",
      "Found new best model on dev set!\n"
     ]
    },
    {
     "name": "stderr",
     "output_type": "stream",
     "text": [
      "Epoch 16/300, current batch loss: 1.5127: 100%|██████████| 23/23 [00:03<00:00,  6.72it/s]\n"
     ]
    },
    {
     "name": "stdout",
     "output_type": "stream",
     "text": [
      "[-] Training loss: 1.1848\n",
      "[-] Training accuracy: 0.6521901493453062\n",
      "Validation loss: 1.382\n",
      "Validation accuracy: 0.5964578454332554\n",
      "Current patience: 15, current trial: 3.\n",
      "Found new best model on dev set!\n"
     ]
    },
    {
     "name": "stderr",
     "output_type": "stream",
     "text": [
      "Epoch 17/300, current batch loss: 2.0872: 100%|██████████| 23/23 [00:03<00:00,  6.73it/s]\n"
     ]
    },
    {
     "name": "stdout",
     "output_type": "stream",
     "text": [
      "[-] Training loss: 1.1601\n",
      "[-] Training accuracy: 0.6516137955182072\n",
      "Validation loss: 1.3774\n",
      "Validation accuracy: 0.5987021857923496\n",
      "Current patience: 15, current trial: 3.\n",
      "Found new best model on dev set!\n"
     ]
    },
    {
     "name": "stderr",
     "output_type": "stream",
     "text": [
      "Epoch 18/300, current batch loss: 1.3771: 100%|██████████| 23/23 [00:03<00:00,  6.66it/s]\n"
     ]
    },
    {
     "name": "stdout",
     "output_type": "stream",
     "text": [
      "[-] Training loss: 1.1438\n",
      "[-] Training accuracy: 0.6854000483442108\n",
      "Validation loss: 1.3745\n",
      "Validation accuracy: 0.5905054644808743\n",
      "Current patience: 15, current trial: 3.\n",
      "Found new best model on dev set!\n"
     ]
    },
    {
     "name": "stderr",
     "output_type": "stream",
     "text": [
      "Epoch 19/300, current batch loss: 1.2951: 100%|██████████| 23/23 [00:03<00:00,  6.61it/s]\n"
     ]
    },
    {
     "name": "stdout",
     "output_type": "stream",
     "text": [
      "[-] Training loss: 1.121\n",
      "[-] Training accuracy: 0.6924986826413735\n",
      "Validation loss: 1.3678\n",
      "Validation accuracy: 0.5994340359094458\n",
      "Current patience: 15, current trial: 3.\n",
      "Found new best model on dev set!\n"
     ]
    },
    {
     "name": "stderr",
     "output_type": "stream",
     "text": [
      "Epoch 20/300, current batch loss: 0.4253: 100%|██████████| 23/23 [00:03<00:00,  6.28it/s]\n"
     ]
    },
    {
     "name": "stdout",
     "output_type": "stream",
     "text": [
      "[-] Training loss: 1.1174\n",
      "[-] Training accuracy: 0.708297310693825\n",
      "Validation loss: 1.3652\n",
      "Validation accuracy: 0.6024102263856362\n",
      "Current patience: 15, current trial: 3.\n",
      "Found new best model on dev set!\n"
     ]
    },
    {
     "name": "stderr",
     "output_type": "stream",
     "text": [
      "Epoch 21/300, current batch loss: 1.4392: 100%|██████████| 23/23 [00:03<00:00,  6.37it/s]\n"
     ]
    },
    {
     "name": "stdout",
     "output_type": "stream",
     "text": [
      "[-] Training loss: 1.1316\n",
      "[-] Training accuracy: 0.6895710109601652\n",
      "Validation loss: 1.3647\n",
      "Validation accuracy: 0.5964578454332553\n",
      "Current patience: 15, current trial: 3.\n",
      "Found new best model on dev set!\n"
     ]
    },
    {
     "name": "stderr",
     "output_type": "stream",
     "text": [
      "Epoch 22/300, current batch loss: 1.5067: 100%|██████████| 23/23 [00:03<00:00,  6.04it/s]\n"
     ]
    },
    {
     "name": "stdout",
     "output_type": "stream",
     "text": [
      "[-] Training loss: 1.1081\n",
      "[-] Training accuracy: 0.6929773412370961\n",
      "Validation loss: 1.3573\n",
      "Validation accuracy: 0.6083626073380172\n",
      "Current patience: 15, current trial: 3.\n",
      "Found new best model on dev set!\n"
     ]
    },
    {
     "name": "stderr",
     "output_type": "stream",
     "text": [
      "Epoch 23/300, current batch loss: 1.5611: 100%|██████████| 23/23 [00:03<00:00,  6.57it/s]\n"
     ]
    },
    {
     "name": "stdout",
     "output_type": "stream",
     "text": [
      "[-] Training loss: 1.0895\n",
      "[-] Training accuracy: 0.7252710027100272\n",
      "Validation loss: 1.3553\n",
      "Validation accuracy: 0.6083626073380172\n",
      "Current patience: 15, current trial: 3.\n",
      "Found new best model on dev set!\n"
     ]
    },
    {
     "name": "stderr",
     "output_type": "stream",
     "text": [
      "Epoch 24/300, current batch loss: 1.172: 100%|██████████| 23/23 [00:03<00:00,  6.62it/s] \n"
     ]
    },
    {
     "name": "stdout",
     "output_type": "stream",
     "text": [
      "[-] Training loss: 1.0673\n",
      "[-] Training accuracy: 0.7172485202031882\n",
      "Validation loss: 1.3513\n",
      "Validation accuracy: 0.6172911787665887\n",
      "Current patience: 15, current trial: 3.\n",
      "Found new best model on dev set!\n"
     ]
    },
    {
     "name": "stderr",
     "output_type": "stream",
     "text": [
      "Epoch 25/300, current batch loss: 0.8988: 100%|██████████| 23/23 [00:03<00:00,  6.59it/s]\n"
     ]
    },
    {
     "name": "stdout",
     "output_type": "stream",
     "text": [
      "[-] Training loss: 1.0666\n",
      "[-] Training accuracy: 0.710610817753675\n",
      "Validation loss: 1.3474\n",
      "Validation accuracy: 0.6307084309133489\n",
      "Current patience: 15, current trial: 3.\n",
      "Found new best model on dev set!\n"
     ]
    },
    {
     "name": "stderr",
     "output_type": "stream",
     "text": [
      "Epoch 26/300, current batch loss: 1.2389: 100%|██████████| 23/23 [00:03<00:00,  5.84it/s]\n"
     ]
    },
    {
     "name": "stdout",
     "output_type": "stream",
     "text": [
      "[-] Training loss: 1.0501\n",
      "[-] Training accuracy: 0.7336105576251121\n",
      "Validation loss: 1.3458\n",
      "Validation accuracy: 0.6217798594847774\n",
      "Current patience: 15, current trial: 3.\n",
      "Found new best model on dev set!\n"
     ]
    },
    {
     "name": "stderr",
     "output_type": "stream",
     "text": [
      "Epoch 27/300, current batch loss: 0.9414: 100%|██████████| 23/23 [00:03<00:00,  6.62it/s]\n"
     ]
    },
    {
     "name": "stdout",
     "output_type": "stream",
     "text": [
      "[-] Training loss: 1.0316\n",
      "[-] Training accuracy: 0.7669777458722183\n",
      "Validation loss: 1.3409\n",
      "Validation accuracy: 0.6277322404371585\n",
      "Current patience: 15, current trial: 3.\n",
      "Found new best model on dev set!\n"
     ]
    },
    {
     "name": "stderr",
     "output_type": "stream",
     "text": [
      "Epoch 28/300, current batch loss: 1.8751: 100%|██████████| 23/23 [00:03<00:00,  6.56it/s]\n"
     ]
    },
    {
     "name": "stdout",
     "output_type": "stream",
     "text": [
      "[-] Training loss: 1.0397\n",
      "[-] Training accuracy: 0.7296404935139674\n",
      "Validation loss: 1.3372\n",
      "Validation accuracy: 0.624756049960968\n",
      "Current patience: 15, current trial: 3.\n",
      "Found new best model on dev set!\n"
     ]
    },
    {
     "name": "stderr",
     "output_type": "stream",
     "text": [
      "Epoch 29/300, current batch loss: 1.62: 100%|██████████| 23/23 [00:03<00:00,  6.28it/s]  \n"
     ]
    },
    {
     "name": "stdout",
     "output_type": "stream",
     "text": [
      "[-] Training loss: 1.0335\n",
      "[-] Training accuracy: 0.7462897262651459\n",
      "Validation loss: 1.3319\n",
      "Validation accuracy: 0.6217798594847774\n",
      "Current patience: 15, current trial: 3.\n",
      "Found new best model on dev set!\n"
     ]
    },
    {
     "name": "stderr",
     "output_type": "stream",
     "text": [
      "Epoch 30/300, current batch loss: 0.656: 100%|██████████| 23/23 [00:03<00:00,  6.81it/s] \n"
     ]
    },
    {
     "name": "stdout",
     "output_type": "stream",
     "text": [
      "[-] Training loss: 1.0151\n",
      "[-] Training accuracy: 0.7625408063543551\n",
      "Validation loss: 1.3306\n",
      "Validation accuracy: 0.6165593286494926\n",
      "Current patience: 15, current trial: 3.\n",
      "Found new best model on dev set!\n"
     ]
    },
    {
     "name": "stderr",
     "output_type": "stream",
     "text": [
      "Epoch 31/300, current batch loss: 1.6338: 100%|██████████| 23/23 [00:03<00:00,  6.82it/s]\n"
     ]
    },
    {
     "name": "stdout",
     "output_type": "stream",
     "text": [
      "[-] Training loss: 1.0043\n",
      "[-] Training accuracy: 0.7392806698950766\n",
      "Validation loss: 1.3293\n",
      "Validation accuracy: 0.6076307572209212\n",
      "Current patience: 15, current trial: 3.\n",
      "Found new best model on dev set!\n"
     ]
    },
    {
     "name": "stderr",
     "output_type": "stream",
     "text": [
      "Epoch 32/300, current batch loss: 1.3158: 100%|██████████| 23/23 [00:03<00:00,  6.60it/s]\n"
     ]
    },
    {
     "name": "stdout",
     "output_type": "stream",
     "text": [
      "[-] Training loss: 0.9693\n",
      "[-] Training accuracy: 0.7715327156503625\n",
      "Validation loss: 1.3256\n",
      "Validation accuracy: 0.6128512880562061\n",
      "Current patience: 15, current trial: 3.\n",
      "Found new best model on dev set!\n"
     ]
    },
    {
     "name": "stderr",
     "output_type": "stream",
     "text": [
      "Epoch 33/300, current batch loss: 0.976: 100%|██████████| 23/23 [00:03<00:00,  6.75it/s] \n"
     ]
    },
    {
     "name": "stdout",
     "output_type": "stream",
     "text": [
      "[-] Training loss: 0.9773\n",
      "[-] Training accuracy: 0.7628277310924371\n",
      "Validation loss: 1.3237\n",
      "Validation accuracy: 0.6076307572209211\n",
      "Current patience: 15, current trial: 3.\n",
      "Found new best model on dev set!\n"
     ]
    },
    {
     "name": "stderr",
     "output_type": "stream",
     "text": [
      "Epoch 34/300, current batch loss: 0.7345: 100%|██████████| 23/23 [00:03<00:00,  6.70it/s]\n"
     ]
    },
    {
     "name": "stdout",
     "output_type": "stream",
     "text": [
      "[-] Training loss: 0.9462\n",
      "[-] Training accuracy: 0.8007099391480731\n",
      "Validation loss: 1.3228\n",
      "Validation accuracy: 0.6188036690085871\n",
      "Current patience: 15, current trial: 3.\n",
      "Found new best model on dev set!\n"
     ]
    },
    {
     "name": "stderr",
     "output_type": "stream",
     "text": [
      "Epoch 35/300, current batch loss: 1.1997: 100%|██████████| 23/23 [00:03<00:00,  6.68it/s]\n"
     ]
    },
    {
     "name": "stdout",
     "output_type": "stream",
     "text": [
      "[-] Training loss: 0.9457\n",
      "[-] Training accuracy: 0.779725196530225\n",
      "Validation loss: 1.3194\n",
      "Validation accuracy: 0.6329527712724433\n",
      "Current patience: 15, current trial: 3.\n",
      "Found new best model on dev set!\n"
     ]
    },
    {
     "name": "stderr",
     "output_type": "stream",
     "text": [
      "Epoch 36/300, current batch loss: 0.9082: 100%|██████████| 23/23 [00:03<00:00,  6.43it/s]\n"
     ]
    },
    {
     "name": "stdout",
     "output_type": "stream",
     "text": [
      "[-] Training loss: 0.9309\n",
      "[-] Training accuracy: 0.7798574294311507\n",
      "Validation loss: 1.3205\n",
      "Validation accuracy: 0.624756049960968\n",
      "Current patience: 15, current trial: 3.\n"
     ]
    },
    {
     "name": "stderr",
     "output_type": "stream",
     "text": [
      "Epoch 37/300, current batch loss: 1.1568: 100%|██████████| 23/23 [00:03<00:00,  6.43it/s]\n"
     ]
    },
    {
     "name": "stdout",
     "output_type": "stream",
     "text": [
      "[-] Training loss: 0.925\n",
      "[-] Training accuracy: 0.787846460124112\n",
      "Validation loss: 1.3139\n",
      "Validation accuracy: 0.6471018735362998\n",
      "Current patience: 14, current trial: 3.\n",
      "Found new best model on dev set!\n"
     ]
    },
    {
     "name": "stderr",
     "output_type": "stream",
     "text": [
      "Epoch 38/300, current batch loss: 1.4816: 100%|██████████| 23/23 [00:03<00:00,  6.52it/s]\n"
     ]
    },
    {
     "name": "stdout",
     "output_type": "stream",
     "text": [
      "[-] Training loss: 0.9166\n",
      "[-] Training accuracy: 0.7968620646639223\n",
      "Validation loss: 1.3105\n",
      "Validation accuracy: 0.6471018735362998\n",
      "Current patience: 15, current trial: 3.\n",
      "Found new best model on dev set!\n"
     ]
    },
    {
     "name": "stderr",
     "output_type": "stream",
     "text": [
      "Epoch 39/300, current batch loss: 0.4368: 100%|██████████| 23/23 [00:03<00:00,  6.15it/s]\n"
     ]
    },
    {
     "name": "stdout",
     "output_type": "stream",
     "text": [
      "[-] Training loss: 0.8857\n",
      "[-] Training accuracy: 0.8072334935910471\n",
      "Validation loss: 1.3067\n",
      "Validation accuracy: 0.6359289617486339\n",
      "Current patience: 15, current trial: 3.\n",
      "Found new best model on dev set!\n"
     ]
    },
    {
     "name": "stderr",
     "output_type": "stream",
     "text": [
      "Epoch 40/300, current batch loss: 0.4153: 100%|██████████| 23/23 [00:03<00:00,  6.52it/s]\n"
     ]
    },
    {
     "name": "stdout",
     "output_type": "stream",
     "text": [
      "[-] Training loss: 0.8724\n",
      "[-] Training accuracy: 0.8092238441768461\n",
      "Validation loss: 1.3052\n",
      "Validation accuracy: 0.6389051522248244\n",
      "Current patience: 15, current trial: 3.\n",
      "Found new best model on dev set!\n"
     ]
    },
    {
     "name": "stderr",
     "output_type": "stream",
     "text": [
      "Epoch 41/300, current batch loss: 1.3703: 100%|██████████| 23/23 [00:03<00:00,  6.65it/s]\n"
     ]
    },
    {
     "name": "stdout",
     "output_type": "stream",
     "text": [
      "[-] Training loss: 0.8748\n",
      "[-] Training accuracy: 0.8141384309234717\n",
      "Validation loss: 1.3015\n",
      "Validation accuracy: 0.6500780640124902\n",
      "Current patience: 15, current trial: 3.\n",
      "Found new best model on dev set!\n"
     ]
    },
    {
     "name": "stderr",
     "output_type": "stream",
     "text": [
      "Epoch 42/300, current batch loss: 1.5315: 100%|██████████| 23/23 [00:03<00:00,  6.70it/s]\n"
     ]
    },
    {
     "name": "stdout",
     "output_type": "stream",
     "text": [
      "[-] Training loss: 0.8732\n",
      "[-] Training accuracy: 0.8036174323744094\n",
      "Validation loss: 1.3017\n",
      "Validation accuracy: 0.6500780640124904\n",
      "Current patience: 15, current trial: 3.\n"
     ]
    },
    {
     "name": "stderr",
     "output_type": "stream",
     "text": [
      "Epoch 43/300, current batch loss: 1.4627: 100%|██████████| 23/23 [00:03<00:00,  6.62it/s]\n"
     ]
    },
    {
     "name": "stdout",
     "output_type": "stream",
     "text": [
      "[-] Training loss: 0.8666\n",
      "[-] Training accuracy: 0.82689636728781\n",
      "Validation loss: 1.3018\n",
      "Validation accuracy: 0.6500780640124902\n",
      "Current patience: 14, current trial: 3.\n"
     ]
    },
    {
     "name": "stderr",
     "output_type": "stream",
     "text": [
      "Epoch 44/300, current batch loss: 0.3547: 100%|██████████| 23/23 [00:03<00:00,  6.67it/s]\n"
     ]
    },
    {
     "name": "stdout",
     "output_type": "stream",
     "text": [
      "[-] Training loss: 0.8642\n",
      "[-] Training accuracy: 0.817193257484996\n",
      "Validation loss: 1.303\n",
      "Validation accuracy: 0.6500780640124902\n",
      "Current patience: 13, current trial: 3.\n"
     ]
    },
    {
     "name": "stderr",
     "output_type": "stream",
     "text": [
      "Epoch 45/300, current batch loss: 0.6473: 100%|██████████| 23/23 [00:03<00:00,  6.51it/s]\n"
     ]
    },
    {
     "name": "stdout",
     "output_type": "stream",
     "text": [
      "[-] Training loss: 0.8299\n",
      "[-] Training accuracy: 0.8345285666714236\n",
      "Validation loss: 1.294\n",
      "Validation accuracy: 0.6478337236533958\n",
      "Current patience: 12, current trial: 3.\n",
      "Found new best model on dev set!\n"
     ]
    },
    {
     "name": "stderr",
     "output_type": "stream",
     "text": [
      "Epoch 46/300, current batch loss: 1.1453: 100%|██████████| 23/23 [00:03<00:00,  6.62it/s]\n"
     ]
    },
    {
     "name": "stdout",
     "output_type": "stream",
     "text": [
      "[-] Training loss: 0.8125\n",
      "[-] Training accuracy: 0.8303308645973605\n",
      "Validation loss: 1.2893\n",
      "Validation accuracy: 0.6478337236533959\n",
      "Current patience: 15, current trial: 3.\n",
      "Found new best model on dev set!\n"
     ]
    },
    {
     "name": "stderr",
     "output_type": "stream",
     "text": [
      "Epoch 47/300, current batch loss: 1.1164: 100%|██████████| 23/23 [00:03<00:00,  6.79it/s]\n"
     ]
    },
    {
     "name": "stdout",
     "output_type": "stream",
     "text": [
      "[-] Training loss: 0.8175\n",
      "[-] Training accuracy: 0.8532343252662206\n",
      "Validation loss: 1.2884\n",
      "Validation accuracy: 0.6448575331772053\n",
      "Current patience: 15, current trial: 3.\n",
      "Found new best model on dev set!\n"
     ]
    },
    {
     "name": "stderr",
     "output_type": "stream",
     "text": [
      "Epoch 48/300, current batch loss: 0.8137: 100%|██████████| 23/23 [00:03<00:00,  6.78it/s]\n"
     ]
    },
    {
     "name": "stdout",
     "output_type": "stream",
     "text": [
      "[-] Training loss: 0.8114\n",
      "[-] Training accuracy: 0.8469456519878826\n",
      "Validation loss: 1.2823\n",
      "Validation accuracy: 0.6478337236533958\n",
      "Current patience: 15, current trial: 3.\n",
      "Found new best model on dev set!\n"
     ]
    },
    {
     "name": "stderr",
     "output_type": "stream",
     "text": [
      "Epoch 49/300, current batch loss: 1.0699: 100%|██████████| 23/23 [00:03<00:00,  6.52it/s]\n"
     ]
    },
    {
     "name": "stdout",
     "output_type": "stream",
     "text": [
      "[-] Training loss: 0.8022\n",
      "[-] Training accuracy: 0.8563918119382806\n",
      "Validation loss: 1.2814\n",
      "Validation accuracy: 0.6619828259172521\n",
      "Current patience: 15, current trial: 3.\n",
      "Found new best model on dev set!\n"
     ]
    },
    {
     "name": "stderr",
     "output_type": "stream",
     "text": [
      "Epoch 50/300, current batch loss: 0.4621: 100%|██████████| 23/23 [00:03<00:00,  6.95it/s]\n"
     ]
    },
    {
     "name": "stdout",
     "output_type": "stream",
     "text": [
      "[-] Training loss: 0.8013\n",
      "[-] Training accuracy: 0.8535130477810959\n",
      "Validation loss: 1.2744\n",
      "Validation accuracy: 0.6619828259172521\n",
      "Current patience: 15, current trial: 3.\n",
      "Found new best model on dev set!\n"
     ]
    },
    {
     "name": "stderr",
     "output_type": "stream",
     "text": [
      "Epoch 51/300, current batch loss: 0.9945: 100%|██████████| 23/23 [00:03<00:00,  6.73it/s]\n"
     ]
    },
    {
     "name": "stdout",
     "output_type": "stream",
     "text": [
      "[-] Training loss: 0.7643\n",
      "[-] Training accuracy: 0.8616055383456844\n",
      "Validation loss: 1.2762\n",
      "Validation accuracy: 0.6560304449648712\n",
      "Current patience: 15, current trial: 3.\n"
     ]
    },
    {
     "name": "stderr",
     "output_type": "stream",
     "text": [
      "Epoch 52/300, current batch loss: 1.1713: 100%|██████████| 23/23 [00:03<00:00,  6.61it/s]\n"
     ]
    },
    {
     "name": "stdout",
     "output_type": "stream",
     "text": [
      "[-] Training loss: 0.7817\n",
      "[-] Training accuracy: 0.8526892771497089\n",
      "Validation loss: 1.276\n",
      "Validation accuracy: 0.6396370023419203\n",
      "Current patience: 14, current trial: 3.\n"
     ]
    },
    {
     "name": "stderr",
     "output_type": "stream",
     "text": [
      "Epoch 53/300, current batch loss: 0.9643: 100%|██████████| 23/23 [00:03<00:00,  6.86it/s]\n"
     ]
    },
    {
     "name": "stdout",
     "output_type": "stream",
     "text": [
      "[-] Training loss: 0.759\n",
      "[-] Training accuracy: 0.8564983547375785\n",
      "Validation loss: 1.2764\n",
      "Validation accuracy: 0.6344164715066355\n",
      "Current patience: 13, current trial: 3.\n"
     ]
    },
    {
     "name": "stderr",
     "output_type": "stream",
     "text": [
      "Epoch 54/300, current batch loss: 0.8921: 100%|██████████| 23/23 [00:03<00:00,  6.70it/s]\n"
     ]
    },
    {
     "name": "stdout",
     "output_type": "stream",
     "text": [
      "[-] Training loss: 0.7396\n",
      "[-] Training accuracy: 0.8615328573407164\n",
      "Validation loss: 1.2716\n",
      "Validation accuracy: 0.6590066354410616\n",
      "Current patience: 12, current trial: 3.\n",
      "Found new best model on dev set!\n"
     ]
    },
    {
     "name": "stderr",
     "output_type": "stream",
     "text": [
      "Epoch 55/300, current batch loss: 0.6996: 100%|██████████| 23/23 [00:03<00:00,  6.62it/s]\n"
     ]
    },
    {
     "name": "stdout",
     "output_type": "stream",
     "text": [
      "[-] Training loss: 0.7419\n",
      "[-] Training accuracy: 0.8790454112679554\n",
      "Validation loss: 1.2613\n",
      "Validation accuracy: 0.6619828259172522\n",
      "Current patience: 15, current trial: 3.\n",
      "Found new best model on dev set!\n"
     ]
    },
    {
     "name": "stderr",
     "output_type": "stream",
     "text": [
      "Epoch 56/300, current batch loss: 1.1188: 100%|██████████| 23/23 [00:03<00:00,  6.67it/s]\n"
     ]
    },
    {
     "name": "stdout",
     "output_type": "stream",
     "text": [
      "[-] Training loss: 0.7294\n",
      "[-] Training accuracy: 0.8854721466051207\n",
      "Validation loss: 1.271\n",
      "Validation accuracy: 0.6560304449648712\n",
      "Current patience: 15, current trial: 3.\n"
     ]
    },
    {
     "name": "stderr",
     "output_type": "stream",
     "text": [
      "Epoch 57/300, current batch loss: 0.9727: 100%|██████████| 23/23 [00:03<00:00,  6.73it/s]\n"
     ]
    },
    {
     "name": "stdout",
     "output_type": "stream",
     "text": [
      "[-] Training loss: 0.7382\n",
      "[-] Training accuracy: 0.8753743724169708\n",
      "Validation loss: 1.2836\n",
      "Validation accuracy: 0.6500780640124904\n",
      "Current patience: 14, current trial: 3.\n"
     ]
    },
    {
     "name": "stderr",
     "output_type": "stream",
     "text": [
      "Epoch 58/300, current batch loss: 0.3126: 100%|██████████| 23/23 [00:03<00:00,  6.61it/s]\n"
     ]
    },
    {
     "name": "stdout",
     "output_type": "stream",
     "text": [
      "[-] Training loss: 0.7304\n",
      "[-] Training accuracy: 0.8844548340378235\n",
      "Validation loss: 1.2784\n",
      "Validation accuracy: 0.6478337236533959\n",
      "Current patience: 13, current trial: 3.\n"
     ]
    },
    {
     "name": "stderr",
     "output_type": "stream",
     "text": [
      "Epoch 59/300, current batch loss: 0.9106: 100%|██████████| 23/23 [00:03<00:00,  6.74it/s]\n"
     ]
    },
    {
     "name": "stdout",
     "output_type": "stream",
     "text": [
      "[-] Training loss: 0.7133\n",
      "[-] Training accuracy: 0.8740984611057537\n",
      "Validation loss: 1.2713\n",
      "Validation accuracy: 0.6590066354410617\n",
      "Current patience: 12, current trial: 3.\n"
     ]
    },
    {
     "name": "stderr",
     "output_type": "stream",
     "text": [
      "Epoch 60/300, current batch loss: 0.4785: 100%|██████████| 23/23 [00:03<00:00,  6.71it/s]\n"
     ]
    },
    {
     "name": "stdout",
     "output_type": "stream",
     "text": [
      "[-] Training loss: 0.7183\n",
      "[-] Training accuracy: 0.8940119047619048\n",
      "Validation loss: 1.2669\n",
      "Validation accuracy: 0.6508099141295862\n",
      "Current patience: 11, current trial: 3.\n"
     ]
    },
    {
     "name": "stderr",
     "output_type": "stream",
     "text": [
      "Epoch 61/300, current batch loss: 0.97: 100%|██████████| 23/23 [00:03<00:00,  6.80it/s]  \n"
     ]
    },
    {
     "name": "stdout",
     "output_type": "stream",
     "text": [
      "[-] Training loss: 0.7102\n",
      "[-] Training accuracy: 0.884189302632368\n",
      "Validation loss: 1.2693\n",
      "Validation accuracy: 0.6537861046057768\n",
      "Current patience: 10, current trial: 3.\n"
     ]
    },
    {
     "name": "stderr",
     "output_type": "stream",
     "text": [
      "Epoch 62/300, current batch loss: 0.6076: 100%|██████████| 23/23 [00:03<00:00,  6.70it/s]\n"
     ]
    },
    {
     "name": "stdout",
     "output_type": "stream",
     "text": [
      "[-] Training loss: 0.6967\n",
      "[-] Training accuracy: 0.8705899363794102\n",
      "Validation loss: 1.2692\n",
      "Validation accuracy: 0.6455893832943014\n",
      "Current patience: 9, current trial: 3.\n"
     ]
    },
    {
     "name": "stderr",
     "output_type": "stream",
     "text": [
      "Epoch 63/300, current batch loss: 0.8383: 100%|██████████| 23/23 [00:03<00:00,  6.69it/s]\n"
     ]
    },
    {
     "name": "stdout",
     "output_type": "stream",
     "text": [
      "[-] Training loss: 0.6875\n",
      "[-] Training accuracy: 0.8876841979154186\n",
      "Validation loss: 1.2678\n",
      "Validation accuracy: 0.6426131928181109\n",
      "Current patience: 8, current trial: 3.\n"
     ]
    },
    {
     "name": "stderr",
     "output_type": "stream",
     "text": [
      "Epoch 64/300, current batch loss: 0.8117: 100%|██████████| 23/23 [00:03<00:00,  6.83it/s]\n"
     ]
    },
    {
     "name": "stdout",
     "output_type": "stream",
     "text": [
      "[-] Training loss: 0.6797\n",
      "[-] Training accuracy: 0.8936377887858885\n",
      "Validation loss: 1.2678\n",
      "Validation accuracy: 0.6567622950819672\n",
      "Current patience: 7, current trial: 3.\n"
     ]
    },
    {
     "name": "stderr",
     "output_type": "stream",
     "text": [
      "Epoch 65/300, current batch loss: 0.7723: 100%|██████████| 23/23 [00:03<00:00,  6.50it/s]\n"
     ]
    },
    {
     "name": "stdout",
     "output_type": "stream",
     "text": [
      "[-] Training loss: 0.6812\n",
      "[-] Training accuracy: 0.8824102680287801\n",
      "Validation loss: 1.2636\n",
      "Validation accuracy: 0.6656908665105387\n",
      "Current patience: 6, current trial: 3.\n"
     ]
    },
    {
     "name": "stderr",
     "output_type": "stream",
     "text": [
      "Epoch 66/300, current batch loss: 0.2945: 100%|██████████| 23/23 [00:03<00:00,  6.63it/s]\n"
     ]
    },
    {
     "name": "stdout",
     "output_type": "stream",
     "text": [
      "[-] Training loss: 0.6745\n",
      "[-] Training accuracy: 0.8901454641262443\n",
      "Validation loss: 1.2744\n",
      "Validation accuracy: 0.6433450429352068\n",
      "Current patience: 5, current trial: 3.\n"
     ]
    },
    {
     "name": "stderr",
     "output_type": "stream",
     "text": [
      "Epoch 67/300, current batch loss: 0.8336: 100%|██████████| 23/23 [00:03<00:00,  6.89it/s]\n"
     ]
    },
    {
     "name": "stdout",
     "output_type": "stream",
     "text": [
      "[-] Training loss: 0.6629\n",
      "[-] Training accuracy: 0.8874996427142285\n",
      "Validation loss: 1.2739\n",
      "Validation accuracy: 0.6440768930523029\n",
      "Current patience: 4, current trial: 3.\n"
     ]
    },
    {
     "name": "stderr",
     "output_type": "stream",
     "text": [
      "Epoch 68/300, current batch loss: 1.3003: 100%|██████████| 23/23 [00:03<00:00,  6.92it/s]\n"
     ]
    },
    {
     "name": "stdout",
     "output_type": "stream",
     "text": [
      "[-] Training loss: 0.6658\n",
      "[-] Training accuracy: 0.8941774161894056\n",
      "Validation loss: 1.266\n",
      "Validation accuracy: 0.6463212334113974\n",
      "Current patience: 3, current trial: 3.\n"
     ]
    },
    {
     "name": "stderr",
     "output_type": "stream",
     "text": [
      "Epoch 69/300, current batch loss: 1.019: 100%|██████████| 23/23 [00:03<00:00,  6.69it/s] \n"
     ]
    },
    {
     "name": "stdout",
     "output_type": "stream",
     "text": [
      "[-] Training loss: 0.6715\n",
      "[-] Training accuracy: 0.888259835656317\n",
      "Validation loss: 1.2694\n",
      "Validation accuracy: 0.6597384855581576\n",
      "Current patience: 2, current trial: 3.\n"
     ]
    },
    {
     "name": "stderr",
     "output_type": "stream",
     "text": [
      "Epoch 70/300, current batch loss: 0.5415: 100%|██████████| 23/23 [00:03<00:00,  6.58it/s]\n"
     ]
    },
    {
     "name": "stdout",
     "output_type": "stream",
     "text": [
      "[-] Training loss: 0.6381\n",
      "[-] Training accuracy: 0.911102868447082\n",
      "Validation loss: 1.2679\n",
      "Validation accuracy: 0.6597384855581576\n",
      "Current patience: 1, current trial: 3.\n"
     ]
    },
    {
     "name": "stderr",
     "output_type": "stream",
     "text": [
      "Epoch 71/300, current batch loss: 0.4737: 100%|██████████| 23/23 [00:03<00:00,  6.80it/s]\n"
     ]
    },
    {
     "name": "stdout",
     "output_type": "stream",
     "text": [
      "[-] Training loss: 0.6378\n",
      "[-] Training accuracy: 0.9016465834301202\n",
      "Validation loss: 1.271\n",
      "Validation accuracy: 0.6344164715066354\n",
      "Current patience: 0, current trial: 3.\n",
      "Running out of patience, loading previous best model.\n",
      "Current learning rate: 3e-06\n"
     ]
    },
    {
     "name": "stderr",
     "output_type": "stream",
     "text": [
      "Epoch 72/300, current batch loss: 1.3955: 100%|██████████| 23/23 [00:03<00:00,  6.61it/s]\n"
     ]
    },
    {
     "name": "stdout",
     "output_type": "stream",
     "text": [
      "[-] Training loss: 0.7299\n",
      "[-] Training accuracy: 0.8576652435167617\n",
      "Validation loss: 1.2657\n",
      "Validation accuracy: 0.6619828259172521\n",
      "Current patience: 15, current trial: 2.\n"
     ]
    },
    {
     "name": "stderr",
     "output_type": "stream",
     "text": [
      "Epoch 73/300, current batch loss: 0.4461: 100%|██████████| 23/23 [00:03<00:00,  6.92it/s]\n"
     ]
    },
    {
     "name": "stdout",
     "output_type": "stream",
     "text": [
      "[-] Training loss: 0.7296\n",
      "[-] Training accuracy: 0.869291499529211\n",
      "Validation loss: 1.2662\n",
      "Validation accuracy: 0.6590066354410617\n",
      "Current patience: 14, current trial: 2.\n"
     ]
    },
    {
     "name": "stderr",
     "output_type": "stream",
     "text": [
      "Epoch 74/300, current batch loss: 1.0392: 100%|██████████| 23/23 [00:03<00:00,  6.66it/s]\n"
     ]
    },
    {
     "name": "stdout",
     "output_type": "stream",
     "text": [
      "[-] Training loss: 0.7375\n",
      "[-] Training accuracy: 0.8840329200987325\n",
      "Validation loss: 1.2701\n",
      "Validation accuracy: 0.6478337236533958\n",
      "Current patience: 13, current trial: 2.\n"
     ]
    },
    {
     "name": "stderr",
     "output_type": "stream",
     "text": [
      "Epoch 75/300, current batch loss: 0.3527: 100%|██████████| 23/23 [00:03<00:00,  6.58it/s]\n"
     ]
    },
    {
     "name": "stdout",
     "output_type": "stream",
     "text": [
      "[-] Training loss: 0.7364\n",
      "[-] Training accuracy: 0.8628776954568809\n",
      "Validation loss: 1.2648\n",
      "Validation accuracy: 0.6619828259172521\n",
      "Current patience: 12, current trial: 2.\n"
     ]
    },
    {
     "name": "stderr",
     "output_type": "stream",
     "text": [
      "Epoch 76/300, current batch loss: 1.0096: 100%|██████████| 23/23 [00:03<00:00,  6.98it/s]\n"
     ]
    },
    {
     "name": "stdout",
     "output_type": "stream",
     "text": [
      "[-] Training loss: 0.7499\n",
      "[-] Training accuracy: 0.8836298126507807\n",
      "Validation loss: 1.2669\n",
      "Validation accuracy: 0.6590066354410617\n",
      "Current patience: 11, current trial: 2.\n"
     ]
    },
    {
     "name": "stderr",
     "output_type": "stream",
     "text": [
      "Epoch 77/300, current batch loss: 1.5112: 100%|██████████| 23/23 [00:03<00:00,  6.98it/s]\n"
     ]
    },
    {
     "name": "stdout",
     "output_type": "stream",
     "text": [
      "[-] Training loss: 0.7319\n",
      "[-] Training accuracy: 0.8836877805204797\n",
      "Validation loss: 1.2696\n",
      "Validation accuracy: 0.6560304449648713\n",
      "Current patience: 10, current trial: 2.\n"
     ]
    },
    {
     "name": "stderr",
     "output_type": "stream",
     "text": [
      "Epoch 78/300, current batch loss: 1.5499: 100%|██████████| 23/23 [00:03<00:00,  6.64it/s]\n"
     ]
    },
    {
     "name": "stdout",
     "output_type": "stream",
     "text": [
      "[-] Training loss: 0.7461\n",
      "[-] Training accuracy: 0.8701700639522613\n",
      "Validation loss: 1.2677\n",
      "Validation accuracy: 0.6478337236533958\n",
      "Current patience: 9, current trial: 2.\n"
     ]
    },
    {
     "name": "stderr",
     "output_type": "stream",
     "text": [
      "Epoch 79/300, current batch loss: 1.2556: 100%|██████████| 23/23 [00:03<00:00,  6.69it/s]\n"
     ]
    },
    {
     "name": "stdout",
     "output_type": "stream",
     "text": [
      "[-] Training loss: 0.7377\n",
      "[-] Training accuracy: 0.8819432773109244\n",
      "Validation loss: 1.2651\n",
      "Validation accuracy: 0.6537861046057768\n",
      "Current patience: 8, current trial: 2.\n"
     ]
    },
    {
     "name": "stderr",
     "output_type": "stream",
     "text": [
      "Epoch 80/300, current batch loss: 1.6621: 100%|██████████| 23/23 [00:03<00:00,  6.59it/s]\n"
     ]
    },
    {
     "name": "stdout",
     "output_type": "stream",
     "text": [
      "[-] Training loss: 0.7387\n",
      "[-] Training accuracy: 0.8554106219602268\n",
      "Validation loss: 1.2703\n",
      "Validation accuracy: 0.6560304449648711\n",
      "Current patience: 7, current trial: 2.\n"
     ]
    },
    {
     "name": "stderr",
     "output_type": "stream",
     "text": [
      "Epoch 81/300, current batch loss: 0.6307: 100%|██████████| 23/23 [00:03<00:00,  6.68it/s]\n"
     ]
    },
    {
     "name": "stdout",
     "output_type": "stream",
     "text": [
      "[-] Training loss: 0.7517\n",
      "[-] Training accuracy: 0.8834148242630387\n",
      "Validation loss: 1.2721\n",
      "Validation accuracy: 0.6560304449648712\n",
      "Current patience: 6, current trial: 2.\n"
     ]
    },
    {
     "name": "stderr",
     "output_type": "stream",
     "text": [
      "Epoch 82/300, current batch loss: 0.8456: 100%|██████████| 23/23 [00:03<00:00,  6.57it/s]\n"
     ]
    },
    {
     "name": "stdout",
     "output_type": "stream",
     "text": [
      "[-] Training loss: 0.7287\n",
      "[-] Training accuracy: 0.8783223319119108\n",
      "Validation loss: 1.2684\n",
      "Validation accuracy: 0.6508099141295863\n",
      "Current patience: 5, current trial: 2.\n"
     ]
    },
    {
     "name": "stderr",
     "output_type": "stream",
     "text": [
      "Epoch 83/300, current batch loss: 0.5949: 100%|██████████| 23/23 [00:03<00:00,  6.52it/s]\n"
     ]
    },
    {
     "name": "stdout",
     "output_type": "stream",
     "text": [
      "[-] Training loss: 0.7457\n",
      "[-] Training accuracy: 0.8661809134529945\n",
      "Validation loss: 1.2686\n",
      "Validation accuracy: 0.6508099141295863\n",
      "Current patience: 4, current trial: 2.\n"
     ]
    },
    {
     "name": "stderr",
     "output_type": "stream",
     "text": [
      "Epoch 84/300, current batch loss: 0.9594: 100%|██████████| 23/23 [00:03<00:00,  6.17it/s]\n"
     ]
    },
    {
     "name": "stdout",
     "output_type": "stream",
     "text": [
      "[-] Training loss: 0.7314\n",
      "[-] Training accuracy: 0.8687614267263791\n",
      "Validation loss: 1.271\n",
      "Validation accuracy: 0.6590066354410617\n",
      "Current patience: 3, current trial: 2.\n"
     ]
    },
    {
     "name": "stderr",
     "output_type": "stream",
     "text": [
      "Epoch 85/300, current batch loss: 1.2586: 100%|██████████| 23/23 [00:03<00:00,  6.83it/s]\n"
     ]
    },
    {
     "name": "stdout",
     "output_type": "stream",
     "text": [
      "[-] Training loss: 0.7236\n",
      "[-] Training accuracy: 0.856755176297323\n",
      "Validation loss: 1.2689\n",
      "Validation accuracy: 0.6478337236533956\n",
      "Current patience: 2, current trial: 2.\n"
     ]
    },
    {
     "name": "stderr",
     "output_type": "stream",
     "text": [
      "Epoch 86/300, current batch loss: 0.7106: 100%|██████████| 23/23 [00:03<00:00,  6.59it/s]\n"
     ]
    },
    {
     "name": "stdout",
     "output_type": "stream",
     "text": [
      "[-] Training loss: 0.7389\n",
      "[-] Training accuracy: 0.8691946567146496\n",
      "Validation loss: 1.2682\n",
      "Validation accuracy: 0.6508099141295862\n",
      "Current patience: 1, current trial: 2.\n"
     ]
    },
    {
     "name": "stderr",
     "output_type": "stream",
     "text": [
      "Epoch 87/300, current batch loss: 1.0901: 100%|██████████| 23/23 [00:03<00:00,  6.16it/s]\n"
     ]
    },
    {
     "name": "stdout",
     "output_type": "stream",
     "text": [
      "[-] Training loss: 0.7343\n",
      "[-] Training accuracy: 0.8736739151305684\n",
      "Validation loss: 1.2672\n",
      "Validation accuracy: 0.6508099141295862\n",
      "Current patience: 0, current trial: 2.\n",
      "Running out of patience, loading previous best model.\n",
      "Current learning rate: 3e-06\n"
     ]
    },
    {
     "name": "stderr",
     "output_type": "stream",
     "text": [
      "Epoch 88/300, current batch loss: 0.637: 100%|██████████| 23/23 [00:03<00:00,  6.70it/s] \n"
     ]
    },
    {
     "name": "stdout",
     "output_type": "stream",
     "text": [
      "[-] Training loss: 0.7341\n",
      "[-] Training accuracy: 0.8827925773160588\n",
      "Validation loss: 1.2667\n",
      "Validation accuracy: 0.6590066354410616\n",
      "Current patience: 15, current trial: 1.\n"
     ]
    },
    {
     "name": "stderr",
     "output_type": "stream",
     "text": [
      "Epoch 89/300, current batch loss: 1.4278: 100%|██████████| 23/23 [00:03<00:00,  6.66it/s]\n"
     ]
    },
    {
     "name": "stdout",
     "output_type": "stream",
     "text": [
      "[-] Training loss: 0.7451\n",
      "[-] Training accuracy: 0.8675792539237916\n",
      "Validation loss: 1.2656\n",
      "Validation accuracy: 0.6619828259172522\n",
      "Current patience: 14, current trial: 1.\n"
     ]
    },
    {
     "name": "stderr",
     "output_type": "stream",
     "text": [
      "Epoch 90/300, current batch loss: 0.6668: 100%|██████████| 23/23 [00:03<00:00,  6.69it/s]\n"
     ]
    },
    {
     "name": "stdout",
     "output_type": "stream",
     "text": [
      "[-] Training loss: 0.7501\n",
      "[-] Training accuracy: 0.8623373714968222\n",
      "Validation loss: 1.2631\n",
      "Validation accuracy: 0.6619828259172522\n",
      "Current patience: 13, current trial: 1.\n"
     ]
    },
    {
     "name": "stderr",
     "output_type": "stream",
     "text": [
      "Epoch 91/300, current batch loss: 1.0776: 100%|██████████| 23/23 [00:03<00:00,  6.70it/s]\n"
     ]
    },
    {
     "name": "stdout",
     "output_type": "stream",
     "text": [
      "[-] Training loss: 0.7674\n",
      "[-] Training accuracy: 0.8652259898934447\n",
      "Validation loss: 1.2643\n",
      "Validation accuracy: 0.6619828259172522\n",
      "Current patience: 12, current trial: 1.\n"
     ]
    },
    {
     "name": "stderr",
     "output_type": "stream",
     "text": [
      "Epoch 92/300, current batch loss: 0.9551: 100%|██████████| 23/23 [00:03<00:00,  6.73it/s]\n"
     ]
    },
    {
     "name": "stdout",
     "output_type": "stream",
     "text": [
      "[-] Training loss: 0.7101\n",
      "[-] Training accuracy: 0.881894550367982\n",
      "Validation loss: 1.2675\n",
      "Validation accuracy: 0.6560304449648712\n",
      "Current patience: 11, current trial: 1.\n"
     ]
    },
    {
     "name": "stderr",
     "output_type": "stream",
     "text": [
      "Epoch 93/300, current batch loss: 0.8164: 100%|██████████| 23/23 [00:03<00:00,  6.22it/s]\n"
     ]
    },
    {
     "name": "stdout",
     "output_type": "stream",
     "text": [
      "[-] Training loss: 0.727\n",
      "[-] Training accuracy: 0.878466351505567\n",
      "Validation loss: 1.2621\n",
      "Validation accuracy: 0.6701795472287276\n",
      "Current patience: 10, current trial: 1.\n"
     ]
    },
    {
     "name": "stderr",
     "output_type": "stream",
     "text": [
      "Epoch 94/300, current batch loss: 1.2823: 100%|██████████| 23/23 [00:03<00:00,  6.45it/s]\n"
     ]
    },
    {
     "name": "stdout",
     "output_type": "stream",
     "text": [
      "[-] Training loss: 0.7218\n",
      "[-] Training accuracy: 0.8713548879121763\n",
      "Validation loss: 1.2667\n",
      "Validation accuracy: 0.6560304449648712\n",
      "Current patience: 9, current trial: 1.\n"
     ]
    },
    {
     "name": "stderr",
     "output_type": "stream",
     "text": [
      "Epoch 95/300, current batch loss: 0.5561: 100%|██████████| 23/23 [00:03<00:00,  6.22it/s]\n"
     ]
    },
    {
     "name": "stdout",
     "output_type": "stream",
     "text": [
      "[-] Training loss: 0.7335\n",
      "[-] Training accuracy: 0.8764306909707503\n",
      "Validation loss: 1.2675\n",
      "Validation accuracy: 0.6560304449648712\n",
      "Current patience: 8, current trial: 1.\n"
     ]
    },
    {
     "name": "stderr",
     "output_type": "stream",
     "text": [
      "Epoch 96/300, current batch loss: 1.1146: 100%|██████████| 23/23 [00:03<00:00,  6.40it/s]\n"
     ]
    },
    {
     "name": "stdout",
     "output_type": "stream",
     "text": [
      "[-] Training loss: 0.7222\n",
      "[-] Training accuracy: 0.8761920852256987\n",
      "Validation loss: 1.2648\n",
      "Validation accuracy: 0.6590066354410617\n",
      "Current patience: 7, current trial: 1.\n"
     ]
    },
    {
     "name": "stderr",
     "output_type": "stream",
     "text": [
      "Epoch 97/300, current batch loss: 0.8752: 100%|██████████| 23/23 [00:03<00:00,  6.19it/s]\n"
     ]
    },
    {
     "name": "stdout",
     "output_type": "stream",
     "text": [
      "[-] Training loss: 0.7472\n",
      "[-] Training accuracy: 0.8700118291514387\n",
      "Validation loss: 1.2642\n",
      "Validation accuracy: 0.6508099141295863\n",
      "Current patience: 6, current trial: 1.\n"
     ]
    },
    {
     "name": "stderr",
     "output_type": "stream",
     "text": [
      "Epoch 98/300, current batch loss: 0.8151: 100%|██████████| 23/23 [00:03<00:00,  6.44it/s]\n"
     ]
    },
    {
     "name": "stdout",
     "output_type": "stream",
     "text": [
      "[-] Training loss: 0.7475\n",
      "[-] Training accuracy: 0.8629869365163482\n",
      "Validation loss: 1.2646\n",
      "Validation accuracy: 0.6560304449648712\n",
      "Current patience: 5, current trial: 1.\n"
     ]
    },
    {
     "name": "stderr",
     "output_type": "stream",
     "text": [
      "Epoch 99/300, current batch loss: 1.225: 100%|██████████| 23/23 [00:03<00:00,  6.42it/s] \n"
     ]
    },
    {
     "name": "stdout",
     "output_type": "stream",
     "text": [
      "[-] Training loss: 0.7267\n",
      "[-] Training accuracy: 0.8851285642462112\n",
      "Validation loss: 1.2681\n",
      "Validation accuracy: 0.6590066354410616\n",
      "Current patience: 4, current trial: 1.\n"
     ]
    },
    {
     "name": "stderr",
     "output_type": "stream",
     "text": [
      "Epoch 100/300, current batch loss: 1.2076: 100%|██████████| 23/23 [00:03<00:00,  6.42it/s]\n"
     ]
    },
    {
     "name": "stdout",
     "output_type": "stream",
     "text": [
      "[-] Training loss: 0.7259\n",
      "[-] Training accuracy: 0.8843642693216918\n",
      "Validation loss: 1.2662\n",
      "Validation accuracy: 0.6590066354410617\n",
      "Current patience: 3, current trial: 1.\n"
     ]
    },
    {
     "name": "stderr",
     "output_type": "stream",
     "text": [
      "Epoch 101/300, current batch loss: 0.9201: 100%|██████████| 23/23 [00:03<00:00,  6.48it/s]\n"
     ]
    },
    {
     "name": "stdout",
     "output_type": "stream",
     "text": [
      "[-] Training loss: 0.7331\n",
      "[-] Training accuracy: 0.8683414220559\n",
      "Validation loss: 1.2664\n",
      "Validation accuracy: 0.6508099141295863\n",
      "Current patience: 2, current trial: 1.\n"
     ]
    },
    {
     "name": "stderr",
     "output_type": "stream",
     "text": [
      "Epoch 102/300, current batch loss: 0.9075: 100%|██████████| 23/23 [00:03<00:00,  6.47it/s]\n"
     ]
    },
    {
     "name": "stdout",
     "output_type": "stream",
     "text": [
      "[-] Training loss: 0.7502\n",
      "[-] Training accuracy: 0.8654798612993585\n",
      "Validation loss: 1.2641\n",
      "Validation accuracy: 0.6508099141295862\n",
      "Current patience: 1, current trial: 1.\n"
     ]
    },
    {
     "name": "stderr",
     "output_type": "stream",
     "text": [
      "Epoch 103/300, current batch loss: 0.9697: 100%|██████████| 23/23 [00:03<00:00,  6.43it/s]\n"
     ]
    },
    {
     "name": "stdout",
     "output_type": "stream",
     "text": [
      "[-] Training loss: 0.6985\n",
      "[-] Training accuracy: 0.8850793323341362\n",
      "Validation loss: 1.267\n",
      "Validation accuracy: 0.6560304449648712\n",
      "Current patience: 0, current trial: 1.\n",
      "Running out of patience, loading previous best model.\n",
      "Current learning rate: 3e-06\n",
      "Running out of patience, early stopping.\n",
      "Test set performance: 1.3228662862027005\n",
      "Test set accuracy is 0.5743440233236151\n"
     ]
    },
    {
     "data": {
      "text/html": [
       "Waiting for W&B process to finish... <strong style=\"color:green\">(success).</strong>"
      ],
      "text/plain": [
       "<IPython.core.display.HTML object>"
      ]
     },
     "metadata": {},
     "output_type": "display_data"
    },
    {
     "name": "stderr",
     "output_type": "stream",
     "text": [
      "wandb: WARNING Source type is set to 'repo' but some required information is missing from the environment. A job will not be created from this run. See https://docs.wandb.ai/guides/launch/create-job\n"
     ]
    },
    {
     "data": {
      "application/vnd.jupyter.widget-view+json": {
       "model_id": "95d61e8c08bf447ab151cf1bf3abbe38",
       "version_major": 2,
       "version_minor": 0
      },
      "text/plain": [
       "VBox(children=(Label(value='0.001 MB of 0.001 MB uploaded (0.000 MB deduped)\\r'), FloatProgress(value=1.0, max…"
      ]
     },
     "metadata": {},
     "output_type": "display_data"
    },
    {
     "data": {
      "text/html": [
       "<style>\n",
       "    table.wandb td:nth-child(1) { padding: 0 10px; text-align: left ; width: auto;} td:nth-child(2) {text-align: left ; width: 100%}\n",
       "    .wandb-row { display: flex; flex-direction: row; flex-wrap: wrap; justify-content: flex-start; width: 100% }\n",
       "    .wandb-col { display: flex; flex-direction: column; flex-basis: 100%; flex: 1; padding: 10px; }\n",
       "    </style>\n",
       "<div class=\"wandb-row\"><div class=\"wandb-col\"><h3>Run history:</h3><br/><table class=\"wandb\"><tr><td>Batch Accuracy</td><td>▁▂▃▃▅▄▅▄▄▆▄▆▅▅▆▆▆▆▇▇▇██▇█▇▇██▇█▇▇▇█▇█▇█▇</td></tr><tr><td>Batch Loss</td><td>█▆▅▆▄▇▆▅▆▅▂▄▅▆▄▂▄▄▅▆▃▁▃▃▃▃▄▃▄▄▄▄▅▄▄▄▆▃▃▃</td></tr><tr><td>Epoch</td><td>▁▁▁▁▂▂▂▂▂▃▃▃▃▃▃▄▄▄▄▄▅▅▅▅▅▅▆▆▆▆▆▇▇▇▇▇▇███</td></tr><tr><td>Test Accuracy</td><td>▁</td></tr><tr><td>Test Loss</td><td>▁</td></tr><tr><td>Training Accuracy</td><td>▁▁▃▂▃▃▄▄▄▅▅▅▅▆▆▆▆▇▇▇▇███████▇███▇█▇██▇██</td></tr><tr><td>Training Loss</td><td>██▇▇▇▆▆▆▆▅▅▅▄▄▄▃▃▃▃▃▂▂▂▂▁▁▁▁▂▂▂▂▂▂▂▂▂▂▂▂</td></tr><tr><td>Validation Accuracy</td><td>▁▂▃▄▄▅▅▅▆▆▇▇▆▆▇▇██▇█▇█▇█▇▇▇▇████████████</td></tr><tr><td>Validation Loss</td><td>██▇▇▆▆▆▅▅▅▄▄▄▃▃▃▃▃▂▁▂▁▂▁▁▁▁▁▁▁▁▁▁▁▁▁▁▁▁▁</td></tr></table><br/></div><div class=\"wandb-col\"><h3>Run summary:</h3><br/><table class=\"wandb\"><tr><td>Batch Accuracy</td><td>0.90196</td></tr><tr><td>Batch Loss</td><td>0.9697</td></tr><tr><td>Epoch</td><td>103</td></tr><tr><td>Test Accuracy</td><td>0.57434</td></tr><tr><td>Test Loss</td><td>1.32287</td></tr><tr><td>Training Accuracy</td><td>0.88508</td></tr><tr><td>Training Loss</td><td>0.69848</td></tr><tr><td>Validation Accuracy</td><td>0.65603</td></tr><tr><td>Validation Loss</td><td>1.26701</td></tr></table><br/></div></div>"
      ],
      "text/plain": [
       "<IPython.core.display.HTML object>"
      ]
     },
     "metadata": {},
     "output_type": "display_data"
    },
    {
     "data": {
      "text/html": [
       " View run <strong style=\"color:#cdcd00\">ruby-shadow-80</strong> at: <a href='https://wandb.ai/ejbejaranos22/Baseline-multimodal/runs/ee29t9jg' target=\"_blank\">https://wandb.ai/ejbejaranos22/Baseline-multimodal/runs/ee29t9jg</a><br/>Synced 6 W&B file(s), 0 media file(s), 0 artifact file(s) and 0 other file(s)"
      ],
      "text/plain": [
       "<IPython.core.display.HTML object>"
      ]
     },
     "metadata": {},
     "output_type": "display_data"
    },
    {
     "data": {
      "text/html": [
       "Find logs at: <code>./wandb/run-20230925_170826-ee29t9jg/logs</code>"
      ],
      "text/plain": [
       "<IPython.core.display.HTML object>"
      ]
     },
     "metadata": {},
     "output_type": "display_data"
    },
    {
     "name": "stdout",
     "output_type": "stream",
     "text": [
      "0.55\n"
     ]
    },
    {
     "data": {
      "application/vnd.jupyter.widget-view+json": {
       "model_id": "d4db7a7cdb634822bde86c88b3c52878",
       "version_major": 2,
       "version_minor": 0
      },
      "text/plain": [
       "VBox(children=(Label(value='Waiting for wandb.init()...\\r'), FloatProgress(value=0.01117956388884017, max=1.0)…"
      ]
     },
     "metadata": {},
     "output_type": "display_data"
    },
    {
     "data": {
      "text/html": [
       "Tracking run with wandb version 0.15.11"
      ],
      "text/plain": [
       "<IPython.core.display.HTML object>"
      ]
     },
     "metadata": {},
     "output_type": "display_data"
    },
    {
     "data": {
      "text/html": [
       "Run data is saved locally in <code>/Users/lernmi/Desktop/EmotionUnify/src/datasets/CMU-MultimodalSDK/wandb/run-20230925_171452-hkxlzjyr</code>"
      ],
      "text/plain": [
       "<IPython.core.display.HTML object>"
      ]
     },
     "metadata": {},
     "output_type": "display_data"
    },
    {
     "data": {
      "text/html": [
       "Syncing run <strong><a href='https://wandb.ai/ejbejaranos22/Baseline-multimodal/runs/hkxlzjyr' target=\"_blank\">hearty-plant-81</a></strong> to <a href='https://wandb.ai/ejbejaranos22/Baseline-multimodal' target=\"_blank\">Weights & Biases</a> (<a href='https://wandb.me/run' target=\"_blank\">docs</a>)<br/>"
      ],
      "text/plain": [
       "<IPython.core.display.HTML object>"
      ]
     },
     "metadata": {},
     "output_type": "display_data"
    },
    {
     "data": {
      "text/html": [
       " View project at <a href='https://wandb.ai/ejbejaranos22/Baseline-multimodal' target=\"_blank\">https://wandb.ai/ejbejaranos22/Baseline-multimodal</a>"
      ],
      "text/plain": [
       "<IPython.core.display.HTML object>"
      ]
     },
     "metadata": {},
     "output_type": "display_data"
    },
    {
     "data": {
      "text/html": [
       " View run at <a href='https://wandb.ai/ejbejaranos22/Baseline-multimodal/runs/hkxlzjyr' target=\"_blank\">https://wandb.ai/ejbejaranos22/Baseline-multimodal/runs/hkxlzjyr</a>"
      ],
      "text/plain": [
       "<IPython.core.display.HTML object>"
      ]
     },
     "metadata": {},
     "output_type": "display_data"
    },
    {
     "name": "stderr",
     "output_type": "stream",
     "text": [
      "/Users/lernmi/miniconda3/envs/emotionunify/lib/python3.11/site-packages/torch/optim/lr_scheduler.py:139: UserWarning: Detected call of `lr_scheduler.step()` before `optimizer.step()`. In PyTorch 1.1.0 and later, you should call them in the opposite order: `optimizer.step()` before `lr_scheduler.step()`.  Failure to do this will result in PyTorch skipping the first value of the learning rate schedule. See more details at https://pytorch.org/docs/stable/optim.html#how-to-adjust-learning-rate\n",
      "  warnings.warn(\"Detected call of `lr_scheduler.step()` before `optimizer.step()`. \"\n"
     ]
    },
    {
     "name": "stdout",
     "output_type": "stream",
     "text": [
      "================================================================================\n",
      "[-->] [120, 18, 29]\n",
      "[-->] 83\n",
      "================================================================================\n",
      "Using LateFusionLSTM\n"
     ]
    },
    {
     "name": "stderr",
     "output_type": "stream",
     "text": [
      "Epoch 0/300, current batch loss: 2.3744: 100%|██████████| 23/23 [00:03<00:00,  6.64it/s]\n"
     ]
    },
    {
     "name": "stdout",
     "output_type": "stream",
     "text": [
      "[-] Training loss: 1.3953\n",
      "[-] Training accuracy: 0.49574398725007246\n",
      "Validation loss: 1.4483\n",
      "Validation accuracy: 0.47136026541764253\n",
      "Current patience: 15, current trial: 3.\n",
      "Found new best model on dev set!\n"
     ]
    },
    {
     "name": "stderr",
     "output_type": "stream",
     "text": [
      "Epoch 1/300, current batch loss: 1.2567: 100%|██████████| 23/23 [00:03<00:00,  6.93it/s]\n"
     ]
    },
    {
     "name": "stdout",
     "output_type": "stream",
     "text": [
      "[-] Training loss: 1.3857\n",
      "[-] Training accuracy: 0.5067126015333064\n",
      "Validation loss: 1.4437\n",
      "Validation accuracy: 0.5048790007806401\n",
      "Current patience: 15, current trial: 3.\n",
      "Found new best model on dev set!\n"
     ]
    },
    {
     "name": "stderr",
     "output_type": "stream",
     "text": [
      "Epoch 2/300, current batch loss: 1.8564: 100%|██████████| 23/23 [00:03<00:00,  6.65it/s]\n"
     ]
    },
    {
     "name": "stdout",
     "output_type": "stream",
     "text": [
      "[-] Training loss: 1.3681\n",
      "[-] Training accuracy: 0.5099928129146394\n",
      "Validation loss: 1.441\n",
      "Validation accuracy: 0.5138075722092116\n",
      "Current patience: 15, current trial: 3.\n",
      "Found new best model on dev set!\n"
     ]
    },
    {
     "name": "stderr",
     "output_type": "stream",
     "text": [
      "Epoch 3/300, current batch loss: 2.4347: 100%|██████████| 23/23 [00:03<00:00,  6.48it/s]\n"
     ]
    },
    {
     "name": "stdout",
     "output_type": "stream",
     "text": [
      "[-] Training loss: 1.3569\n",
      "[-] Training accuracy: 0.5386680498645738\n",
      "Validation loss: 1.437\n",
      "Validation accuracy: 0.5167837626854019\n",
      "Current patience: 15, current trial: 3.\n",
      "Found new best model on dev set!\n"
     ]
    },
    {
     "name": "stderr",
     "output_type": "stream",
     "text": [
      "Epoch 4/300, current batch loss: 0.9969: 100%|██████████| 23/23 [00:03<00:00,  6.51it/s]\n"
     ]
    },
    {
     "name": "stdout",
     "output_type": "stream",
     "text": [
      "[-] Training loss: 1.3426\n",
      "[-] Training accuracy: 0.5081217193928216\n",
      "Validation loss: 1.4335\n",
      "Validation accuracy: 0.516783762685402\n",
      "Current patience: 15, current trial: 3.\n",
      "Found new best model on dev set!\n"
     ]
    },
    {
     "name": "stderr",
     "output_type": "stream",
     "text": [
      "Epoch 5/300, current batch loss: 1.4327: 100%|██████████| 23/23 [00:03<00:00,  6.54it/s]\n"
     ]
    },
    {
     "name": "stdout",
     "output_type": "stream",
     "text": [
      "[-] Training loss: 1.3035\n",
      "[-] Training accuracy: 0.5781524999380283\n",
      "Validation loss: 1.4304\n",
      "Validation accuracy: 0.522736143637783\n",
      "Current patience: 15, current trial: 3.\n",
      "Found new best model on dev set!\n"
     ]
    },
    {
     "name": "stderr",
     "output_type": "stream",
     "text": [
      "Epoch 6/300, current batch loss: 2.0996: 100%|██████████| 23/23 [00:03<00:00,  6.64it/s]\n"
     ]
    },
    {
     "name": "stdout",
     "output_type": "stream",
     "text": [
      "[-] Training loss: 1.3063\n",
      "[-] Training accuracy: 0.5552542695399838\n",
      "Validation loss: 1.4257\n",
      "Validation accuracy: 0.522736143637783\n",
      "Current patience: 15, current trial: 3.\n",
      "Found new best model on dev set!\n"
     ]
    },
    {
     "name": "stderr",
     "output_type": "stream",
     "text": [
      "Epoch 7/300, current batch loss: 2.3197: 100%|██████████| 23/23 [00:03<00:00,  6.67it/s]\n"
     ]
    },
    {
     "name": "stdout",
     "output_type": "stream",
     "text": [
      "[-] Training loss: 1.3045\n",
      "[-] Training accuracy: 0.548400408969403\n",
      "Validation loss: 1.4233\n",
      "Validation accuracy: 0.5339090554254489\n",
      "Current patience: 15, current trial: 3.\n",
      "Found new best model on dev set!\n"
     ]
    },
    {
     "name": "stderr",
     "output_type": "stream",
     "text": [
      "Epoch 8/300, current batch loss: 1.3345: 100%|██████████| 23/23 [00:03<00:00,  6.75it/s]\n"
     ]
    },
    {
     "name": "stdout",
     "output_type": "stream",
     "text": [
      "[-] Training loss: 1.2756\n",
      "[-] Training accuracy: 0.5870784342396119\n",
      "Validation loss: 1.4188\n",
      "Validation accuracy: 0.5428376268540203\n",
      "Current patience: 15, current trial: 3.\n",
      "Found new best model on dev set!\n"
     ]
    },
    {
     "name": "stderr",
     "output_type": "stream",
     "text": [
      "Epoch 9/300, current batch loss: 1.2072: 100%|██████████| 23/23 [00:03<00:00,  6.45it/s]\n"
     ]
    },
    {
     "name": "stdout",
     "output_type": "stream",
     "text": [
      "[-] Training loss: 1.2958\n",
      "[-] Training accuracy: 0.5493853327681221\n",
      "Validation loss: 1.4145\n",
      "Validation accuracy: 0.5599629195940671\n",
      "Current patience: 15, current trial: 3.\n",
      "Found new best model on dev set!\n"
     ]
    },
    {
     "name": "stderr",
     "output_type": "stream",
     "text": [
      "Epoch 10/300, current batch loss: 2.5526: 100%|██████████| 23/23 [00:03<00:00,  6.69it/s]\n"
     ]
    },
    {
     "name": "stdout",
     "output_type": "stream",
     "text": [
      "[-] Training loss: 1.2922\n",
      "[-] Training accuracy: 0.5560884131878557\n",
      "Validation loss: 1.412\n",
      "Validation accuracy: 0.5629391100702575\n",
      "Current patience: 15, current trial: 3.\n",
      "Found new best model on dev set!\n"
     ]
    },
    {
     "name": "stderr",
     "output_type": "stream",
     "text": [
      "Epoch 11/300, current batch loss: 1.7865: 100%|██████████| 23/23 [00:03<00:00,  6.69it/s]\n"
     ]
    },
    {
     "name": "stdout",
     "output_type": "stream",
     "text": [
      "[-] Training loss: 1.2718\n",
      "[-] Training accuracy: 0.5799284984678243\n",
      "Validation loss: 1.4092\n",
      "Validation accuracy: 0.5465456674473067\n",
      "Current patience: 15, current trial: 3.\n",
      "Found new best model on dev set!\n"
     ]
    },
    {
     "name": "stderr",
     "output_type": "stream",
     "text": [
      "Epoch 12/300, current batch loss: 2.6973: 100%|██████████| 23/23 [00:03<00:00,  6.67it/s]\n"
     ]
    },
    {
     "name": "stdout",
     "output_type": "stream",
     "text": [
      "[-] Training loss: 1.268\n",
      "[-] Training accuracy: 0.5831752281332111\n",
      "Validation loss: 1.4059\n",
      "Validation accuracy: 0.5547423887587821\n",
      "Current patience: 15, current trial: 3.\n",
      "Found new best model on dev set!\n"
     ]
    },
    {
     "name": "stderr",
     "output_type": "stream",
     "text": [
      "Epoch 13/300, current batch loss: 2.5181: 100%|██████████| 23/23 [00:03<00:00,  6.77it/s]\n"
     ]
    },
    {
     "name": "stdout",
     "output_type": "stream",
     "text": [
      "[-] Training loss: 1.2365\n",
      "[-] Training accuracy: 0.6113015381591234\n",
      "Validation loss: 1.402\n",
      "Validation accuracy: 0.5577185792349727\n",
      "Current patience: 15, current trial: 3.\n",
      "Found new best model on dev set!\n"
     ]
    },
    {
     "name": "stderr",
     "output_type": "stream",
     "text": [
      "Epoch 14/300, current batch loss: 1.3913: 100%|██████████| 23/23 [00:03<00:00,  6.63it/s]\n"
     ]
    },
    {
     "name": "stdout",
     "output_type": "stream",
     "text": [
      "[-] Training loss: 1.2275\n",
      "[-] Training accuracy: 0.61859051156104\n",
      "Validation loss: 1.3978\n",
      "Validation accuracy: 0.571867681498829\n",
      "Current patience: 15, current trial: 3.\n",
      "Found new best model on dev set!\n"
     ]
    },
    {
     "name": "stderr",
     "output_type": "stream",
     "text": [
      "Epoch 15/300, current batch loss: 2.3469: 100%|██████████| 23/23 [00:03<00:00,  6.74it/s]\n"
     ]
    },
    {
     "name": "stdout",
     "output_type": "stream",
     "text": [
      "[-] Training loss: 1.2164\n",
      "[-] Training accuracy: 0.6292074030838075\n",
      "Validation loss: 1.3947\n",
      "Validation accuracy: 0.583040593286495\n",
      "Current patience: 15, current trial: 3.\n",
      "Found new best model on dev set!\n"
     ]
    },
    {
     "name": "stderr",
     "output_type": "stream",
     "text": [
      "Epoch 16/300, current batch loss: 1.5908: 100%|██████████| 23/23 [00:03<00:00,  6.65it/s]\n"
     ]
    },
    {
     "name": "stdout",
     "output_type": "stream",
     "text": [
      "[-] Training loss: 1.2156\n",
      "[-] Training accuracy: 0.6170406750212881\n",
      "Validation loss: 1.3912\n",
      "Validation accuracy: 0.571867681498829\n",
      "Current patience: 15, current trial: 3.\n",
      "Found new best model on dev set!\n"
     ]
    },
    {
     "name": "stderr",
     "output_type": "stream",
     "text": [
      "Epoch 17/300, current batch loss: 2.0262: 100%|██████████| 23/23 [00:03<00:00,  6.67it/s]\n"
     ]
    },
    {
     "name": "stdout",
     "output_type": "stream",
     "text": [
      "[-] Training loss: 1.1985\n",
      "[-] Training accuracy: 0.6254894957983193\n",
      "Validation loss: 1.3878\n",
      "Validation accuracy: 0.582308743169399\n",
      "Current patience: 15, current trial: 3.\n",
      "Found new best model on dev set!\n"
     ]
    },
    {
     "name": "stderr",
     "output_type": "stream",
     "text": [
      "Epoch 18/300, current batch loss: 1.4191: 100%|██████████| 23/23 [00:03<00:00,  6.69it/s]\n"
     ]
    },
    {
     "name": "stdout",
     "output_type": "stream",
     "text": [
      "[-] Training loss: 1.1747\n",
      "[-] Training accuracy: 0.6649717755122354\n",
      "Validation loss: 1.3853\n",
      "Validation accuracy: 0.571135831381733\n",
      "Current patience: 15, current trial: 3.\n",
      "Found new best model on dev set!\n"
     ]
    },
    {
     "name": "stderr",
     "output_type": "stream",
     "text": [
      "Epoch 19/300, current batch loss: 1.3244: 100%|██████████| 23/23 [00:03<00:00,  6.67it/s]\n"
     ]
    },
    {
     "name": "stdout",
     "output_type": "stream",
     "text": [
      "[-] Training loss: 1.1603\n",
      "[-] Training accuracy: 0.6615213412097513\n",
      "Validation loss: 1.3791\n",
      "Validation accuracy: 0.5852849336455895\n",
      "Current patience: 15, current trial: 3.\n",
      "Found new best model on dev set!\n"
     ]
    },
    {
     "name": "stderr",
     "output_type": "stream",
     "text": [
      "Epoch 20/300, current batch loss: 0.4728: 100%|██████████| 23/23 [00:03<00:00,  6.74it/s]\n"
     ]
    },
    {
     "name": "stdout",
     "output_type": "stream",
     "text": [
      "[-] Training loss: 1.1605\n",
      "[-] Training accuracy: 0.6612113981395027\n",
      "Validation loss: 1.3765\n",
      "Validation accuracy: 0.5882611241217799\n",
      "Current patience: 15, current trial: 3.\n",
      "Found new best model on dev set!\n"
     ]
    },
    {
     "name": "stderr",
     "output_type": "stream",
     "text": [
      "Epoch 21/300, current batch loss: 1.4805: 100%|██████████| 23/23 [00:03<00:00,  6.69it/s]\n"
     ]
    },
    {
     "name": "stdout",
     "output_type": "stream",
     "text": [
      "[-] Training loss: 1.1734\n",
      "[-] Training accuracy: 0.6544543781001244\n",
      "Validation loss: 1.3752\n",
      "Validation accuracy: 0.5800644028103045\n",
      "Current patience: 15, current trial: 3.\n",
      "Found new best model on dev set!\n"
     ]
    },
    {
     "name": "stderr",
     "output_type": "stream",
     "text": [
      "Epoch 22/300, current batch loss: 1.6231: 100%|██████████| 23/23 [00:03<00:00,  6.68it/s]\n"
     ]
    },
    {
     "name": "stdout",
     "output_type": "stream",
     "text": [
      "[-] Training loss: 1.1571\n",
      "[-] Training accuracy: 0.6605164109732069\n",
      "Validation loss: 1.3693\n",
      "Validation accuracy: 0.5942135050741608\n",
      "Current patience: 15, current trial: 3.\n",
      "Found new best model on dev set!\n"
     ]
    },
    {
     "name": "stderr",
     "output_type": "stream",
     "text": [
      "Epoch 23/300, current batch loss: 1.6478: 100%|██████████| 23/23 [00:03<00:00,  6.74it/s]\n"
     ]
    },
    {
     "name": "stdout",
     "output_type": "stream",
     "text": [
      "[-] Training loss: 1.1431\n",
      "[-] Training accuracy: 0.6819710607820364\n",
      "Validation loss: 1.3682\n",
      "Validation accuracy: 0.5942135050741608\n",
      "Current patience: 15, current trial: 3.\n",
      "Found new best model on dev set!\n"
     ]
    },
    {
     "name": "stderr",
     "output_type": "stream",
     "text": [
      "Epoch 24/300, current batch loss: 1.2775: 100%|██████████| 23/23 [00:03<00:00,  6.65it/s]\n"
     ]
    },
    {
     "name": "stdout",
     "output_type": "stream",
     "text": [
      "[-] Training loss: 1.1231\n",
      "[-] Training accuracy: 0.6799387950899014\n",
      "Validation loss: 1.365\n",
      "Validation accuracy: 0.6001658860265418\n",
      "Current patience: 15, current trial: 3.\n",
      "Found new best model on dev set!\n"
     ]
    },
    {
     "name": "stderr",
     "output_type": "stream",
     "text": [
      "Epoch 25/300, current batch loss: 0.8757: 100%|██████████| 23/23 [00:03<00:00,  6.55it/s]\n"
     ]
    },
    {
     "name": "stdout",
     "output_type": "stream",
     "text": [
      "[-] Training loss: 1.1241\n",
      "[-] Training accuracy: 0.6796596260881975\n",
      "Validation loss: 1.3621\n",
      "Validation accuracy: 0.6024102263856362\n",
      "Current patience: 15, current trial: 3.\n",
      "Found new best model on dev set!\n"
     ]
    },
    {
     "name": "stderr",
     "output_type": "stream",
     "text": [
      "Epoch 26/300, current batch loss: 1.2936: 100%|██████████| 23/23 [00:03<00:00,  6.79it/s]\n"
     ]
    },
    {
     "name": "stdout",
     "output_type": "stream",
     "text": [
      "[-] Training loss: 1.1047\n",
      "[-] Training accuracy: 0.6957835195934043\n",
      "Validation loss: 1.3615\n",
      "Validation accuracy: 0.5994340359094458\n",
      "Current patience: 15, current trial: 3.\n",
      "Found new best model on dev set!\n"
     ]
    },
    {
     "name": "stderr",
     "output_type": "stream",
     "text": [
      "Epoch 27/300, current batch loss: 0.9801: 100%|██████████| 23/23 [00:03<00:00,  6.61it/s]\n"
     ]
    },
    {
     "name": "stdout",
     "output_type": "stream",
     "text": [
      "[-] Training loss: 1.0761\n",
      "[-] Training accuracy: 0.7399138549892317\n",
      "Validation loss: 1.3565\n",
      "Validation accuracy: 0.6053864168618267\n",
      "Current patience: 15, current trial: 3.\n",
      "Found new best model on dev set!\n"
     ]
    },
    {
     "name": "stderr",
     "output_type": "stream",
     "text": [
      "Epoch 28/300, current batch loss: 2.024: 100%|██████████| 23/23 [00:03<00:00,  6.86it/s] \n"
     ]
    },
    {
     "name": "stdout",
     "output_type": "stream",
     "text": [
      "[-] Training loss: 1.0942\n",
      "[-] Training accuracy: 0.6884560952263505\n",
      "Validation loss: 1.3519\n",
      "Validation accuracy: 0.6053864168618267\n",
      "Current patience: 15, current trial: 3.\n",
      "Found new best model on dev set!\n"
     ]
    },
    {
     "name": "stderr",
     "output_type": "stream",
     "text": [
      "Epoch 29/300, current batch loss: 1.6597: 100%|██████████| 23/23 [00:03<00:00,  6.49it/s]\n"
     ]
    },
    {
     "name": "stdout",
     "output_type": "stream",
     "text": [
      "[-] Training loss: 1.088\n",
      "[-] Training accuracy: 0.7163451836065838\n",
      "Validation loss: 1.3472\n",
      "Validation accuracy: 0.6165593286494926\n",
      "Current patience: 15, current trial: 3.\n",
      "Found new best model on dev set!\n"
     ]
    },
    {
     "name": "stderr",
     "output_type": "stream",
     "text": [
      "Epoch 30/300, current batch loss: 0.6889: 100%|██████████| 23/23 [00:03<00:00,  6.88it/s]\n"
     ]
    },
    {
     "name": "stdout",
     "output_type": "stream",
     "text": [
      "[-] Training loss: 1.0772\n",
      "[-] Training accuracy: 0.709022474313161\n",
      "Validation loss: 1.3457\n",
      "Validation accuracy: 0.6016783762685401\n",
      "Current patience: 15, current trial: 3.\n",
      "Found new best model on dev set!\n"
     ]
    },
    {
     "name": "stderr",
     "output_type": "stream",
     "text": [
      "Epoch 31/300, current batch loss: 1.6079: 100%|██████████| 23/23 [00:03<00:00,  6.81it/s]\n"
     ]
    },
    {
     "name": "stdout",
     "output_type": "stream",
     "text": [
      "[-] Training loss: 1.0733\n",
      "[-] Training accuracy: 0.6970591202582728\n",
      "Validation loss: 1.3437\n",
      "Validation accuracy: 0.5964578454332553\n",
      "Current patience: 15, current trial: 3.\n",
      "Found new best model on dev set!\n"
     ]
    },
    {
     "name": "stderr",
     "output_type": "stream",
     "text": [
      "Epoch 32/300, current batch loss: 1.4106: 100%|██████████| 23/23 [00:03<00:00,  6.68it/s]\n"
     ]
    },
    {
     "name": "stdout",
     "output_type": "stream",
     "text": [
      "[-] Training loss: 1.0363\n",
      "[-] Training accuracy: 0.7430155138978669\n",
      "Validation loss: 1.3412\n",
      "Validation accuracy: 0.5964578454332554\n",
      "Current patience: 15, current trial: 3.\n",
      "Found new best model on dev set!\n"
     ]
    },
    {
     "name": "stderr",
     "output_type": "stream",
     "text": [
      "Epoch 33/300, current batch loss: 1.1032: 100%|██████████| 23/23 [00:03<00:00,  6.65it/s]\n"
     ]
    },
    {
     "name": "stdout",
     "output_type": "stream",
     "text": [
      "[-] Training loss: 1.0468\n",
      "[-] Training accuracy: 0.7359310224089636\n",
      "Validation loss: 1.3397\n",
      "Validation accuracy: 0.6046545667447306\n",
      "Current patience: 15, current trial: 3.\n",
      "Found new best model on dev set!\n"
     ]
    },
    {
     "name": "stderr",
     "output_type": "stream",
     "text": [
      "Epoch 34/300, current batch loss: 0.7957: 100%|██████████| 23/23 [00:03<00:00,  6.68it/s]\n"
     ]
    },
    {
     "name": "stdout",
     "output_type": "stream",
     "text": [
      "[-] Training loss: 1.0048\n",
      "[-] Training accuracy: 0.7535195112527768\n",
      "Validation loss: 1.3388\n",
      "Validation accuracy: 0.6016783762685403\n",
      "Current patience: 15, current trial: 3.\n",
      "Found new best model on dev set!\n"
     ]
    },
    {
     "name": "stderr",
     "output_type": "stream",
     "text": [
      "Epoch 35/300, current batch loss: 1.3196: 100%|██████████| 23/23 [00:03<00:00,  6.71it/s]\n"
     ]
    },
    {
     "name": "stdout",
     "output_type": "stream",
     "text": [
      "[-] Training loss: 1.0225\n",
      "[-] Training accuracy: 0.7402733774961598\n",
      "Validation loss: 1.3349\n",
      "Validation accuracy: 0.6106069476971117\n",
      "Current patience: 15, current trial: 3.\n",
      "Found new best model on dev set!\n"
     ]
    },
    {
     "name": "stderr",
     "output_type": "stream",
     "text": [
      "Epoch 36/300, current batch loss: 0.995: 100%|██████████| 23/23 [00:03<00:00,  6.63it/s] \n"
     ]
    },
    {
     "name": "stdout",
     "output_type": "stream",
     "text": [
      "[-] Training loss: 1.002\n",
      "[-] Training accuracy: 0.7380534460524433\n",
      "Validation loss: 1.334\n",
      "Validation accuracy: 0.6024102263856362\n",
      "Current patience: 15, current trial: 3.\n",
      "Found new best model on dev set!\n"
     ]
    },
    {
     "name": "stderr",
     "output_type": "stream",
     "text": [
      "Epoch 37/300, current batch loss: 1.2021: 100%|██████████| 23/23 [00:03<00:00,  6.81it/s]\n"
     ]
    },
    {
     "name": "stdout",
     "output_type": "stream",
     "text": [
      "[-] Training loss: 0.9864\n",
      "[-] Training accuracy: 0.7592778006103584\n",
      "Validation loss: 1.3281\n",
      "Validation accuracy: 0.6165593286494926\n",
      "Current patience: 15, current trial: 3.\n",
      "Found new best model on dev set!\n"
     ]
    },
    {
     "name": "stderr",
     "output_type": "stream",
     "text": [
      "Epoch 38/300, current batch loss: 1.4491: 100%|██████████| 23/23 [00:03<00:00,  6.68it/s]\n"
     ]
    },
    {
     "name": "stdout",
     "output_type": "stream",
     "text": [
      "[-] Training loss: 0.9953\n",
      "[-] Training accuracy: 0.75799403769605\n",
      "Validation loss: 1.3261\n",
      "Validation accuracy: 0.6165593286494925\n",
      "Current patience: 15, current trial: 3.\n",
      "Found new best model on dev set!\n"
     ]
    },
    {
     "name": "stderr",
     "output_type": "stream",
     "text": [
      "Epoch 39/300, current batch loss: 0.4732: 100%|██████████| 23/23 [00:03<00:00,  6.55it/s]\n"
     ]
    },
    {
     "name": "stdout",
     "output_type": "stream",
     "text": [
      "[-] Training loss: 0.9623\n",
      "[-] Training accuracy: 0.7754605714502647\n",
      "Validation loss: 1.3241\n",
      "Validation accuracy: 0.6053864168618267\n",
      "Current patience: 15, current trial: 3.\n",
      "Found new best model on dev set!\n"
     ]
    },
    {
     "name": "stderr",
     "output_type": "stream",
     "text": [
      "Epoch 40/300, current batch loss: 0.4645: 100%|██████████| 23/23 [00:03<00:00,  6.89it/s]\n"
     ]
    },
    {
     "name": "stdout",
     "output_type": "stream",
     "text": [
      "[-] Training loss: 0.9527\n",
      "[-] Training accuracy: 0.7730713419388373\n",
      "Validation loss: 1.32\n",
      "Validation accuracy: 0.6053864168618267\n",
      "Current patience: 15, current trial: 3.\n",
      "Found new best model on dev set!\n"
     ]
    },
    {
     "name": "stderr",
     "output_type": "stream",
     "text": [
      "Epoch 41/300, current batch loss: 1.5351: 100%|██████████| 23/23 [00:03<00:00,  6.61it/s]\n"
     ]
    },
    {
     "name": "stdout",
     "output_type": "stream",
     "text": [
      "[-] Training loss: 0.9486\n",
      "[-] Training accuracy: 0.78319208444901\n",
      "Validation loss: 1.3154\n",
      "Validation accuracy: 0.6225117096018735\n",
      "Current patience: 15, current trial: 3.\n",
      "Found new best model on dev set!\n"
     ]
    },
    {
     "name": "stderr",
     "output_type": "stream",
     "text": [
      "Epoch 42/300, current batch loss: 1.6824: 100%|██████████| 23/23 [00:03<00:00,  6.82it/s]\n"
     ]
    },
    {
     "name": "stdout",
     "output_type": "stream",
     "text": [
      "[-] Training loss: 0.9443\n",
      "[-] Training accuracy: 0.7769173362775766\n",
      "Validation loss: 1.3159\n",
      "Validation accuracy: 0.6254879000780641\n",
      "Current patience: 15, current trial: 3.\n"
     ]
    },
    {
     "name": "stderr",
     "output_type": "stream",
     "text": [
      "Epoch 43/300, current batch loss: 1.6731: 100%|██████████| 23/23 [00:03<00:00,  6.80it/s]\n"
     ]
    },
    {
     "name": "stdout",
     "output_type": "stream",
     "text": [
      "[-] Training loss: 0.9468\n",
      "[-] Training accuracy: 0.7863008887217738\n",
      "Validation loss: 1.3149\n",
      "Validation accuracy: 0.6225117096018735\n",
      "Current patience: 14, current trial: 3.\n",
      "Found new best model on dev set!\n"
     ]
    },
    {
     "name": "stderr",
     "output_type": "stream",
     "text": [
      "Epoch 44/300, current batch loss: 0.3837: 100%|██████████| 23/23 [00:03<00:00,  6.88it/s]\n"
     ]
    },
    {
     "name": "stdout",
     "output_type": "stream",
     "text": [
      "[-] Training loss: 0.9481\n",
      "[-] Training accuracy: 0.7838733066532984\n",
      "Validation loss: 1.3144\n",
      "Validation accuracy: 0.6366608118657299\n",
      "Current patience: 15, current trial: 3.\n",
      "Found new best model on dev set!\n"
     ]
    },
    {
     "name": "stderr",
     "output_type": "stream",
     "text": [
      "Epoch 45/300, current batch loss: 0.7341: 100%|██████████| 23/23 [00:03<00:00,  6.71it/s]\n"
     ]
    },
    {
     "name": "stdout",
     "output_type": "stream",
     "text": [
      "[-] Training loss: 0.9185\n",
      "[-] Training accuracy: 0.8022513201084629\n",
      "Validation loss: 1.3067\n",
      "Validation accuracy: 0.6500780640124902\n",
      "Current patience: 15, current trial: 3.\n",
      "Found new best model on dev set!\n"
     ]
    },
    {
     "name": "stderr",
     "output_type": "stream",
     "text": [
      "Epoch 46/300, current batch loss: 1.201: 100%|██████████| 23/23 [00:03<00:00,  6.72it/s] \n"
     ]
    },
    {
     "name": "stdout",
     "output_type": "stream",
     "text": [
      "[-] Training loss: 0.8859\n",
      "[-] Training accuracy: 0.7932220555565024\n",
      "Validation loss: 1.3068\n",
      "Validation accuracy: 0.6418813427010148\n",
      "Current patience: 15, current trial: 3.\n"
     ]
    },
    {
     "name": "stderr",
     "output_type": "stream",
     "text": [
      "Epoch 47/300, current batch loss: 1.2573: 100%|██████████| 23/23 [00:03<00:00,  6.78it/s]\n"
     ]
    },
    {
     "name": "stdout",
     "output_type": "stream",
     "text": [
      "[-] Training loss: 0.9047\n",
      "[-] Training accuracy: 0.8077278724307627\n",
      "Validation loss: 1.3064\n",
      "Validation accuracy: 0.6389051522248244\n",
      "Current patience: 14, current trial: 3.\n",
      "Found new best model on dev set!\n"
     ]
    },
    {
     "name": "stderr",
     "output_type": "stream",
     "text": [
      "Epoch 48/300, current batch loss: 0.9021: 100%|██████████| 23/23 [00:03<00:00,  6.76it/s]\n"
     ]
    },
    {
     "name": "stdout",
     "output_type": "stream",
     "text": [
      "[-] Training loss: 0.8951\n",
      "[-] Training accuracy: 0.8129492632083384\n",
      "Validation loss: 1.3011\n",
      "Validation accuracy: 0.6448575331772053\n",
      "Current patience: 15, current trial: 3.\n",
      "Found new best model on dev set!\n"
     ]
    },
    {
     "name": "stderr",
     "output_type": "stream",
     "text": [
      "Epoch 49/300, current batch loss: 1.2833: 100%|██████████| 23/23 [00:03<00:00,  6.71it/s]\n"
     ]
    },
    {
     "name": "stdout",
     "output_type": "stream",
     "text": [
      "[-] Training loss: 0.8969\n",
      "[-] Training accuracy: 0.823116684608302\n",
      "Validation loss: 1.3\n",
      "Validation accuracy: 0.6478337236533956\n",
      "Current patience: 15, current trial: 3.\n",
      "Found new best model on dev set!\n"
     ]
    },
    {
     "name": "stderr",
     "output_type": "stream",
     "text": [
      "Epoch 50/300, current batch loss: 0.477: 100%|██████████| 23/23 [00:03<00:00,  6.77it/s] \n"
     ]
    },
    {
     "name": "stdout",
     "output_type": "stream",
     "text": [
      "[-] Training loss: 0.8868\n",
      "[-] Training accuracy: 0.8016387856795611\n",
      "Validation loss: 1.2917\n",
      "Validation accuracy: 0.6619828259172521\n",
      "Current patience: 15, current trial: 3.\n",
      "Found new best model on dev set!\n"
     ]
    },
    {
     "name": "stderr",
     "output_type": "stream",
     "text": [
      "Epoch 51/300, current batch loss: 1.1568: 100%|██████████| 23/23 [00:03<00:00,  6.81it/s]\n"
     ]
    },
    {
     "name": "stdout",
     "output_type": "stream",
     "text": [
      "[-] Training loss: 0.858\n",
      "[-] Training accuracy: 0.824342720795039\n",
      "Validation loss: 1.2909\n",
      "Validation accuracy: 0.6530542544886807\n",
      "Current patience: 15, current trial: 3.\n",
      "Found new best model on dev set!\n"
     ]
    },
    {
     "name": "stderr",
     "output_type": "stream",
     "text": [
      "Epoch 52/300, current batch loss: 1.2412: 100%|██████████| 23/23 [00:03<00:00,  6.77it/s]\n"
     ]
    },
    {
     "name": "stdout",
     "output_type": "stream",
     "text": [
      "[-] Training loss: 0.8681\n",
      "[-] Training accuracy: 0.8050518768658542\n",
      "Validation loss: 1.2925\n",
      "Validation accuracy: 0.6366608118657299\n",
      "Current patience: 15, current trial: 3.\n"
     ]
    },
    {
     "name": "stderr",
     "output_type": "stream",
     "text": [
      "Epoch 53/300, current batch loss: 1.0911: 100%|██████████| 23/23 [00:03<00:00,  6.85it/s]\n"
     ]
    },
    {
     "name": "stdout",
     "output_type": "stream",
     "text": [
      "[-] Training loss: 0.8455\n",
      "[-] Training accuracy: 0.8245996240222706\n",
      "Validation loss: 1.2946\n",
      "Validation accuracy: 0.6336846213895394\n",
      "Current patience: 14, current trial: 3.\n"
     ]
    },
    {
     "name": "stderr",
     "output_type": "stream",
     "text": [
      "Epoch 54/300, current batch loss: 1.0364: 100%|██████████| 23/23 [00:03<00:00,  6.78it/s]\n"
     ]
    },
    {
     "name": "stdout",
     "output_type": "stream",
     "text": [
      "[-] Training loss: 0.8342\n",
      "[-] Training accuracy: 0.8218405424732962\n",
      "Validation loss: 1.287\n",
      "Validation accuracy: 0.6455893832943014\n",
      "Current patience: 13, current trial: 3.\n",
      "Found new best model on dev set!\n"
     ]
    },
    {
     "name": "stderr",
     "output_type": "stream",
     "text": [
      "Epoch 55/300, current batch loss: 0.8324: 100%|██████████| 23/23 [00:03<00:00,  6.59it/s]\n"
     ]
    },
    {
     "name": "stdout",
     "output_type": "stream",
     "text": [
      "[-] Training loss: 0.824\n",
      "[-] Training accuracy: 0.8448337955872005\n",
      "Validation loss: 1.277\n",
      "Validation accuracy: 0.6537861046057768\n",
      "Current patience: 15, current trial: 3.\n",
      "Found new best model on dev set!\n"
     ]
    },
    {
     "name": "stderr",
     "output_type": "stream",
     "text": [
      "Epoch 56/300, current batch loss: 1.2437: 100%|██████████| 23/23 [00:03<00:00,  6.74it/s]\n"
     ]
    },
    {
     "name": "stdout",
     "output_type": "stream",
     "text": [
      "[-] Training loss: 0.8097\n",
      "[-] Training accuracy: 0.8505222511539828\n",
      "Validation loss: 1.2844\n",
      "Validation accuracy: 0.6396370023419203\n",
      "Current patience: 15, current trial: 3.\n"
     ]
    },
    {
     "name": "stderr",
     "output_type": "stream",
     "text": [
      "Epoch 57/300, current batch loss: 1.1671: 100%|██████████| 23/23 [00:03<00:00,  6.72it/s]\n"
     ]
    },
    {
     "name": "stdout",
     "output_type": "stream",
     "text": [
      "[-] Training loss: 0.8262\n",
      "[-] Training accuracy: 0.8483278968558335\n",
      "Validation loss: 1.2914\n",
      "Validation accuracy: 0.6396370023419203\n",
      "Current patience: 14, current trial: 3.\n"
     ]
    },
    {
     "name": "stderr",
     "output_type": "stream",
     "text": [
      "Epoch 58/300, current batch loss: 0.3401: 100%|██████████| 23/23 [00:03<00:00,  6.76it/s]\n"
     ]
    },
    {
     "name": "stdout",
     "output_type": "stream",
     "text": [
      "[-] Training loss: 0.8234\n",
      "[-] Training accuracy: 0.8436877255912385\n",
      "Validation loss: 1.2874\n",
      "Validation accuracy: 0.6448575331772053\n",
      "Current patience: 13, current trial: 3.\n"
     ]
    },
    {
     "name": "stderr",
     "output_type": "stream",
     "text": [
      "Epoch 59/300, current batch loss: 1.0026: 100%|██████████| 23/23 [00:03<00:00,  6.85it/s]\n"
     ]
    },
    {
     "name": "stdout",
     "output_type": "stream",
     "text": [
      "[-] Training loss: 0.8009\n",
      "[-] Training accuracy: 0.8447279526564725\n",
      "Validation loss: 1.2827\n",
      "Validation accuracy: 0.6478337236533958\n",
      "Current patience: 12, current trial: 3.\n"
     ]
    },
    {
     "name": "stderr",
     "output_type": "stream",
     "text": [
      "Epoch 60/300, current batch loss: 0.5112: 100%|██████████| 23/23 [00:03<00:00,  6.64it/s]\n"
     ]
    },
    {
     "name": "stdout",
     "output_type": "stream",
     "text": [
      "[-] Training loss: 0.8\n",
      "[-] Training accuracy: 0.8569345238095238\n",
      "Validation loss: 1.2815\n",
      "Validation accuracy: 0.6478337236533958\n",
      "Current patience: 11, current trial: 3.\n"
     ]
    },
    {
     "name": "stderr",
     "output_type": "stream",
     "text": [
      "Epoch 61/300, current batch loss: 1.1231: 100%|██████████| 23/23 [00:03<00:00,  6.77it/s]\n"
     ]
    },
    {
     "name": "stdout",
     "output_type": "stream",
     "text": [
      "[-] Training loss: 0.7998\n",
      "[-] Training accuracy: 0.8457381423517417\n",
      "Validation loss: 1.2835\n",
      "Validation accuracy: 0.6478337236533956\n",
      "Current patience: 10, current trial: 3.\n"
     ]
    },
    {
     "name": "stderr",
     "output_type": "stream",
     "text": [
      "Epoch 62/300, current batch loss: 0.7062: 100%|██████████| 23/23 [00:03<00:00,  6.69it/s]\n"
     ]
    },
    {
     "name": "stdout",
     "output_type": "stream",
     "text": [
      "[-] Training loss: 0.7821\n",
      "[-] Training accuracy: 0.8469129554655871\n",
      "Validation loss: 1.2819\n",
      "Validation accuracy: 0.6508099141295863\n",
      "Current patience: 9, current trial: 3.\n"
     ]
    },
    {
     "name": "stderr",
     "output_type": "stream",
     "text": [
      "Epoch 63/300, current batch loss: 1.0329: 100%|██████████| 23/23 [00:03<00:00,  6.82it/s]\n"
     ]
    },
    {
     "name": "stdout",
     "output_type": "stream",
     "text": [
      "[-] Training loss: 0.7802\n",
      "[-] Training accuracy: 0.8631790292491742\n",
      "Validation loss: 1.2775\n",
      "Validation accuracy: 0.6537861046057768\n",
      "Current patience: 8, current trial: 3.\n"
     ]
    },
    {
     "name": "stderr",
     "output_type": "stream",
     "text": [
      "Epoch 64/300, current batch loss: 0.9317: 100%|██████████| 23/23 [00:03<00:00,  6.77it/s]\n"
     ]
    },
    {
     "name": "stdout",
     "output_type": "stream",
     "text": [
      "[-] Training loss: 0.7675\n",
      "[-] Training accuracy: 0.8642462040427897\n",
      "Validation loss: 1.2747\n",
      "Validation accuracy: 0.6537861046057768\n",
      "Current patience: 7, current trial: 3.\n",
      "Found new best model on dev set!\n"
     ]
    },
    {
     "name": "stderr",
     "output_type": "stream",
     "text": [
      "Epoch 65/300, current batch loss: 0.834: 100%|██████████| 23/23 [00:03<00:00,  6.64it/s] \n"
     ]
    },
    {
     "name": "stdout",
     "output_type": "stream",
     "text": [
      "[-] Training loss: 0.7761\n",
      "[-] Training accuracy: 0.8597287444389519\n",
      "Validation loss: 1.2735\n",
      "Validation accuracy: 0.6455893832943013\n",
      "Current patience: 15, current trial: 3.\n",
      "Found new best model on dev set!\n"
     ]
    },
    {
     "name": "stderr",
     "output_type": "stream",
     "text": [
      "Epoch 66/300, current batch loss: 0.3242: 100%|██████████| 23/23 [00:03<00:00,  6.68it/s]\n"
     ]
    },
    {
     "name": "stdout",
     "output_type": "stream",
     "text": [
      "[-] Training loss: 0.766\n",
      "[-] Training accuracy: 0.861195814959647\n",
      "Validation loss: 1.2804\n",
      "Validation accuracy: 0.6508099141295863\n",
      "Current patience: 15, current trial: 3.\n"
     ]
    },
    {
     "name": "stderr",
     "output_type": "stream",
     "text": [
      "Epoch 67/300, current batch loss: 0.938: 100%|██████████| 23/23 [00:03<00:00,  6.85it/s] \n"
     ]
    },
    {
     "name": "stdout",
     "output_type": "stream",
     "text": [
      "[-] Training loss: 0.7576\n",
      "[-] Training accuracy: 0.8551552763962728\n",
      "Validation loss: 1.2797\n",
      "Validation accuracy: 0.6455893832943014\n",
      "Current patience: 14, current trial: 3.\n"
     ]
    },
    {
     "name": "stderr",
     "output_type": "stream",
     "text": [
      "Epoch 68/300, current batch loss: 1.6251: 100%|██████████| 23/23 [00:03<00:00,  7.00it/s]\n"
     ]
    },
    {
     "name": "stdout",
     "output_type": "stream",
     "text": [
      "[-] Training loss: 0.7664\n",
      "[-] Training accuracy: 0.8633327534835589\n",
      "Validation loss: 1.276\n",
      "Validation accuracy: 0.6426131928181109\n",
      "Current patience: 13, current trial: 3.\n"
     ]
    },
    {
     "name": "stderr",
     "output_type": "stream",
     "text": [
      "Epoch 69/300, current batch loss: 1.1773: 100%|██████████| 23/23 [00:03<00:00,  6.72it/s]\n"
     ]
    },
    {
     "name": "stdout",
     "output_type": "stream",
     "text": [
      "[-] Training loss: 0.7522\n",
      "[-] Training accuracy: 0.8671710375993297\n",
      "Validation loss: 1.2724\n",
      "Validation accuracy: 0.6478337236533958\n",
      "Current patience: 12, current trial: 3.\n",
      "Found new best model on dev set!\n"
     ]
    },
    {
     "name": "stderr",
     "output_type": "stream",
     "text": [
      "Epoch 70/300, current batch loss: 0.624: 100%|██████████| 23/23 [00:03<00:00,  6.68it/s] \n"
     ]
    },
    {
     "name": "stdout",
     "output_type": "stream",
     "text": [
      "[-] Training loss: 0.7251\n",
      "[-] Training accuracy: 0.8839374028543169\n",
      "Validation loss: 1.2724\n",
      "Validation accuracy: 0.6478337236533958\n",
      "Current patience: 15, current trial: 3.\n",
      "Found new best model on dev set!\n"
     ]
    },
    {
     "name": "stderr",
     "output_type": "stream",
     "text": [
      "Epoch 71/300, current batch loss: 0.564: 100%|██████████| 23/23 [00:03<00:00,  6.73it/s] \n"
     ]
    },
    {
     "name": "stdout",
     "output_type": "stream",
     "text": [
      "[-] Training loss: 0.727\n",
      "[-] Training accuracy: 0.8786536972512582\n",
      "Validation loss: 1.2753\n",
      "Validation accuracy: 0.6448575331772053\n",
      "Current patience: 15, current trial: 3.\n"
     ]
    },
    {
     "name": "stderr",
     "output_type": "stream",
     "text": [
      "Epoch 72/300, current batch loss: 1.2437: 100%|██████████| 23/23 [00:03<00:00,  6.71it/s]\n"
     ]
    },
    {
     "name": "stdout",
     "output_type": "stream",
     "text": [
      "[-] Training loss: 0.7114\n",
      "[-] Training accuracy: 0.8717961478946417\n",
      "Validation loss: 1.2672\n",
      "Validation accuracy: 0.6560304449648713\n",
      "Current patience: 14, current trial: 3.\n",
      "Found new best model on dev set!\n"
     ]
    },
    {
     "name": "stderr",
     "output_type": "stream",
     "text": [
      "Epoch 73/300, current batch loss: 0.4265: 100%|██████████| 23/23 [00:03<00:00,  6.99it/s]\n"
     ]
    },
    {
     "name": "stdout",
     "output_type": "stream",
     "text": [
      "[-] Training loss: 0.708\n",
      "[-] Training accuracy: 0.8701231282818712\n",
      "Validation loss: 1.2691\n",
      "Validation accuracy: 0.6537861046057768\n",
      "Current patience: 15, current trial: 3.\n"
     ]
    },
    {
     "name": "stderr",
     "output_type": "stream",
     "text": [
      "Epoch 74/300, current batch loss: 1.0124: 100%|██████████| 23/23 [00:03<00:00,  6.61it/s]\n"
     ]
    },
    {
     "name": "stdout",
     "output_type": "stream",
     "text": [
      "[-] Training loss: 0.7088\n",
      "[-] Training accuracy: 0.8796485425853509\n",
      "Validation loss: 1.276\n",
      "Validation accuracy: 0.6537861046057767\n",
      "Current patience: 14, current trial: 3.\n"
     ]
    },
    {
     "name": "stderr",
     "output_type": "stream",
     "text": [
      "Epoch 75/300, current batch loss: 0.3183: 100%|██████████| 23/23 [00:03<00:00,  6.76it/s]\n"
     ]
    },
    {
     "name": "stdout",
     "output_type": "stream",
     "text": [
      "[-] Training loss: 0.7095\n",
      "[-] Training accuracy: 0.8718342366532412\n",
      "Validation loss: 1.2733\n",
      "Validation accuracy: 0.6597384855581578\n",
      "Current patience: 13, current trial: 3.\n"
     ]
    },
    {
     "name": "stderr",
     "output_type": "stream",
     "text": [
      "Epoch 76/300, current batch loss: 1.0147: 100%|██████████| 23/23 [00:03<00:00,  6.94it/s]\n"
     ]
    },
    {
     "name": "stdout",
     "output_type": "stream",
     "text": [
      "[-] Training loss: 0.6983\n",
      "[-] Training accuracy: 0.9014110980571526\n",
      "Validation loss: 1.2738\n",
      "Validation accuracy: 0.6537861046057767\n",
      "Current patience: 12, current trial: 3.\n"
     ]
    },
    {
     "name": "stderr",
     "output_type": "stream",
     "text": [
      "Epoch 77/300, current batch loss: 1.3736: 100%|██████████| 23/23 [00:03<00:00,  6.85it/s]\n"
     ]
    },
    {
     "name": "stdout",
     "output_type": "stream",
     "text": [
      "[-] Training loss: 0.7017\n",
      "[-] Training accuracy: 0.8941310882783655\n",
      "Validation loss: 1.2729\n",
      "Validation accuracy: 0.6403688524590164\n",
      "Current patience: 11, current trial: 3.\n"
     ]
    },
    {
     "name": "stderr",
     "output_type": "stream",
     "text": [
      "Epoch 78/300, current batch loss: 1.4213: 100%|██████████| 23/23 [00:03<00:00,  6.81it/s]\n"
     ]
    },
    {
     "name": "stdout",
     "output_type": "stream",
     "text": [
      "[-] Training loss: 0.6812\n",
      "[-] Training accuracy: 0.8821254571074867\n",
      "Validation loss: 1.2671\n",
      "Validation accuracy: 0.6433450429352068\n",
      "Current patience: 10, current trial: 3.\n",
      "Found new best model on dev set!\n"
     ]
    },
    {
     "name": "stderr",
     "output_type": "stream",
     "text": [
      "Epoch 79/300, current batch loss: 1.2222: 100%|██████████| 23/23 [00:03<00:00,  6.68it/s]\n"
     ]
    },
    {
     "name": "stdout",
     "output_type": "stream",
     "text": [
      "[-] Training loss: 0.6814\n",
      "[-] Training accuracy: 0.8940136554621848\n",
      "Validation loss: 1.2671\n",
      "Validation accuracy: 0.6656908665105387\n",
      "Current patience: 15, current trial: 3.\n"
     ]
    },
    {
     "name": "stderr",
     "output_type": "stream",
     "text": [
      "Epoch 80/300, current batch loss: 1.633: 100%|██████████| 23/23 [00:03<00:00,  6.70it/s] \n"
     ]
    },
    {
     "name": "stdout",
     "output_type": "stream",
     "text": [
      "[-] Training loss: 0.6756\n",
      "[-] Training accuracy: 0.882190936075923\n",
      "Validation loss: 1.2792\n",
      "Validation accuracy: 0.6515417642466823\n",
      "Current patience: 14, current trial: 3.\n"
     ]
    },
    {
     "name": "stderr",
     "output_type": "stream",
     "text": [
      "Epoch 81/300, current batch loss: 0.5683: 100%|██████████| 23/23 [00:03<00:00,  6.55it/s]\n"
     ]
    },
    {
     "name": "stdout",
     "output_type": "stream",
     "text": [
      "[-] Training loss: 0.6892\n",
      "[-] Training accuracy: 0.8919005102040817\n",
      "Validation loss: 1.2829\n",
      "Validation accuracy: 0.6463212334113974\n",
      "Current patience: 13, current trial: 3.\n"
     ]
    },
    {
     "name": "stderr",
     "output_type": "stream",
     "text": [
      "Epoch 82/300, current batch loss: 0.7438: 100%|██████████| 23/23 [00:03<00:00,  6.73it/s]\n"
     ]
    },
    {
     "name": "stdout",
     "output_type": "stream",
     "text": [
      "[-] Training loss: 0.66\n",
      "[-] Training accuracy: 0.9002799729623726\n",
      "Validation loss: 1.273\n",
      "Validation accuracy: 0.6515417642466823\n",
      "Current patience: 12, current trial: 3.\n"
     ]
    },
    {
     "name": "stderr",
     "output_type": "stream",
     "text": [
      "Epoch 83/300, current batch loss: 0.5583: 100%|██████████| 23/23 [00:03<00:00,  6.67it/s]\n"
     ]
    },
    {
     "name": "stdout",
     "output_type": "stream",
     "text": [
      "[-] Training loss: 0.6773\n",
      "[-] Training accuracy: 0.8908314080919376\n",
      "Validation loss: 1.2746\n",
      "Validation accuracy: 0.6463212334113972\n",
      "Current patience: 11, current trial: 3.\n"
     ]
    },
    {
     "name": "stderr",
     "output_type": "stream",
     "text": [
      "Epoch 84/300, current batch loss: 0.8417: 100%|██████████| 23/23 [00:03<00:00,  6.72it/s]\n"
     ]
    },
    {
     "name": "stdout",
     "output_type": "stream",
     "text": [
      "[-] Training loss: 0.6604\n",
      "[-] Training accuracy: 0.8971863695578031\n",
      "Validation loss: 1.2764\n",
      "Validation accuracy: 0.6545179547228728\n",
      "Current patience: 10, current trial: 3.\n"
     ]
    },
    {
     "name": "stderr",
     "output_type": "stream",
     "text": [
      "Epoch 85/300, current batch loss: 1.0526: 100%|██████████| 23/23 [00:03<00:00,  6.84it/s]\n"
     ]
    },
    {
     "name": "stdout",
     "output_type": "stream",
     "text": [
      "[-] Training loss: 0.6707\n",
      "[-] Training accuracy: 0.8896102255335125\n",
      "Validation loss: 1.2708\n",
      "Validation accuracy: 0.6515417642466823\n",
      "Current patience: 9, current trial: 3.\n"
     ]
    },
    {
     "name": "stderr",
     "output_type": "stream",
     "text": [
      "Epoch 86/300, current batch loss: 0.6281: 100%|██████████| 23/23 [00:03<00:00,  6.75it/s]\n"
     ]
    },
    {
     "name": "stdout",
     "output_type": "stream",
     "text": [
      "[-] Training loss: 0.6713\n",
      "[-] Training accuracy: 0.8935147573631671\n",
      "Validation loss: 1.2684\n",
      "Validation accuracy: 0.6627146760343482\n",
      "Current patience: 8, current trial: 3.\n"
     ]
    },
    {
     "name": "stderr",
     "output_type": "stream",
     "text": [
      "Epoch 87/300, current batch loss: 1.0116: 100%|██████████| 23/23 [00:03<00:00,  6.68it/s]\n"
     ]
    },
    {
     "name": "stdout",
     "output_type": "stream",
     "text": [
      "[-] Training loss: 0.6677\n",
      "[-] Training accuracy: 0.8910150249615976\n",
      "Validation loss: 1.2633\n",
      "Validation accuracy: 0.6567622950819673\n",
      "Current patience: 7, current trial: 3.\n",
      "Found new best model on dev set!\n"
     ]
    },
    {
     "name": "stderr",
     "output_type": "stream",
     "text": [
      "Epoch 88/300, current batch loss: 0.5696: 100%|██████████| 23/23 [00:03<00:00,  6.68it/s]\n"
     ]
    },
    {
     "name": "stdout",
     "output_type": "stream",
     "text": [
      "[-] Training loss: 0.6401\n",
      "[-] Training accuracy: 0.9049829707850554\n",
      "Validation loss: 1.2644\n",
      "Validation accuracy: 0.6537861046057768\n",
      "Current patience: 15, current trial: 3.\n"
     ]
    },
    {
     "name": "stderr",
     "output_type": "stream",
     "text": [
      "Epoch 89/300, current batch loss: 1.3004: 100%|██████████| 23/23 [00:03<00:00,  6.90it/s]\n"
     ]
    },
    {
     "name": "stdout",
     "output_type": "stream",
     "text": [
      "[-] Training loss: 0.6458\n",
      "[-] Training accuracy: 0.9028948616483631\n",
      "Validation loss: 1.2617\n",
      "Validation accuracy: 0.6649590163934426\n",
      "Current patience: 14, current trial: 3.\n",
      "Found new best model on dev set!\n"
     ]
    },
    {
     "name": "stderr",
     "output_type": "stream",
     "text": [
      "Epoch 90/300, current batch loss: 0.5845: 100%|██████████| 23/23 [00:03<00:00,  6.73it/s]\n"
     ]
    },
    {
     "name": "stdout",
     "output_type": "stream",
     "text": [
      "[-] Training loss: 0.6424\n",
      "[-] Training accuracy: 0.8982564091626499\n",
      "Validation loss: 1.2645\n",
      "Validation accuracy: 0.6515417642466822\n",
      "Current patience: 15, current trial: 3.\n"
     ]
    },
    {
     "name": "stderr",
     "output_type": "stream",
     "text": [
      "Epoch 91/300, current batch loss: 0.895: 100%|██████████| 23/23 [00:03<00:00,  6.79it/s] \n"
     ]
    },
    {
     "name": "stdout",
     "output_type": "stream",
     "text": [
      "[-] Training loss: 0.6602\n",
      "[-] Training accuracy: 0.9099108990329801\n",
      "Validation loss: 1.2599\n",
      "Validation accuracy: 0.6433450429352068\n",
      "Current patience: 14, current trial: 3.\n",
      "Found new best model on dev set!\n"
     ]
    },
    {
     "name": "stderr",
     "output_type": "stream",
     "text": [
      "Epoch 92/300, current batch loss: 0.8215: 100%|██████████| 23/23 [00:03<00:00,  6.73it/s]\n"
     ]
    },
    {
     "name": "stdout",
     "output_type": "stream",
     "text": [
      "[-] Training loss: 0.6264\n",
      "[-] Training accuracy: 0.9029332780443496\n",
      "Validation loss: 1.2688\n",
      "Validation accuracy: 0.6433450429352068\n",
      "Current patience: 15, current trial: 3.\n"
     ]
    },
    {
     "name": "stderr",
     "output_type": "stream",
     "text": [
      "Epoch 93/300, current batch loss: 0.7416: 100%|██████████| 23/23 [00:03<00:00,  6.53it/s]\n"
     ]
    },
    {
     "name": "stdout",
     "output_type": "stream",
     "text": [
      "[-] Training loss: 0.6187\n",
      "[-] Training accuracy: 0.8919619900012058\n",
      "Validation loss: 1.2507\n",
      "Validation accuracy: 0.6463212334113974\n",
      "Current patience: 14, current trial: 3.\n",
      "Found new best model on dev set!\n"
     ]
    },
    {
     "name": "stderr",
     "output_type": "stream",
     "text": [
      "Epoch 94/300, current batch loss: 1.0649: 100%|██████████| 23/23 [00:03<00:00,  6.81it/s]\n"
     ]
    },
    {
     "name": "stdout",
     "output_type": "stream",
     "text": [
      "[-] Training loss: 0.5972\n",
      "[-] Training accuracy: 0.9140311191006597\n",
      "Validation loss: 1.2514\n",
      "Validation accuracy: 0.632172131147541\n",
      "Current patience: 15, current trial: 3.\n"
     ]
    },
    {
     "name": "stderr",
     "output_type": "stream",
     "text": [
      "Epoch 95/300, current batch loss: 0.4536: 100%|██████████| 23/23 [00:03<00:00,  6.65it/s]\n"
     ]
    },
    {
     "name": "stdout",
     "output_type": "stream",
     "text": [
      "[-] Training loss: 0.6211\n",
      "[-] Training accuracy: 0.90575691206255\n",
      "Validation loss: 1.2566\n",
      "Validation accuracy: 0.632172131147541\n",
      "Current patience: 14, current trial: 3.\n"
     ]
    },
    {
     "name": "stderr",
     "output_type": "stream",
     "text": [
      "Epoch 96/300, current batch loss: 0.9129: 100%|██████████| 23/23 [00:03<00:00,  6.68it/s]\n"
     ]
    },
    {
     "name": "stdout",
     "output_type": "stream",
     "text": [
      "[-] Training loss: 0.6161\n",
      "[-] Training accuracy: 0.9188287202993086\n",
      "Validation loss: 1.2496\n",
      "Validation accuracy: 0.6492974238875878\n",
      "Current patience: 13, current trial: 3.\n",
      "Found new best model on dev set!\n"
     ]
    },
    {
     "name": "stderr",
     "output_type": "stream",
     "text": [
      "Epoch 97/300, current batch loss: 0.8839: 100%|██████████| 23/23 [00:03<00:00,  6.22it/s]\n"
     ]
    },
    {
     "name": "stdout",
     "output_type": "stream",
     "text": [
      "[-] Training loss: 0.6271\n",
      "[-] Training accuracy: 0.9068793511350052\n",
      "Validation loss: 1.2534\n",
      "Validation accuracy: 0.6604703356752537\n",
      "Current patience: 15, current trial: 3.\n"
     ]
    },
    {
     "name": "stderr",
     "output_type": "stream",
     "text": [
      "Epoch 98/300, current batch loss: 0.7014: 100%|██████████| 23/23 [00:03<00:00,  6.52it/s]\n"
     ]
    },
    {
     "name": "stdout",
     "output_type": "stream",
     "text": [
      "[-] Training loss: 0.626\n",
      "[-] Training accuracy: 0.8995634289751936\n",
      "Validation loss: 1.2534\n",
      "Validation accuracy: 0.6522736143637783\n",
      "Current patience: 14, current trial: 3.\n"
     ]
    },
    {
     "name": "stderr",
     "output_type": "stream",
     "text": [
      "Epoch 99/300, current batch loss: 1.2279: 100%|██████████| 23/23 [00:03<00:00,  6.59it/s]\n"
     ]
    },
    {
     "name": "stdout",
     "output_type": "stream",
     "text": [
      "[-] Training loss: 0.6141\n",
      "[-] Training accuracy: 0.9129946850535084\n",
      "Validation loss: 1.2579\n",
      "Validation accuracy: 0.6351483216237315\n",
      "Current patience: 13, current trial: 3.\n"
     ]
    },
    {
     "name": "stderr",
     "output_type": "stream",
     "text": [
      "Epoch 100/300, current batch loss: 1.0087: 100%|██████████| 23/23 [00:03<00:00,  6.45it/s]\n"
     ]
    },
    {
     "name": "stdout",
     "output_type": "stream",
     "text": [
      "[-] Training loss: 0.598\n",
      "[-] Training accuracy: 0.9150741405391725\n",
      "Validation loss: 1.2491\n",
      "Validation accuracy: 0.6433450429352069\n",
      "Current patience: 12, current trial: 3.\n",
      "Found new best model on dev set!\n"
     ]
    },
    {
     "name": "stderr",
     "output_type": "stream",
     "text": [
      "Epoch 101/300, current batch loss: 0.729: 100%|██████████| 23/23 [00:03<00:00,  6.70it/s] \n"
     ]
    },
    {
     "name": "stdout",
     "output_type": "stream",
     "text": [
      "[-] Training loss: 0.6143\n",
      "[-] Training accuracy: 0.9109690595920278\n",
      "Validation loss: 1.2527\n",
      "Validation accuracy: 0.6485655737704918\n",
      "Current patience: 15, current trial: 3.\n"
     ]
    },
    {
     "name": "stderr",
     "output_type": "stream",
     "text": [
      "Epoch 102/300, current batch loss: 0.6727: 100%|██████████| 23/23 [00:03<00:00,  6.19it/s]\n"
     ]
    },
    {
     "name": "stdout",
     "output_type": "stream",
     "text": [
      "[-] Training loss: 0.6221\n",
      "[-] Training accuracy: 0.9121684964308302\n",
      "Validation loss: 1.2524\n",
      "Validation accuracy: 0.6492974238875877\n",
      "Current patience: 14, current trial: 3.\n"
     ]
    },
    {
     "name": "stderr",
     "output_type": "stream",
     "text": [
      "Epoch 103/300, current batch loss: 0.8076: 100%|██████████| 23/23 [00:03<00:00,  6.63it/s]\n"
     ]
    },
    {
     "name": "stdout",
     "output_type": "stream",
     "text": [
      "[-] Training loss: 0.5766\n",
      "[-] Training accuracy: 0.9153029448252246\n",
      "Validation loss: 1.2618\n",
      "Validation accuracy: 0.632172131147541\n",
      "Current patience: 13, current trial: 3.\n"
     ]
    },
    {
     "name": "stderr",
     "output_type": "stream",
     "text": [
      "Epoch 104/300, current batch loss: 0.6157: 100%|██████████| 23/23 [00:04<00:00,  5.63it/s]\n"
     ]
    },
    {
     "name": "stdout",
     "output_type": "stream",
     "text": [
      "[-] Training loss: 0.5708\n",
      "[-] Training accuracy: 0.9229688385822923\n",
      "Validation loss: 1.2623\n",
      "Validation accuracy: 0.6463212334113972\n",
      "Current patience: 12, current trial: 3.\n"
     ]
    },
    {
     "name": "stderr",
     "output_type": "stream",
     "text": [
      "Epoch 105/300, current batch loss: 0.7702: 100%|██████████| 23/23 [00:03<00:00,  6.57it/s]\n"
     ]
    },
    {
     "name": "stdout",
     "output_type": "stream",
     "text": [
      "[-] Training loss: 0.5923\n",
      "[-] Training accuracy: 0.9093766555734101\n",
      "Validation loss: 1.2624\n",
      "Validation accuracy: 0.6515417642466822\n",
      "Current patience: 11, current trial: 3.\n"
     ]
    },
    {
     "name": "stderr",
     "output_type": "stream",
     "text": [
      "Epoch 106/300, current batch loss: 0.9816: 100%|██████████| 23/23 [00:03<00:00,  6.72it/s]\n"
     ]
    },
    {
     "name": "stdout",
     "output_type": "stream",
     "text": [
      "[-] Training loss: 0.6083\n",
      "[-] Training accuracy: 0.9125085733882031\n",
      "Validation loss: 1.2613\n",
      "Validation accuracy: 0.6545179547228728\n",
      "Current patience: 10, current trial: 3.\n"
     ]
    },
    {
     "name": "stderr",
     "output_type": "stream",
     "text": [
      "Epoch 107/300, current batch loss: 0.7884: 100%|██████████| 23/23 [00:03<00:00,  6.36it/s]\n"
     ]
    },
    {
     "name": "stdout",
     "output_type": "stream",
     "text": [
      "[-] Training loss: 0.5994\n",
      "[-] Training accuracy: 0.920619572657326\n",
      "Validation loss: 1.2631\n",
      "Validation accuracy: 0.6403688524590164\n",
      "Current patience: 9, current trial: 3.\n"
     ]
    },
    {
     "name": "stderr",
     "output_type": "stream",
     "text": [
      "Epoch 108/300, current batch loss: 1.2247: 100%|██████████| 23/23 [00:04<00:00,  5.46it/s]\n"
     ]
    },
    {
     "name": "stdout",
     "output_type": "stream",
     "text": [
      "[-] Training loss: 0.5705\n",
      "[-] Training accuracy: 0.9209054251071056\n",
      "Validation loss: 1.2705\n",
      "Validation accuracy: 0.6321721311475409\n",
      "Current patience: 8, current trial: 3.\n"
     ]
    },
    {
     "name": "stderr",
     "output_type": "stream",
     "text": [
      "Epoch 109/300, current batch loss: 0.8511: 100%|██████████| 23/23 [00:03<00:00,  6.37it/s]\n"
     ]
    },
    {
     "name": "stdout",
     "output_type": "stream",
     "text": [
      "[-] Training loss: 0.5592\n",
      "[-] Training accuracy: 0.9323903320193327\n",
      "Validation loss: 1.2735\n",
      "Validation accuracy: 0.6381245120999219\n",
      "Current patience: 7, current trial: 3.\n"
     ]
    },
    {
     "name": "stderr",
     "output_type": "stream",
     "text": [
      "Epoch 110/300, current batch loss: 1.1698: 100%|██████████| 23/23 [00:03<00:00,  6.42it/s]\n"
     ]
    },
    {
     "name": "stdout",
     "output_type": "stream",
     "text": [
      "[-] Training loss: 0.5873\n",
      "[-] Training accuracy: 0.913865201592448\n",
      "Validation loss: 1.2709\n",
      "Validation accuracy: 0.6522736143637784\n",
      "Current patience: 6, current trial: 3.\n"
     ]
    },
    {
     "name": "stderr",
     "output_type": "stream",
     "text": [
      "Epoch 111/300, current batch loss: 0.7856: 100%|██████████| 23/23 [00:03<00:00,  6.43it/s]\n"
     ]
    },
    {
     "name": "stdout",
     "output_type": "stream",
     "text": [
      "[-] Training loss: 0.5834\n",
      "[-] Training accuracy: 0.9262904331857222\n",
      "Validation loss: 1.2661\n",
      "Validation accuracy: 0.6381245120999219\n",
      "Current patience: 5, current trial: 3.\n"
     ]
    },
    {
     "name": "stderr",
     "output_type": "stream",
     "text": [
      "Epoch 112/300, current batch loss: 0.8127: 100%|██████████| 23/23 [00:03<00:00,  6.58it/s]\n"
     ]
    },
    {
     "name": "stdout",
     "output_type": "stream",
     "text": [
      "[-] Training loss: 0.5733\n",
      "[-] Training accuracy: 0.9195315792642543\n",
      "Validation loss: 1.2557\n",
      "Validation accuracy: 0.6440768930523029\n",
      "Current patience: 4, current trial: 3.\n"
     ]
    },
    {
     "name": "stderr",
     "output_type": "stream",
     "text": [
      "Epoch 113/300, current batch loss: 0.911: 100%|██████████| 23/23 [00:03<00:00,  6.27it/s] \n"
     ]
    },
    {
     "name": "stdout",
     "output_type": "stream",
     "text": [
      "[-] Training loss: 0.5771\n",
      "[-] Training accuracy: 0.9358275442601578\n",
      "Validation loss: 1.2557\n",
      "Validation accuracy: 0.6381245120999219\n",
      "Current patience: 3, current trial: 3.\n"
     ]
    },
    {
     "name": "stderr",
     "output_type": "stream",
     "text": [
      "Epoch 114/300, current batch loss: 0.4304: 100%|██████████| 23/23 [00:03<00:00,  6.52it/s]\n"
     ]
    },
    {
     "name": "stdout",
     "output_type": "stream",
     "text": [
      "[-] Training loss: 0.5914\n",
      "[-] Training accuracy: 0.9115704500978473\n",
      "Validation loss: 1.2702\n",
      "Validation accuracy: 0.6381245120999219\n",
      "Current patience: 2, current trial: 3.\n"
     ]
    },
    {
     "name": "stderr",
     "output_type": "stream",
     "text": [
      "Epoch 115/300, current batch loss: 1.0745: 100%|██████████| 23/23 [00:03<00:00,  6.66it/s]\n"
     ]
    },
    {
     "name": "stdout",
     "output_type": "stream",
     "text": [
      "[-] Training loss: 0.5868\n",
      "[-] Training accuracy: 0.9200163755614376\n",
      "Validation loss: 1.2715\n",
      "Validation accuracy: 0.6403688524590164\n",
      "Current patience: 1, current trial: 3.\n"
     ]
    },
    {
     "name": "stderr",
     "output_type": "stream",
     "text": [
      "Epoch 116/300, current batch loss: 0.4382: 100%|██████████| 23/23 [00:03<00:00,  6.55it/s]\n"
     ]
    },
    {
     "name": "stdout",
     "output_type": "stream",
     "text": [
      "[-] Training loss: 0.5532\n",
      "[-] Training accuracy: 0.915474998808332\n",
      "Validation loss: 1.2452\n",
      "Validation accuracy: 0.6492974238875878\n",
      "Current patience: 0, current trial: 3.\n",
      "Found new best model on dev set!\n"
     ]
    },
    {
     "name": "stderr",
     "output_type": "stream",
     "text": [
      "Epoch 117/300, current batch loss: 0.7559: 100%|██████████| 23/23 [00:03<00:00,  6.69it/s]\n"
     ]
    },
    {
     "name": "stdout",
     "output_type": "stream",
     "text": [
      "[-] Training loss: 0.5605\n",
      "[-] Training accuracy: 0.928797704852692\n",
      "Validation loss: 1.2485\n",
      "Validation accuracy: 0.6492974238875878\n",
      "Current patience: 15, current trial: 3.\n"
     ]
    },
    {
     "name": "stderr",
     "output_type": "stream",
     "text": [
      "Epoch 118/300, current batch loss: 1.0531: 100%|██████████| 23/23 [00:03<00:00,  6.54it/s]\n"
     ]
    },
    {
     "name": "stdout",
     "output_type": "stream",
     "text": [
      "[-] Training loss: 0.5556\n",
      "[-] Training accuracy: 0.9318260265566676\n",
      "Validation loss: 1.2599\n",
      "Validation accuracy: 0.6485655737704918\n",
      "Current patience: 14, current trial: 3.\n"
     ]
    },
    {
     "name": "stderr",
     "output_type": "stream",
     "text": [
      "Epoch 119/300, current batch loss: 0.5156: 100%|██████████| 23/23 [00:03<00:00,  6.55it/s]\n"
     ]
    },
    {
     "name": "stdout",
     "output_type": "stream",
     "text": [
      "[-] Training loss: 0.5522\n",
      "[-] Training accuracy: 0.9196536175445787\n",
      "Validation loss: 1.2638\n",
      "Validation accuracy: 0.637392661982826\n",
      "Current patience: 13, current trial: 3.\n"
     ]
    },
    {
     "name": "stderr",
     "output_type": "stream",
     "text": [
      "Epoch 120/300, current batch loss: 0.7749: 100%|██████████| 23/23 [00:03<00:00,  6.40it/s]\n"
     ]
    },
    {
     "name": "stdout",
     "output_type": "stream",
     "text": [
      "[-] Training loss: 0.5292\n",
      "[-] Training accuracy: 0.9301932939347848\n",
      "Validation loss: 1.2634\n",
      "Validation accuracy: 0.6180230288836847\n",
      "Current patience: 12, current trial: 3.\n"
     ]
    },
    {
     "name": "stderr",
     "output_type": "stream",
     "text": [
      "Epoch 121/300, current batch loss: 0.8725: 100%|██████████| 23/23 [00:03<00:00,  6.52it/s]\n"
     ]
    },
    {
     "name": "stdout",
     "output_type": "stream",
     "text": [
      "[-] Training loss: 0.5669\n",
      "[-] Training accuracy: 0.9210887275353242\n",
      "Validation loss: 1.2647\n",
      "Validation accuracy: 0.637392661982826\n",
      "Current patience: 11, current trial: 3.\n"
     ]
    },
    {
     "name": "stderr",
     "output_type": "stream",
     "text": [
      "Epoch 122/300, current batch loss: 0.6861: 100%|██████████| 23/23 [00:03<00:00,  6.43it/s]\n"
     ]
    },
    {
     "name": "stdout",
     "output_type": "stream",
     "text": [
      "[-] Training loss: 0.5536\n",
      "[-] Training accuracy: 0.9267684794124903\n",
      "Validation loss: 1.2627\n",
      "Validation accuracy: 0.632172131147541\n",
      "Current patience: 10, current trial: 3.\n"
     ]
    },
    {
     "name": "stderr",
     "output_type": "stream",
     "text": [
      "Epoch 123/300, current batch loss: 0.6636: 100%|██████████| 23/23 [00:03<00:00,  6.68it/s]\n"
     ]
    },
    {
     "name": "stdout",
     "output_type": "stream",
     "text": [
      "[-] Training loss: 0.5493\n",
      "[-] Training accuracy: 0.9270902555216282\n",
      "Validation loss: 1.2622\n",
      "Validation accuracy: 0.6411007025761125\n",
      "Current patience: 9, current trial: 3.\n"
     ]
    },
    {
     "name": "stderr",
     "output_type": "stream",
     "text": [
      "Epoch 124/300, current batch loss: 0.6499: 100%|██████████| 23/23 [00:03<00:00,  6.40it/s]\n"
     ]
    },
    {
     "name": "stdout",
     "output_type": "stream",
     "text": [
      "[-] Training loss: 0.5394\n",
      "[-] Training accuracy: 0.920641201686154\n",
      "Validation loss: 1.2579\n",
      "Validation accuracy: 0.6411007025761125\n",
      "Current patience: 8, current trial: 3.\n"
     ]
    },
    {
     "name": "stderr",
     "output_type": "stream",
     "text": [
      "Epoch 125/300, current batch loss: 0.4652: 100%|██████████| 23/23 [00:03<00:00,  6.51it/s]\n"
     ]
    },
    {
     "name": "stdout",
     "output_type": "stream",
     "text": [
      "[-] Training loss: 0.5353\n",
      "[-] Training accuracy: 0.9292515935293301\n",
      "Validation loss: 1.2591\n",
      "Validation accuracy: 0.6403688524590163\n",
      "Current patience: 7, current trial: 3.\n"
     ]
    },
    {
     "name": "stderr",
     "output_type": "stream",
     "text": [
      "Epoch 126/300, current batch loss: 0.9883: 100%|██████████| 23/23 [00:03<00:00,  6.78it/s]\n"
     ]
    },
    {
     "name": "stdout",
     "output_type": "stream",
     "text": [
      "[-] Training loss: 0.5701\n",
      "[-] Training accuracy: 0.9168040911562954\n",
      "Validation loss: 1.2681\n",
      "Validation accuracy: 0.6403688524590164\n",
      "Current patience: 6, current trial: 3.\n"
     ]
    },
    {
     "name": "stderr",
     "output_type": "stream",
     "text": [
      "Epoch 127/300, current batch loss: 0.6677: 100%|██████████| 23/23 [00:03<00:00,  6.67it/s]\n"
     ]
    },
    {
     "name": "stdout",
     "output_type": "stream",
     "text": [
      "[-] Training loss: 0.5605\n",
      "[-] Training accuracy: 0.921165257810923\n",
      "Validation loss: 1.2649\n",
      "Validation accuracy: 0.6455893832943014\n",
      "Current patience: 5, current trial: 3.\n"
     ]
    },
    {
     "name": "stderr",
     "output_type": "stream",
     "text": [
      "Epoch 128/300, current batch loss: 0.8712: 100%|██████████| 23/23 [00:03<00:00,  6.82it/s]\n"
     ]
    },
    {
     "name": "stdout",
     "output_type": "stream",
     "text": [
      "[-] Training loss: 0.543\n",
      "[-] Training accuracy: 0.9303900240299166\n",
      "Validation loss: 1.2595\n",
      "Validation accuracy: 0.637392661982826\n",
      "Current patience: 4, current trial: 3.\n"
     ]
    },
    {
     "name": "stderr",
     "output_type": "stream",
     "text": [
      "Epoch 129/300, current batch loss: 0.7944: 100%|██████████| 23/23 [00:03<00:00,  6.72it/s]\n"
     ]
    },
    {
     "name": "stdout",
     "output_type": "stream",
     "text": [
      "[-] Training loss: 0.5378\n",
      "[-] Training accuracy: 0.9372084456942738\n",
      "Validation loss: 1.257\n",
      "Validation accuracy: 0.6373926619828258\n",
      "Current patience: 3, current trial: 3.\n"
     ]
    },
    {
     "name": "stderr",
     "output_type": "stream",
     "text": [
      "Epoch 130/300, current batch loss: 0.6397: 100%|██████████| 23/23 [00:03<00:00,  7.06it/s]\n"
     ]
    },
    {
     "name": "stdout",
     "output_type": "stream",
     "text": [
      "[-] Training loss: 0.5124\n",
      "[-] Training accuracy: 0.9277729024099088\n",
      "Validation loss: 1.2626\n",
      "Validation accuracy: 0.6455893832943013\n",
      "Current patience: 2, current trial: 3.\n"
     ]
    },
    {
     "name": "stderr",
     "output_type": "stream",
     "text": [
      "Epoch 131/300, current batch loss: 0.545: 100%|██████████| 23/23 [00:03<00:00,  6.87it/s] \n"
     ]
    },
    {
     "name": "stdout",
     "output_type": "stream",
     "text": [
      "[-] Training loss: 0.5262\n",
      "[-] Training accuracy: 0.9453412944125017\n",
      "Validation loss: 1.2581\n",
      "Validation accuracy: 0.6403688524590163\n",
      "Current patience: 1, current trial: 3.\n"
     ]
    },
    {
     "name": "stderr",
     "output_type": "stream",
     "text": [
      "Epoch 132/300, current batch loss: 1.1136: 100%|██████████| 23/23 [00:03<00:00,  6.84it/s]\n"
     ]
    },
    {
     "name": "stdout",
     "output_type": "stream",
     "text": [
      "[-] Training loss: 0.5484\n",
      "[-] Training accuracy: 0.9236887809260578\n",
      "Validation loss: 1.267\n",
      "Validation accuracy: 0.6344164715066354\n",
      "Current patience: 0, current trial: 3.\n",
      "Running out of patience, loading previous best model.\n",
      "Current learning rate: 3e-06\n"
     ]
    },
    {
     "name": "stderr",
     "output_type": "stream",
     "text": [
      "Epoch 133/300, current batch loss: 0.4814: 100%|██████████| 23/23 [00:03<00:00,  6.80it/s]\n"
     ]
    },
    {
     "name": "stdout",
     "output_type": "stream",
     "text": [
      "[-] Training loss: 0.5692\n",
      "[-] Training accuracy: 0.9203517649359538\n",
      "Validation loss: 1.2543\n",
      "Validation accuracy: 0.6463212334113974\n",
      "Current patience: 15, current trial: 2.\n"
     ]
    },
    {
     "name": "stderr",
     "output_type": "stream",
     "text": [
      "Epoch 134/300, current batch loss: 0.7992: 100%|██████████| 23/23 [00:03<00:00,  6.66it/s]\n"
     ]
    },
    {
     "name": "stdout",
     "output_type": "stream",
     "text": [
      "[-] Training loss: 0.5653\n",
      "[-] Training accuracy: 0.9242701145498848\n",
      "Validation loss: 1.2579\n",
      "Validation accuracy: 0.6411007025761124\n",
      "Current patience: 14, current trial: 2.\n"
     ]
    },
    {
     "name": "stderr",
     "output_type": "stream",
     "text": [
      "Epoch 135/300, current batch loss: 0.4982: 100%|██████████| 23/23 [00:03<00:00,  6.92it/s]\n"
     ]
    },
    {
     "name": "stdout",
     "output_type": "stream",
     "text": [
      "[-] Training loss: 0.5626\n",
      "[-] Training accuracy: 0.9353012263220623\n",
      "Validation loss: 1.2591\n",
      "Validation accuracy: 0.6492974238875878\n",
      "Current patience: 13, current trial: 2.\n"
     ]
    },
    {
     "name": "stderr",
     "output_type": "stream",
     "text": [
      "Epoch 136/300, current batch loss: 0.8413: 100%|██████████| 23/23 [00:03<00:00,  6.89it/s]\n"
     ]
    },
    {
     "name": "stdout",
     "output_type": "stream",
     "text": [
      "[-] Training loss: 0.5615\n",
      "[-] Training accuracy: 0.9273237413574837\n",
      "Validation loss: 1.2613\n",
      "Validation accuracy: 0.6351483216237315\n",
      "Current patience: 12, current trial: 2.\n"
     ]
    },
    {
     "name": "stderr",
     "output_type": "stream",
     "text": [
      "Epoch 137/300, current batch loss: 1.0205: 100%|██████████| 23/23 [00:03<00:00,  7.07it/s]\n"
     ]
    },
    {
     "name": "stdout",
     "output_type": "stream",
     "text": [
      "[-] Training loss: 0.575\n",
      "[-] Training accuracy: 0.9275694554551379\n",
      "Validation loss: 1.2517\n",
      "Validation accuracy: 0.6463212334113974\n",
      "Current patience: 11, current trial: 2.\n"
     ]
    },
    {
     "name": "stderr",
     "output_type": "stream",
     "text": [
      "Epoch 138/300, current batch loss: 0.9397: 100%|██████████| 23/23 [00:03<00:00,  6.28it/s]\n"
     ]
    },
    {
     "name": "stdout",
     "output_type": "stream",
     "text": [
      "[-] Training loss: 0.5665\n",
      "[-] Training accuracy: 0.934706623033829\n",
      "Validation loss: 1.258\n",
      "Validation accuracy: 0.6433450429352068\n",
      "Current patience: 10, current trial: 2.\n"
     ]
    },
    {
     "name": "stderr",
     "output_type": "stream",
     "text": [
      "Epoch 139/300, current batch loss: 0.7269: 100%|██████████| 23/23 [00:03<00:00,  6.63it/s]\n"
     ]
    },
    {
     "name": "stdout",
     "output_type": "stream",
     "text": [
      "[-] Training loss: 0.5715\n",
      "[-] Training accuracy: 0.9114836221902043\n",
      "Validation loss: 1.2558\n",
      "Validation accuracy: 0.6433450429352068\n",
      "Current patience: 9, current trial: 2.\n"
     ]
    },
    {
     "name": "stderr",
     "output_type": "stream",
     "text": [
      "Epoch 140/300, current batch loss: 0.9413: 100%|██████████| 23/23 [00:03<00:00,  6.80it/s]\n"
     ]
    },
    {
     "name": "stdout",
     "output_type": "stream",
     "text": [
      "[-] Training loss: 0.5645\n",
      "[-] Training accuracy: 0.9238445378151261\n",
      "Validation loss: 1.2596\n",
      "Validation accuracy: 0.6433450429352069\n",
      "Current patience: 8, current trial: 2.\n"
     ]
    },
    {
     "name": "stderr",
     "output_type": "stream",
     "text": [
      "Epoch 141/300, current batch loss: 0.3949: 100%|██████████| 23/23 [00:03<00:00,  6.80it/s]\n"
     ]
    },
    {
     "name": "stdout",
     "output_type": "stream",
     "text": [
      "[-] Training loss: 0.551\n",
      "[-] Training accuracy: 0.9345148138306707\n",
      "Validation loss: 1.2642\n",
      "Validation accuracy: 0.6351483216237315\n",
      "Current patience: 7, current trial: 2.\n"
     ]
    },
    {
     "name": "stderr",
     "output_type": "stream",
     "text": [
      "Epoch 142/300, current batch loss: 0.7083: 100%|██████████| 23/23 [00:03<00:00,  6.11it/s]\n"
     ]
    },
    {
     "name": "stdout",
     "output_type": "stream",
     "text": [
      "[-] Training loss: 0.5691\n",
      "[-] Training accuracy: 0.9196803234912642\n",
      "Validation loss: 1.2529\n",
      "Validation accuracy: 0.6463212334113972\n",
      "Current patience: 6, current trial: 2.\n"
     ]
    },
    {
     "name": "stderr",
     "output_type": "stream",
     "text": [
      "Epoch 143/300, current batch loss: 0.4375: 100%|██████████| 23/23 [00:03<00:00,  5.76it/s]\n"
     ]
    },
    {
     "name": "stdout",
     "output_type": "stream",
     "text": [
      "[-] Training loss: 0.557\n",
      "[-] Training accuracy: 0.9170599170599172\n",
      "Validation loss: 1.2631\n",
      "Validation accuracy: 0.6381245120999219\n",
      "Current patience: 5, current trial: 2.\n"
     ]
    },
    {
     "name": "stderr",
     "output_type": "stream",
     "text": [
      "Epoch 144/300, current batch loss: 0.7214: 100%|██████████| 23/23 [00:03<00:00,  6.78it/s]\n"
     ]
    },
    {
     "name": "stdout",
     "output_type": "stream",
     "text": [
      "[-] Training loss: 0.5646\n",
      "[-] Training accuracy: 0.9322352798987613\n",
      "Validation loss: 1.2532\n",
      "Validation accuracy: 0.6463212334113974\n",
      "Current patience: 4, current trial: 2.\n"
     ]
    },
    {
     "name": "stderr",
     "output_type": "stream",
     "text": [
      "Epoch 145/300, current batch loss: 0.9363: 100%|██████████| 23/23 [00:03<00:00,  6.77it/s]\n"
     ]
    },
    {
     "name": "stdout",
     "output_type": "stream",
     "text": [
      "[-] Training loss: 0.5495\n",
      "[-] Training accuracy: 0.9221469368528191\n",
      "Validation loss: 1.2621\n",
      "Validation accuracy: 0.6381245120999219\n",
      "Current patience: 3, current trial: 2.\n"
     ]
    },
    {
     "name": "stderr",
     "output_type": "stream",
     "text": [
      "Epoch 146/300, current batch loss: 1.2808: 100%|██████████| 23/23 [00:03<00:00,  6.75it/s]\n"
     ]
    },
    {
     "name": "stdout",
     "output_type": "stream",
     "text": [
      "[-] Training loss: 0.5518\n",
      "[-] Training accuracy: 0.9308264887063656\n",
      "Validation loss: 1.2628\n",
      "Validation accuracy: 0.6351483216237315\n",
      "Current patience: 2, current trial: 2.\n"
     ]
    },
    {
     "name": "stderr",
     "output_type": "stream",
     "text": [
      "Epoch 147/300, current batch loss: 0.4293: 100%|██████████| 23/23 [00:03<00:00,  7.01it/s]\n"
     ]
    },
    {
     "name": "stdout",
     "output_type": "stream",
     "text": [
      "[-] Training loss: 0.5406\n",
      "[-] Training accuracy: 0.9274897458983592\n",
      "Validation loss: 1.2578\n",
      "Validation accuracy: 0.6433450429352069\n",
      "Current patience: 1, current trial: 2.\n"
     ]
    },
    {
     "name": "stderr",
     "output_type": "stream",
     "text": [
      "Epoch 148/300, current batch loss: 1.0695: 100%|██████████| 23/23 [00:03<00:00,  6.98it/s]\n"
     ]
    },
    {
     "name": "stdout",
     "output_type": "stream",
     "text": [
      "[-] Training loss: 0.5486\n",
      "[-] Training accuracy: 0.9268268332974214\n",
      "Validation loss: 1.2545\n",
      "Validation accuracy: 0.6463212334113974\n",
      "Current patience: 0, current trial: 2.\n",
      "Running out of patience, loading previous best model.\n",
      "Current learning rate: 3e-06\n"
     ]
    },
    {
     "name": "stderr",
     "output_type": "stream",
     "text": [
      "Epoch 149/300, current batch loss: 1.216: 100%|██████████| 23/23 [00:03<00:00,  6.99it/s] \n"
     ]
    },
    {
     "name": "stdout",
     "output_type": "stream",
     "text": [
      "[-] Training loss: 0.5331\n",
      "[-] Training accuracy: 0.9205264669970551\n",
      "Validation loss: 1.2511\n",
      "Validation accuracy: 0.6463212334113974\n",
      "Current patience: 15, current trial: 1.\n"
     ]
    },
    {
     "name": "stderr",
     "output_type": "stream",
     "text": [
      "Epoch 150/300, current batch loss: 0.395: 100%|██████████| 23/23 [00:03<00:00,  6.80it/s] \n"
     ]
    },
    {
     "name": "stdout",
     "output_type": "stream",
     "text": [
      "[-] Training loss: 0.5852\n",
      "[-] Training accuracy: 0.9252428334517888\n",
      "Validation loss: 1.2547\n",
      "Validation accuracy: 0.6492974238875878\n",
      "Current patience: 14, current trial: 1.\n"
     ]
    },
    {
     "name": "stderr",
     "output_type": "stream",
     "text": [
      "Epoch 151/300, current batch loss: 0.8167: 100%|██████████| 23/23 [00:03<00:00,  6.89it/s]\n"
     ]
    },
    {
     "name": "stdout",
     "output_type": "stream",
     "text": [
      "[-] Training loss: 0.5564\n",
      "[-] Training accuracy: 0.9282975876917929\n",
      "Validation loss: 1.2573\n",
      "Validation accuracy: 0.6411007025761124\n",
      "Current patience: 13, current trial: 1.\n"
     ]
    },
    {
     "name": "stderr",
     "output_type": "stream",
     "text": [
      "Epoch 152/300, current batch loss: 0.3485: 100%|██████████| 23/23 [00:03<00:00,  6.55it/s]\n"
     ]
    },
    {
     "name": "stdout",
     "output_type": "stream",
     "text": [
      "[-] Training loss: 0.5913\n",
      "[-] Training accuracy: 0.9160360644257706\n",
      "Validation loss: 1.2558\n",
      "Validation accuracy: 0.6492974238875877\n",
      "Current patience: 12, current trial: 1.\n"
     ]
    },
    {
     "name": "stderr",
     "output_type": "stream",
     "text": [
      "Epoch 153/300, current batch loss: 0.6307: 100%|██████████| 23/23 [00:03<00:00,  6.49it/s]\n"
     ]
    },
    {
     "name": "stdout",
     "output_type": "stream",
     "text": [
      "[-] Training loss: 0.5683\n",
      "[-] Training accuracy: 0.9240255901355519\n",
      "Validation loss: 1.2567\n",
      "Validation accuracy: 0.6463212334113972\n",
      "Current patience: 11, current trial: 1.\n"
     ]
    },
    {
     "name": "stderr",
     "output_type": "stream",
     "text": [
      "Epoch 154/300, current batch loss: 0.7474: 100%|██████████| 23/23 [00:03<00:00,  6.73it/s]\n"
     ]
    },
    {
     "name": "stdout",
     "output_type": "stream",
     "text": [
      "[-] Training loss: 0.5438\n",
      "[-] Training accuracy: 0.9272062603255238\n",
      "Validation loss: 1.2518\n",
      "Validation accuracy: 0.6492974238875878\n",
      "Current patience: 10, current trial: 1.\n"
     ]
    },
    {
     "name": "stderr",
     "output_type": "stream",
     "text": [
      "Epoch 155/300, current batch loss: 1.2005: 100%|██████████| 23/23 [00:03<00:00,  6.82it/s]\n"
     ]
    },
    {
     "name": "stdout",
     "output_type": "stream",
     "text": [
      "[-] Training loss: 0.5548\n",
      "[-] Training accuracy: 0.9287096036761812\n",
      "Validation loss: 1.2514\n",
      "Validation accuracy: 0.6492974238875878\n",
      "Current patience: 9, current trial: 1.\n"
     ]
    },
    {
     "name": "stderr",
     "output_type": "stream",
     "text": [
      "Epoch 156/300, current batch loss: 0.8375: 100%|██████████| 23/23 [00:03<00:00,  5.87it/s]\n"
     ]
    },
    {
     "name": "stdout",
     "output_type": "stream",
     "text": [
      "[-] Training loss: 0.5488\n",
      "[-] Training accuracy: 0.9241679840252932\n",
      "Validation loss: 1.2554\n",
      "Validation accuracy: 0.6463212334113972\n",
      "Current patience: 8, current trial: 1.\n"
     ]
    },
    {
     "name": "stderr",
     "output_type": "stream",
     "text": [
      "Epoch 157/300, current batch loss: 0.6072: 100%|██████████| 23/23 [00:04<00:00,  5.56it/s]\n"
     ]
    },
    {
     "name": "stdout",
     "output_type": "stream",
     "text": [
      "[-] Training loss: 0.5426\n",
      "[-] Training accuracy: 0.9255747030422505\n",
      "Validation loss: 1.2522\n",
      "Validation accuracy: 0.6492974238875878\n",
      "Current patience: 7, current trial: 1.\n"
     ]
    },
    {
     "name": "stderr",
     "output_type": "stream",
     "text": [
      "Epoch 158/300, current batch loss: 0.3145: 100%|██████████| 23/23 [00:03<00:00,  6.89it/s]\n"
     ]
    },
    {
     "name": "stdout",
     "output_type": "stream",
     "text": [
      "[-] Training loss: 0.5626\n",
      "[-] Training accuracy: 0.9202169321543878\n",
      "Validation loss: 1.2642\n",
      "Validation accuracy: 0.632172131147541\n",
      "Current patience: 6, current trial: 1.\n"
     ]
    },
    {
     "name": "stderr",
     "output_type": "stream",
     "text": [
      "Epoch 159/300, current batch loss: 1.0325: 100%|██████████| 23/23 [00:03<00:00,  6.66it/s]\n"
     ]
    },
    {
     "name": "stdout",
     "output_type": "stream",
     "text": [
      "[-] Training loss: 0.577\n",
      "[-] Training accuracy: 0.9247281752937859\n",
      "Validation loss: 1.2691\n",
      "Validation accuracy: 0.62621975019516\n",
      "Current patience: 5, current trial: 1.\n"
     ]
    },
    {
     "name": "stderr",
     "output_type": "stream",
     "text": [
      "Epoch 160/300, current batch loss: 0.7305: 100%|██████████| 23/23 [00:03<00:00,  6.74it/s]\n"
     ]
    },
    {
     "name": "stdout",
     "output_type": "stream",
     "text": [
      "[-] Training loss: 0.5693\n",
      "[-] Training accuracy: 0.9291017411989922\n",
      "Validation loss: 1.2551\n",
      "Validation accuracy: 0.6433450429352068\n",
      "Current patience: 4, current trial: 1.\n"
     ]
    },
    {
     "name": "stderr",
     "output_type": "stream",
     "text": [
      "Epoch 161/300, current batch loss: 0.7714: 100%|██████████| 23/23 [00:03<00:00,  6.80it/s]\n"
     ]
    },
    {
     "name": "stdout",
     "output_type": "stream",
     "text": [
      "[-] Training loss: 0.5489\n",
      "[-] Training accuracy: 0.9337471156495385\n",
      "Validation loss: 1.2585\n",
      "Validation accuracy: 0.6381245120999219\n",
      "Current patience: 3, current trial: 1.\n"
     ]
    },
    {
     "name": "stderr",
     "output_type": "stream",
     "text": [
      "Epoch 162/300, current batch loss: 1.1988: 100%|██████████| 23/23 [00:03<00:00,  6.68it/s]\n"
     ]
    },
    {
     "name": "stdout",
     "output_type": "stream",
     "text": [
      "[-] Training loss: 0.554\n",
      "[-] Training accuracy: 0.9305164548160335\n",
      "Validation loss: 1.2585\n",
      "Validation accuracy: 0.6403688524590163\n",
      "Current patience: 2, current trial: 1.\n"
     ]
    },
    {
     "name": "stderr",
     "output_type": "stream",
     "text": [
      "Epoch 163/300, current batch loss: 0.5818: 100%|██████████| 23/23 [00:03<00:00,  6.72it/s]\n"
     ]
    },
    {
     "name": "stdout",
     "output_type": "stream",
     "text": [
      "[-] Training loss: 0.5356\n",
      "[-] Training accuracy: 0.9260627821148183\n",
      "Validation loss: 1.2515\n",
      "Validation accuracy: 0.6463212334113972\n",
      "Current patience: 1, current trial: 1.\n"
     ]
    },
    {
     "name": "stderr",
     "output_type": "stream",
     "text": [
      "Epoch 164/300, current batch loss: 0.6468: 100%|██████████| 23/23 [00:03<00:00,  6.80it/s]\n"
     ]
    },
    {
     "name": "stdout",
     "output_type": "stream",
     "text": [
      "[-] Training loss: 0.5525\n",
      "[-] Training accuracy: 0.9228762578590083\n",
      "Validation loss: 1.2565\n",
      "Validation accuracy: 0.6463212334113972\n",
      "Current patience: 0, current trial: 1.\n",
      "Running out of patience, loading previous best model.\n",
      "Current learning rate: 3e-06\n",
      "Running out of patience, early stopping.\n",
      "Test set performance: 1.3169283241294216\n",
      "Test set accuracy is 0.5947521865889213\n"
     ]
    },
    {
     "data": {
      "text/html": [
       "Waiting for W&B process to finish... <strong style=\"color:green\">(success).</strong>"
      ],
      "text/plain": [
       "<IPython.core.display.HTML object>"
      ]
     },
     "metadata": {},
     "output_type": "display_data"
    },
    {
     "name": "stderr",
     "output_type": "stream",
     "text": [
      "wandb: WARNING Source type is set to 'repo' but some required information is missing from the environment. A job will not be created from this run. See https://docs.wandb.ai/guides/launch/create-job\n"
     ]
    },
    {
     "data": {
      "text/html": [
       "<style>\n",
       "    table.wandb td:nth-child(1) { padding: 0 10px; text-align: left ; width: auto;} td:nth-child(2) {text-align: left ; width: 100%}\n",
       "    .wandb-row { display: flex; flex-direction: row; flex-wrap: wrap; justify-content: flex-start; width: 100% }\n",
       "    .wandb-col { display: flex; flex-direction: column; flex-basis: 100%; flex: 1; padding: 10px; }\n",
       "    </style>\n",
       "<div class=\"wandb-row\"><div class=\"wandb-col\"><h3>Run history:</h3><br/><table class=\"wandb\"><tr><td>Batch Accuracy</td><td>▁▃▂▄▄▅▄▆▅▆▆▆▅▆▆▆▆▇▆▇█▇▇▇▇▇▇▇██▇▆▇▇▇▇▇▇▇▇</td></tr><tr><td>Batch Loss</td><td>█▆▅▇▅▅▂▅▇▃▃▅▃▁▄▃▄▃▄▂▄▄▃▃▃▂▃▃▂▂▂▁▃▃▂▃▂▃▃▂</td></tr><tr><td>Epoch</td><td>▁▁▁▂▂▂▂▂▂▃▃▃▃▃▄▄▄▄▄▄▅▅▅▅▅▅▆▆▆▆▆▇▇▇▇▇▇███</td></tr><tr><td>Test Accuracy</td><td>▁</td></tr><tr><td>Test Loss</td><td>▁</td></tr><tr><td>Training Accuracy</td><td>▁▂▂▃▃▃▄▄▅▅▅▆▆▆▆▇▇▇▇▇▇▇█▇████████████████</td></tr><tr><td>Training Loss</td><td>█▇▇▇▆▆▆▆▅▅▄▄▄▃▃▃▃▃▂▂▂▂▂▂▂▁▁▁▁▁▁▁▁▁▁▁▁▁▁▁</td></tr><tr><td>Validation Accuracy</td><td>▁▂▃▃▄▄▅▆▅▆▆▇▇▇▇▇▇▇██▇█▇▇▇▇▇▇▇▇▇▇▇▇▇▇▇▇▇▇</td></tr><tr><td>Validation Loss</td><td>██▇▇▆▆▅▅▄▄▃▃▃▂▂▂▂▂▂▂▂▂▁▁▁▁▂▁▁▂▁▁▁▁▂▁▁▁▁▁</td></tr></table><br/></div><div class=\"wandb-col\"><h3>Run summary:</h3><br/><table class=\"wandb\"><tr><td>Batch Accuracy</td><td>0.96078</td></tr><tr><td>Batch Loss</td><td>0.6468</td></tr><tr><td>Epoch</td><td>164</td></tr><tr><td>Test Accuracy</td><td>0.59475</td></tr><tr><td>Test Loss</td><td>1.31693</td></tr><tr><td>Training Accuracy</td><td>0.92288</td></tr><tr><td>Training Loss</td><td>0.55254</td></tr><tr><td>Validation Accuracy</td><td>0.64632</td></tr><tr><td>Validation Loss</td><td>1.2565</td></tr></table><br/></div></div>"
      ],
      "text/plain": [
       "<IPython.core.display.HTML object>"
      ]
     },
     "metadata": {},
     "output_type": "display_data"
    },
    {
     "data": {
      "text/html": [
       " View run <strong style=\"color:#cdcd00\">hearty-plant-81</strong> at: <a href='https://wandb.ai/ejbejaranos22/Baseline-multimodal/runs/hkxlzjyr' target=\"_blank\">https://wandb.ai/ejbejaranos22/Baseline-multimodal/runs/hkxlzjyr</a><br/>Synced 6 W&B file(s), 0 media file(s), 0 artifact file(s) and 0 other file(s)"
      ],
      "text/plain": [
       "<IPython.core.display.HTML object>"
      ]
     },
     "metadata": {},
     "output_type": "display_data"
    },
    {
     "data": {
      "text/html": [
       "Find logs at: <code>./wandb/run-20230925_171452-hkxlzjyr/logs</code>"
      ],
      "text/plain": [
       "<IPython.core.display.HTML object>"
      ]
     },
     "metadata": {},
     "output_type": "display_data"
    },
    {
     "name": "stdout",
     "output_type": "stream",
     "text": [
      "0.1\n"
     ]
    },
    {
     "data": {
      "application/vnd.jupyter.widget-view+json": {
       "model_id": "feb58cf24d36499aa74378e080dd4e6e",
       "version_major": 2,
       "version_minor": 0
      },
      "text/plain": [
       "VBox(children=(Label(value='Waiting for wandb.init()...\\r'), FloatProgress(value=0.011167540278337482, max=1.0…"
      ]
     },
     "metadata": {},
     "output_type": "display_data"
    },
    {
     "data": {
      "text/html": [
       "Tracking run with wandb version 0.15.11"
      ],
      "text/plain": [
       "<IPython.core.display.HTML object>"
      ]
     },
     "metadata": {},
     "output_type": "display_data"
    },
    {
     "data": {
      "text/html": [
       "Run data is saved locally in <code>/Users/lernmi/Desktop/EmotionUnify/src/datasets/CMU-MultimodalSDK/wandb/run-20230925_172456-a3k0wa5t</code>"
      ],
      "text/plain": [
       "<IPython.core.display.HTML object>"
      ]
     },
     "metadata": {},
     "output_type": "display_data"
    },
    {
     "data": {
      "text/html": [
       "Syncing run <strong><a href='https://wandb.ai/ejbejaranos22/Baseline-multimodal/runs/a3k0wa5t' target=\"_blank\">iconic-butterfly-82</a></strong> to <a href='https://wandb.ai/ejbejaranos22/Baseline-multimodal' target=\"_blank\">Weights & Biases</a> (<a href='https://wandb.me/run' target=\"_blank\">docs</a>)<br/>"
      ],
      "text/plain": [
       "<IPython.core.display.HTML object>"
      ]
     },
     "metadata": {},
     "output_type": "display_data"
    },
    {
     "data": {
      "text/html": [
       " View project at <a href='https://wandb.ai/ejbejaranos22/Baseline-multimodal' target=\"_blank\">https://wandb.ai/ejbejaranos22/Baseline-multimodal</a>"
      ],
      "text/plain": [
       "<IPython.core.display.HTML object>"
      ]
     },
     "metadata": {},
     "output_type": "display_data"
    },
    {
     "data": {
      "text/html": [
       " View run at <a href='https://wandb.ai/ejbejaranos22/Baseline-multimodal/runs/a3k0wa5t' target=\"_blank\">https://wandb.ai/ejbejaranos22/Baseline-multimodal/runs/a3k0wa5t</a>"
      ],
      "text/plain": [
       "<IPython.core.display.HTML object>"
      ]
     },
     "metadata": {},
     "output_type": "display_data"
    },
    {
     "name": "stderr",
     "output_type": "stream",
     "text": [
      "/Users/lernmi/miniconda3/envs/emotionunify/lib/python3.11/site-packages/torch/optim/lr_scheduler.py:139: UserWarning: Detected call of `lr_scheduler.step()` before `optimizer.step()`. In PyTorch 1.1.0 and later, you should call them in the opposite order: `optimizer.step()` before `lr_scheduler.step()`.  Failure to do this will result in PyTorch skipping the first value of the learning rate schedule. See more details at https://pytorch.org/docs/stable/optim.html#how-to-adjust-learning-rate\n",
      "  warnings.warn(\"Detected call of `lr_scheduler.step()` before `optimizer.step()`. \"\n"
     ]
    },
    {
     "name": "stdout",
     "output_type": "stream",
     "text": [
      "================================================================================\n",
      "[-->] [120, 18, 29]\n",
      "[-->] 83\n",
      "================================================================================\n",
      "Using LateFusionLSTM\n"
     ]
    },
    {
     "name": "stderr",
     "output_type": "stream",
     "text": [
      "Epoch 0/300, current batch loss: 2.1076: 100%|██████████| 23/23 [00:03<00:00,  6.84it/s]\n"
     ]
    },
    {
     "name": "stdout",
     "output_type": "stream",
     "text": [
      "[-] Training loss: 1.3427\n",
      "[-] Training accuracy: 0.4745608689723354\n",
      "Validation loss: 1.4368\n",
      "Validation accuracy: 0.5138075722092115\n",
      "Current patience: 15, current trial: 3.\n",
      "Found new best model on dev set!\n"
     ]
    },
    {
     "name": "stderr",
     "output_type": "stream",
     "text": [
      "Epoch 1/300, current batch loss: 1.1798: 100%|██████████| 23/23 [00:03<00:00,  7.06it/s]\n"
     ]
    },
    {
     "name": "stdout",
     "output_type": "stream",
     "text": [
      "[-] Training loss: 1.2495\n",
      "[-] Training accuracy: 0.6310371747864073\n",
      "Validation loss: 1.405\n",
      "Validation accuracy: 0.5517661982825918\n",
      "Current patience: 15, current trial: 3.\n",
      "Found new best model on dev set!\n"
     ]
    },
    {
     "name": "stderr",
     "output_type": "stream",
     "text": [
      "Epoch 2/300, current batch loss: 1.5397: 100%|██████████| 23/23 [00:03<00:00,  6.84it/s]\n"
     ]
    },
    {
     "name": "stdout",
     "output_type": "stream",
     "text": [
      "[-] Training loss: 1.1688\n",
      "[-] Training accuracy: 0.7167441369260252\n",
      "Validation loss: 1.3831\n",
      "Validation accuracy: 0.5994340359094458\n",
      "Current patience: 15, current trial: 3.\n",
      "Found new best model on dev set!\n"
     ]
    },
    {
     "name": "stderr",
     "output_type": "stream",
     "text": [
      "Epoch 3/300, current batch loss: 1.8161: 100%|██████████| 23/23 [00:03<00:00,  6.89it/s]\n"
     ]
    },
    {
     "name": "stdout",
     "output_type": "stream",
     "text": [
      "[-] Training loss: 1.0913\n",
      "[-] Training accuracy: 0.760368196865523\n",
      "Validation loss: 1.3549\n",
      "Validation accuracy: 0.6001658860265418\n",
      "Current patience: 15, current trial: 3.\n",
      "Found new best model on dev set!\n"
     ]
    },
    {
     "name": "stderr",
     "output_type": "stream",
     "text": [
      "Epoch 4/300, current batch loss: 0.7246: 100%|██████████| 23/23 [00:03<00:00,  6.77it/s]\n"
     ]
    },
    {
     "name": "stdout",
     "output_type": "stream",
     "text": [
      "[-] Training loss: 1.0063\n",
      "[-] Training accuracy: 0.8029330401475386\n",
      "Validation loss: 1.3378\n",
      "Validation accuracy: 0.6083626073380172\n",
      "Current patience: 15, current trial: 3.\n",
      "Found new best model on dev set!\n"
     ]
    },
    {
     "name": "stderr",
     "output_type": "stream",
     "text": [
      "Epoch 5/300, current batch loss: 0.9728: 100%|██████████| 23/23 [00:03<00:00,  6.68it/s]\n"
     ]
    },
    {
     "name": "stdout",
     "output_type": "stream",
     "text": [
      "[-] Training loss: 0.9256\n",
      "[-] Training accuracy: 0.8343086988974547\n",
      "Validation loss: 1.3225\n",
      "Validation accuracy: 0.625487900078064\n",
      "Current patience: 15, current trial: 3.\n",
      "Found new best model on dev set!\n"
     ]
    },
    {
     "name": "stderr",
     "output_type": "stream",
     "text": [
      "Epoch 6/300, current batch loss: 1.4586: 100%|██████████| 23/23 [00:03<00:00,  6.81it/s]\n"
     ]
    },
    {
     "name": "stdout",
     "output_type": "stream",
     "text": [
      "[-] Training loss: 0.8569\n",
      "[-] Training accuracy: 0.8576839826839826\n",
      "Validation loss: 1.303\n",
      "Validation accuracy: 0.6247560499609679\n",
      "Current patience: 15, current trial: 3.\n",
      "Found new best model on dev set!\n"
     ]
    },
    {
     "name": "stderr",
     "output_type": "stream",
     "text": [
      "Epoch 7/300, current batch loss: 1.509: 100%|██████████| 23/23 [00:03<00:00,  6.96it/s] \n"
     ]
    },
    {
     "name": "stdout",
     "output_type": "stream",
     "text": [
      "[-] Training loss: 0.7526\n",
      "[-] Training accuracy: 0.8895884418149398\n",
      "Validation loss: 1.2919\n",
      "Validation accuracy: 0.6396370023419202\n",
      "Current patience: 15, current trial: 3.\n",
      "Found new best model on dev set!\n"
     ]
    },
    {
     "name": "stderr",
     "output_type": "stream",
     "text": [
      "Epoch 8/300, current batch loss: 0.7777: 100%|██████████| 23/23 [00:03<00:00,  6.86it/s]\n"
     ]
    },
    {
     "name": "stdout",
     "output_type": "stream",
     "text": [
      "[-] Training loss: 0.6928\n",
      "[-] Training accuracy: 0.9013551172772077\n",
      "Validation loss: 1.2804\n",
      "Validation accuracy: 0.6418813427010148\n",
      "Current patience: 15, current trial: 3.\n",
      "Found new best model on dev set!\n"
     ]
    },
    {
     "name": "stderr",
     "output_type": "stream",
     "text": [
      "Epoch 9/300, current batch loss: 0.6189: 100%|██████████| 23/23 [00:03<00:00,  6.79it/s]\n"
     ]
    },
    {
     "name": "stdout",
     "output_type": "stream",
     "text": [
      "[-] Training loss: 0.6259\n",
      "[-] Training accuracy: 0.9064398756535256\n",
      "Validation loss: 1.2868\n",
      "Validation accuracy: 0.6336846213895395\n",
      "Current patience: 15, current trial: 3.\n"
     ]
    },
    {
     "name": "stderr",
     "output_type": "stream",
     "text": [
      "Epoch 10/300, current batch loss: 1.2744: 100%|██████████| 23/23 [00:03<00:00,  6.74it/s]\n"
     ]
    },
    {
     "name": "stdout",
     "output_type": "stream",
     "text": [
      "[-] Training loss: 0.5622\n",
      "[-] Training accuracy: 0.9228544744510707\n",
      "Validation loss: 1.2658\n",
      "Validation accuracy: 0.6537861046057768\n",
      "Current patience: 14, current trial: 3.\n",
      "Found new best model on dev set!\n"
     ]
    },
    {
     "name": "stderr",
     "output_type": "stream",
     "text": [
      "Epoch 11/300, current batch loss: 0.8149: 100%|██████████| 23/23 [00:03<00:00,  6.91it/s]\n"
     ]
    },
    {
     "name": "stdout",
     "output_type": "stream",
     "text": [
      "[-] Training loss: 0.516\n",
      "[-] Training accuracy: 0.9215317894266999\n",
      "Validation loss: 1.274\n",
      "Validation accuracy: 0.6433450429352069\n",
      "Current patience: 15, current trial: 3.\n"
     ]
    },
    {
     "name": "stderr",
     "output_type": "stream",
     "text": [
      "Epoch 12/300, current batch loss: 0.9885: 100%|██████████| 23/23 [00:03<00:00,  6.79it/s]\n"
     ]
    },
    {
     "name": "stdout",
     "output_type": "stream",
     "text": [
      "[-] Training loss: 0.4785\n",
      "[-] Training accuracy: 0.922841514228069\n",
      "Validation loss: 1.2749\n",
      "Validation accuracy: 0.644076893052303\n",
      "Current patience: 14, current trial: 3.\n"
     ]
    },
    {
     "name": "stderr",
     "output_type": "stream",
     "text": [
      "Epoch 13/300, current batch loss: 0.8947: 100%|██████████| 23/23 [00:03<00:00,  6.94it/s]\n"
     ]
    },
    {
     "name": "stdout",
     "output_type": "stream",
     "text": [
      "[-] Training loss: 0.4331\n",
      "[-] Training accuracy: 0.9467414932949445\n",
      "Validation loss: 1.2691\n",
      "Validation accuracy: 0.6522736143637783\n",
      "Current patience: 13, current trial: 3.\n"
     ]
    },
    {
     "name": "stderr",
     "output_type": "stream",
     "text": [
      "Epoch 14/300, current batch loss: 0.4616: 100%|██████████| 23/23 [00:03<00:00,  6.95it/s]\n"
     ]
    },
    {
     "name": "stdout",
     "output_type": "stream",
     "text": [
      "[-] Training loss: 0.3967\n",
      "[-] Training accuracy: 0.9481133084598402\n",
      "Validation loss: 1.2742\n",
      "Validation accuracy: 0.6299277907884465\n",
      "Current patience: 12, current trial: 3.\n"
     ]
    },
    {
     "name": "stderr",
     "output_type": "stream",
     "text": [
      "Epoch 15/300, current batch loss: 0.7752: 100%|██████████| 23/23 [00:03<00:00,  6.84it/s]\n"
     ]
    },
    {
     "name": "stdout",
     "output_type": "stream",
     "text": [
      "[-] Training loss: 0.3754\n",
      "[-] Training accuracy: 0.951267943336681\n",
      "Validation loss: 1.2662\n",
      "Validation accuracy: 0.6299277907884465\n",
      "Current patience: 11, current trial: 3.\n"
     ]
    },
    {
     "name": "stderr",
     "output_type": "stream",
     "text": [
      "Epoch 16/300, current batch loss: 0.325: 100%|██████████| 23/23 [00:03<00:00,  6.89it/s] \n"
     ]
    },
    {
     "name": "stdout",
     "output_type": "stream",
     "text": [
      "[-] Training loss: 0.3473\n",
      "[-] Training accuracy: 0.9499374980288942\n",
      "Validation loss: 1.2745\n",
      "Validation accuracy: 0.6403688524590164\n",
      "Current patience: 10, current trial: 3.\n"
     ]
    },
    {
     "name": "stderr",
     "output_type": "stream",
     "text": [
      "Epoch 17/300, current batch loss: 0.6864: 100%|██████████| 23/23 [00:03<00:00,  6.91it/s]\n"
     ]
    },
    {
     "name": "stdout",
     "output_type": "stream",
     "text": [
      "[-] Training loss: 0.3324\n",
      "[-] Training accuracy: 0.9521235994397758\n",
      "Validation loss: 1.2663\n",
      "Validation accuracy: 0.6358801717408274\n",
      "Current patience: 9, current trial: 3.\n"
     ]
    },
    {
     "name": "stderr",
     "output_type": "stream",
     "text": [
      "Epoch 18/300, current batch loss: 0.3206: 100%|██████████| 23/23 [00:03<00:00,  6.88it/s]\n"
     ]
    },
    {
     "name": "stdout",
     "output_type": "stream",
     "text": [
      "[-] Training loss: 0.3108\n",
      "[-] Training accuracy: 0.9651882580443344\n",
      "Validation loss: 1.2756\n",
      "Validation accuracy: 0.6485655737704918\n",
      "Current patience: 8, current trial: 3.\n"
     ]
    },
    {
     "name": "stderr",
     "output_type": "stream",
     "text": [
      "Epoch 19/300, current batch loss: 0.3735: 100%|██████████| 23/23 [00:03<00:00,  6.74it/s]\n"
     ]
    },
    {
     "name": "stdout",
     "output_type": "stream",
     "text": [
      "[-] Training loss: 0.2985\n",
      "[-] Training accuracy: 0.9622871425798044\n",
      "Validation loss: 1.2787\n",
      "Validation accuracy: 0.6426131928181109\n",
      "Current patience: 7, current trial: 3.\n"
     ]
    },
    {
     "name": "stderr",
     "output_type": "stream",
     "text": [
      "Epoch 20/300, current batch loss: 0.141: 100%|██████████| 23/23 [00:03<00:00,  6.87it/s] \n"
     ]
    },
    {
     "name": "stdout",
     "output_type": "stream",
     "text": [
      "[-] Training loss: 0.2969\n",
      "[-] Training accuracy: 0.9517638845661719\n",
      "Validation loss: 1.2788\n",
      "Validation accuracy: 0.6299277907884466\n",
      "Current patience: 6, current trial: 3.\n"
     ]
    },
    {
     "name": "stderr",
     "output_type": "stream",
     "text": [
      "Epoch 21/300, current batch loss: 0.3006: 100%|██████████| 23/23 [00:03<00:00,  6.94it/s]\n"
     ]
    },
    {
     "name": "stdout",
     "output_type": "stream",
     "text": [
      "[-] Training loss: 0.2948\n",
      "[-] Training accuracy: 0.954066667234845\n",
      "Validation loss: 1.2737\n",
      "Validation accuracy: 0.638124512099922\n",
      "Current patience: 5, current trial: 3.\n"
     ]
    },
    {
     "name": "stderr",
     "output_type": "stream",
     "text": [
      "Epoch 22/300, current batch loss: 0.381: 100%|██████████| 23/23 [00:03<00:00,  6.83it/s] \n"
     ]
    },
    {
     "name": "stdout",
     "output_type": "stream",
     "text": [
      "[-] Training loss: 0.2682\n",
      "[-] Training accuracy: 0.9588560875251904\n",
      "Validation loss: 1.2717\n",
      "Validation accuracy: 0.6515417642466822\n",
      "Current patience: 4, current trial: 3.\n"
     ]
    },
    {
     "name": "stderr",
     "output_type": "stream",
     "text": [
      "Epoch 23/300, current batch loss: 0.3005: 100%|██████████| 23/23 [00:03<00:00,  6.82it/s]\n"
     ]
    },
    {
     "name": "stdout",
     "output_type": "stream",
     "text": [
      "[-] Training loss: 0.267\n",
      "[-] Training accuracy: 0.9523930507162216\n",
      "Validation loss: 1.2828\n",
      "Validation accuracy: 0.6709113973458235\n",
      "Current patience: 3, current trial: 3.\n"
     ]
    },
    {
     "name": "stderr",
     "output_type": "stream",
     "text": [
      "Epoch 24/300, current batch loss: 0.3252: 100%|██████████| 23/23 [00:03<00:00,  6.88it/s]\n"
     ]
    },
    {
     "name": "stdout",
     "output_type": "stream",
     "text": [
      "[-] Training loss: 0.2607\n",
      "[-] Training accuracy: 0.9616202240325282\n",
      "Validation loss: 1.262\n",
      "Validation accuracy: 0.6738875878220142\n",
      "Current patience: 2, current trial: 3.\n",
      "Found new best model on dev set!\n"
     ]
    },
    {
     "name": "stderr",
     "output_type": "stream",
     "text": [
      "Epoch 25/300, current batch loss: 0.2148: 100%|██████████| 23/23 [00:03<00:00,  6.79it/s]\n"
     ]
    },
    {
     "name": "stdout",
     "output_type": "stream",
     "text": [
      "[-] Training loss: 0.2631\n",
      "[-] Training accuracy: 0.9543618146559324\n",
      "Validation loss: 1.2858\n",
      "Validation accuracy: 0.6433450429352069\n",
      "Current patience: 15, current trial: 3.\n"
     ]
    },
    {
     "name": "stderr",
     "output_type": "stream",
     "text": [
      "Epoch 26/300, current batch loss: 0.2865: 100%|██████████| 23/23 [00:03<00:00,  6.91it/s]\n"
     ]
    },
    {
     "name": "stdout",
     "output_type": "stream",
     "text": [
      "[-] Training loss: 0.2512\n",
      "[-] Training accuracy: 0.9589906581189177\n",
      "Validation loss: 1.2899\n",
      "Validation accuracy: 0.6418813427010148\n",
      "Current patience: 14, current trial: 3.\n"
     ]
    },
    {
     "name": "stderr",
     "output_type": "stream",
     "text": [
      "Epoch 27/300, current batch loss: 0.2299: 100%|██████████| 23/23 [00:03<00:00,  6.85it/s]\n"
     ]
    },
    {
     "name": "stdout",
     "output_type": "stream",
     "text": [
      "[-] Training loss: 0.2365\n",
      "[-] Training accuracy: 0.9632986360373297\n",
      "Validation loss: 1.2848\n",
      "Validation accuracy: 0.6567622950819673\n",
      "Current patience: 13, current trial: 3.\n"
     ]
    },
    {
     "name": "stderr",
     "output_type": "stream",
     "text": [
      "Epoch 28/300, current batch loss: 0.468: 100%|██████████| 23/23 [00:03<00:00,  7.00it/s] \n"
     ]
    },
    {
     "name": "stdout",
     "output_type": "stream",
     "text": [
      "[-] Training loss: 0.2427\n",
      "[-] Training accuracy: 0.9670049885782404\n",
      "Validation loss: 1.297\n",
      "Validation accuracy: 0.6284640905542543\n",
      "Current patience: 12, current trial: 3.\n"
     ]
    },
    {
     "name": "stderr",
     "output_type": "stream",
     "text": [
      "Epoch 29/300, current batch loss: 0.3637: 100%|██████████| 23/23 [00:03<00:00,  6.63it/s]\n"
     ]
    },
    {
     "name": "stdout",
     "output_type": "stream",
     "text": [
      "[-] Training loss: 0.2562\n",
      "[-] Training accuracy: 0.9607177164814052\n",
      "Validation loss: 1.2719\n",
      "Validation accuracy: 0.6381245120999219\n",
      "Current patience: 11, current trial: 3.\n"
     ]
    },
    {
     "name": "stderr",
     "output_type": "stream",
     "text": [
      "Epoch 30/300, current batch loss: 0.1391: 100%|██████████| 23/23 [00:03<00:00,  6.87it/s]\n"
     ]
    },
    {
     "name": "stdout",
     "output_type": "stream",
     "text": [
      "[-] Training loss: 0.2391\n",
      "[-] Training accuracy: 0.9643956203902556\n",
      "Validation loss: 1.2851\n",
      "Validation accuracy: 0.6597384855581578\n",
      "Current patience: 10, current trial: 3.\n"
     ]
    },
    {
     "name": "stderr",
     "output_type": "stream",
     "text": [
      "Epoch 31/300, current batch loss: 0.3201: 100%|██████████| 23/23 [00:03<00:00,  7.09it/s]\n"
     ]
    },
    {
     "name": "stdout",
     "output_type": "stream",
     "text": [
      "[-] Training loss: 0.2443\n",
      "[-] Training accuracy: 0.9544239305891848\n",
      "Validation loss: 1.2799\n",
      "Validation accuracy: 0.6418813427010148\n",
      "Current patience: 9, current trial: 3.\n"
     ]
    },
    {
     "name": "stderr",
     "output_type": "stream",
     "text": [
      "Epoch 32/300, current batch loss: 0.2359: 100%|██████████| 23/23 [00:03<00:00,  7.00it/s]\n"
     ]
    },
    {
     "name": "stdout",
     "output_type": "stream",
     "text": [
      "[-] Training loss: 0.2197\n",
      "[-] Training accuracy: 0.9633333333333334\n",
      "Validation loss: 1.2691\n",
      "Validation accuracy: 0.6731557377049181\n",
      "Current patience: 8, current trial: 3.\n"
     ]
    },
    {
     "name": "stderr",
     "output_type": "stream",
     "text": [
      "Epoch 33/300, current batch loss: 0.2293: 100%|██████████| 23/23 [00:03<00:00,  6.79it/s]\n"
     ]
    },
    {
     "name": "stdout",
     "output_type": "stream",
     "text": [
      "[-] Training loss: 0.2325\n",
      "[-] Training accuracy: 0.9643571428571428\n",
      "Validation loss: 1.2688\n",
      "Validation accuracy: 0.6590066354410616\n",
      "Current patience: 7, current trial: 3.\n"
     ]
    },
    {
     "name": "stderr",
     "output_type": "stream",
     "text": [
      "Epoch 34/300, current batch loss: 0.1256: 100%|██████████| 23/23 [00:03<00:00,  6.87it/s]\n"
     ]
    },
    {
     "name": "stdout",
     "output_type": "stream",
     "text": [
      "[-] Training loss: 0.2393\n",
      "[-] Training accuracy: 0.9508656911040277\n",
      "Validation loss: 1.2759\n",
      "Validation accuracy: 0.6560304449648712\n",
      "Current patience: 6, current trial: 3.\n"
     ]
    },
    {
     "name": "stderr",
     "output_type": "stream",
     "text": [
      "Epoch 35/300, current batch loss: 0.3328: 100%|██████████| 23/23 [00:03<00:00,  6.55it/s]\n"
     ]
    },
    {
     "name": "stdout",
     "output_type": "stream",
     "text": [
      "[-] Training loss: 0.2272\n",
      "[-] Training accuracy: 0.9580262548567815\n",
      "Validation loss: 1.2505\n",
      "Validation accuracy: 0.6545179547228727\n",
      "Current patience: 5, current trial: 3.\n",
      "Found new best model on dev set!\n"
     ]
    },
    {
     "name": "stderr",
     "output_type": "stream",
     "text": [
      "Epoch 36/300, current batch loss: 0.2037: 100%|██████████| 23/23 [00:03<00:00,  6.81it/s]\n"
     ]
    },
    {
     "name": "stdout",
     "output_type": "stream",
     "text": [
      "[-] Training loss: 0.26\n",
      "[-] Training accuracy: 0.9632289726321825\n",
      "Validation loss: 1.3037\n",
      "Validation accuracy: 0.6396370023419203\n",
      "Current patience: 15, current trial: 3.\n"
     ]
    },
    {
     "name": "stderr",
     "output_type": "stream",
     "text": [
      "Epoch 37/300, current batch loss: 0.3326: 100%|██████████| 23/23 [00:03<00:00,  6.99it/s]\n"
     ]
    },
    {
     "name": "stdout",
     "output_type": "stream",
     "text": [
      "[-] Training loss: 0.2497\n",
      "[-] Training accuracy: 0.947437091381818\n",
      "Validation loss: 1.2625\n",
      "Validation accuracy: 0.6574941451990632\n",
      "Current patience: 14, current trial: 3.\n"
     ]
    },
    {
     "name": "stderr",
     "output_type": "stream",
     "text": [
      "Epoch 38/300, current batch loss: 0.2944: 100%|██████████| 23/23 [00:03<00:00,  6.67it/s]\n"
     ]
    },
    {
     "name": "stdout",
     "output_type": "stream",
     "text": [
      "[-] Training loss: 0.2369\n",
      "[-] Training accuracy: 0.9586512236473536\n",
      "Validation loss: 1.2754\n",
      "Validation accuracy: 0.6545179547228727\n",
      "Current patience: 13, current trial: 3.\n"
     ]
    },
    {
     "name": "stderr",
     "output_type": "stream",
     "text": [
      "Epoch 39/300, current batch loss: 0.0978: 100%|██████████| 23/23 [00:03<00:00,  6.71it/s]\n"
     ]
    },
    {
     "name": "stdout",
     "output_type": "stream",
     "text": [
      "[-] Training loss: 0.2284\n",
      "[-] Training accuracy: 0.9652954599070994\n",
      "Validation loss: 1.2766\n",
      "Validation accuracy: 0.6627146760343481\n",
      "Current patience: 12, current trial: 3.\n"
     ]
    },
    {
     "name": "stderr",
     "output_type": "stream",
     "text": [
      "Epoch 40/300, current batch loss: 0.0809: 100%|██████████| 23/23 [00:03<00:00,  6.94it/s]\n"
     ]
    },
    {
     "name": "stdout",
     "output_type": "stream",
     "text": [
      "[-] Training loss: 0.2203\n",
      "[-] Training accuracy: 0.9610936642698317\n",
      "Validation loss: 1.2794\n",
      "Validation accuracy: 0.6627146760343481\n",
      "Current patience: 11, current trial: 3.\n"
     ]
    },
    {
     "name": "stderr",
     "output_type": "stream",
     "text": [
      "Epoch 41/300, current batch loss: 0.3509: 100%|██████████| 23/23 [00:03<00:00,  6.90it/s]\n"
     ]
    },
    {
     "name": "stdout",
     "output_type": "stream",
     "text": [
      "[-] Training loss: 0.2372\n",
      "[-] Training accuracy: 0.9596928450739014\n",
      "Validation loss: 1.2644\n",
      "Validation accuracy: 0.6590066354410617\n",
      "Current patience: 10, current trial: 3.\n"
     ]
    },
    {
     "name": "stderr",
     "output_type": "stream",
     "text": [
      "Epoch 42/300, current batch loss: 0.2925: 100%|██████████| 23/23 [00:03<00:00,  6.88it/s]\n"
     ]
    },
    {
     "name": "stdout",
     "output_type": "stream",
     "text": [
      "[-] Training loss: 0.2138\n",
      "[-] Training accuracy: 0.9640808878295845\n",
      "Validation loss: 1.2654\n",
      "Validation accuracy: 0.6709113973458236\n",
      "Current patience: 9, current trial: 3.\n"
     ]
    },
    {
     "name": "stderr",
     "output_type": "stream",
     "text": [
      "Epoch 43/300, current batch loss: 0.3375: 100%|██████████| 23/23 [00:03<00:00,  6.87it/s]\n"
     ]
    },
    {
     "name": "stdout",
     "output_type": "stream",
     "text": [
      "[-] Training loss: 0.2331\n",
      "[-] Training accuracy: 0.9560969549109968\n",
      "Validation loss: 1.2667\n",
      "Validation accuracy: 0.6515417642466823\n",
      "Current patience: 8, current trial: 3.\n"
     ]
    },
    {
     "name": "stderr",
     "output_type": "stream",
     "text": [
      "Epoch 44/300, current batch loss: 0.0995: 100%|██████████| 23/23 [00:03<00:00,  6.92it/s]\n"
     ]
    },
    {
     "name": "stdout",
     "output_type": "stream",
     "text": [
      "[-] Training loss: 0.2226\n",
      "[-] Training accuracy: 0.9517734292908268\n",
      "Validation loss: 1.2785\n",
      "Validation accuracy: 0.667935206869633\n",
      "Current patience: 7, current trial: 3.\n"
     ]
    },
    {
     "name": "stderr",
     "output_type": "stream",
     "text": [
      "Epoch 45/300, current batch loss: 0.12: 100%|██████████| 23/23 [00:03<00:00,  6.70it/s]  \n"
     ]
    },
    {
     "name": "stdout",
     "output_type": "stream",
     "text": [
      "[-] Training loss: 0.2086\n",
      "[-] Training accuracy: 0.9598080490937633\n",
      "Validation loss: 1.2765\n",
      "Validation accuracy: 0.6597384855581576\n",
      "Current patience: 6, current trial: 3.\n"
     ]
    },
    {
     "name": "stderr",
     "output_type": "stream",
     "text": [
      "Epoch 46/300, current batch loss: 0.2938: 100%|██████████| 23/23 [00:03<00:00,  6.90it/s]\n"
     ]
    },
    {
     "name": "stdout",
     "output_type": "stream",
     "text": [
      "[-] Training loss: 0.2103\n",
      "[-] Training accuracy: 0.9621667632570271\n",
      "Validation loss: 1.2697\n",
      "Validation accuracy: 0.6634465261514442\n",
      "Current patience: 5, current trial: 3.\n"
     ]
    },
    {
     "name": "stderr",
     "output_type": "stream",
     "text": [
      "Epoch 47/300, current batch loss: 0.3318: 100%|██████████| 23/23 [00:03<00:00,  6.93it/s]\n"
     ]
    },
    {
     "name": "stdout",
     "output_type": "stream",
     "text": [
      "[-] Training loss: 0.2078\n",
      "[-] Training accuracy: 0.9700795882951346\n",
      "Validation loss: 1.2693\n",
      "Validation accuracy: 0.6627146760343482\n",
      "Current patience: 4, current trial: 3.\n"
     ]
    },
    {
     "name": "stderr",
     "output_type": "stream",
     "text": [
      "Epoch 48/300, current batch loss: 0.2034: 100%|██████████| 23/23 [00:03<00:00,  6.85it/s]\n"
     ]
    },
    {
     "name": "stdout",
     "output_type": "stream",
     "text": [
      "[-] Training loss: 0.2322\n",
      "[-] Training accuracy: 0.9522497389994694\n",
      "Validation loss: 1.271\n",
      "Validation accuracy: 0.6545179547228728\n",
      "Current patience: 3, current trial: 3.\n"
     ]
    },
    {
     "name": "stderr",
     "output_type": "stream",
     "text": [
      "Epoch 49/300, current batch loss: 0.2922: 100%|██████████| 23/23 [00:03<00:00,  6.80it/s]\n"
     ]
    },
    {
     "name": "stdout",
     "output_type": "stream",
     "text": [
      "[-] Training loss: 0.236\n",
      "[-] Training accuracy: 0.9606859128954462\n",
      "Validation loss: 1.2765\n",
      "Validation accuracy: 0.6567622950819672\n",
      "Current patience: 2, current trial: 3.\n"
     ]
    },
    {
     "name": "stderr",
     "output_type": "stream",
     "text": [
      "Epoch 50/300, current batch loss: 0.0956: 100%|██████████| 23/23 [00:03<00:00,  6.93it/s]\n"
     ]
    },
    {
     "name": "stdout",
     "output_type": "stream",
     "text": [
      "[-] Training loss: 0.2161\n",
      "[-] Training accuracy: 0.9728268890200709\n",
      "Validation loss: 1.2666\n",
      "Validation accuracy: 0.673887587822014\n",
      "Current patience: 1, current trial: 3.\n"
     ]
    },
    {
     "name": "stderr",
     "output_type": "stream",
     "text": [
      "Epoch 51/300, current batch loss: 0.2446: 100%|██████████| 23/23 [00:03<00:00,  6.96it/s]\n"
     ]
    },
    {
     "name": "stdout",
     "output_type": "stream",
     "text": [
      "[-] Training loss: 0.2244\n",
      "[-] Training accuracy: 0.9598069879683033\n",
      "Validation loss: 1.2752\n",
      "Validation accuracy: 0.6627146760343481\n",
      "Current patience: 0, current trial: 3.\n",
      "Running out of patience, loading previous best model.\n",
      "Current learning rate: 1e-05\n"
     ]
    },
    {
     "name": "stderr",
     "output_type": "stream",
     "text": [
      "Epoch 52/300, current batch loss: 0.2945: 100%|██████████| 23/23 [00:03<00:00,  6.77it/s]\n"
     ]
    },
    {
     "name": "stdout",
     "output_type": "stream",
     "text": [
      "[-] Training loss: 0.2392\n",
      "[-] Training accuracy: 0.9614104634659618\n",
      "Validation loss: 1.2599\n",
      "Validation accuracy: 0.6597384855581576\n",
      "Current patience: 15, current trial: 2.\n"
     ]
    },
    {
     "name": "stderr",
     "output_type": "stream",
     "text": [
      "Epoch 53/300, current batch loss: 0.3131: 100%|██████████| 23/23 [00:03<00:00,  6.76it/s]\n"
     ]
    },
    {
     "name": "stdout",
     "output_type": "stream",
     "text": [
      "[-] Training loss: 0.2317\n",
      "[-] Training accuracy: 0.958668359430103\n",
      "Validation loss: 1.2692\n",
      "Validation accuracy: 0.6619828259172522\n",
      "Current patience: 14, current trial: 2.\n"
     ]
    },
    {
     "name": "stderr",
     "output_type": "stream",
     "text": [
      "Epoch 54/300, current batch loss: 0.3597: 100%|██████████| 23/23 [00:03<00:00,  6.82it/s]\n"
     ]
    },
    {
     "name": "stdout",
     "output_type": "stream",
     "text": [
      "[-] Training loss: 0.2054\n",
      "[-] Training accuracy: 0.9640362704112926\n",
      "Validation loss: 1.2679\n",
      "Validation accuracy: 0.6627146760343481\n",
      "Current patience: 13, current trial: 2.\n"
     ]
    },
    {
     "name": "stderr",
     "output_type": "stream",
     "text": [
      "Epoch 55/300, current batch loss: 0.3609: 100%|██████████| 23/23 [00:03<00:00,  6.71it/s]\n"
     ]
    },
    {
     "name": "stdout",
     "output_type": "stream",
     "text": [
      "[-] Training loss: 0.233\n",
      "[-] Training accuracy: 0.9595200149025128\n",
      "Validation loss: 1.265\n",
      "Validation accuracy: 0.6656908665105387\n",
      "Current patience: 12, current trial: 2.\n"
     ]
    },
    {
     "name": "stderr",
     "output_type": "stream",
     "text": [
      "Epoch 56/300, current batch loss: 0.2491: 100%|██████████| 23/23 [00:03<00:00,  6.76it/s]\n"
     ]
    },
    {
     "name": "stdout",
     "output_type": "stream",
     "text": [
      "[-] Training loss: 0.2083\n",
      "[-] Training accuracy: 0.9683278240873814\n",
      "Validation loss: 1.2698\n",
      "Validation accuracy: 0.6597384855581577\n",
      "Current patience: 11, current trial: 2.\n"
     ]
    },
    {
     "name": "stderr",
     "output_type": "stream",
     "text": [
      "Epoch 57/300, current batch loss: 0.2019: 100%|██████████| 23/23 [00:03<00:00,  6.82it/s]\n"
     ]
    },
    {
     "name": "stdout",
     "output_type": "stream",
     "text": [
      "[-] Training loss: 0.2147\n",
      "[-] Training accuracy: 0.9704112337011033\n",
      "Validation loss: 1.2735\n",
      "Validation accuracy: 0.6597384855581577\n",
      "Current patience: 10, current trial: 2.\n"
     ]
    },
    {
     "name": "stderr",
     "output_type": "stream",
     "text": [
      "Epoch 58/300, current batch loss: 0.0905: 100%|██████████| 23/23 [00:03<00:00,  6.72it/s]\n"
     ]
    },
    {
     "name": "stdout",
     "output_type": "stream",
     "text": [
      "[-] Training loss: 0.2081\n",
      "[-] Training accuracy: 0.9660213283710278\n",
      "Validation loss: 1.273\n",
      "Validation accuracy: 0.6545179547228728\n",
      "Current patience: 9, current trial: 2.\n"
     ]
    },
    {
     "name": "stderr",
     "output_type": "stream",
     "text": [
      "Epoch 59/300, current batch loss: 0.2478: 100%|██████████| 23/23 [00:03<00:00,  6.91it/s]\n"
     ]
    },
    {
     "name": "stdout",
     "output_type": "stream",
     "text": [
      "[-] Training loss: 0.2113\n",
      "[-] Training accuracy: 0.9691891100702577\n",
      "Validation loss: 1.2698\n",
      "Validation accuracy: 0.6574941451990632\n",
      "Current patience: 8, current trial: 2.\n"
     ]
    },
    {
     "name": "stderr",
     "output_type": "stream",
     "text": [
      "Epoch 60/300, current batch loss: 0.1217: 100%|██████████| 23/23 [00:03<00:00,  6.79it/s]\n"
     ]
    },
    {
     "name": "stdout",
     "output_type": "stream",
     "text": [
      "[-] Training loss: 0.2176\n",
      "[-] Training accuracy: 0.9601190476190475\n",
      "Validation loss: 1.2693\n",
      "Validation accuracy: 0.6574941451990632\n",
      "Current patience: 7, current trial: 2.\n"
     ]
    },
    {
     "name": "stderr",
     "output_type": "stream",
     "text": [
      "Epoch 61/300, current batch loss: 0.3253: 100%|██████████| 23/23 [00:03<00:00,  6.83it/s]\n"
     ]
    },
    {
     "name": "stdout",
     "output_type": "stream",
     "text": [
      "[-] Training loss: 0.2299\n",
      "[-] Training accuracy: 0.966916940068586\n",
      "Validation loss: 1.268\n",
      "Validation accuracy: 0.6604703356752537\n",
      "Current patience: 6, current trial: 2.\n"
     ]
    },
    {
     "name": "stderr",
     "output_type": "stream",
     "text": [
      "Epoch 62/300, current batch loss: 0.2377: 100%|██████████| 23/23 [00:03<00:00,  6.79it/s]\n"
     ]
    },
    {
     "name": "stdout",
     "output_type": "stream",
     "text": [
      "[-] Training loss: 0.205\n",
      "[-] Training accuracy: 0.9571103238866395\n",
      "Validation loss: 1.2737\n",
      "Validation accuracy: 0.6485655737704918\n",
      "Current patience: 5, current trial: 2.\n"
     ]
    },
    {
     "name": "stderr",
     "output_type": "stream",
     "text": [
      "Epoch 63/300, current batch loss: 0.2121: 100%|██████████| 23/23 [00:03<00:00,  6.81it/s]\n"
     ]
    },
    {
     "name": "stdout",
     "output_type": "stream",
     "text": [
      "[-] Training loss: 0.2008\n",
      "[-] Training accuracy: 0.9616489671224905\n",
      "Validation loss: 1.2742\n",
      "Validation accuracy: 0.6537861046057768\n",
      "Current patience: 4, current trial: 2.\n"
     ]
    },
    {
     "name": "stderr",
     "output_type": "stream",
     "text": [
      "Epoch 64/300, current batch loss: 0.2936: 100%|██████████| 23/23 [00:03<00:00,  6.85it/s]\n"
     ]
    },
    {
     "name": "stdout",
     "output_type": "stream",
     "text": [
      "[-] Training loss: 0.1999\n",
      "[-] Training accuracy: 0.9771594684385384\n",
      "Validation loss: 1.2698\n",
      "Validation accuracy: 0.6537861046057768\n",
      "Current patience: 3, current trial: 2.\n"
     ]
    },
    {
     "name": "stderr",
     "output_type": "stream",
     "text": [
      "Epoch 65/300, current batch loss: 0.1897: 100%|██████████| 23/23 [00:03<00:00,  6.61it/s]\n"
     ]
    },
    {
     "name": "stdout",
     "output_type": "stream",
     "text": [
      "[-] Training loss: 0.2012\n",
      "[-] Training accuracy: 0.9644957983193279\n",
      "Validation loss: 1.2727\n",
      "Validation accuracy: 0.6537861046057767\n",
      "Current patience: 2, current trial: 2.\n"
     ]
    },
    {
     "name": "stderr",
     "output_type": "stream",
     "text": [
      "Epoch 66/300, current batch loss: 0.0814: 100%|██████████| 23/23 [00:03<00:00,  6.71it/s]\n"
     ]
    },
    {
     "name": "stdout",
     "output_type": "stream",
     "text": [
      "[-] Training loss: 0.219\n",
      "[-] Training accuracy: 0.9732461796599828\n",
      "Validation loss: 1.2776\n",
      "Validation accuracy: 0.6537861046057768\n",
      "Current patience: 1, current trial: 2.\n"
     ]
    },
    {
     "name": "stderr",
     "output_type": "stream",
     "text": [
      "Epoch 67/300, current batch loss: 0.2576: 100%|██████████| 23/23 [00:03<00:00,  6.76it/s]\n"
     ]
    },
    {
     "name": "stdout",
     "output_type": "stream",
     "text": [
      "[-] Training loss: 0.1926\n",
      "[-] Training accuracy: 0.9574519093351627\n",
      "Validation loss: 1.276\n",
      "Validation accuracy: 0.6567622950819673\n",
      "Current patience: 0, current trial: 2.\n",
      "Running out of patience, loading previous best model.\n",
      "Current learning rate: 1e-05\n"
     ]
    },
    {
     "name": "stderr",
     "output_type": "stream",
     "text": [
      "Epoch 68/300, current batch loss: 0.3456: 100%|██████████| 23/23 [00:03<00:00,  6.98it/s]\n"
     ]
    },
    {
     "name": "stdout",
     "output_type": "stream",
     "text": [
      "[-] Training loss: 0.2311\n",
      "[-] Training accuracy: 0.9613649068969412\n",
      "Validation loss: 1.2591\n",
      "Validation accuracy: 0.6656908665105387\n",
      "Current patience: 15, current trial: 1.\n"
     ]
    },
    {
     "name": "stderr",
     "output_type": "stream",
     "text": [
      "Epoch 69/300, current batch loss: 0.4033: 100%|██████████| 23/23 [00:03<00:00,  6.63it/s]\n"
     ]
    },
    {
     "name": "stdout",
     "output_type": "stream",
     "text": [
      "[-] Training loss: 0.2341\n",
      "[-] Training accuracy: 0.964223302614097\n",
      "Validation loss: 1.2584\n",
      "Validation accuracy: 0.6656908665105387\n",
      "Current patience: 14, current trial: 1.\n"
     ]
    },
    {
     "name": "stderr",
     "output_type": "stream",
     "text": [
      "Epoch 70/300, current batch loss: 0.1395: 100%|██████████| 23/23 [00:03<00:00,  6.48it/s]\n"
     ]
    },
    {
     "name": "stdout",
     "output_type": "stream",
     "text": [
      "[-] Training loss: 0.2294\n",
      "[-] Training accuracy: 0.9630669775328531\n",
      "Validation loss: 1.2583\n",
      "Validation accuracy: 0.6545179547228728\n",
      "Current patience: 13, current trial: 1.\n"
     ]
    },
    {
     "name": "stderr",
     "output_type": "stream",
     "text": [
      "Epoch 71/300, current batch loss: 0.149: 100%|██████████| 23/23 [00:03<00:00,  6.63it/s] \n"
     ]
    },
    {
     "name": "stdout",
     "output_type": "stream",
     "text": [
      "[-] Training loss: 0.2112\n",
      "[-] Training accuracy: 0.9631847657762292\n",
      "Validation loss: 1.2723\n",
      "Validation accuracy: 0.6619828259172521\n",
      "Current patience: 12, current trial: 1.\n"
     ]
    },
    {
     "name": "stderr",
     "output_type": "stream",
     "text": [
      "Epoch 72/300, current batch loss: 0.3294: 100%|██████████| 23/23 [00:03<00:00,  6.59it/s]\n"
     ]
    },
    {
     "name": "stdout",
     "output_type": "stream",
     "text": [
      "[-] Training loss: 0.2174\n",
      "[-] Training accuracy: 0.9635116647465437\n",
      "Validation loss: 1.2717\n",
      "Validation accuracy: 0.6590066354410616\n",
      "Current patience: 11, current trial: 1.\n"
     ]
    },
    {
     "name": "stderr",
     "output_type": "stream",
     "text": [
      "Epoch 73/300, current batch loss: 0.1059: 100%|██████████| 23/23 [00:03<00:00,  6.63it/s]\n"
     ]
    },
    {
     "name": "stdout",
     "output_type": "stream",
     "text": [
      "[-] Training loss: 0.1977\n",
      "[-] Training accuracy: 0.9632209048002762\n",
      "Validation loss: 1.271\n",
      "Validation accuracy: 0.6508099141295863\n",
      "Current patience: 10, current trial: 1.\n"
     ]
    },
    {
     "name": "stderr",
     "output_type": "stream",
     "text": [
      "Epoch 74/300, current batch loss: 0.3087: 100%|██████████| 23/23 [00:03<00:00,  6.37it/s]\n"
     ]
    },
    {
     "name": "stdout",
     "output_type": "stream",
     "text": [
      "[-] Training loss: 0.2188\n",
      "[-] Training accuracy: 0.9581853038245001\n",
      "Validation loss: 1.2739\n",
      "Validation accuracy: 0.6567622950819673\n",
      "Current patience: 9, current trial: 1.\n"
     ]
    },
    {
     "name": "stderr",
     "output_type": "stream",
     "text": [
      "Epoch 75/300, current batch loss: 0.1519: 100%|██████████| 23/23 [00:03<00:00,  6.39it/s]\n"
     ]
    },
    {
     "name": "stdout",
     "output_type": "stream",
     "text": [
      "[-] Training loss: 0.2374\n",
      "[-] Training accuracy: 0.9555722683550738\n",
      "Validation loss: 1.2706\n",
      "Validation accuracy: 0.6485655737704918\n",
      "Current patience: 8, current trial: 1.\n"
     ]
    },
    {
     "name": "stderr",
     "output_type": "stream",
     "text": [
      "Epoch 76/300, current batch loss: 0.2468: 100%|██████████| 23/23 [00:03<00:00,  6.64it/s]\n"
     ]
    },
    {
     "name": "stdout",
     "output_type": "stream",
     "text": [
      "[-] Training loss: 0.2164\n",
      "[-] Training accuracy: 0.9649901049000177\n",
      "Validation loss: 1.2767\n",
      "Validation accuracy: 0.6597384855581577\n",
      "Current patience: 7, current trial: 1.\n"
     ]
    },
    {
     "name": "stderr",
     "output_type": "stream",
     "text": [
      "Epoch 77/300, current batch loss: 0.3123: 100%|██████████| 23/23 [00:03<00:00,  6.19it/s]\n"
     ]
    },
    {
     "name": "stdout",
     "output_type": "stream",
     "text": [
      "[-] Training loss: 0.2075\n",
      "[-] Training accuracy: 0.9652184309566881\n",
      "Validation loss: 1.2737\n",
      "Validation accuracy: 0.6567622950819673\n",
      "Current patience: 6, current trial: 1.\n"
     ]
    },
    {
     "name": "stderr",
     "output_type": "stream",
     "text": [
      "Epoch 78/300, current batch loss: 0.4925: 100%|██████████| 23/23 [00:03<00:00,  6.15it/s]\n"
     ]
    },
    {
     "name": "stdout",
     "output_type": "stream",
     "text": [
      "[-] Training loss: 0.2194\n",
      "[-] Training accuracy: 0.9661223450683734\n",
      "Validation loss: 1.2723\n",
      "Validation accuracy: 0.6567622950819672\n",
      "Current patience: 5, current trial: 1.\n"
     ]
    },
    {
     "name": "stderr",
     "output_type": "stream",
     "text": [
      "Epoch 79/300, current batch loss: 0.469: 100%|██████████| 23/23 [00:03<00:00,  5.95it/s] \n"
     ]
    },
    {
     "name": "stdout",
     "output_type": "stream",
     "text": [
      "[-] Training loss: 0.2077\n",
      "[-] Training accuracy: 0.9660178571428573\n",
      "Validation loss: 1.2664\n",
      "Validation accuracy: 0.668667056986729\n",
      "Current patience: 4, current trial: 1.\n"
     ]
    },
    {
     "name": "stderr",
     "output_type": "stream",
     "text": [
      "Epoch 80/300, current batch loss: 0.3648: 100%|██████████| 23/23 [00:03<00:00,  6.21it/s]\n"
     ]
    },
    {
     "name": "stdout",
     "output_type": "stream",
     "text": [
      "[-] Training loss: 0.2172\n",
      "[-] Training accuracy: 0.9686291929707206\n",
      "Validation loss: 1.2725\n",
      "Validation accuracy: 0.6597384855581578\n",
      "Current patience: 3, current trial: 1.\n"
     ]
    },
    {
     "name": "stderr",
     "output_type": "stream",
     "text": [
      "Epoch 81/300, current batch loss: 0.1564: 100%|██████████| 23/23 [00:03<00:00,  5.78it/s]\n"
     ]
    },
    {
     "name": "stdout",
     "output_type": "stream",
     "text": [
      "[-] Training loss: 0.2038\n",
      "[-] Training accuracy: 0.966830829554044\n",
      "Validation loss: 1.2783\n",
      "Validation accuracy: 0.6597384855581576\n",
      "Current patience: 2, current trial: 1.\n"
     ]
    },
    {
     "name": "stderr",
     "output_type": "stream",
     "text": [
      "Epoch 82/300, current batch loss: 0.213: 100%|██████████| 23/23 [00:03<00:00,  6.18it/s] \n"
     ]
    },
    {
     "name": "stdout",
     "output_type": "stream",
     "text": [
      "[-] Training loss: 0.1973\n",
      "[-] Training accuracy: 0.970634132501064\n",
      "Validation loss: 1.2702\n",
      "Validation accuracy: 0.6515417642466823\n",
      "Current patience: 1, current trial: 1.\n"
     ]
    },
    {
     "name": "stderr",
     "output_type": "stream",
     "text": [
      "Epoch 83/300, current batch loss: 0.2217: 100%|██████████| 23/23 [00:03<00:00,  6.32it/s]\n"
     ]
    },
    {
     "name": "stdout",
     "output_type": "stream",
     "text": [
      "[-] Training loss: 0.2054\n",
      "[-] Training accuracy: 0.957856254284191\n",
      "Validation loss: 1.2735\n",
      "Validation accuracy: 0.6515417642466822\n",
      "Current patience: 0, current trial: 1.\n",
      "Running out of patience, loading previous best model.\n",
      "Current learning rate: 1e-05\n",
      "Running out of patience, early stopping.\n",
      "Test set performance: 1.3250616715878856\n",
      "Test set accuracy is 0.5947521865889213\n"
     ]
    },
    {
     "data": {
      "text/html": [
       "Waiting for W&B process to finish... <strong style=\"color:green\">(success).</strong>"
      ],
      "text/plain": [
       "<IPython.core.display.HTML object>"
      ]
     },
     "metadata": {},
     "output_type": "display_data"
    },
    {
     "name": "stderr",
     "output_type": "stream",
     "text": [
      "wandb: WARNING Source type is set to 'repo' but some required information is missing from the environment. A job will not be created from this run. See https://docs.wandb.ai/guides/launch/create-job\n"
     ]
    },
    {
     "data": {
      "text/html": [
       "<style>\n",
       "    table.wandb td:nth-child(1) { padding: 0 10px; text-align: left ; width: auto;} td:nth-child(2) {text-align: left ; width: 100%}\n",
       "    .wandb-row { display: flex; flex-direction: row; flex-wrap: wrap; justify-content: flex-start; width: 100% }\n",
       "    .wandb-col { display: flex; flex-direction: column; flex-basis: 100%; flex: 1; padding: 10px; }\n",
       "    </style>\n",
       "<div class=\"wandb-row\"><div class=\"wandb-col\"><h3>Run history:</h3><br/><table class=\"wandb\"><tr><td>Batch Accuracy</td><td>▁▄▅▇▆▇▇███▇█▇▇██▇▇▇▇▆▇█████▇▇███▇███▆██▇</td></tr><tr><td>Batch Loss</td><td>▃▆█▆▂▃▃▃▂▂▂▂▂▂▂▂▂▃▂▁▂▂▂▂▁▂▁▁▂▁▁▂▃▂▂▁▃▁▁▂</td></tr><tr><td>Epoch</td><td>▁▁▁▂▂▂▂▂▂▃▃▃▃▃▃▄▄▄▄▄▅▅▅▅▅▅▆▆▆▆▆▆▇▇▇▇▇███</td></tr><tr><td>Test Accuracy</td><td>▁</td></tr><tr><td>Test Loss</td><td>▁</td></tr><tr><td>Training Accuracy</td><td>▁▄▆▆▇▇▇█████████████████████████████████</td></tr><tr><td>Training Loss</td><td>█▇▆▅▄▃▃▂▂▂▂▁▁▁▁▁▁▁▁▁▁▁▁▁▁▁▁▁▁▁▁▁▁▁▁▁▁▁▁▁</td></tr><tr><td>Validation Accuracy</td><td>▁▅▅▆▇▇▇▆▆▇▇█▇▇▇▇▇▇▇████▇████▇█▇▇█▇▇▇█▇█▇</td></tr><tr><td>Validation Loss</td><td>█▆▄▃▂▁▂▂▁▂▂▂▂▂▂▂▂▃▂▂▁▂▁▁▂▁▁▂▁▁▂▂▁▁▂▂▂▂▂▂</td></tr></table><br/></div><div class=\"wandb-col\"><h3>Run summary:</h3><br/><table class=\"wandb\"><tr><td>Batch Accuracy</td><td>0.92157</td></tr><tr><td>Batch Loss</td><td>0.2217</td></tr><tr><td>Epoch</td><td>83</td></tr><tr><td>Test Accuracy</td><td>0.59475</td></tr><tr><td>Test Loss</td><td>1.32506</td></tr><tr><td>Training Accuracy</td><td>0.95786</td></tr><tr><td>Training Loss</td><td>0.2054</td></tr><tr><td>Validation Accuracy</td><td>0.65154</td></tr><tr><td>Validation Loss</td><td>1.27346</td></tr></table><br/></div></div>"
      ],
      "text/plain": [
       "<IPython.core.display.HTML object>"
      ]
     },
     "metadata": {},
     "output_type": "display_data"
    },
    {
     "data": {
      "text/html": [
       " View run <strong style=\"color:#cdcd00\">iconic-butterfly-82</strong> at: <a href='https://wandb.ai/ejbejaranos22/Baseline-multimodal/runs/a3k0wa5t' target=\"_blank\">https://wandb.ai/ejbejaranos22/Baseline-multimodal/runs/a3k0wa5t</a><br/>Synced 6 W&B file(s), 0 media file(s), 0 artifact file(s) and 0 other file(s)"
      ],
      "text/plain": [
       "<IPython.core.display.HTML object>"
      ]
     },
     "metadata": {},
     "output_type": "display_data"
    },
    {
     "data": {
      "text/html": [
       "Find logs at: <code>./wandb/run-20230925_172456-a3k0wa5t/logs</code>"
      ],
      "text/plain": [
       "<IPython.core.display.HTML object>"
      ]
     },
     "metadata": {},
     "output_type": "display_data"
    },
    {
     "name": "stdout",
     "output_type": "stream",
     "text": [
      "0.5\n"
     ]
    },
    {
     "data": {
      "application/vnd.jupyter.widget-view+json": {
       "model_id": "56a2adeb35994da8a443e54adaf7ca73",
       "version_major": 2,
       "version_minor": 0
      },
      "text/plain": [
       "VBox(children=(Label(value='Waiting for wandb.init()...\\r'), FloatProgress(value=0.011135855555767193, max=1.0…"
      ]
     },
     "metadata": {},
     "output_type": "display_data"
    },
    {
     "data": {
      "text/html": [
       "Tracking run with wandb version 0.15.11"
      ],
      "text/plain": [
       "<IPython.core.display.HTML object>"
      ]
     },
     "metadata": {},
     "output_type": "display_data"
    },
    {
     "data": {
      "text/html": [
       "Run data is saved locally in <code>/Users/lernmi/Desktop/EmotionUnify/src/datasets/CMU-MultimodalSDK/wandb/run-20230925_173001-nytyhavg</code>"
      ],
      "text/plain": [
       "<IPython.core.display.HTML object>"
      ]
     },
     "metadata": {},
     "output_type": "display_data"
    },
    {
     "data": {
      "text/html": [
       "Syncing run <strong><a href='https://wandb.ai/ejbejaranos22/Baseline-multimodal/runs/nytyhavg' target=\"_blank\">cool-dew-83</a></strong> to <a href='https://wandb.ai/ejbejaranos22/Baseline-multimodal' target=\"_blank\">Weights & Biases</a> (<a href='https://wandb.me/run' target=\"_blank\">docs</a>)<br/>"
      ],
      "text/plain": [
       "<IPython.core.display.HTML object>"
      ]
     },
     "metadata": {},
     "output_type": "display_data"
    },
    {
     "data": {
      "text/html": [
       " View project at <a href='https://wandb.ai/ejbejaranos22/Baseline-multimodal' target=\"_blank\">https://wandb.ai/ejbejaranos22/Baseline-multimodal</a>"
      ],
      "text/plain": [
       "<IPython.core.display.HTML object>"
      ]
     },
     "metadata": {},
     "output_type": "display_data"
    },
    {
     "data": {
      "text/html": [
       " View run at <a href='https://wandb.ai/ejbejaranos22/Baseline-multimodal/runs/nytyhavg' target=\"_blank\">https://wandb.ai/ejbejaranos22/Baseline-multimodal/runs/nytyhavg</a>"
      ],
      "text/plain": [
       "<IPython.core.display.HTML object>"
      ]
     },
     "metadata": {},
     "output_type": "display_data"
    },
    {
     "name": "stderr",
     "output_type": "stream",
     "text": [
      "/Users/lernmi/miniconda3/envs/emotionunify/lib/python3.11/site-packages/torch/optim/lr_scheduler.py:139: UserWarning: Detected call of `lr_scheduler.step()` before `optimizer.step()`. In PyTorch 1.1.0 and later, you should call them in the opposite order: `optimizer.step()` before `lr_scheduler.step()`.  Failure to do this will result in PyTorch skipping the first value of the learning rate schedule. See more details at https://pytorch.org/docs/stable/optim.html#how-to-adjust-learning-rate\n",
      "  warnings.warn(\"Detected call of `lr_scheduler.step()` before `optimizer.step()`. \"\n"
     ]
    },
    {
     "name": "stdout",
     "output_type": "stream",
     "text": [
      "================================================================================\n",
      "[-->] [120, 18, 29]\n",
      "[-->] 83\n",
      "================================================================================\n",
      "Using LateFusionLSTM\n"
     ]
    },
    {
     "name": "stderr",
     "output_type": "stream",
     "text": [
      "Epoch 0/300, current batch loss: 2.3447: 100%|██████████| 23/23 [00:03<00:00,  6.40it/s]\n"
     ]
    },
    {
     "name": "stdout",
     "output_type": "stream",
     "text": [
      "[-] Training loss: 1.3718\n",
      "[-] Training accuracy: 0.49518255578093306\n",
      "Validation loss: 1.4431\n",
      "Validation accuracy: 0.46540788446526155\n",
      "Current patience: 15, current trial: 3.\n",
      "Found new best model on dev set!\n"
     ]
    },
    {
     "name": "stderr",
     "output_type": "stream",
     "text": [
      "Epoch 1/300, current batch loss: 1.2108: 100%|██████████| 23/23 [00:03<00:00,  6.60it/s]\n"
     ]
    },
    {
     "name": "stdout",
     "output_type": "stream",
     "text": [
      "[-] Training loss: 1.329\n",
      "[-] Training accuracy: 0.5451351730671393\n",
      "Validation loss: 1.4257\n",
      "Validation accuracy: 0.5309328649492584\n",
      "Current patience: 15, current trial: 3.\n",
      "Found new best model on dev set!\n"
     ]
    },
    {
     "name": "stderr",
     "output_type": "stream",
     "text": [
      "Epoch 2/300, current batch loss: 1.7315: 100%|██████████| 23/23 [00:03<00:00,  6.49it/s]\n"
     ]
    },
    {
     "name": "stdout",
     "output_type": "stream",
     "text": [
      "[-] Training loss: 1.2856\n",
      "[-] Training accuracy: 0.5793566920695403\n",
      "Validation loss: 1.4143\n",
      "Validation accuracy: 0.5592310694769711\n",
      "Current patience: 15, current trial: 3.\n",
      "Found new best model on dev set!\n"
     ]
    },
    {
     "name": "stderr",
     "output_type": "stream",
     "text": [
      "Epoch 3/300, current batch loss: 2.1351: 100%|██████████| 23/23 [00:03<00:00,  6.35it/s]\n"
     ]
    },
    {
     "name": "stdout",
     "output_type": "stream",
     "text": [
      "[-] Training loss: 1.2449\n",
      "[-] Training accuracy: 0.6092017385466583\n",
      "Validation loss: 1.4002\n",
      "Validation accuracy: 0.582308743169399\n",
      "Current patience: 15, current trial: 3.\n",
      "Found new best model on dev set!\n"
     ]
    },
    {
     "name": "stderr",
     "output_type": "stream",
     "text": [
      "Epoch 4/300, current batch loss: 0.8837: 100%|██████████| 23/23 [00:04<00:00,  5.29it/s]\n"
     ]
    },
    {
     "name": "stdout",
     "output_type": "stream",
     "text": [
      "[-] Training loss: 1.2089\n",
      "[-] Training accuracy: 0.6277663498368563\n",
      "Validation loss: 1.3895\n",
      "Validation accuracy: 0.5905054644808744\n",
      "Current patience: 15, current trial: 3.\n",
      "Found new best model on dev set!\n"
     ]
    },
    {
     "name": "stderr",
     "output_type": "stream",
     "text": [
      "Epoch 5/300, current batch loss: 1.2101: 100%|██████████| 23/23 [00:04<00:00,  4.77it/s]\n"
     ]
    },
    {
     "name": "stdout",
     "output_type": "stream",
     "text": [
      "[-] Training loss: 1.151\n",
      "[-] Training accuracy: 0.6815891056520937\n",
      "Validation loss: 1.3784\n",
      "Validation accuracy: 0.5987021857923496\n",
      "Current patience: 15, current trial: 3.\n",
      "Found new best model on dev set!\n"
     ]
    },
    {
     "name": "stderr",
     "output_type": "stream",
     "text": [
      "Epoch 6/300, current batch loss: 1.833: 100%|██████████| 23/23 [00:03<00:00,  6.50it/s] \n"
     ]
    },
    {
     "name": "stdout",
     "output_type": "stream",
     "text": [
      "[-] Training loss: 1.1299\n",
      "[-] Training accuracy: 0.6990687883545027\n",
      "Validation loss: 1.3652\n",
      "Validation accuracy: 0.6106069476971117\n",
      "Current patience: 15, current trial: 3.\n",
      "Found new best model on dev set!\n"
     ]
    },
    {
     "name": "stderr",
     "output_type": "stream",
     "text": [
      "Epoch 7/300, current batch loss: 1.9703: 100%|██████████| 23/23 [00:03<00:00,  6.55it/s]\n"
     ]
    },
    {
     "name": "stdout",
     "output_type": "stream",
     "text": [
      "[-] Training loss: 1.099\n",
      "[-] Training accuracy: 0.6935151007443475\n",
      "Validation loss: 1.3547\n",
      "Validation accuracy: 0.613583138173302\n",
      "Current patience: 15, current trial: 3.\n",
      "Found new best model on dev set!\n"
     ]
    },
    {
     "name": "stderr",
     "output_type": "stream",
     "text": [
      "Epoch 8/300, current batch loss: 1.1296: 100%|██████████| 23/23 [00:03<00:00,  6.62it/s]\n"
     ]
    },
    {
     "name": "stdout",
     "output_type": "stream",
     "text": [
      "[-] Training loss: 1.0443\n",
      "[-] Training accuracy: 0.7461230142005626\n",
      "Validation loss: 1.3412\n",
      "Validation accuracy: 0.6046545667447307\n",
      "Current patience: 15, current trial: 3.\n",
      "Found new best model on dev set!\n"
     ]
    },
    {
     "name": "stderr",
     "output_type": "stream",
     "text": [
      "Epoch 9/300, current batch loss: 1.0151: 100%|██████████| 23/23 [00:03<00:00,  6.48it/s]\n"
     ]
    },
    {
     "name": "stdout",
     "output_type": "stream",
     "text": [
      "[-] Training loss: 1.0291\n",
      "[-] Training accuracy: 0.7394552776600254\n",
      "Validation loss: 1.3284\n",
      "Validation accuracy: 0.629976580796253\n",
      "Current patience: 15, current trial: 3.\n",
      "Found new best model on dev set!\n"
     ]
    },
    {
     "name": "stderr",
     "output_type": "stream",
     "text": [
      "Epoch 10/300, current batch loss: 2.1853: 100%|██████████| 23/23 [00:03<00:00,  6.51it/s]\n"
     ]
    },
    {
     "name": "stdout",
     "output_type": "stream",
     "text": [
      "[-] Training loss: 0.9985\n",
      "[-] Training accuracy: 0.767915381878558\n",
      "Validation loss: 1.314\n",
      "Validation accuracy: 0.6277322404371586\n",
      "Current patience: 15, current trial: 3.\n",
      "Found new best model on dev set!\n"
     ]
    },
    {
     "name": "stderr",
     "output_type": "stream",
     "text": [
      "Epoch 11/300, current batch loss: 1.3915: 100%|██████████| 23/23 [00:03<00:00,  6.44it/s]\n"
     ]
    },
    {
     "name": "stdout",
     "output_type": "stream",
     "text": [
      "[-] Training loss: 0.9541\n",
      "[-] Training accuracy: 0.7670706689212969\n",
      "Validation loss: 1.3139\n",
      "Validation accuracy: 0.6277322404371585\n",
      "Current patience: 15, current trial: 3.\n",
      "Found new best model on dev set!\n"
     ]
    },
    {
     "name": "stderr",
     "output_type": "stream",
     "text": [
      "Epoch 12/300, current batch loss: 1.9852: 100%|██████████| 23/23 [00:03<00:00,  6.41it/s]\n"
     ]
    },
    {
     "name": "stdout",
     "output_type": "stream",
     "text": [
      "[-] Training loss: 0.9257\n",
      "[-] Training accuracy: 0.799590815347118\n",
      "Validation loss: 1.314\n",
      "Validation accuracy: 0.6329527712724434\n",
      "Current patience: 15, current trial: 3.\n"
     ]
    },
    {
     "name": "stderr",
     "output_type": "stream",
     "text": [
      "Epoch 13/300, current batch loss: 1.8773: 100%|██████████| 23/23 [00:03<00:00,  6.58it/s]\n"
     ]
    },
    {
     "name": "stdout",
     "output_type": "stream",
     "text": [
      "[-] Training loss: 0.8733\n",
      "[-] Training accuracy: 0.8062287350440692\n",
      "Validation loss: 1.2935\n",
      "Validation accuracy: 0.6619828259172521\n",
      "Current patience: 14, current trial: 3.\n",
      "Found new best model on dev set!\n"
     ]
    },
    {
     "name": "stderr",
     "output_type": "stream",
     "text": [
      "Epoch 14/300, current batch loss: 0.9028: 100%|██████████| 23/23 [00:03<00:00,  6.58it/s]\n"
     ]
    },
    {
     "name": "stdout",
     "output_type": "stream",
     "text": [
      "[-] Training loss: 0.84\n",
      "[-] Training accuracy: 0.826751270773075\n",
      "Validation loss: 1.2841\n",
      "Validation accuracy: 0.6537861046057768\n",
      "Current patience: 15, current trial: 3.\n",
      "Found new best model on dev set!\n"
     ]
    },
    {
     "name": "stderr",
     "output_type": "stream",
     "text": [
      "Epoch 15/300, current batch loss: 1.4659: 100%|██████████| 23/23 [00:03<00:00,  6.45it/s]\n"
     ]
    },
    {
     "name": "stdout",
     "output_type": "stream",
     "text": [
      "[-] Training loss: 0.8168\n",
      "[-] Training accuracy: 0.8453951039046874\n",
      "Validation loss: 1.2943\n",
      "Validation accuracy: 0.6552985948477751\n",
      "Current patience: 15, current trial: 3.\n"
     ]
    },
    {
     "name": "stderr",
     "output_type": "stream",
     "text": [
      "Epoch 16/300, current batch loss: 1.0046: 100%|██████████| 23/23 [00:03<00:00,  6.51it/s]\n"
     ]
    },
    {
     "name": "stdout",
     "output_type": "stream",
     "text": [
      "[-] Training loss: 0.8\n",
      "[-] Training accuracy: 0.8417144749404367\n",
      "Validation loss: 1.2764\n",
      "Validation accuracy: 0.6537861046057767\n",
      "Current patience: 14, current trial: 3.\n",
      "Found new best model on dev set!\n"
     ]
    },
    {
     "name": "stderr",
     "output_type": "stream",
     "text": [
      "Epoch 17/300, current batch loss: 1.404: 100%|██████████| 23/23 [00:03<00:00,  6.32it/s] \n"
     ]
    },
    {
     "name": "stdout",
     "output_type": "stream",
     "text": [
      "[-] Training loss: 0.7736\n",
      "[-] Training accuracy: 0.8482258403361346\n",
      "Validation loss: 1.2581\n",
      "Validation accuracy: 0.6597384855581577\n",
      "Current patience: 15, current trial: 3.\n",
      "Found new best model on dev set!\n"
     ]
    },
    {
     "name": "stderr",
     "output_type": "stream",
     "text": [
      "Epoch 18/300, current batch loss: 0.7999: 100%|██████████| 23/23 [00:03<00:00,  6.57it/s]\n"
     ]
    },
    {
     "name": "stdout",
     "output_type": "stream",
     "text": [
      "[-] Training loss: 0.7353\n",
      "[-] Training accuracy: 0.8642267059107906\n",
      "Validation loss: 1.2681\n",
      "Validation accuracy: 0.6500780640124902\n",
      "Current patience: 15, current trial: 3.\n"
     ]
    },
    {
     "name": "stderr",
     "output_type": "stream",
     "text": [
      "Epoch 19/300, current batch loss: 0.7168: 100%|██████████| 23/23 [00:03<00:00,  6.38it/s]\n"
     ]
    },
    {
     "name": "stdout",
     "output_type": "stream",
     "text": [
      "[-] Training loss: 0.7148\n",
      "[-] Training accuracy: 0.8773497517819009\n",
      "Validation loss: 1.2822\n",
      "Validation accuracy: 0.6448575331772053\n",
      "Current patience: 14, current trial: 3.\n"
     ]
    },
    {
     "name": "stderr",
     "output_type": "stream",
     "text": [
      "Epoch 20/300, current batch loss: 0.3387: 100%|██████████| 23/23 [00:03<00:00,  6.60it/s]\n"
     ]
    },
    {
     "name": "stdout",
     "output_type": "stream",
     "text": [
      "[-] Training loss: 0.6978\n",
      "[-] Training accuracy: 0.8822754925015273\n",
      "Validation loss: 1.2785\n",
      "Validation accuracy: 0.6522736143637784\n",
      "Current patience: 13, current trial: 3.\n"
     ]
    },
    {
     "name": "stderr",
     "output_type": "stream",
     "text": [
      "Epoch 21/300, current batch loss: 0.8068: 100%|██████████| 23/23 [00:03<00:00,  6.49it/s]\n"
     ]
    },
    {
     "name": "stdout",
     "output_type": "stream",
     "text": [
      "[-] Training loss: 0.7029\n",
      "[-] Training accuracy: 0.8852119448184953\n",
      "Validation loss: 1.2664\n",
      "Validation accuracy: 0.6574941451990632\n",
      "Current patience: 12, current trial: 3.\n"
     ]
    },
    {
     "name": "stderr",
     "output_type": "stream",
     "text": [
      "Epoch 22/300, current batch loss: 0.8665: 100%|██████████| 23/23 [00:03<00:00,  6.49it/s]\n"
     ]
    },
    {
     "name": "stdout",
     "output_type": "stream",
     "text": [
      "[-] Training loss: 0.6567\n",
      "[-] Training accuracy: 0.8808397607540009\n",
      "Validation loss: 1.2752\n",
      "Validation accuracy: 0.6545179547228727\n",
      "Current patience: 11, current trial: 3.\n"
     ]
    },
    {
     "name": "stderr",
     "output_type": "stream",
     "text": [
      "Epoch 23/300, current batch loss: 1.016: 100%|██████████| 23/23 [00:03<00:00,  6.43it/s] \n"
     ]
    },
    {
     "name": "stdout",
     "output_type": "stream",
     "text": [
      "[-] Training loss: 0.6694\n",
      "[-] Training accuracy: 0.8944299264421217\n",
      "Validation loss: 1.2704\n",
      "Validation accuracy: 0.6552498048399689\n",
      "Current patience: 10, current trial: 3.\n"
     ]
    },
    {
     "name": "stderr",
     "output_type": "stream",
     "text": [
      "Epoch 24/300, current batch loss: 0.6369: 100%|██████████| 23/23 [00:03<00:00,  6.47it/s]\n"
     ]
    },
    {
     "name": "stdout",
     "output_type": "stream",
     "text": [
      "[-] Training loss: 0.6197\n",
      "[-] Training accuracy: 0.9048514920749134\n",
      "Validation loss: 1.2794\n",
      "Validation accuracy: 0.6426131928181108\n",
      "Current patience: 9, current trial: 3.\n"
     ]
    },
    {
     "name": "stderr",
     "output_type": "stream",
     "text": [
      "Epoch 25/300, current batch loss: 0.5377: 100%|██████████| 23/23 [00:03<00:00,  6.33it/s]\n"
     ]
    },
    {
     "name": "stdout",
     "output_type": "stream",
     "text": [
      "[-] Training loss: 0.6172\n",
      "[-] Training accuracy: 0.9087488142109992\n",
      "Validation loss: 1.2647\n",
      "Validation accuracy: 0.6567622950819673\n",
      "Current patience: 8, current trial: 3.\n"
     ]
    },
    {
     "name": "stderr",
     "output_type": "stream",
     "text": [
      "Epoch 26/300, current batch loss: 0.7511: 100%|██████████| 23/23 [00:03<00:00,  6.61it/s]\n"
     ]
    },
    {
     "name": "stdout",
     "output_type": "stream",
     "text": [
      "[-] Training loss: 0.5963\n",
      "[-] Training accuracy: 0.9075937075861272\n",
      "Validation loss: 1.276\n",
      "Validation accuracy: 0.6284640905542545\n",
      "Current patience: 7, current trial: 3.\n"
     ]
    },
    {
     "name": "stderr",
     "output_type": "stream",
     "text": [
      "Epoch 27/300, current batch loss: 0.5572: 100%|██████████| 23/23 [00:03<00:00,  6.42it/s]\n"
     ]
    },
    {
     "name": "stdout",
     "output_type": "stream",
     "text": [
      "[-] Training loss: 0.5843\n",
      "[-] Training accuracy: 0.9188442211055277\n",
      "Validation loss: 1.254\n",
      "Validation accuracy: 0.6515417642466823\n",
      "Current patience: 6, current trial: 3.\n",
      "Found new best model on dev set!\n"
     ]
    },
    {
     "name": "stderr",
     "output_type": "stream",
     "text": [
      "Epoch 28/300, current batch loss: 1.0799: 100%|██████████| 23/23 [00:03<00:00,  6.64it/s]\n"
     ]
    },
    {
     "name": "stdout",
     "output_type": "stream",
     "text": [
      "[-] Training loss: 0.5842\n",
      "[-] Training accuracy: 0.9132463782158566\n",
      "Validation loss: 1.2502\n",
      "Validation accuracy: 0.6314402810304449\n",
      "Current patience: 15, current trial: 3.\n",
      "Found new best model on dev set!\n"
     ]
    },
    {
     "name": "stderr",
     "output_type": "stream",
     "text": [
      "Epoch 29/300, current batch loss: 0.9466: 100%|██████████| 23/23 [00:03<00:00,  6.19it/s]\n"
     ]
    },
    {
     "name": "stdout",
     "output_type": "stream",
     "text": [
      "[-] Training loss: 0.5962\n",
      "[-] Training accuracy: 0.9146495774102148\n",
      "Validation loss: 1.2544\n",
      "Validation accuracy: 0.6552498048399689\n",
      "Current patience: 15, current trial: 3.\n"
     ]
    },
    {
     "name": "stderr",
     "output_type": "stream",
     "text": [
      "Epoch 30/300, current batch loss: 0.3525: 100%|██████████| 23/23 [00:03<00:00,  6.75it/s]\n"
     ]
    },
    {
     "name": "stdout",
     "output_type": "stream",
     "text": [
      "[-] Training loss: 0.5619\n",
      "[-] Training accuracy: 0.9257729072541\n",
      "Validation loss: 1.266\n",
      "Validation accuracy: 0.6552498048399686\n",
      "Current patience: 14, current trial: 3.\n"
     ]
    },
    {
     "name": "stderr",
     "output_type": "stream",
     "text": [
      "Epoch 31/300, current batch loss: 0.8411: 100%|██████████| 23/23 [00:03<00:00,  6.58it/s]\n"
     ]
    },
    {
     "name": "stdout",
     "output_type": "stream",
     "text": [
      "[-] Training loss: 0.5635\n",
      "[-] Training accuracy: 0.9032864205004034\n",
      "Validation loss: 1.2556\n",
      "Validation accuracy: 0.6463212334113974\n",
      "Current patience: 13, current trial: 3.\n"
     ]
    },
    {
     "name": "stderr",
     "output_type": "stream",
     "text": [
      "Epoch 32/300, current batch loss: 0.7997: 100%|██████████| 23/23 [00:03<00:00,  6.44it/s]\n"
     ]
    },
    {
     "name": "stdout",
     "output_type": "stream",
     "text": [
      "[-] Training loss: 0.5511\n",
      "[-] Training accuracy: 0.9260242045536161\n",
      "Validation loss: 1.2621\n",
      "Validation accuracy: 0.6492974238875878\n",
      "Current patience: 12, current trial: 3.\n"
     ]
    },
    {
     "name": "stderr",
     "output_type": "stream",
     "text": [
      "Epoch 33/300, current batch loss: 0.5221: 100%|██████████| 23/23 [00:03<00:00,  6.48it/s]\n"
     ]
    },
    {
     "name": "stdout",
     "output_type": "stream",
     "text": [
      "[-] Training loss: 0.5487\n",
      "[-] Training accuracy: 0.9308711484593838\n",
      "Validation loss: 1.2554\n",
      "Validation accuracy: 0.6545179547228728\n",
      "Current patience: 11, current trial: 3.\n"
     ]
    },
    {
     "name": "stderr",
     "output_type": "stream",
     "text": [
      "Epoch 34/300, current batch loss: 0.3853: 100%|██████████| 23/23 [00:03<00:00,  6.48it/s]\n"
     ]
    },
    {
     "name": "stdout",
     "output_type": "stream",
     "text": [
      "[-] Training loss: 0.5212\n",
      "[-] Training accuracy: 0.9233978073988215\n",
      "Validation loss: 1.2463\n",
      "Validation accuracy: 0.6411007025761125\n",
      "Current patience: 10, current trial: 3.\n",
      "Found new best model on dev set!\n"
     ]
    },
    {
     "name": "stderr",
     "output_type": "stream",
     "text": [
      "Epoch 35/300, current batch loss: 0.7229: 100%|██████████| 23/23 [00:03<00:00,  6.43it/s]\n"
     ]
    },
    {
     "name": "stdout",
     "output_type": "stream",
     "text": [
      "[-] Training loss: 0.5426\n",
      "[-] Training accuracy: 0.9300983498238005\n",
      "Validation loss: 1.2511\n",
      "Validation accuracy: 0.6492974238875879\n",
      "Current patience: 15, current trial: 3.\n"
     ]
    },
    {
     "name": "stderr",
     "output_type": "stream",
     "text": [
      "Epoch 36/300, current batch loss: 0.6226: 100%|██████████| 23/23 [00:03<00:00,  6.39it/s]\n"
     ]
    },
    {
     "name": "stdout",
     "output_type": "stream",
     "text": [
      "[-] Training loss: 0.5421\n",
      "[-] Training accuracy: 0.9180756555380428\n",
      "Validation loss: 1.276\n",
      "Validation accuracy: 0.6120706479313037\n",
      "Current patience: 14, current trial: 3.\n"
     ]
    },
    {
     "name": "stderr",
     "output_type": "stream",
     "text": [
      "Epoch 37/300, current batch loss: 0.6766: 100%|██████████| 23/23 [00:03<00:00,  6.59it/s]\n"
     ]
    },
    {
     "name": "stdout",
     "output_type": "stream",
     "text": [
      "[-] Training loss: 0.5335\n",
      "[-] Training accuracy: 0.9171774849377836\n",
      "Validation loss: 1.2468\n",
      "Validation accuracy: 0.6552498048399688\n",
      "Current patience: 13, current trial: 3.\n"
     ]
    },
    {
     "name": "stderr",
     "output_type": "stream",
     "text": [
      "Epoch 38/300, current batch loss: 1.0086: 100%|██████████| 23/23 [00:03<00:00,  6.42it/s]\n"
     ]
    },
    {
     "name": "stdout",
     "output_type": "stream",
     "text": [
      "[-] Training loss: 0.548\n",
      "[-] Training accuracy: 0.9311790505675953\n",
      "Validation loss: 1.2585\n",
      "Validation accuracy: 0.6426131928181109\n",
      "Current patience: 12, current trial: 3.\n"
     ]
    },
    {
     "name": "stderr",
     "output_type": "stream",
     "text": [
      "Epoch 39/300, current batch loss: 0.2292: 100%|██████████| 23/23 [00:03<00:00,  6.43it/s]\n"
     ]
    },
    {
     "name": "stdout",
     "output_type": "stream",
     "text": [
      "[-] Training loss: 0.5071\n",
      "[-] Training accuracy: 0.9422523123479788\n",
      "Validation loss: 1.2703\n",
      "Validation accuracy: 0.6545179547228728\n",
      "Current patience: 11, current trial: 3.\n"
     ]
    },
    {
     "name": "stderr",
     "output_type": "stream",
     "text": [
      "Epoch 40/300, current batch loss: 0.2678: 100%|██████████| 23/23 [00:03<00:00,  6.50it/s]\n"
     ]
    },
    {
     "name": "stdout",
     "output_type": "stream",
     "text": [
      "[-] Training loss: 0.4972\n",
      "[-] Training accuracy: 0.9311931473620377\n",
      "Validation loss: 1.2599\n",
      "Validation accuracy: 0.6664227166276345\n",
      "Current patience: 10, current trial: 3.\n"
     ]
    },
    {
     "name": "stderr",
     "output_type": "stream",
     "text": [
      "Epoch 41/300, current batch loss: 0.7874: 100%|██████████| 23/23 [00:03<00:00,  6.42it/s]\n"
     ]
    },
    {
     "name": "stdout",
     "output_type": "stream",
     "text": [
      "[-] Training loss: 0.5159\n",
      "[-] Training accuracy: 0.9302740635332288\n",
      "Validation loss: 1.2655\n",
      "Validation accuracy: 0.6492974238875878\n",
      "Current patience: 9, current trial: 3.\n"
     ]
    },
    {
     "name": "stderr",
     "output_type": "stream",
     "text": [
      "Epoch 42/300, current batch loss: 0.8737: 100%|██████████| 23/23 [00:03<00:00,  6.46it/s]\n"
     ]
    },
    {
     "name": "stdout",
     "output_type": "stream",
     "text": [
      "[-] Training loss: 0.5059\n",
      "[-] Training accuracy: 0.933348521890508\n",
      "Validation loss: 1.2608\n",
      "Validation accuracy: 0.6768637782982045\n",
      "Current patience: 8, current trial: 3.\n"
     ]
    },
    {
     "name": "stderr",
     "output_type": "stream",
     "text": [
      "Epoch 43/300, current batch loss: 0.8184: 100%|██████████| 23/23 [00:03<00:00,  6.60it/s]\n"
     ]
    },
    {
     "name": "stdout",
     "output_type": "stream",
     "text": [
      "[-] Training loss: 0.5043\n",
      "[-] Training accuracy: 0.9316647574742698\n",
      "Validation loss: 1.27\n",
      "Validation accuracy: 0.6686670569867291\n",
      "Current patience: 7, current trial: 3.\n"
     ]
    },
    {
     "name": "stderr",
     "output_type": "stream",
     "text": [
      "Epoch 44/300, current batch loss: 0.2215: 100%|██████████| 23/23 [00:03<00:00,  6.33it/s]\n"
     ]
    },
    {
     "name": "stdout",
     "output_type": "stream",
     "text": [
      "[-] Training loss: 0.5057\n",
      "[-] Training accuracy: 0.9298933931509916\n",
      "Validation loss: 1.2606\n",
      "Validation accuracy: 0.6373926619828258\n",
      "Current patience: 6, current trial: 3.\n"
     ]
    },
    {
     "name": "stderr",
     "output_type": "stream",
     "text": [
      "Epoch 45/300, current batch loss: 0.4195: 100%|██████████| 23/23 [00:03<00:00,  6.42it/s]\n"
     ]
    },
    {
     "name": "stdout",
     "output_type": "stream",
     "text": [
      "[-] Training loss: 0.4619\n",
      "[-] Training accuracy: 0.9316457352171635\n",
      "Validation loss: 1.2744\n",
      "Validation accuracy: 0.6381245120999219\n",
      "Current patience: 5, current trial: 3.\n"
     ]
    },
    {
     "name": "stderr",
     "output_type": "stream",
     "text": [
      "Epoch 46/300, current batch loss: 0.6562: 100%|██████████| 23/23 [00:03<00:00,  6.35it/s]\n"
     ]
    },
    {
     "name": "stdout",
     "output_type": "stream",
     "text": [
      "[-] Training loss: 0.4635\n",
      "[-] Training accuracy: 0.9385504201680674\n",
      "Validation loss: 1.2622\n",
      "Validation accuracy: 0.6545179547228728\n",
      "Current patience: 4, current trial: 3.\n"
     ]
    },
    {
     "name": "stderr",
     "output_type": "stream",
     "text": [
      "Epoch 47/300, current batch loss: 0.7524: 100%|██████████| 23/23 [00:03<00:00,  6.61it/s]\n"
     ]
    },
    {
     "name": "stdout",
     "output_type": "stream",
     "text": [
      "[-] Training loss: 0.4745\n",
      "[-] Training accuracy: 0.9351649612031996\n",
      "Validation loss: 1.2645\n",
      "Validation accuracy: 0.6485655737704918\n",
      "Current patience: 3, current trial: 3.\n"
     ]
    },
    {
     "name": "stderr",
     "output_type": "stream",
     "text": [
      "Epoch 48/300, current batch loss: 0.5701: 100%|██████████| 23/23 [00:03<00:00,  6.39it/s]\n"
     ]
    },
    {
     "name": "stdout",
     "output_type": "stream",
     "text": [
      "[-] Training loss: 0.484\n",
      "[-] Training accuracy: 0.9442849441202142\n",
      "Validation loss: 1.2513\n",
      "Validation accuracy: 0.6545179547228728\n",
      "Current patience: 2, current trial: 3.\n"
     ]
    },
    {
     "name": "stderr",
     "output_type": "stream",
     "text": [
      "Epoch 49/300, current batch loss: 0.6494: 100%|██████████| 23/23 [00:03<00:00,  6.37it/s]\n"
     ]
    },
    {
     "name": "stdout",
     "output_type": "stream",
     "text": [
      "[-] Training loss: 0.481\n",
      "[-] Training accuracy: 0.9437202885126246\n",
      "Validation loss: 1.2536\n",
      "Validation accuracy: 0.6396370023419203\n",
      "Current patience: 1, current trial: 3.\n"
     ]
    },
    {
     "name": "stderr",
     "output_type": "stream",
     "text": [
      "Epoch 50/300, current batch loss: 0.2442: 100%|██████████| 23/23 [00:03<00:00,  6.46it/s]\n"
     ]
    },
    {
     "name": "stdout",
     "output_type": "stream",
     "text": [
      "[-] Training loss: 0.4688\n",
      "[-] Training accuracy: 0.9427318448040374\n",
      "Validation loss: 1.2471\n",
      "Validation accuracy: 0.6656908665105388\n",
      "Current patience: 0, current trial: 3.\n",
      "Running out of patience, loading previous best model.\n",
      "Current learning rate: 1e-05\n"
     ]
    },
    {
     "name": "stderr",
     "output_type": "stream",
     "text": [
      "Epoch 51/300, current batch loss: 0.6868: 100%|██████████| 23/23 [00:03<00:00,  6.57it/s]\n"
     ]
    },
    {
     "name": "stdout",
     "output_type": "stream",
     "text": [
      "[-] Training loss: 0.5232\n",
      "[-] Training accuracy: 0.9282127311209617\n",
      "Validation loss: 1.2552\n",
      "Validation accuracy: 0.6299277907884465\n",
      "Current patience: 15, current trial: 2.\n"
     ]
    },
    {
     "name": "stderr",
     "output_type": "stream",
     "text": [
      "Epoch 52/300, current batch loss: 0.6922: 100%|██████████| 23/23 [00:03<00:00,  6.30it/s]\n"
     ]
    },
    {
     "name": "stdout",
     "output_type": "stream",
     "text": [
      "[-] Training loss: 0.5282\n",
      "[-] Training accuracy: 0.9259286448392305\n",
      "Validation loss: 1.2529\n",
      "Validation accuracy: 0.6329039812646371\n",
      "Current patience: 14, current trial: 2.\n"
     ]
    },
    {
     "name": "stderr",
     "output_type": "stream",
     "text": [
      "Epoch 53/300, current batch loss: 0.7095: 100%|██████████| 23/23 [00:03<00:00,  6.39it/s]\n"
     ]
    },
    {
     "name": "stdout",
     "output_type": "stream",
     "text": [
      "[-] Training loss: 0.5414\n",
      "[-] Training accuracy: 0.9259451982231741\n",
      "Validation loss: 1.2572\n",
      "Validation accuracy: 0.632903981264637\n",
      "Current patience: 13, current trial: 2.\n"
     ]
    },
    {
     "name": "stderr",
     "output_type": "stream",
     "text": [
      "Epoch 54/300, current batch loss: 0.7792: 100%|██████████| 23/23 [00:03<00:00,  6.26it/s]\n"
     ]
    },
    {
     "name": "stdout",
     "output_type": "stream",
     "text": [
      "[-] Training loss: 0.5244\n",
      "[-] Training accuracy: 0.9318788564870952\n",
      "Validation loss: 1.2511\n",
      "Validation accuracy: 0.6299277907884465\n",
      "Current patience: 12, current trial: 2.\n"
     ]
    },
    {
     "name": "stderr",
     "output_type": "stream",
     "text": [
      "Epoch 55/300, current batch loss: 0.4815: 100%|██████████| 23/23 [00:03<00:00,  6.28it/s]\n"
     ]
    },
    {
     "name": "stdout",
     "output_type": "stream",
     "text": [
      "[-] Training loss: 0.5169\n",
      "[-] Training accuracy: 0.932301196340605\n",
      "Validation loss: 1.2445\n",
      "Validation accuracy: 0.6433450429352069\n",
      "Current patience: 11, current trial: 2.\n",
      "Found new best model on dev set!\n"
     ]
    },
    {
     "name": "stderr",
     "output_type": "stream",
     "text": [
      "Epoch 56/300, current batch loss: 0.7149: 100%|██████████| 23/23 [00:03<00:00,  6.21it/s]\n"
     ]
    },
    {
     "name": "stdout",
     "output_type": "stream",
     "text": [
      "[-] Training loss: 0.5108\n",
      "[-] Training accuracy: 0.9369039869468915\n",
      "Validation loss: 1.2525\n",
      "Validation accuracy: 0.6522736143637783\n",
      "Current patience: 15, current trial: 2.\n"
     ]
    },
    {
     "name": "stderr",
     "output_type": "stream",
     "text": [
      "Epoch 57/300, current batch loss: 0.7034: 100%|██████████| 23/23 [00:03<00:00,  6.31it/s]\n"
     ]
    },
    {
     "name": "stdout",
     "output_type": "stream",
     "text": [
      "[-] Training loss: 0.5256\n",
      "[-] Training accuracy: 0.9297707548415552\n",
      "Validation loss: 1.2537\n",
      "Validation accuracy: 0.6492974238875878\n",
      "Current patience: 14, current trial: 2.\n"
     ]
    },
    {
     "name": "stderr",
     "output_type": "stream",
     "text": [
      "Epoch 58/300, current batch loss: 0.1889: 100%|██████████| 23/23 [00:03<00:00,  6.23it/s]\n"
     ]
    },
    {
     "name": "stdout",
     "output_type": "stream",
     "text": [
      "[-] Training loss: 0.5178\n",
      "[-] Training accuracy: 0.9394289278837787\n",
      "Validation loss: 1.2516\n",
      "Validation accuracy: 0.6492974238875877\n",
      "Current patience: 13, current trial: 2.\n"
     ]
    },
    {
     "name": "stderr",
     "output_type": "stream",
     "text": [
      "Epoch 59/300, current batch loss: 0.6191: 100%|██████████| 23/23 [00:03<00:00,  6.49it/s]\n"
     ]
    },
    {
     "name": "stdout",
     "output_type": "stream",
     "text": [
      "[-] Training loss: 0.5065\n",
      "[-] Training accuracy: 0.9323013529182166\n",
      "Validation loss: 1.2484\n",
      "Validation accuracy: 0.6381245120999219\n",
      "Current patience: 12, current trial: 2.\n"
     ]
    },
    {
     "name": "stderr",
     "output_type": "stream",
     "text": [
      "Epoch 60/300, current batch loss: 0.3202: 100%|██████████| 23/23 [00:03<00:00,  6.30it/s]\n"
     ]
    },
    {
     "name": "stdout",
     "output_type": "stream",
     "text": [
      "[-] Training loss: 0.5129\n",
      "[-] Training accuracy: 0.9342440476190476\n",
      "Validation loss: 1.251\n",
      "Validation accuracy: 0.6411007025761125\n",
      "Current patience: 11, current trial: 2.\n"
     ]
    },
    {
     "name": "stderr",
     "output_type": "stream",
     "text": [
      "Epoch 61/300, current batch loss: 0.6549: 100%|██████████| 23/23 [00:03<00:00,  6.37it/s]\n"
     ]
    },
    {
     "name": "stdout",
     "output_type": "stream",
     "text": [
      "[-] Training loss: 0.5163\n",
      "[-] Training accuracy: 0.9238354363151988\n",
      "Validation loss: 1.2495\n",
      "Validation accuracy: 0.6522736143637783\n",
      "Current patience: 10, current trial: 2.\n"
     ]
    },
    {
     "name": "stderr",
     "output_type": "stream",
     "text": [
      "Epoch 62/300, current batch loss: 0.4949: 100%|██████████| 23/23 [00:03<00:00,  6.27it/s]\n"
     ]
    },
    {
     "name": "stdout",
     "output_type": "stream",
     "text": [
      "[-] Training loss: 0.5182\n",
      "[-] Training accuracy: 0.929692018507808\n",
      "Validation loss: 1.2522\n",
      "Validation accuracy: 0.6463212334113974\n",
      "Current patience: 9, current trial: 2.\n"
     ]
    },
    {
     "name": "stderr",
     "output_type": "stream",
     "text": [
      "Epoch 63/300, current batch loss: 0.588: 100%|██████████| 23/23 [00:03<00:00,  6.19it/s] \n"
     ]
    },
    {
     "name": "stdout",
     "output_type": "stream",
     "text": [
      "[-] Training loss: 0.509\n",
      "[-] Training accuracy: 0.9362431326909584\n",
      "Validation loss: 1.2548\n",
      "Validation accuracy: 0.6463212334113974\n",
      "Current patience: 8, current trial: 2.\n"
     ]
    },
    {
     "name": "stderr",
     "output_type": "stream",
     "text": [
      "Epoch 64/300, current batch loss: 0.6933: 100%|██████████| 23/23 [00:03<00:00,  6.41it/s]\n"
     ]
    },
    {
     "name": "stdout",
     "output_type": "stream",
     "text": [
      "[-] Training loss: 0.5005\n",
      "[-] Training accuracy: 0.9323663236781062\n",
      "Validation loss: 1.2513\n",
      "Validation accuracy: 0.6433450429352069\n",
      "Current patience: 7, current trial: 2.\n"
     ]
    },
    {
     "name": "stderr",
     "output_type": "stream",
     "text": [
      "Epoch 65/300, current batch loss: 0.5882: 100%|██████████| 23/23 [00:03<00:00,  6.12it/s]\n"
     ]
    },
    {
     "name": "stdout",
     "output_type": "stream",
     "text": [
      "[-] Training loss: 0.5112\n",
      "[-] Training accuracy: 0.9226351815235897\n",
      "Validation loss: 1.2514\n",
      "Validation accuracy: 0.6433450429352068\n",
      "Current patience: 6, current trial: 2.\n"
     ]
    },
    {
     "name": "stderr",
     "output_type": "stream",
     "text": [
      "Epoch 66/300, current batch loss: 0.2097: 100%|██████████| 23/23 [00:03<00:00,  5.93it/s]\n"
     ]
    },
    {
     "name": "stdout",
     "output_type": "stream",
     "text": [
      "[-] Training loss: 0.5071\n",
      "[-] Training accuracy: 0.9307145630529441\n",
      "Validation loss: 1.2604\n",
      "Validation accuracy: 0.6545179547228728\n",
      "Current patience: 5, current trial: 2.\n"
     ]
    },
    {
     "name": "stderr",
     "output_type": "stream",
     "text": [
      "Epoch 67/300, current batch loss: 0.6249: 100%|██████████| 23/23 [00:03<00:00,  6.38it/s]\n"
     ]
    },
    {
     "name": "stdout",
     "output_type": "stream",
     "text": [
      "[-] Training loss: 0.5053\n",
      "[-] Training accuracy: 0.9298644457783113\n",
      "Validation loss: 1.2574\n",
      "Validation accuracy: 0.6381245120999219\n",
      "Current patience: 4, current trial: 2.\n"
     ]
    },
    {
     "name": "stderr",
     "output_type": "stream",
     "text": [
      "Epoch 68/300, current batch loss: 0.9391: 100%|██████████| 23/23 [00:03<00:00,  6.57it/s]\n"
     ]
    },
    {
     "name": "stdout",
     "output_type": "stream",
     "text": [
      "[-] Training loss: 0.5172\n",
      "[-] Training accuracy: 0.9386359108399197\n",
      "Validation loss: 1.2546\n",
      "Validation accuracy: 0.6433450429352069\n",
      "Current patience: 3, current trial: 2.\n"
     ]
    },
    {
     "name": "stderr",
     "output_type": "stream",
     "text": [
      "Epoch 69/300, current batch loss: 0.7874: 100%|██████████| 23/23 [00:03<00:00,  6.28it/s]\n"
     ]
    },
    {
     "name": "stdout",
     "output_type": "stream",
     "text": [
      "[-] Training loss: 0.5194\n",
      "[-] Training accuracy: 0.9384314148620174\n",
      "Validation loss: 1.2515\n",
      "Validation accuracy: 0.6351483216237315\n",
      "Current patience: 2, current trial: 2.\n"
     ]
    },
    {
     "name": "stderr",
     "output_type": "stream",
     "text": [
      "Epoch 70/300, current batch loss: 0.4252: 100%|██████████| 23/23 [00:03<00:00,  6.25it/s]\n"
     ]
    },
    {
     "name": "stdout",
     "output_type": "stream",
     "text": [
      "[-] Training loss: 0.4886\n",
      "[-] Training accuracy: 0.9404055390702276\n",
      "Validation loss: 1.2529\n",
      "Validation accuracy: 0.6351483216237316\n",
      "Current patience: 1, current trial: 2.\n"
     ]
    },
    {
     "name": "stderr",
     "output_type": "stream",
     "text": [
      "Epoch 71/300, current batch loss: 0.3318: 100%|██████████| 23/23 [00:03<00:00,  6.36it/s]\n"
     ]
    },
    {
     "name": "stdout",
     "output_type": "stream",
     "text": [
      "[-] Training loss: 0.5048\n",
      "[-] Training accuracy: 0.9410992547425472\n",
      "Validation loss: 1.2591\n",
      "Validation accuracy: 0.6515417642466823\n",
      "Current patience: 0, current trial: 2.\n",
      "Running out of patience, loading previous best model.\n",
      "Current learning rate: 1.0000000000000002e-06\n"
     ]
    },
    {
     "name": "stderr",
     "output_type": "stream",
     "text": [
      "Epoch 72/300, current batch loss: 0.9373: 100%|██████████| 23/23 [00:03<00:00,  6.35it/s]\n"
     ]
    },
    {
     "name": "stdout",
     "output_type": "stream",
     "text": [
      "[-] Training loss: 0.5113\n",
      "[-] Training accuracy: 0.9244901085434173\n",
      "Validation loss: 1.2514\n",
      "Validation accuracy: 0.644076893052303\n",
      "Current patience: 15, current trial: 1.\n"
     ]
    },
    {
     "name": "stderr",
     "output_type": "stream",
     "text": [
      "Epoch 73/300, current batch loss: 0.2978: 100%|██████████| 23/23 [00:03<00:00,  6.45it/s]\n"
     ]
    },
    {
     "name": "stdout",
     "output_type": "stream",
     "text": [
      "[-] Training loss: 0.51\n",
      "[-] Training accuracy: 0.9332420534072426\n",
      "Validation loss: 1.2504\n",
      "Validation accuracy: 0.644076893052303\n",
      "Current patience: 14, current trial: 1.\n"
     ]
    },
    {
     "name": "stderr",
     "output_type": "stream",
     "text": [
      "Epoch 74/300, current batch loss: 0.8394: 100%|██████████| 23/23 [00:03<00:00,  6.08it/s]\n"
     ]
    },
    {
     "name": "stdout",
     "output_type": "stream",
     "text": [
      "[-] Training loss: 0.5313\n",
      "[-] Training accuracy: 0.9281280333915745\n",
      "Validation loss: 1.2544\n",
      "Validation accuracy: 0.6411007025761124\n",
      "Current patience: 13, current trial: 1.\n"
     ]
    },
    {
     "name": "stderr",
     "output_type": "stream",
     "text": [
      "Epoch 75/300, current batch loss: 0.207: 100%|██████████| 23/23 [00:03<00:00,  6.10it/s] \n"
     ]
    },
    {
     "name": "stdout",
     "output_type": "stream",
     "text": [
      "[-] Training loss: 0.5271\n",
      "[-] Training accuracy: 0.9208793971237409\n",
      "Validation loss: 1.2476\n",
      "Validation accuracy: 0.6411007025761125\n",
      "Current patience: 12, current trial: 1.\n"
     ]
    },
    {
     "name": "stderr",
     "output_type": "stream",
     "text": [
      "Epoch 76/300, current batch loss: 0.6889: 100%|██████████| 23/23 [00:03<00:00,  6.50it/s]\n"
     ]
    },
    {
     "name": "stdout",
     "output_type": "stream",
     "text": [
      "[-] Training loss: 0.5269\n",
      "[-] Training accuracy: 0.9389941675709772\n",
      "Validation loss: 1.2521\n",
      "Validation accuracy: 0.6440768930523029\n",
      "Current patience: 11, current trial: 1.\n"
     ]
    },
    {
     "name": "stderr",
     "output_type": "stream",
     "text": [
      "Epoch 77/300, current batch loss: 1.1445: 100%|██████████| 23/23 [00:03<00:00,  6.50it/s]\n"
     ]
    },
    {
     "name": "stdout",
     "output_type": "stream",
     "text": [
      "[-] Training loss: 0.5219\n",
      "[-] Training accuracy: 0.9363784750379474\n",
      "Validation loss: 1.2546\n",
      "Validation accuracy: 0.6411007025761124\n",
      "Current patience: 10, current trial: 1.\n"
     ]
    },
    {
     "name": "stderr",
     "output_type": "stream",
     "text": [
      "Epoch 78/300, current batch loss: 1.0518: 100%|██████████| 23/23 [00:03<00:00,  6.22it/s]\n"
     ]
    },
    {
     "name": "stdout",
     "output_type": "stream",
     "text": [
      "[-] Training loss: 0.5114\n",
      "[-] Training accuracy: 0.9321555506112832\n",
      "Validation loss: 1.2527\n",
      "Validation accuracy: 0.6440768930523029\n",
      "Current patience: 9, current trial: 1.\n"
     ]
    },
    {
     "name": "stderr",
     "output_type": "stream",
     "text": [
      "Epoch 79/300, current batch loss: 0.9338: 100%|██████████| 23/23 [00:03<00:00,  6.13it/s]\n"
     ]
    },
    {
     "name": "stdout",
     "output_type": "stream",
     "text": [
      "[-] Training loss: 0.5187\n",
      "[-] Training accuracy: 0.928590336134454\n",
      "Validation loss: 1.2487\n",
      "Validation accuracy: 0.6411007025761124\n",
      "Current patience: 8, current trial: 1.\n"
     ]
    },
    {
     "name": "stderr",
     "output_type": "stream",
     "text": [
      "Epoch 80/300, current batch loss: 1.115: 100%|██████████| 23/23 [00:03<00:00,  6.22it/s] \n"
     ]
    },
    {
     "name": "stdout",
     "output_type": "stream",
     "text": [
      "[-] Training loss: 0.5331\n",
      "[-] Training accuracy: 0.9265183187702942\n",
      "Validation loss: 1.2555\n",
      "Validation accuracy: 0.6411007025761125\n",
      "Current patience: 7, current trial: 1.\n"
     ]
    },
    {
     "name": "stderr",
     "output_type": "stream",
     "text": [
      "Epoch 81/300, current batch loss: 0.4232: 100%|██████████| 23/23 [00:03<00:00,  6.21it/s]\n"
     ]
    },
    {
     "name": "stdout",
     "output_type": "stream",
     "text": [
      "[-] Training loss: 0.5338\n",
      "[-] Training accuracy: 0.93390376984127\n",
      "Validation loss: 1.2592\n",
      "Validation accuracy: 0.6381245120999219\n",
      "Current patience: 6, current trial: 1.\n"
     ]
    },
    {
     "name": "stderr",
     "output_type": "stream",
     "text": [
      "Epoch 82/300, current batch loss: 0.5109: 100%|██████████| 23/23 [00:03<00:00,  6.22it/s]\n"
     ]
    },
    {
     "name": "stdout",
     "output_type": "stream",
     "text": [
      "[-] Training loss: 0.5026\n",
      "[-] Training accuracy: 0.9320752630744454\n",
      "Validation loss: 1.2511\n",
      "Validation accuracy: 0.644076893052303\n",
      "Current patience: 5, current trial: 1.\n"
     ]
    },
    {
     "name": "stderr",
     "output_type": "stream",
     "text": [
      "Epoch 83/300, current batch loss: 0.3989: 100%|██████████| 23/23 [00:03<00:00,  6.26it/s]\n"
     ]
    },
    {
     "name": "stdout",
     "output_type": "stream",
     "text": [
      "[-] Training loss: 0.5143\n",
      "[-] Training accuracy: 0.9277167060177545\n",
      "Validation loss: 1.2512\n",
      "Validation accuracy: 0.6440768930523029\n",
      "Current patience: 4, current trial: 1.\n"
     ]
    },
    {
     "name": "stderr",
     "output_type": "stream",
     "text": [
      "Epoch 84/300, current batch loss: 0.6546: 100%|██████████| 23/23 [00:03<00:00,  6.28it/s]\n"
     ]
    },
    {
     "name": "stdout",
     "output_type": "stream",
     "text": [
      "[-] Training loss: 0.5169\n",
      "[-] Training accuracy: 0.9271275376418032\n",
      "Validation loss: 1.2545\n",
      "Validation accuracy: 0.6411007025761124\n",
      "Current patience: 3, current trial: 1.\n"
     ]
    },
    {
     "name": "stderr",
     "output_type": "stream",
     "text": [
      "Epoch 85/300, current batch loss: 0.868: 100%|██████████| 23/23 [00:03<00:00,  6.28it/s] \n"
     ]
    },
    {
     "name": "stdout",
     "output_type": "stream",
     "text": [
      "[-] Training loss: 0.5122\n",
      "[-] Training accuracy: 0.9101280718472956\n",
      "Validation loss: 1.2522\n",
      "Validation accuracy: 0.6440768930523029\n",
      "Current patience: 2, current trial: 1.\n"
     ]
    },
    {
     "name": "stderr",
     "output_type": "stream",
     "text": [
      "Epoch 86/300, current batch loss: 0.48: 100%|██████████| 23/23 [00:03<00:00,  6.29it/s]  \n"
     ]
    },
    {
     "name": "stdout",
     "output_type": "stream",
     "text": [
      "[-] Training loss: 0.5328\n",
      "[-] Training accuracy: 0.9195432452940894\n",
      "Validation loss: 1.254\n",
      "Validation accuracy: 0.632903981264637\n",
      "Current patience: 1, current trial: 1.\n"
     ]
    },
    {
     "name": "stderr",
     "output_type": "stream",
     "text": [
      "Epoch 87/300, current batch loss: 0.7481: 100%|██████████| 23/23 [00:03<00:00,  6.25it/s]\n"
     ]
    },
    {
     "name": "stdout",
     "output_type": "stream",
     "text": [
      "[-] Training loss: 0.529\n",
      "[-] Training accuracy: 0.9253012192780338\n",
      "Validation loss: 1.2557\n",
      "Validation accuracy: 0.6411007025761125\n",
      "Current patience: 0, current trial: 1.\n",
      "Running out of patience, loading previous best model.\n",
      "Current learning rate: 1.0000000000000002e-06\n",
      "Running out of patience, early stopping.\n",
      "Test set performance: 1.32027436414891\n",
      "Test set accuracy is 0.5816326530612245\n"
     ]
    },
    {
     "data": {
      "text/html": [
       "Waiting for W&B process to finish... <strong style=\"color:green\">(success).</strong>"
      ],
      "text/plain": [
       "<IPython.core.display.HTML object>"
      ]
     },
     "metadata": {},
     "output_type": "display_data"
    },
    {
     "name": "stderr",
     "output_type": "stream",
     "text": [
      "wandb: WARNING Source type is set to 'repo' but some required information is missing from the environment. A job will not be created from this run. See https://docs.wandb.ai/guides/launch/create-job\n"
     ]
    },
    {
     "data": {
      "text/html": [
       "<style>\n",
       "    table.wandb td:nth-child(1) { padding: 0 10px; text-align: left ; width: auto;} td:nth-child(2) {text-align: left ; width: 100%}\n",
       "    .wandb-row { display: flex; flex-direction: row; flex-wrap: wrap; justify-content: flex-start; width: 100% }\n",
       "    .wandb-col { display: flex; flex-direction: column; flex-basis: 100%; flex: 1; padding: 10px; }\n",
       "    </style>\n",
       "<div class=\"wandb-row\"><div class=\"wandb-col\"><h3>Run history:</h3><br/><table class=\"wandb\"><tr><td>Batch Accuracy</td><td>▁▃▄▄▅▆▆▇▆▆▇▇█▇▇█▆▇▇▇█▇█▇██▇▇▇▇▇▇██▇▇▇▇██</td></tr><tr><td>Batch Loss</td><td>▂▆█▆▄▅▅▅▃▅▂▃▂▃▂▂▃▃▂▁▂▃▃▂▅▄▃▃▂▃▃▃▃▃▃▂▂▂▄▂</td></tr><tr><td>Epoch</td><td>▁▁▁▁▂▂▂▂▂▃▃▃▃▃▃▄▄▄▄▄▅▅▅▅▅▅▆▆▆▆▆▇▇▇▇▇▇███</td></tr><tr><td>Test Accuracy</td><td>▁</td></tr><tr><td>Test Loss</td><td>▁</td></tr><tr><td>Training Accuracy</td><td>▁▂▃▄▅▅▆▆▇▇▇▇▇█▇█████████████████████████</td></tr><tr><td>Training Loss</td><td>█▇▇▆▅▅▄▄▃▃▂▂▂▂▂▂▂▂▁▁▁▁▁▁▂▁▁▁▁▁▁▁▁▁▁▁▂▁▁▂</td></tr><tr><td>Validation Accuracy</td><td>▁▄▅▆▆▆█▇▇▇▇▇▆▇▇▇▇▇██▇▇▇▆▇▇▇▇▇▇▇▇▇▇▇▇▇▇▇▇</td></tr><tr><td>Validation Loss</td><td>█▇▆▅▄▃▃▃▁▂▂▂▂▁▁▁▁▁▂▂▂▂▁▁▁▁▁▁▁▁▂▁▂▁▁▁▁▁▁▁</td></tr></table><br/></div><div class=\"wandb-col\"><h3>Run summary:</h3><br/><table class=\"wandb\"><tr><td>Batch Accuracy</td><td>0.96078</td></tr><tr><td>Batch Loss</td><td>0.7481</td></tr><tr><td>Epoch</td><td>87</td></tr><tr><td>Test Accuracy</td><td>0.58163</td></tr><tr><td>Test Loss</td><td>1.32027</td></tr><tr><td>Training Accuracy</td><td>0.9253</td></tr><tr><td>Training Loss</td><td>0.52901</td></tr><tr><td>Validation Accuracy</td><td>0.6411</td></tr><tr><td>Validation Loss</td><td>1.25575</td></tr></table><br/></div></div>"
      ],
      "text/plain": [
       "<IPython.core.display.HTML object>"
      ]
     },
     "metadata": {},
     "output_type": "display_data"
    },
    {
     "data": {
      "text/html": [
       " View run <strong style=\"color:#cdcd00\">cool-dew-83</strong> at: <a href='https://wandb.ai/ejbejaranos22/Baseline-multimodal/runs/nytyhavg' target=\"_blank\">https://wandb.ai/ejbejaranos22/Baseline-multimodal/runs/nytyhavg</a><br/>Synced 6 W&B file(s), 0 media file(s), 0 artifact file(s) and 0 other file(s)"
      ],
      "text/plain": [
       "<IPython.core.display.HTML object>"
      ]
     },
     "metadata": {},
     "output_type": "display_data"
    },
    {
     "data": {
      "text/html": [
       "Find logs at: <code>./wandb/run-20230925_173001-nytyhavg/logs</code>"
      ],
      "text/plain": [
       "<IPython.core.display.HTML object>"
      ]
     },
     "metadata": {},
     "output_type": "display_data"
    },
    {
     "name": "stdout",
     "output_type": "stream",
     "text": [
      "0.55\n"
     ]
    },
    {
     "data": {
      "application/vnd.jupyter.widget-view+json": {
       "model_id": "d80abb05e16f4a90bb8c73dbd00e036a",
       "version_major": 2,
       "version_minor": 0
      },
      "text/plain": [
       "VBox(children=(Label(value='Waiting for wandb.init()...\\r'), FloatProgress(value=0.011223868977847613, max=1.0…"
      ]
     },
     "metadata": {},
     "output_type": "display_data"
    },
    {
     "data": {
      "text/html": [
       "Tracking run with wandb version 0.15.11"
      ],
      "text/plain": [
       "<IPython.core.display.HTML object>"
      ]
     },
     "metadata": {},
     "output_type": "display_data"
    },
    {
     "data": {
      "text/html": [
       "Run data is saved locally in <code>/Users/lernmi/Desktop/EmotionUnify/src/datasets/CMU-MultimodalSDK/wandb/run-20230925_173541-mim0v23v</code>"
      ],
      "text/plain": [
       "<IPython.core.display.HTML object>"
      ]
     },
     "metadata": {},
     "output_type": "display_data"
    },
    {
     "data": {
      "text/html": [
       "Syncing run <strong><a href='https://wandb.ai/ejbejaranos22/Baseline-multimodal/runs/mim0v23v' target=\"_blank\">daily-silence-84</a></strong> to <a href='https://wandb.ai/ejbejaranos22/Baseline-multimodal' target=\"_blank\">Weights & Biases</a> (<a href='https://wandb.me/run' target=\"_blank\">docs</a>)<br/>"
      ],
      "text/plain": [
       "<IPython.core.display.HTML object>"
      ]
     },
     "metadata": {},
     "output_type": "display_data"
    },
    {
     "data": {
      "text/html": [
       " View project at <a href='https://wandb.ai/ejbejaranos22/Baseline-multimodal' target=\"_blank\">https://wandb.ai/ejbejaranos22/Baseline-multimodal</a>"
      ],
      "text/plain": [
       "<IPython.core.display.HTML object>"
      ]
     },
     "metadata": {},
     "output_type": "display_data"
    },
    {
     "data": {
      "text/html": [
       " View run at <a href='https://wandb.ai/ejbejaranos22/Baseline-multimodal/runs/mim0v23v' target=\"_blank\">https://wandb.ai/ejbejaranos22/Baseline-multimodal/runs/mim0v23v</a>"
      ],
      "text/plain": [
       "<IPython.core.display.HTML object>"
      ]
     },
     "metadata": {},
     "output_type": "display_data"
    },
    {
     "name": "stderr",
     "output_type": "stream",
     "text": [
      "/Users/lernmi/miniconda3/envs/emotionunify/lib/python3.11/site-packages/torch/optim/lr_scheduler.py:139: UserWarning: Detected call of `lr_scheduler.step()` before `optimizer.step()`. In PyTorch 1.1.0 and later, you should call them in the opposite order: `optimizer.step()` before `lr_scheduler.step()`.  Failure to do this will result in PyTorch skipping the first value of the learning rate schedule. See more details at https://pytorch.org/docs/stable/optim.html#how-to-adjust-learning-rate\n",
      "  warnings.warn(\"Detected call of `lr_scheduler.step()` before `optimizer.step()`. \"\n"
     ]
    },
    {
     "name": "stdout",
     "output_type": "stream",
     "text": [
      "================================================================================\n",
      "[-->] [120, 18, 29]\n",
      "[-->] 83\n",
      "================================================================================\n",
      "Using LateFusionLSTM\n"
     ]
    },
    {
     "name": "stderr",
     "output_type": "stream",
     "text": [
      "Epoch 0/300, current batch loss: 2.3658: 100%|██████████| 23/23 [00:04<00:00,  5.55it/s]\n"
     ]
    },
    {
     "name": "stdout",
     "output_type": "stream",
     "text": [
      "[-] Training loss: 1.3908\n",
      "[-] Training accuracy: 0.5012048937221948\n",
      "Validation loss: 1.4438\n",
      "Validation accuracy: 0.4743364558938329\n",
      "Current patience: 15, current trial: 3.\n",
      "Found new best model on dev set!\n"
     ]
    },
    {
     "name": "stderr",
     "output_type": "stream",
     "text": [
      "Epoch 1/300, current batch loss: 1.2408: 100%|██████████| 23/23 [00:03<00:00,  6.75it/s]\n"
     ]
    },
    {
     "name": "stdout",
     "output_type": "stream",
     "text": [
      "[-] Training loss: 1.3503\n",
      "[-] Training accuracy: 0.5393754056946369\n",
      "Validation loss: 1.4301\n",
      "Validation accuracy: 0.5309328649492584\n",
      "Current patience: 15, current trial: 3.\n",
      "Found new best model on dev set!\n"
     ]
    },
    {
     "name": "stderr",
     "output_type": "stream",
     "text": [
      "Epoch 2/300, current batch loss: 1.776: 100%|██████████| 23/23 [00:03<00:00,  6.31it/s] \n"
     ]
    },
    {
     "name": "stdout",
     "output_type": "stream",
     "text": [
      "[-] Training loss: 1.308\n",
      "[-] Training accuracy: 0.5550485376336769\n",
      "Validation loss: 1.4211\n",
      "Validation accuracy: 0.5398614363778298\n",
      "Current patience: 15, current trial: 3.\n",
      "Found new best model on dev set!\n"
     ]
    },
    {
     "name": "stderr",
     "output_type": "stream",
     "text": [
      "Epoch 3/300, current batch loss: 2.2896: 100%|██████████| 23/23 [00:03<00:00,  6.66it/s]\n"
     ]
    },
    {
     "name": "stdout",
     "output_type": "stream",
     "text": [
      "[-] Training loss: 1.273\n",
      "[-] Training accuracy: 0.5956703445841146\n",
      "Validation loss: 1.4072\n",
      "Validation accuracy: 0.5763563622170179\n",
      "Current patience: 15, current trial: 3.\n",
      "Found new best model on dev set!\n"
     ]
    },
    {
     "name": "stderr",
     "output_type": "stream",
     "text": [
      "Epoch 4/300, current batch loss: 0.9125: 100%|██████████| 23/23 [00:03<00:00,  6.13it/s]\n"
     ]
    },
    {
     "name": "stdout",
     "output_type": "stream",
     "text": [
      "[-] Training loss: 1.2384\n",
      "[-] Training accuracy: 0.6000378304251195\n",
      "Validation loss: 1.3967\n",
      "Validation accuracy: 0.5845530835284933\n",
      "Current patience: 15, current trial: 3.\n",
      "Found new best model on dev set!\n"
     ]
    },
    {
     "name": "stderr",
     "output_type": "stream",
     "text": [
      "Epoch 5/300, current batch loss: 1.2352: 100%|██████████| 23/23 [00:04<00:00,  5.33it/s]\n"
     ]
    },
    {
     "name": "stdout",
     "output_type": "stream",
     "text": [
      "[-] Training loss: 1.1837\n",
      "[-] Training accuracy: 0.667331485199783\n",
      "Validation loss: 1.3869\n",
      "Validation accuracy: 0.6158274785323965\n",
      "Current patience: 15, current trial: 3.\n",
      "Found new best model on dev set!\n"
     ]
    },
    {
     "name": "stderr",
     "output_type": "stream",
     "text": [
      "Epoch 6/300, current batch loss: 1.8835: 100%|██████████| 23/23 [00:03<00:00,  5.94it/s]\n"
     ]
    },
    {
     "name": "stdout",
     "output_type": "stream",
     "text": [
      "[-] Training loss: 1.1645\n",
      "[-] Training accuracy: 0.6623376623376622\n",
      "Validation loss: 1.3721\n",
      "Validation accuracy: 0.6106069476971117\n",
      "Current patience: 15, current trial: 3.\n",
      "Found new best model on dev set!\n"
     ]
    },
    {
     "name": "stderr",
     "output_type": "stream",
     "text": [
      "Epoch 7/300, current batch loss: 2.0001: 100%|██████████| 23/23 [00:04<00:00,  5.48it/s]\n"
     ]
    },
    {
     "name": "stdout",
     "output_type": "stream",
     "text": [
      "[-] Training loss: 1.1391\n",
      "[-] Training accuracy: 0.6729448269442775\n",
      "Validation loss: 1.362\n",
      "Validation accuracy: 0.6106069476971117\n",
      "Current patience: 15, current trial: 3.\n",
      "Found new best model on dev set!\n"
     ]
    },
    {
     "name": "stderr",
     "output_type": "stream",
     "text": [
      "Epoch 8/300, current batch loss: 1.1665: 100%|██████████| 23/23 [00:04<00:00,  5.02it/s]\n"
     ]
    },
    {
     "name": "stdout",
     "output_type": "stream",
     "text": [
      "[-] Training loss: 1.0919\n",
      "[-] Training accuracy: 0.7022085702244052\n",
      "Validation loss: 1.3492\n",
      "Validation accuracy: 0.6307084309133489\n",
      "Current patience: 15, current trial: 3.\n",
      "Found new best model on dev set!\n"
     ]
    },
    {
     "name": "stderr",
     "output_type": "stream",
     "text": [
      "Epoch 9/300, current batch loss: 1.0627: 100%|██████████| 23/23 [00:03<00:00,  6.08it/s]\n"
     ]
    },
    {
     "name": "stdout",
     "output_type": "stream",
     "text": [
      "[-] Training loss: 1.0921\n",
      "[-] Training accuracy: 0.7042532146389713\n",
      "Validation loss: 1.3411\n",
      "Validation accuracy: 0.635928961748634\n",
      "Current patience: 15, current trial: 3.\n",
      "Found new best model on dev set!\n"
     ]
    },
    {
     "name": "stderr",
     "output_type": "stream",
     "text": [
      "Epoch 10/300, current batch loss: 2.1598: 100%|██████████| 23/23 [00:03<00:00,  6.02it/s]\n"
     ]
    },
    {
     "name": "stdout",
     "output_type": "stream",
     "text": [
      "[-] Training loss: 1.0604\n",
      "[-] Training accuracy: 0.7204336371645432\n",
      "Validation loss: 1.3345\n",
      "Validation accuracy: 0.6217798594847775\n",
      "Current patience: 15, current trial: 3.\n",
      "Found new best model on dev set!\n"
     ]
    },
    {
     "name": "stderr",
     "output_type": "stream",
     "text": [
      "Epoch 11/300, current batch loss: 1.4959: 100%|██████████| 23/23 [00:03<00:00,  6.32it/s]\n"
     ]
    },
    {
     "name": "stdout",
     "output_type": "stream",
     "text": [
      "[-] Training loss: 1.0325\n",
      "[-] Training accuracy: 0.7259208075467163\n",
      "Validation loss: 1.3308\n",
      "Validation accuracy: 0.619535519125683\n",
      "Current patience: 15, current trial: 3.\n",
      "Found new best model on dev set!\n"
     ]
    },
    {
     "name": "stderr",
     "output_type": "stream",
     "text": [
      "Epoch 12/300, current batch loss: 2.1797: 100%|██████████| 23/23 [00:03<00:00,  6.19it/s]\n"
     ]
    },
    {
     "name": "stdout",
     "output_type": "stream",
     "text": [
      "[-] Training loss: 1.0089\n",
      "[-] Training accuracy: 0.7373932090318644\n",
      "Validation loss: 1.3288\n",
      "Validation accuracy: 0.6478337236533959\n",
      "Current patience: 15, current trial: 3.\n",
      "Found new best model on dev set!\n"
     ]
    },
    {
     "name": "stderr",
     "output_type": "stream",
     "text": [
      "Epoch 13/300, current batch loss: 1.9071: 100%|██████████| 23/23 [00:03<00:00,  6.26it/s]\n"
     ]
    },
    {
     "name": "stdout",
     "output_type": "stream",
     "text": [
      "[-] Training loss: 0.9513\n",
      "[-] Training accuracy: 0.7739237077700015\n",
      "Validation loss: 1.3184\n",
      "Validation accuracy: 0.6448575331772054\n",
      "Current patience: 15, current trial: 3.\n",
      "Found new best model on dev set!\n"
     ]
    },
    {
     "name": "stderr",
     "output_type": "stream",
     "text": [
      "Epoch 14/300, current batch loss: 1.0369: 100%|██████████| 23/23 [00:04<00:00,  5.56it/s]\n"
     ]
    },
    {
     "name": "stdout",
     "output_type": "stream",
     "text": [
      "[-] Training loss: 0.9282\n",
      "[-] Training accuracy: 0.7868342347122148\n",
      "Validation loss: 1.3087\n",
      "Validation accuracy: 0.6530542544886808\n",
      "Current patience: 15, current trial: 3.\n",
      "Found new best model on dev set!\n"
     ]
    },
    {
     "name": "stderr",
     "output_type": "stream",
     "text": [
      "Epoch 15/300, current batch loss: 1.6886: 100%|██████████| 23/23 [00:03<00:00,  5.79it/s]\n"
     ]
    },
    {
     "name": "stdout",
     "output_type": "stream",
     "text": [
      "[-] Training loss: 0.906\n",
      "[-] Training accuracy: 0.8133288555463044\n",
      "Validation loss: 1.315\n",
      "Validation accuracy: 0.6471018735362999\n",
      "Current patience: 15, current trial: 3.\n"
     ]
    },
    {
     "name": "stderr",
     "output_type": "stream",
     "text": [
      "Epoch 16/300, current batch loss: 1.1382: 100%|██████████| 23/23 [00:03<00:00,  6.16it/s]\n"
     ]
    },
    {
     "name": "stdout",
     "output_type": "stream",
     "text": [
      "[-] Training loss: 0.887\n",
      "[-] Training accuracy: 0.8127073244855773\n",
      "Validation loss: 1.303\n",
      "Validation accuracy: 0.6500780640124904\n",
      "Current patience: 14, current trial: 3.\n",
      "Found new best model on dev set!\n"
     ]
    },
    {
     "name": "stderr",
     "output_type": "stream",
     "text": [
      "Epoch 17/300, current batch loss: 1.4133: 100%|██████████| 23/23 [00:04<00:00,  4.79it/s]\n"
     ]
    },
    {
     "name": "stdout",
     "output_type": "stream",
     "text": [
      "[-] Training loss: 0.8631\n",
      "[-] Training accuracy: 0.7992787114845938\n",
      "Validation loss: 1.2876\n",
      "Validation accuracy: 0.6537861046057768\n",
      "Current patience: 15, current trial: 3.\n",
      "Found new best model on dev set!\n"
     ]
    },
    {
     "name": "stderr",
     "output_type": "stream",
     "text": [
      "Epoch 18/300, current batch loss: 0.9001: 100%|██████████| 23/23 [00:03<00:00,  5.78it/s]\n"
     ]
    },
    {
     "name": "stdout",
     "output_type": "stream",
     "text": [
      "[-] Training loss: 0.8246\n",
      "[-] Training accuracy: 0.8372357064653272\n",
      "Validation loss: 1.2918\n",
      "Validation accuracy: 0.6396370023419203\n",
      "Current patience: 15, current trial: 3.\n"
     ]
    },
    {
     "name": "stderr",
     "output_type": "stream",
     "text": [
      "Epoch 19/300, current batch loss: 0.8661: 100%|██████████| 23/23 [00:03<00:00,  6.21it/s]\n"
     ]
    },
    {
     "name": "stdout",
     "output_type": "stream",
     "text": [
      "[-] Training loss: 0.8118\n",
      "[-] Training accuracy: 0.841210791247192\n",
      "Validation loss: 1.2938\n",
      "Validation accuracy: 0.6448575331772053\n",
      "Current patience: 14, current trial: 3.\n"
     ]
    },
    {
     "name": "stderr",
     "output_type": "stream",
     "text": [
      "Epoch 20/300, current batch loss: 0.3331: 100%|██████████| 23/23 [00:04<00:00,  4.64it/s]\n"
     ]
    },
    {
     "name": "stdout",
     "output_type": "stream",
     "text": [
      "[-] Training loss: 0.78\n",
      "[-] Training accuracy: 0.8538990184551186\n",
      "Validation loss: 1.3039\n",
      "Validation accuracy: 0.6389051522248244\n",
      "Current patience: 13, current trial: 3.\n"
     ]
    },
    {
     "name": "stderr",
     "output_type": "stream",
     "text": [
      "Epoch 21/300, current batch loss: 0.9922: 100%|██████████| 23/23 [00:05<00:00,  4.00it/s]\n"
     ]
    },
    {
     "name": "stdout",
     "output_type": "stream",
     "text": [
      "[-] Training loss: 0.784\n",
      "[-] Training accuracy: 0.8599180544428725\n",
      "Validation loss: 1.2852\n",
      "Validation accuracy: 0.6560304449648712\n",
      "Current patience: 12, current trial: 3.\n",
      "Found new best model on dev set!\n"
     ]
    },
    {
     "name": "stderr",
     "output_type": "stream",
     "text": [
      "Epoch 22/300, current batch loss: 1.0243: 100%|██████████| 23/23 [00:03<00:00,  5.76it/s]\n"
     ]
    },
    {
     "name": "stdout",
     "output_type": "stream",
     "text": [
      "[-] Training loss: 0.7541\n",
      "[-] Training accuracy: 0.8492766345014959\n",
      "Validation loss: 1.278\n",
      "Validation accuracy: 0.6463212334113974\n",
      "Current patience: 15, current trial: 3.\n",
      "Found new best model on dev set!\n"
     ]
    },
    {
     "name": "stderr",
     "output_type": "stream",
     "text": [
      "Epoch 23/300, current batch loss: 1.2086: 100%|██████████| 23/23 [00:04<00:00,  5.36it/s]\n"
     ]
    },
    {
     "name": "stdout",
     "output_type": "stream",
     "text": [
      "[-] Training loss: 0.7435\n",
      "[-] Training accuracy: 0.8702090592334493\n",
      "Validation loss: 1.2848\n",
      "Validation accuracy: 0.6500780640124902\n",
      "Current patience: 15, current trial: 3.\n"
     ]
    },
    {
     "name": "stderr",
     "output_type": "stream",
     "text": [
      "Epoch 24/300, current batch loss: 0.6913: 100%|██████████| 23/23 [00:04<00:00,  5.73it/s]\n"
     ]
    },
    {
     "name": "stdout",
     "output_type": "stream",
     "text": [
      "[-] Training loss: 0.7065\n",
      "[-] Training accuracy: 0.8763741480282227\n",
      "Validation loss: 1.2853\n",
      "Validation accuracy: 0.6567622950819672\n",
      "Current patience: 14, current trial: 3.\n"
     ]
    },
    {
     "name": "stderr",
     "output_type": "stream",
     "text": [
      "Epoch 25/300, current batch loss: 0.5853: 100%|██████████| 23/23 [00:04<00:00,  4.73it/s]\n"
     ]
    },
    {
     "name": "stdout",
     "output_type": "stream",
     "text": [
      "[-] Training loss: 0.7074\n",
      "[-] Training accuracy: 0.8685694557543298\n",
      "Validation loss: 1.2747\n",
      "Validation accuracy: 0.6336846213895394\n",
      "Current patience: 13, current trial: 3.\n",
      "Found new best model on dev set!\n"
     ]
    },
    {
     "name": "stderr",
     "output_type": "stream",
     "text": [
      "Epoch 26/300, current batch loss: 0.9135: 100%|██████████| 23/23 [00:06<00:00,  3.67it/s]\n"
     ]
    },
    {
     "name": "stdout",
     "output_type": "stream",
     "text": [
      "[-] Training loss: 0.6863\n",
      "[-] Training accuracy: 0.8892395102370846\n",
      "Validation loss: 1.2778\n",
      "Validation accuracy: 0.6485655737704918\n",
      "Current patience: 15, current trial: 3.\n"
     ]
    },
    {
     "name": "stderr",
     "output_type": "stream",
     "text": [
      "Epoch 27/300, current batch loss: 0.6474: 100%|██████████| 23/23 [00:04<00:00,  5.65it/s]\n"
     ]
    },
    {
     "name": "stdout",
     "output_type": "stream",
     "text": [
      "[-] Training loss: 0.647\n",
      "[-] Training accuracy: 0.8970567121320889\n",
      "Validation loss: 1.2579\n",
      "Validation accuracy: 0.6426131928181108\n",
      "Current patience: 14, current trial: 3.\n",
      "Found new best model on dev set!\n"
     ]
    },
    {
     "name": "stderr",
     "output_type": "stream",
     "text": [
      "Epoch 28/300, current batch loss: 1.1675: 100%|██████████| 23/23 [00:03<00:00,  5.83it/s]\n"
     ]
    },
    {
     "name": "stdout",
     "output_type": "stream",
     "text": [
      "[-] Training loss: 0.6666\n",
      "[-] Training accuracy: 0.8953051870643436\n",
      "Validation loss: 1.2565\n",
      "Validation accuracy: 0.6492974238875878\n",
      "Current patience: 15, current trial: 3.\n",
      "Found new best model on dev set!\n"
     ]
    },
    {
     "name": "stderr",
     "output_type": "stream",
     "text": [
      "Epoch 29/300, current batch loss: 1.0002: 100%|██████████| 23/23 [00:04<00:00,  5.72it/s]\n"
     ]
    },
    {
     "name": "stdout",
     "output_type": "stream",
     "text": [
      "[-] Training loss: 0.6649\n",
      "[-] Training accuracy: 0.8845264330516069\n",
      "Validation loss: 1.2636\n",
      "Validation accuracy: 0.6545179547228727\n",
      "Current patience: 15, current trial: 3.\n"
     ]
    },
    {
     "name": "stderr",
     "output_type": "stream",
     "text": [
      "Epoch 30/300, current batch loss: 0.4145: 100%|██████████| 23/23 [00:04<00:00,  5.52it/s]\n"
     ]
    },
    {
     "name": "stdout",
     "output_type": "stream",
     "text": [
      "[-] Training loss: 0.6469\n",
      "[-] Training accuracy: 0.8994474247811531\n",
      "Validation loss: 1.2763\n",
      "Validation accuracy: 0.6291959406713505\n",
      "Current patience: 14, current trial: 3.\n"
     ]
    },
    {
     "name": "stderr",
     "output_type": "stream",
     "text": [
      "Epoch 31/300, current batch loss: 0.9407: 100%|██████████| 23/23 [00:03<00:00,  5.80it/s]\n"
     ]
    },
    {
     "name": "stdout",
     "output_type": "stream",
     "text": [
      "[-] Training loss: 0.6375\n",
      "[-] Training accuracy: 0.8889036016949153\n",
      "Validation loss: 1.2375\n",
      "Validation accuracy: 0.6768637782982045\n",
      "Current patience: 13, current trial: 3.\n",
      "Found new best model on dev set!\n"
     ]
    },
    {
     "name": "stderr",
     "output_type": "stream",
     "text": [
      "Epoch 32/300, current batch loss: 0.8824: 100%|██████████| 23/23 [00:04<00:00,  5.65it/s]\n"
     ]
    },
    {
     "name": "stdout",
     "output_type": "stream",
     "text": [
      "[-] Training loss: 0.6192\n",
      "[-] Training accuracy: 0.9117930762048412\n",
      "Validation loss: 1.2498\n",
      "Validation accuracy: 0.6656908665105387\n",
      "Current patience: 15, current trial: 3.\n"
     ]
    },
    {
     "name": "stderr",
     "output_type": "stream",
     "text": [
      "Epoch 33/300, current batch loss: 0.5931: 100%|██████████| 23/23 [00:04<00:00,  5.63it/s]\n"
     ]
    },
    {
     "name": "stdout",
     "output_type": "stream",
     "text": [
      "[-] Training loss: 0.6139\n",
      "[-] Training accuracy: 0.9139068627450981\n",
      "Validation loss: 1.2645\n",
      "Validation accuracy: 0.6537861046057767\n",
      "Current patience: 14, current trial: 3.\n"
     ]
    },
    {
     "name": "stderr",
     "output_type": "stream",
     "text": [
      "Epoch 34/300, current batch loss: 0.4204: 100%|██████████| 23/23 [00:03<00:00,  6.41it/s]\n"
     ]
    },
    {
     "name": "stdout",
     "output_type": "stream",
     "text": [
      "[-] Training loss: 0.6051\n",
      "[-] Training accuracy: 0.9084625229402106\n",
      "Validation loss: 1.2482\n",
      "Validation accuracy: 0.6768637782982045\n",
      "Current patience: 13, current trial: 3.\n"
     ]
    },
    {
     "name": "stderr",
     "output_type": "stream",
     "text": [
      "Epoch 35/300, current batch loss: 0.865: 100%|██████████| 23/23 [00:03<00:00,  6.20it/s] \n"
     ]
    },
    {
     "name": "stdout",
     "output_type": "stream",
     "text": [
      "[-] Training loss: 0.6154\n",
      "[-] Training accuracy: 0.9083038961552363\n",
      "Validation loss: 1.2423\n",
      "Validation accuracy: 0.6522736143637783\n",
      "Current patience: 12, current trial: 3.\n"
     ]
    },
    {
     "name": "stderr",
     "output_type": "stream",
     "text": [
      "Epoch 36/300, current batch loss: 0.6273: 100%|██████████| 23/23 [00:03<00:00,  6.35it/s]\n"
     ]
    },
    {
     "name": "stdout",
     "output_type": "stream",
     "text": [
      "[-] Training loss: 0.5992\n",
      "[-] Training accuracy: 0.917842814156756\n",
      "Validation loss: 1.278\n",
      "Validation accuracy: 0.6090944574551133\n",
      "Current patience: 11, current trial: 3.\n"
     ]
    },
    {
     "name": "stderr",
     "output_type": "stream",
     "text": [
      "Epoch 37/300, current batch loss: 0.7058: 100%|██████████| 23/23 [00:03<00:00,  6.29it/s]\n"
     ]
    },
    {
     "name": "stdout",
     "output_type": "stream",
     "text": [
      "[-] Training loss: 0.5983\n",
      "[-] Training accuracy: 0.9079423132416339\n",
      "Validation loss: 1.2633\n",
      "Validation accuracy: 0.6299277907884464\n",
      "Current patience: 10, current trial: 3.\n"
     ]
    },
    {
     "name": "stderr",
     "output_type": "stream",
     "text": [
      "Epoch 38/300, current batch loss: 1.0259: 100%|██████████| 23/23 [00:04<00:00,  5.57it/s]\n"
     ]
    },
    {
     "name": "stdout",
     "output_type": "stream",
     "text": [
      "[-] Training loss: 0.6019\n",
      "[-] Training accuracy: 0.9190290488665104\n",
      "Validation loss: 1.2517\n",
      "Validation accuracy: 0.6299277907884465\n",
      "Current patience: 9, current trial: 3.\n"
     ]
    },
    {
     "name": "stderr",
     "output_type": "stream",
     "text": [
      "Epoch 39/300, current batch loss: 0.287: 100%|██████████| 23/23 [00:03<00:00,  5.92it/s] \n"
     ]
    },
    {
     "name": "stdout",
     "output_type": "stream",
     "text": [
      "[-] Training loss: 0.5632\n",
      "[-] Training accuracy: 0.9334500014914001\n",
      "Validation loss: 1.2533\n",
      "Validation accuracy: 0.626951600312256\n",
      "Current patience: 8, current trial: 3.\n"
     ]
    },
    {
     "name": "stderr",
     "output_type": "stream",
     "text": [
      "Epoch 40/300, current batch loss: 0.2763: 100%|██████████| 23/23 [00:03<00:00,  6.06it/s]\n"
     ]
    },
    {
     "name": "stdout",
     "output_type": "stream",
     "text": [
      "[-] Training loss: 0.5505\n",
      "[-] Training accuracy: 0.9246798203817609\n",
      "Validation loss: 1.2603\n",
      "Validation accuracy: 0.6403688524590164\n",
      "Current patience: 7, current trial: 3.\n"
     ]
    },
    {
     "name": "stderr",
     "output_type": "stream",
     "text": [
      "Epoch 41/300, current batch loss: 0.9018: 100%|██████████| 23/23 [00:03<00:00,  5.81it/s]\n"
     ]
    },
    {
     "name": "stdout",
     "output_type": "stream",
     "text": [
      "[-] Training loss: 0.5598\n",
      "[-] Training accuracy: 0.918738737980162\n",
      "Validation loss: 1.2644\n",
      "Validation accuracy: 0.6597384855581577\n",
      "Current patience: 6, current trial: 3.\n"
     ]
    },
    {
     "name": "stderr",
     "output_type": "stream",
     "text": [
      "Epoch 42/300, current batch loss: 1.0256: 100%|██████████| 23/23 [00:03<00:00,  6.15it/s]\n"
     ]
    },
    {
     "name": "stdout",
     "output_type": "stream",
     "text": [
      "[-] Training loss: 0.5617\n",
      "[-] Training accuracy: 0.9250302310705302\n",
      "Validation loss: 1.257\n",
      "Validation accuracy: 0.673155737704918\n",
      "Current patience: 5, current trial: 3.\n"
     ]
    },
    {
     "name": "stderr",
     "output_type": "stream",
     "text": [
      "Epoch 43/300, current batch loss: 1.0293: 100%|██████████| 23/23 [00:03<00:00,  6.08it/s]\n"
     ]
    },
    {
     "name": "stdout",
     "output_type": "stream",
     "text": [
      "[-] Training loss: 0.5558\n",
      "[-] Training accuracy: 0.9160804280088725\n",
      "Validation loss: 1.2557\n",
      "Validation accuracy: 0.68506049960968\n",
      "Current patience: 4, current trial: 3.\n"
     ]
    },
    {
     "name": "stderr",
     "output_type": "stream",
     "text": [
      "Epoch 44/300, current batch loss: 0.2435: 100%|██████████| 23/23 [00:03<00:00,  5.95it/s]\n"
     ]
    },
    {
     "name": "stdout",
     "output_type": "stream",
     "text": [
      "[-] Training loss: 0.5599\n",
      "[-] Training accuracy: 0.918193263149547\n",
      "Validation loss: 1.2445\n",
      "Validation accuracy: 0.6910128805620608\n",
      "Current patience: 3, current trial: 3.\n"
     ]
    },
    {
     "name": "stderr",
     "output_type": "stream",
     "text": [
      "Epoch 45/300, current batch loss: 0.437: 100%|██████████| 23/23 [00:03<00:00,  5.83it/s] \n"
     ]
    },
    {
     "name": "stdout",
     "output_type": "stream",
     "text": [
      "[-] Training loss: 0.5251\n",
      "[-] Training accuracy: 0.9339410589410589\n",
      "Validation loss: 1.2633\n",
      "Validation accuracy: 0.6649590163934427\n",
      "Current patience: 2, current trial: 3.\n"
     ]
    },
    {
     "name": "stderr",
     "output_type": "stream",
     "text": [
      "Epoch 46/300, current batch loss: 0.7365: 100%|██████████| 23/23 [00:03<00:00,  5.98it/s]\n"
     ]
    },
    {
     "name": "stdout",
     "output_type": "stream",
     "text": [
      "[-] Training loss: 0.5183\n",
      "[-] Training accuracy: 0.923989423355549\n",
      "Validation loss: 1.2658\n",
      "Validation accuracy: 0.6574941451990632\n",
      "Current patience: 1, current trial: 3.\n"
     ]
    },
    {
     "name": "stderr",
     "output_type": "stream",
     "text": [
      "Epoch 47/300, current batch loss: 0.866: 100%|██████████| 23/23 [00:03<00:00,  6.08it/s] \n"
     ]
    },
    {
     "name": "stdout",
     "output_type": "stream",
     "text": [
      "[-] Training loss: 0.5306\n",
      "[-] Training accuracy: 0.9346007477253361\n",
      "Validation loss: 1.2546\n",
      "Validation accuracy: 0.6738875878220141\n",
      "Current patience: 0, current trial: 3.\n",
      "Running out of patience, loading previous best model.\n",
      "Current learning rate: 1e-05\n"
     ]
    },
    {
     "name": "stderr",
     "output_type": "stream",
     "text": [
      "Epoch 48/300, current batch loss: 0.5863: 100%|██████████| 23/23 [00:03<00:00,  6.22it/s]\n"
     ]
    },
    {
     "name": "stdout",
     "output_type": "stream",
     "text": [
      "[-] Training loss: 0.6191\n",
      "[-] Training accuracy: 0.9126643019733353\n",
      "Validation loss: 1.2451\n",
      "Validation accuracy: 0.6515417642466822\n",
      "Current patience: 15, current trial: 2.\n"
     ]
    },
    {
     "name": "stderr",
     "output_type": "stream",
     "text": [
      "Epoch 49/300, current batch loss: 0.8989: 100%|██████████| 23/23 [00:04<00:00,  5.68it/s]\n"
     ]
    },
    {
     "name": "stdout",
     "output_type": "stream",
     "text": [
      "[-] Training loss: 0.6341\n",
      "[-] Training accuracy: 0.9182219561111435\n",
      "Validation loss: 1.2494\n",
      "Validation accuracy: 0.6545179547228727\n",
      "Current patience: 14, current trial: 2.\n"
     ]
    },
    {
     "name": "stderr",
     "output_type": "stream",
     "text": [
      "Epoch 50/300, current batch loss: 0.3743: 100%|██████████| 23/23 [00:03<00:00,  5.80it/s]\n"
     ]
    },
    {
     "name": "stdout",
     "output_type": "stream",
     "text": [
      "[-] Training loss: 0.6207\n",
      "[-] Training accuracy: 0.9169238459846748\n",
      "Validation loss: 1.2472\n",
      "Validation accuracy: 0.6485655737704918\n",
      "Current patience: 13, current trial: 2.\n"
     ]
    },
    {
     "name": "stderr",
     "output_type": "stream",
     "text": [
      "Epoch 51/300, current batch loss: 0.8742: 100%|██████████| 23/23 [00:03<00:00,  5.97it/s]\n"
     ]
    },
    {
     "name": "stdout",
     "output_type": "stream",
     "text": [
      "[-] Training loss: 0.6245\n",
      "[-] Training accuracy: 0.9140520261057581\n",
      "Validation loss: 1.2511\n",
      "Validation accuracy: 0.6545179547228728\n",
      "Current patience: 12, current trial: 2.\n"
     ]
    },
    {
     "name": "stderr",
     "output_type": "stream",
     "text": [
      "Epoch 52/300, current batch loss: 0.8606: 100%|██████████| 23/23 [00:03<00:00,  5.84it/s]\n"
     ]
    },
    {
     "name": "stdout",
     "output_type": "stream",
     "text": [
      "[-] Training loss: 0.6247\n",
      "[-] Training accuracy: 0.9000085645769098\n",
      "Validation loss: 1.2499\n",
      "Validation accuracy: 0.6485655737704917\n",
      "Current patience: 11, current trial: 2.\n"
     ]
    },
    {
     "name": "stderr",
     "output_type": "stream",
     "text": [
      "Epoch 53/300, current batch loss: 0.8133: 100%|██████████| 23/23 [00:03<00:00,  6.44it/s]\n"
     ]
    },
    {
     "name": "stdout",
     "output_type": "stream",
     "text": [
      "[-] Training loss: 0.6188\n",
      "[-] Training accuracy: 0.9201828213299708\n",
      "Validation loss: 1.2539\n",
      "Validation accuracy: 0.6574941451990632\n",
      "Current patience: 10, current trial: 2.\n"
     ]
    },
    {
     "name": "stderr",
     "output_type": "stream",
     "text": [
      "Epoch 54/300, current batch loss: 0.825: 100%|██████████| 23/23 [00:04<00:00,  5.69it/s] \n"
     ]
    },
    {
     "name": "stdout",
     "output_type": "stream",
     "text": [
      "[-] Training loss: 0.6202\n",
      "[-] Training accuracy: 0.9056953760313406\n",
      "Validation loss: 1.2469\n",
      "Validation accuracy: 0.6649590163934427\n",
      "Current patience: 9, current trial: 2.\n"
     ]
    },
    {
     "name": "stderr",
     "output_type": "stream",
     "text": [
      "Epoch 55/300, current batch loss: 0.6612: 100%|██████████| 23/23 [00:04<00:00,  5.36it/s]\n"
     ]
    },
    {
     "name": "stdout",
     "output_type": "stream",
     "text": [
      "[-] Training loss: 0.6102\n",
      "[-] Training accuracy: 0.9256126588566461\n",
      "Validation loss: 1.2403\n",
      "Validation accuracy: 0.6738875878220141\n",
      "Current patience: 8, current trial: 2.\n"
     ]
    },
    {
     "name": "stderr",
     "output_type": "stream",
     "text": [
      "Epoch 56/300, current batch loss: 0.9108: 100%|██████████| 23/23 [00:04<00:00,  5.71it/s]\n"
     ]
    },
    {
     "name": "stdout",
     "output_type": "stream",
     "text": [
      "[-] Training loss: 0.6008\n",
      "[-] Training accuracy: 0.9257984884094482\n",
      "Validation loss: 1.2478\n",
      "Validation accuracy: 0.6574941451990632\n",
      "Current patience: 7, current trial: 2.\n"
     ]
    },
    {
     "name": "stderr",
     "output_type": "stream",
     "text": [
      "Epoch 57/300, current batch loss: 0.8966: 100%|██████████| 23/23 [00:03<00:00,  6.12it/s]\n"
     ]
    },
    {
     "name": "stdout",
     "output_type": "stream",
     "text": [
      "[-] Training loss: 0.6169\n",
      "[-] Training accuracy: 0.9169283059261818\n",
      "Validation loss: 1.2486\n",
      "Validation accuracy: 0.6686670569867292\n",
      "Current patience: 6, current trial: 2.\n"
     ]
    },
    {
     "name": "stderr",
     "output_type": "stream",
     "text": [
      "Epoch 58/300, current batch loss: 0.2724: 100%|██████████| 23/23 [00:03<00:00,  6.13it/s]\n"
     ]
    },
    {
     "name": "stdout",
     "output_type": "stream",
     "text": [
      "[-] Training loss: 0.6191\n",
      "[-] Training accuracy: 0.9202227985382528\n",
      "Validation loss: 1.247\n",
      "Validation accuracy: 0.673887587822014\n",
      "Current patience: 5, current trial: 2.\n"
     ]
    },
    {
     "name": "stderr",
     "output_type": "stream",
     "text": [
      "Epoch 59/300, current batch loss: 0.6548: 100%|██████████| 23/23 [00:03<00:00,  6.28it/s]\n"
     ]
    },
    {
     "name": "stdout",
     "output_type": "stream",
     "text": [
      "[-] Training loss: 0.5934\n",
      "[-] Training accuracy: 0.9137805224548836\n",
      "Validation loss: 1.2454\n",
      "Validation accuracy: 0.6791081186572989\n",
      "Current patience: 4, current trial: 2.\n"
     ]
    },
    {
     "name": "stderr",
     "output_type": "stream",
     "text": [
      "Epoch 60/300, current batch loss: 0.3885: 100%|██████████| 23/23 [00:03<00:00,  6.30it/s]\n"
     ]
    },
    {
     "name": "stdout",
     "output_type": "stream",
     "text": [
      "[-] Training loss: 0.6086\n",
      "[-] Training accuracy: 0.9210654761904762\n",
      "Validation loss: 1.2467\n",
      "Validation accuracy: 0.6709113973458235\n",
      "Current patience: 3, current trial: 2.\n"
     ]
    },
    {
     "name": "stderr",
     "output_type": "stream",
     "text": [
      "Epoch 61/300, current batch loss: 0.7896: 100%|██████████| 23/23 [00:03<00:00,  6.31it/s]\n"
     ]
    },
    {
     "name": "stdout",
     "output_type": "stream",
     "text": [
      "[-] Training loss: 0.5996\n",
      "[-] Training accuracy: 0.8964713306321508\n",
      "Validation loss: 1.2444\n",
      "Validation accuracy: 0.6820843091334895\n",
      "Current patience: 2, current trial: 2.\n"
     ]
    },
    {
     "name": "stderr",
     "output_type": "stream",
     "text": [
      "Epoch 62/300, current batch loss: 0.5478: 100%|██████████| 23/23 [00:03<00:00,  6.19it/s]\n"
     ]
    },
    {
     "name": "stdout",
     "output_type": "stream",
     "text": [
      "[-] Training loss: 0.5938\n",
      "[-] Training accuracy: 0.9118348756506653\n",
      "Validation loss: 1.2461\n",
      "Validation accuracy: 0.6597384855581576\n",
      "Current patience: 1, current trial: 2.\n"
     ]
    },
    {
     "name": "stderr",
     "output_type": "stream",
     "text": [
      "Epoch 63/300, current batch loss: 0.7967: 100%|██████████| 23/23 [00:03<00:00,  6.28it/s]\n"
     ]
    },
    {
     "name": "stdout",
     "output_type": "stream",
     "text": [
      "[-] Training loss: 0.6094\n",
      "[-] Training accuracy: 0.9148175563504424\n",
      "Validation loss: 1.2466\n",
      "Validation accuracy: 0.6485655737704918\n",
      "Current patience: 0, current trial: 2.\n",
      "Running out of patience, loading previous best model.\n",
      "Current learning rate: 1e-05\n"
     ]
    },
    {
     "name": "stderr",
     "output_type": "stream",
     "text": [
      "Epoch 64/300, current batch loss: 0.7478: 100%|██████████| 23/23 [00:03<00:00,  6.52it/s]\n"
     ]
    },
    {
     "name": "stdout",
     "output_type": "stream",
     "text": [
      "[-] Training loss: 0.6141\n",
      "[-] Training accuracy: 0.9028812738442192\n",
      "Validation loss: 1.2428\n",
      "Validation accuracy: 0.6597384855581576\n",
      "Current patience: 15, current trial: 1.\n"
     ]
    },
    {
     "name": "stderr",
     "output_type": "stream",
     "text": [
      "Epoch 65/300, current batch loss: 0.7791: 100%|██████████| 23/23 [00:03<00:00,  6.21it/s]\n"
     ]
    },
    {
     "name": "stdout",
     "output_type": "stream",
     "text": [
      "[-] Training loss: 0.6269\n",
      "[-] Training accuracy: 0.903019786345911\n",
      "Validation loss: 1.2476\n",
      "Validation accuracy: 0.6485655737704917\n",
      "Current patience: 14, current trial: 1.\n"
     ]
    },
    {
     "name": "stderr",
     "output_type": "stream",
     "text": [
      "Epoch 66/300, current batch loss: 0.2579: 100%|██████████| 23/23 [00:03<00:00,  6.04it/s]\n"
     ]
    },
    {
     "name": "stdout",
     "output_type": "stream",
     "text": [
      "[-] Training loss: 0.6318\n",
      "[-] Training accuracy: 0.9129177413539673\n",
      "Validation loss: 1.2576\n",
      "Validation accuracy: 0.6403688524590164\n",
      "Current patience: 13, current trial: 1.\n"
     ]
    },
    {
     "name": "stderr",
     "output_type": "stream",
     "text": [
      "Epoch 67/300, current batch loss: 0.7801: 100%|██████████| 23/23 [00:03<00:00,  6.29it/s]\n"
     ]
    },
    {
     "name": "stdout",
     "output_type": "stream",
     "text": [
      "[-] Training loss: 0.6207\n",
      "[-] Training accuracy: 0.8958447664780197\n",
      "Validation loss: 1.2561\n",
      "Validation accuracy: 0.6396370023419203\n",
      "Current patience: 12, current trial: 1.\n"
     ]
    },
    {
     "name": "stderr",
     "output_type": "stream",
     "text": [
      "Epoch 68/300, current batch loss: 1.1787: 100%|██████████| 23/23 [00:03<00:00,  6.16it/s]\n"
     ]
    },
    {
     "name": "stdout",
     "output_type": "stream",
     "text": [
      "[-] Training loss: 0.6387\n",
      "[-] Training accuracy: 0.9125872748250042\n",
      "Validation loss: 1.2534\n",
      "Validation accuracy: 0.6508099141295863\n",
      "Current patience: 11, current trial: 1.\n"
     ]
    },
    {
     "name": "stderr",
     "output_type": "stream",
     "text": [
      "Epoch 69/300, current batch loss: 1.0655: 100%|██████████| 23/23 [00:03<00:00,  6.05it/s]\n"
     ]
    },
    {
     "name": "stdout",
     "output_type": "stream",
     "text": [
      "[-] Training loss: 0.6244\n",
      "[-] Training accuracy: 0.9066744522582446\n",
      "Validation loss: 1.2501\n",
      "Validation accuracy: 0.679108118657299\n",
      "Current patience: 10, current trial: 1.\n"
     ]
    },
    {
     "name": "stderr",
     "output_type": "stream",
     "text": [
      "Epoch 70/300, current batch loss: 0.5984: 100%|██████████| 23/23 [00:04<00:00,  4.89it/s]\n"
     ]
    },
    {
     "name": "stdout",
     "output_type": "stream",
     "text": [
      "[-] Training loss: 0.6074\n",
      "[-] Training accuracy: 0.9134343648438603\n",
      "Validation loss: 1.2503\n",
      "Validation accuracy: 0.6679352068696331\n",
      "Current patience: 9, current trial: 1.\n"
     ]
    },
    {
     "name": "stderr",
     "output_type": "stream",
     "text": [
      "Epoch 71/300, current batch loss: 0.4805: 100%|██████████| 23/23 [00:03<00:00,  6.06it/s]\n"
     ]
    },
    {
     "name": "stdout",
     "output_type": "stream",
     "text": [
      "[-] Training loss: 0.625\n",
      "[-] Training accuracy: 0.91636420828494\n",
      "Validation loss: 1.2557\n",
      "Validation accuracy: 0.6567622950819673\n",
      "Current patience: 8, current trial: 1.\n"
     ]
    },
    {
     "name": "stderr",
     "output_type": "stream",
     "text": [
      "Epoch 72/300, current batch loss: 0.995: 100%|██████████| 23/23 [00:03<00:00,  5.81it/s] \n"
     ]
    },
    {
     "name": "stdout",
     "output_type": "stream",
     "text": [
      "[-] Training loss: 0.5929\n",
      "[-] Training accuracy: 0.9118441227297369\n",
      "Validation loss: 1.252\n",
      "Validation accuracy: 0.6627146760343481\n",
      "Current patience: 7, current trial: 1.\n"
     ]
    },
    {
     "name": "stderr",
     "output_type": "stream",
     "text": [
      "Epoch 73/300, current batch loss: 0.3755: 100%|██████████| 23/23 [00:03<00:00,  6.47it/s]\n"
     ]
    },
    {
     "name": "stdout",
     "output_type": "stream",
     "text": [
      "[-] Training loss: 0.5993\n",
      "[-] Training accuracy: 0.9159154705085407\n",
      "Validation loss: 1.2508\n",
      "Validation accuracy: 0.6627146760343481\n",
      "Current patience: 6, current trial: 1.\n"
     ]
    },
    {
     "name": "stderr",
     "output_type": "stream",
     "text": [
      "Epoch 74/300, current batch loss: 0.838: 100%|██████████| 23/23 [00:03<00:00,  6.21it/s] \n"
     ]
    },
    {
     "name": "stdout",
     "output_type": "stream",
     "text": [
      "[-] Training loss: 0.6068\n",
      "[-] Training accuracy: 0.9166715200931858\n",
      "Validation loss: 1.2542\n",
      "Validation accuracy: 0.6515417642466823\n",
      "Current patience: 5, current trial: 1.\n"
     ]
    },
    {
     "name": "stderr",
     "output_type": "stream",
     "text": [
      "Epoch 75/300, current batch loss: 0.2799: 100%|██████████| 23/23 [00:03<00:00,  5.98it/s]\n"
     ]
    },
    {
     "name": "stdout",
     "output_type": "stream",
     "text": [
      "[-] Training loss: 0.6117\n",
      "[-] Training accuracy: 0.9059387068436842\n",
      "Validation loss: 1.2508\n",
      "Validation accuracy: 0.6768637782982047\n",
      "Current patience: 4, current trial: 1.\n"
     ]
    },
    {
     "name": "stderr",
     "output_type": "stream",
     "text": [
      "Epoch 76/300, current batch loss: 0.8023: 100%|██████████| 23/23 [00:03<00:00,  6.24it/s]\n"
     ]
    },
    {
     "name": "stdout",
     "output_type": "stream",
     "text": [
      "[-] Training loss: 0.5969\n",
      "[-] Training accuracy: 0.9376803015763403\n",
      "Validation loss: 1.2574\n",
      "Validation accuracy: 0.6656908665105387\n",
      "Current patience: 3, current trial: 1.\n"
     ]
    },
    {
     "name": "stderr",
     "output_type": "stream",
     "text": [
      "Epoch 77/300, current batch loss: 1.2774: 100%|██████████| 23/23 [00:03<00:00,  6.56it/s]\n"
     ]
    },
    {
     "name": "stdout",
     "output_type": "stream",
     "text": [
      "[-] Training loss: 0.609\n",
      "[-] Training accuracy: 0.9100994056159047\n",
      "Validation loss: 1.2604\n",
      "Validation accuracy: 0.6485655737704918\n",
      "Current patience: 2, current trial: 1.\n"
     ]
    },
    {
     "name": "stderr",
     "output_type": "stream",
     "text": [
      "Epoch 78/300, current batch loss: 1.2046: 100%|██████████| 23/23 [00:03<00:00,  6.37it/s]\n"
     ]
    },
    {
     "name": "stdout",
     "output_type": "stream",
     "text": [
      "[-] Training loss: 0.5789\n",
      "[-] Training accuracy: 0.9193191023863722\n",
      "Validation loss: 1.2581\n",
      "Validation accuracy: 0.6574941451990632\n",
      "Current patience: 1, current trial: 1.\n"
     ]
    },
    {
     "name": "stderr",
     "output_type": "stream",
     "text": [
      "Epoch 79/300, current batch loss: 1.0939: 100%|██████████| 23/23 [00:03<00:00,  6.09it/s]\n"
     ]
    },
    {
     "name": "stdout",
     "output_type": "stream",
     "text": [
      "[-] Training loss: 0.5867\n",
      "[-] Training accuracy: 0.9237510504201683\n",
      "Validation loss: 1.2546\n",
      "Validation accuracy: 0.679839968774395\n",
      "Current patience: 0, current trial: 1.\n",
      "Running out of patience, loading previous best model.\n",
      "Current learning rate: 1e-05\n",
      "Running out of patience, early stopping.\n",
      "Test set performance: 1.3215103552570844\n",
      "Test set accuracy is 0.5787172011661808\n"
     ]
    },
    {
     "data": {
      "text/html": [
       "Waiting for W&B process to finish... <strong style=\"color:green\">(success).</strong>"
      ],
      "text/plain": [
       "<IPython.core.display.HTML object>"
      ]
     },
     "metadata": {},
     "output_type": "display_data"
    },
    {
     "name": "stderr",
     "output_type": "stream",
     "text": [
      "wandb: WARNING Source type is set to 'repo' but some required information is missing from the environment. A job will not be created from this run. See https://docs.wandb.ai/guides/launch/create-job\n"
     ]
    },
    {
     "data": {
      "text/html": [
       "<style>\n",
       "    table.wandb td:nth-child(1) { padding: 0 10px; text-align: left ; width: auto;} td:nth-child(2) {text-align: left ; width: 100%}\n",
       "    .wandb-row { display: flex; flex-direction: row; flex-wrap: wrap; justify-content: flex-start; width: 100% }\n",
       "    .wandb-col { display: flex; flex-direction: column; flex-basis: 100%; flex: 1; padding: 10px; }\n",
       "    </style>\n",
       "<div class=\"wandb-row\"><div class=\"wandb-col\"><h3>Run history:</h3><br/><table class=\"wandb\"><tr><td>Batch Accuracy</td><td>▁▁▂▄▆▅▅▆▇▄▆▇▆▇▇▇▇▇▇█▆████▇█▇▇▇▇▇▇▇▇██▇▆▇</td></tr><tr><td>Batch Loss</td><td>▂█▇▄▆▅▆▆▅▄▅▂▃▂▄▃▃▄▄▁▂▂▂▃▃▂▆▅▃▃▂▂▃▂▄▂▃▂▃▄</td></tr><tr><td>Epoch</td><td>▁▁▁▂▂▂▂▂▂▃▃▃▃▃▃▄▄▄▄▄▅▅▅▅▅▅▆▆▆▆▆▆▇▇▇▇▇███</td></tr><tr><td>Test Accuracy</td><td>▁</td></tr><tr><td>Test Loss</td><td>▁</td></tr><tr><td>Training Accuracy</td><td>▁▂▃▄▄▅▅▆▆▆▇▇▇▇▇▇██████████▇▇████▇███████</td></tr><tr><td>Training Loss</td><td>█▇▇▆▆▅▅▄▄▃▃▃▃▂▂▂▂▂▂▂▁▁▁▁▂▂▂▂▂▂▂▂▂▂▂▂▂▂▂▂</td></tr><tr><td>Validation Accuracy</td><td>▁▃▅▅▆▆▇▇▇▆▆▇▇▇▇▆▇█▅▆▆▇█▇▇▇▇▇▇▇▇▇▇▆▇▇▇▇▇█</td></tr><tr><td>Validation Loss</td><td>█▇▆▆▅▄▄▃▃▃▃▂▂▂▁▂▁▁▂▁▂▁▁▂▁▁▁▁▁▁▁▁▁▂▁▁▁▁▂▁</td></tr></table><br/></div><div class=\"wandb-col\"><h3>Run summary:</h3><br/><table class=\"wandb\"><tr><td>Batch Accuracy</td><td>0.94118</td></tr><tr><td>Batch Loss</td><td>1.0939</td></tr><tr><td>Epoch</td><td>79</td></tr><tr><td>Test Accuracy</td><td>0.57872</td></tr><tr><td>Test Loss</td><td>1.32151</td></tr><tr><td>Training Accuracy</td><td>0.92375</td></tr><tr><td>Training Loss</td><td>0.58666</td></tr><tr><td>Validation Accuracy</td><td>0.67984</td></tr><tr><td>Validation Loss</td><td>1.25462</td></tr></table><br/></div></div>"
      ],
      "text/plain": [
       "<IPython.core.display.HTML object>"
      ]
     },
     "metadata": {},
     "output_type": "display_data"
    },
    {
     "data": {
      "text/html": [
       " View run <strong style=\"color:#cdcd00\">daily-silence-84</strong> at: <a href='https://wandb.ai/ejbejaranos22/Baseline-multimodal/runs/mim0v23v' target=\"_blank\">https://wandb.ai/ejbejaranos22/Baseline-multimodal/runs/mim0v23v</a><br/>Synced 6 W&B file(s), 0 media file(s), 0 artifact file(s) and 0 other file(s)"
      ],
      "text/plain": [
       "<IPython.core.display.HTML object>"
      ]
     },
     "metadata": {},
     "output_type": "display_data"
    },
    {
     "data": {
      "text/html": [
       "Find logs at: <code>./wandb/run-20230925_173541-mim0v23v/logs</code>"
      ],
      "text/plain": [
       "<IPython.core.display.HTML object>"
      ]
     },
     "metadata": {},
     "output_type": "display_data"
    },
    {
     "name": "stdout",
     "output_type": "stream",
     "text": [
      "0.1\n"
     ]
    },
    {
     "data": {
      "application/vnd.jupyter.widget-view+json": {
       "model_id": "793e73e8e75347869c0571641d7c679c",
       "version_major": 2,
       "version_minor": 0
      },
      "text/plain": [
       "VBox(children=(Label(value='Waiting for wandb.init()...\\r'), FloatProgress(value=0.01116741898844743, max=1.0)…"
      ]
     },
     "metadata": {},
     "output_type": "display_data"
    },
    {
     "data": {
      "text/html": [
       "Tracking run with wandb version 0.15.11"
      ],
      "text/plain": [
       "<IPython.core.display.HTML object>"
      ]
     },
     "metadata": {},
     "output_type": "display_data"
    },
    {
     "data": {
      "text/html": [
       "Run data is saved locally in <code>/Users/lernmi/Desktop/EmotionUnify/src/datasets/CMU-MultimodalSDK/wandb/run-20230925_174117-ehj1ezs1</code>"
      ],
      "text/plain": [
       "<IPython.core.display.HTML object>"
      ]
     },
     "metadata": {},
     "output_type": "display_data"
    },
    {
     "data": {
      "text/html": [
       "Syncing run <strong><a href='https://wandb.ai/ejbejaranos22/Baseline-multimodal/runs/ehj1ezs1' target=\"_blank\">fiery-vortex-85</a></strong> to <a href='https://wandb.ai/ejbejaranos22/Baseline-multimodal' target=\"_blank\">Weights & Biases</a> (<a href='https://wandb.me/run' target=\"_blank\">docs</a>)<br/>"
      ],
      "text/plain": [
       "<IPython.core.display.HTML object>"
      ]
     },
     "metadata": {},
     "output_type": "display_data"
    },
    {
     "data": {
      "text/html": [
       " View project at <a href='https://wandb.ai/ejbejaranos22/Baseline-multimodal' target=\"_blank\">https://wandb.ai/ejbejaranos22/Baseline-multimodal</a>"
      ],
      "text/plain": [
       "<IPython.core.display.HTML object>"
      ]
     },
     "metadata": {},
     "output_type": "display_data"
    },
    {
     "data": {
      "text/html": [
       " View run at <a href='https://wandb.ai/ejbejaranos22/Baseline-multimodal/runs/ehj1ezs1' target=\"_blank\">https://wandb.ai/ejbejaranos22/Baseline-multimodal/runs/ehj1ezs1</a>"
      ],
      "text/plain": [
       "<IPython.core.display.HTML object>"
      ]
     },
     "metadata": {},
     "output_type": "display_data"
    },
    {
     "name": "stdout",
     "output_type": "stream",
     "text": [
      "================================================================================\n",
      "[-->] [120, 18, 29]\n",
      "[-->] 83\n",
      "================================================================================\n"
     ]
    },
    {
     "ename": "TypeError",
     "evalue": "Object of type module is not JSON serializable",
     "output_type": "error",
     "traceback": [
      "\u001b[0;31m---------------------------------------------------------------------------\u001b[0m",
      "\u001b[0;31mTypeError\u001b[0m                                 Traceback (most recent call last)",
      "Cell \u001b[0;32mIn[22], line 60\u001b[0m\n\u001b[1;32m     58\u001b[0m config\u001b[39m.\u001b[39mbatch_size \u001b[39m=\u001b[39m batch_sz\n\u001b[1;32m     59\u001b[0m config\u001b[39m.\u001b[39mlearning_initial_rate \u001b[39m=\u001b[39m learning_rate\n\u001b[0;32m---> 60\u001b[0m config\u001b[39m.\u001b[39;49moptimizer \u001b[39m=\u001b[39m optimizer_name\n\u001b[1;32m     62\u001b[0m \u001b[39mif\u001b[39;00m os\u001b[39m.\u001b[39mpath\u001b[39m.\u001b[39mexists(CACHE_PATH):\n\u001b[1;32m     63\u001b[0m     pretrained_emb, word2id \u001b[39m=\u001b[39m torch\u001b[39m.\u001b[39mload(CACHE_PATH)\n",
      "File \u001b[0;32m~/miniconda3/envs/emotionunify/lib/python3.11/site-packages/wandb/sdk/wandb_config.py:153\u001b[0m, in \u001b[0;36mConfig.__setitem__\u001b[0;34m(self, key, val)\u001b[0m\n\u001b[1;32m    151\u001b[0m logger\u001b[39m.\u001b[39minfo(\u001b[39m\"\u001b[39m\u001b[39mconfig set \u001b[39m\u001b[39m%s\u001b[39;00m\u001b[39m = \u001b[39m\u001b[39m%s\u001b[39;00m\u001b[39m - \u001b[39m\u001b[39m%s\u001b[39;00m\u001b[39m\"\u001b[39m, key, val, \u001b[39mself\u001b[39m\u001b[39m.\u001b[39m_callback)\n\u001b[1;32m    152\u001b[0m \u001b[39mif\u001b[39;00m \u001b[39mself\u001b[39m\u001b[39m.\u001b[39m_callback:\n\u001b[0;32m--> 153\u001b[0m     \u001b[39mself\u001b[39;49m\u001b[39m.\u001b[39;49m_callback(key\u001b[39m=\u001b[39;49mkey, val\u001b[39m=\u001b[39;49mval)\n",
      "File \u001b[0;32m~/miniconda3/envs/emotionunify/lib/python3.11/site-packages/wandb/sdk/wandb_run.py:370\u001b[0m, in \u001b[0;36m_run_decorator._noop_on_finish.<locals>.decorator_fn.<locals>.wrapper_fn\u001b[0;34m(self, *args, **kwargs)\u001b[0m\n\u001b[1;32m    367\u001b[0m \u001b[39m@functools\u001b[39m\u001b[39m.\u001b[39mwraps(func)\n\u001b[1;32m    368\u001b[0m \u001b[39mdef\u001b[39;00m \u001b[39mwrapper_fn\u001b[39m(\u001b[39mself\u001b[39m: Type[\u001b[39m\"\u001b[39m\u001b[39mRun\u001b[39m\u001b[39m\"\u001b[39m], \u001b[39m*\u001b[39margs: Any, \u001b[39m*\u001b[39m\u001b[39m*\u001b[39mkwargs: Any) \u001b[39m-\u001b[39m\u001b[39m>\u001b[39m Any:\n\u001b[1;32m    369\u001b[0m     \u001b[39mif\u001b[39;00m \u001b[39mnot\u001b[39;00m \u001b[39mgetattr\u001b[39m(\u001b[39mself\u001b[39m, \u001b[39m\"\u001b[39m\u001b[39m_is_finished\u001b[39m\u001b[39m\"\u001b[39m, \u001b[39mFalse\u001b[39;00m):\n\u001b[0;32m--> 370\u001b[0m         \u001b[39mreturn\u001b[39;00m func(\u001b[39mself\u001b[39;49m, \u001b[39m*\u001b[39;49margs, \u001b[39m*\u001b[39;49m\u001b[39m*\u001b[39;49mkwargs)\n\u001b[1;32m    372\u001b[0m     default_message \u001b[39m=\u001b[39m (\n\u001b[1;32m    373\u001b[0m         \u001b[39mf\u001b[39m\u001b[39m\"\u001b[39m\u001b[39mRun (\u001b[39m\u001b[39m{\u001b[39;00m\u001b[39mself\u001b[39m\u001b[39m.\u001b[39mid\u001b[39m}\u001b[39;00m\u001b[39m) is finished. The call to `\u001b[39m\u001b[39m{\u001b[39;00mfunc\u001b[39m.\u001b[39m\u001b[39m__name__\u001b[39m\u001b[39m}\u001b[39;00m\u001b[39m` will be ignored. \u001b[39m\u001b[39m\"\u001b[39m\n\u001b[1;32m    374\u001b[0m         \u001b[39mf\u001b[39m\u001b[39m\"\u001b[39m\u001b[39mPlease make sure that you are using an active run.\u001b[39m\u001b[39m\"\u001b[39m\n\u001b[1;32m    375\u001b[0m     )\n\u001b[1;32m    376\u001b[0m     resolved_message \u001b[39m=\u001b[39m message \u001b[39mor\u001b[39;00m default_message\n",
      "File \u001b[0;32m~/miniconda3/envs/emotionunify/lib/python3.11/site-packages/wandb/sdk/wandb_run.py:1326\u001b[0m, in \u001b[0;36mRun._config_callback\u001b[0;34m(self, key, val, data)\u001b[0m\n\u001b[1;32m   1324\u001b[0m logger\u001b[39m.\u001b[39minfo(\u001b[39mf\u001b[39m\u001b[39m\"\u001b[39m\u001b[39mconfig_cb \u001b[39m\u001b[39m{\u001b[39;00mkey\u001b[39m}\u001b[39;00m\u001b[39m \u001b[39m\u001b[39m{\u001b[39;00mval\u001b[39m}\u001b[39;00m\u001b[39m \u001b[39m\u001b[39m{\u001b[39;00mdata\u001b[39m}\u001b[39;00m\u001b[39m\"\u001b[39m)\n\u001b[1;32m   1325\u001b[0m \u001b[39mif\u001b[39;00m \u001b[39mself\u001b[39m\u001b[39m.\u001b[39m_backend \u001b[39mand\u001b[39;00m \u001b[39mself\u001b[39m\u001b[39m.\u001b[39m_backend\u001b[39m.\u001b[39minterface:\n\u001b[0;32m-> 1326\u001b[0m     \u001b[39mself\u001b[39;49m\u001b[39m.\u001b[39;49m_backend\u001b[39m.\u001b[39;49minterface\u001b[39m.\u001b[39;49mpublish_config(key\u001b[39m=\u001b[39;49mkey, val\u001b[39m=\u001b[39;49mval, data\u001b[39m=\u001b[39;49mdata)\n",
      "File \u001b[0;32m~/miniconda3/envs/emotionunify/lib/python3.11/site-packages/wandb/sdk/interface/interface.py:166\u001b[0m, in \u001b[0;36mInterfaceBase.publish_config\u001b[0;34m(self, data, key, val)\u001b[0m\n\u001b[1;32m    160\u001b[0m \u001b[39mdef\u001b[39;00m \u001b[39mpublish_config\u001b[39m(\n\u001b[1;32m    161\u001b[0m     \u001b[39mself\u001b[39m,\n\u001b[1;32m    162\u001b[0m     data: Optional[\u001b[39mdict\u001b[39m] \u001b[39m=\u001b[39m \u001b[39mNone\u001b[39;00m,\n\u001b[1;32m    163\u001b[0m     key: Optional[Union[Tuple[\u001b[39mstr\u001b[39m, \u001b[39m.\u001b[39m\u001b[39m.\u001b[39m\u001b[39m.\u001b[39m], \u001b[39mstr\u001b[39m]] \u001b[39m=\u001b[39m \u001b[39mNone\u001b[39;00m,\n\u001b[1;32m    164\u001b[0m     val: Optional[Any] \u001b[39m=\u001b[39m \u001b[39mNone\u001b[39;00m,\n\u001b[1;32m    165\u001b[0m ) \u001b[39m-\u001b[39m\u001b[39m>\u001b[39m \u001b[39mNone\u001b[39;00m:\n\u001b[0;32m--> 166\u001b[0m     cfg \u001b[39m=\u001b[39m \u001b[39mself\u001b[39;49m\u001b[39m.\u001b[39;49m_make_config(data\u001b[39m=\u001b[39;49mdata, key\u001b[39m=\u001b[39;49mkey, val\u001b[39m=\u001b[39;49mval)\n\u001b[1;32m    168\u001b[0m     \u001b[39mself\u001b[39m\u001b[39m.\u001b[39m_publish_config(cfg)\n",
      "File \u001b[0;32m~/miniconda3/envs/emotionunify/lib/python3.11/site-packages/wandb/sdk/interface/interface.py:129\u001b[0m, in \u001b[0;36mInterfaceBase._make_config\u001b[0;34m(self, data, key, val, obj)\u001b[0m\n\u001b[1;32m    127\u001b[0m     \u001b[39melse\u001b[39;00m:\n\u001b[1;32m    128\u001b[0m         update\u001b[39m.\u001b[39mkey \u001b[39m=\u001b[39m key\n\u001b[0;32m--> 129\u001b[0m     update\u001b[39m.\u001b[39mvalue_json \u001b[39m=\u001b[39m json_dumps_safer(json_friendly(val)[\u001b[39m0\u001b[39;49m])\n\u001b[1;32m    130\u001b[0m \u001b[39mreturn\u001b[39;00m config\n",
      "File \u001b[0;32m~/miniconda3/envs/emotionunify/lib/python3.11/site-packages/wandb/util.py:828\u001b[0m, in \u001b[0;36mjson_dumps_safer\u001b[0;34m(obj, **kwargs)\u001b[0m\n\u001b[1;32m    826\u001b[0m \u001b[39mdef\u001b[39;00m \u001b[39mjson_dumps_safer\u001b[39m(obj: Any, \u001b[39m*\u001b[39m\u001b[39m*\u001b[39mkwargs: Any) \u001b[39m-\u001b[39m\u001b[39m>\u001b[39m \u001b[39mstr\u001b[39m:\n\u001b[1;32m    827\u001b[0m \u001b[39m    \u001b[39m\u001b[39m\"\"\"Convert obj to json, with some extra encodable types.\"\"\"\u001b[39;00m\n\u001b[0;32m--> 828\u001b[0m     \u001b[39mreturn\u001b[39;00m dumps(obj, \u001b[39mcls\u001b[39;49m\u001b[39m=\u001b[39;49mWandBJSONEncoder, \u001b[39m*\u001b[39;49m\u001b[39m*\u001b[39;49mkwargs)\n",
      "File \u001b[0;32m~/miniconda3/envs/emotionunify/lib/python3.11/json/__init__.py:238\u001b[0m, in \u001b[0;36mdumps\u001b[0;34m(obj, skipkeys, ensure_ascii, check_circular, allow_nan, cls, indent, separators, default, sort_keys, **kw)\u001b[0m\n\u001b[1;32m    232\u001b[0m \u001b[39mif\u001b[39;00m \u001b[39mcls\u001b[39m \u001b[39mis\u001b[39;00m \u001b[39mNone\u001b[39;00m:\n\u001b[1;32m    233\u001b[0m     \u001b[39mcls\u001b[39m \u001b[39m=\u001b[39m JSONEncoder\n\u001b[1;32m    234\u001b[0m \u001b[39mreturn\u001b[39;00m \u001b[39mcls\u001b[39;49m(\n\u001b[1;32m    235\u001b[0m     skipkeys\u001b[39m=\u001b[39;49mskipkeys, ensure_ascii\u001b[39m=\u001b[39;49mensure_ascii,\n\u001b[1;32m    236\u001b[0m     check_circular\u001b[39m=\u001b[39;49mcheck_circular, allow_nan\u001b[39m=\u001b[39;49mallow_nan, indent\u001b[39m=\u001b[39;49mindent,\n\u001b[1;32m    237\u001b[0m     separators\u001b[39m=\u001b[39;49mseparators, default\u001b[39m=\u001b[39;49mdefault, sort_keys\u001b[39m=\u001b[39;49msort_keys,\n\u001b[0;32m--> 238\u001b[0m     \u001b[39m*\u001b[39;49m\u001b[39m*\u001b[39;49mkw)\u001b[39m.\u001b[39;49mencode(obj)\n",
      "File \u001b[0;32m~/miniconda3/envs/emotionunify/lib/python3.11/json/encoder.py:200\u001b[0m, in \u001b[0;36mJSONEncoder.encode\u001b[0;34m(self, o)\u001b[0m\n\u001b[1;32m    196\u001b[0m         \u001b[39mreturn\u001b[39;00m encode_basestring(o)\n\u001b[1;32m    197\u001b[0m \u001b[39m# This doesn't pass the iterator directly to ''.join() because the\u001b[39;00m\n\u001b[1;32m    198\u001b[0m \u001b[39m# exceptions aren't as detailed.  The list call should be roughly\u001b[39;00m\n\u001b[1;32m    199\u001b[0m \u001b[39m# equivalent to the PySequence_Fast that ''.join() would do.\u001b[39;00m\n\u001b[0;32m--> 200\u001b[0m chunks \u001b[39m=\u001b[39m \u001b[39mself\u001b[39;49m\u001b[39m.\u001b[39;49miterencode(o, _one_shot\u001b[39m=\u001b[39;49m\u001b[39mTrue\u001b[39;49;00m)\n\u001b[1;32m    201\u001b[0m \u001b[39mif\u001b[39;00m \u001b[39mnot\u001b[39;00m \u001b[39misinstance\u001b[39m(chunks, (\u001b[39mlist\u001b[39m, \u001b[39mtuple\u001b[39m)):\n\u001b[1;32m    202\u001b[0m     chunks \u001b[39m=\u001b[39m \u001b[39mlist\u001b[39m(chunks)\n",
      "File \u001b[0;32m~/miniconda3/envs/emotionunify/lib/python3.11/json/encoder.py:258\u001b[0m, in \u001b[0;36mJSONEncoder.iterencode\u001b[0;34m(self, o, _one_shot)\u001b[0m\n\u001b[1;32m    253\u001b[0m \u001b[39melse\u001b[39;00m:\n\u001b[1;32m    254\u001b[0m     _iterencode \u001b[39m=\u001b[39m _make_iterencode(\n\u001b[1;32m    255\u001b[0m         markers, \u001b[39mself\u001b[39m\u001b[39m.\u001b[39mdefault, _encoder, \u001b[39mself\u001b[39m\u001b[39m.\u001b[39mindent, floatstr,\n\u001b[1;32m    256\u001b[0m         \u001b[39mself\u001b[39m\u001b[39m.\u001b[39mkey_separator, \u001b[39mself\u001b[39m\u001b[39m.\u001b[39mitem_separator, \u001b[39mself\u001b[39m\u001b[39m.\u001b[39msort_keys,\n\u001b[1;32m    257\u001b[0m         \u001b[39mself\u001b[39m\u001b[39m.\u001b[39mskipkeys, _one_shot)\n\u001b[0;32m--> 258\u001b[0m \u001b[39mreturn\u001b[39;00m _iterencode(o, \u001b[39m0\u001b[39;49m)\n",
      "File \u001b[0;32m~/miniconda3/envs/emotionunify/lib/python3.11/site-packages/wandb/util.py:779\u001b[0m, in \u001b[0;36mWandBJSONEncoder.default\u001b[0;34m(self, obj)\u001b[0m\n\u001b[1;32m    777\u001b[0m \u001b[39mif\u001b[39;00m converted:\n\u001b[1;32m    778\u001b[0m     \u001b[39mreturn\u001b[39;00m tmp_obj\n\u001b[0;32m--> 779\u001b[0m \u001b[39mreturn\u001b[39;00m json\u001b[39m.\u001b[39;49mJSONEncoder\u001b[39m.\u001b[39;49mdefault(\u001b[39mself\u001b[39;49m, obj)\n",
      "File \u001b[0;32m~/miniconda3/envs/emotionunify/lib/python3.11/json/encoder.py:180\u001b[0m, in \u001b[0;36mJSONEncoder.default\u001b[0;34m(self, o)\u001b[0m\n\u001b[1;32m    161\u001b[0m \u001b[39mdef\u001b[39;00m \u001b[39mdefault\u001b[39m(\u001b[39mself\u001b[39m, o):\n\u001b[1;32m    162\u001b[0m \u001b[39m    \u001b[39m\u001b[39m\"\"\"Implement this method in a subclass such that it returns\u001b[39;00m\n\u001b[1;32m    163\u001b[0m \u001b[39m    a serializable object for ``o``, or calls the base implementation\u001b[39;00m\n\u001b[1;32m    164\u001b[0m \u001b[39m    (to raise a ``TypeError``).\u001b[39;00m\n\u001b[0;32m   (...)\u001b[0m\n\u001b[1;32m    178\u001b[0m \n\u001b[1;32m    179\u001b[0m \u001b[39m    \"\"\"\u001b[39;00m\n\u001b[0;32m--> 180\u001b[0m     \u001b[39mraise\u001b[39;00m \u001b[39mTypeError\u001b[39;00m(\u001b[39mf\u001b[39m\u001b[39m'\u001b[39m\u001b[39mObject of type \u001b[39m\u001b[39m{\u001b[39;00mo\u001b[39m.\u001b[39m\u001b[39m__class__\u001b[39m\u001b[39m.\u001b[39m\u001b[39m__name__\u001b[39m\u001b[39m}\u001b[39;00m\u001b[39m \u001b[39m\u001b[39m'\u001b[39m\n\u001b[1;32m    181\u001b[0m                     \u001b[39mf\u001b[39m\u001b[39m'\u001b[39m\u001b[39mis not JSON serializable\u001b[39m\u001b[39m'\u001b[39m)\n",
      "\u001b[0;31mTypeError\u001b[0m: Object of type module is not JSON serializable"
     ]
    }
   ],
   "source": [
    "from tqdm import tqdm_notebook\n",
    "from torch.optim import Adam, SGD, adagrad\n",
    "from tqdm import tqdm\n",
    "from sklearn.metrics import accuracy_score\n",
    "import wandb\n",
    "import caffeine\n",
    "\n",
    "caffeine.on(display=False)\n",
    "\n",
    "dropout_values = [0.1, 0.5, 0.55]\n",
    "learning_rate_values = [0.0003]\n",
    "optimizer_optionns = [Adam]\n",
    "\n",
    "name_model = LateFusionLSTM  # This is the class type, not an instance\n",
    "for optimizer_name in optimizer_optionns:\n",
    "\n",
    "    for learning_rate in learning_rate_values:\n",
    "        for drop_value in dropout_values:\n",
    "            print(drop_value)\n",
    "            wandb.init(settings=wandb.Settings(start_method=\"fork\"),project=\"Baseline-multimodal\")\n",
    "\n",
    "            # Parameters\n",
    "            torch.manual_seed(123)\n",
    "            torch.cuda.manual_seed_all(123)\n",
    "\n",
    "            CUDA = torch.cuda.is_available()\n",
    "            MAX_EPOCH = 300\n",
    "\n",
    "            text_size = 300\n",
    "            visual_size = 47\n",
    "            acoustic_size = 74\n",
    "\n",
    "            # define some model settings and hyper-parameters\n",
    "            input_sizes = [text_size, visual_size, acoustic_size]\n",
    "            hidden_sizes = [int(text_size * 0.4), int(visual_size * 0.4), int(acoustic_size * 0.4)]\n",
    "            fc1_size = sum(hidden_sizes) // 2\n",
    "            dropout = drop_value\n",
    "            output_size = 1\n",
    "            curr_patience = patience = 15\n",
    "            num_trials = 3\n",
    "            grad_clip_value = 1.0\n",
    "            weight_decay = 0.1\n",
    "            print(80*\"=\")\n",
    "            print(\"[-->]\",hidden_sizes)\n",
    "            print(\"[-->]\",fc1_size)\n",
    "            print(80*\"=\")\n",
    "            # Configurations\n",
    "            config = wandb.config\n",
    "            config.text_size = text_size\n",
    "            config.visual_size = visual_size\n",
    "            config.acoustic_size = acoustic_size\n",
    "            config.hidden_sizes = hidden_sizes\n",
    "            config.dropout = dropout\n",
    "            config.output_size = output_size\n",
    "            config.patience = patience\n",
    "            config.grad_clip_value = grad_clip_value\n",
    "            config.weight_decay = weight_decay\n",
    "            config.batch_size = batch_sz\n",
    "            config.learning_initial_rate = learning_rate\n",
    "            config.optimizer = optimizer_name\n",
    "\n",
    "            if os.path.exists(CACHE_PATH):\n",
    "                pretrained_emb, word2id = torch.load(CACHE_PATH)\n",
    "            elif WORD_EMB_PATH is not None:\n",
    "                pretrained_emb = load_emb(word2id, WORD_EMB_PATH)\n",
    "                torch.save((pretrained_emb, word2id), CACHE_PATH)\n",
    "            else:\n",
    "                pretrained_emb = None\n",
    "\n",
    "            # Create an instance of the model based on the class type\n",
    "            if name_model == LateFusionLSTM:\n",
    "                print(\"Using LateFusionLSTM\")\n",
    "                model = LateFusionLSTM(input_sizes, hidden_sizes, fc1_size, output_size, dropout)\n",
    "                if pretrained_emb is not None:\n",
    "                    model.embed.weight.data = pretrained_emb\n",
    "                    model.embed.requires_grad = False\n",
    "            elif name_model == LateFusionBERT:\n",
    "                print(\"Using BertLateFusionLSTM\")\n",
    "                model = LateFusionBERT(input_sizes, hidden_sizes, fc1_size, output_size, dropout, bert_model_name='bert-base-uncased')\n",
    "\n",
    "            optimizer = optimizer_name([param for param in model.parameters() if param.requires_grad], lr=learning_rate, weight_decay=weight_decay)\n",
    "\n",
    "\n",
    "            if CUDA:\n",
    "                model.cuda()\n",
    "            criterion = nn.L1Loss(reduction='sum')\n",
    "            criterion_test = nn.L1Loss(reduction='sum')\n",
    "            best_valid_loss = float('inf')\n",
    "            lr_scheduler = torch.optim.lr_scheduler.StepLR(optimizer, step_size=1, gamma=0.1)\n",
    "            lr_scheduler.step() # for some reason it seems the StepLR needs to be stepped once first\n",
    "\n",
    "            train_losses = []\n",
    "            valid_losses = []\n",
    "\n",
    "            # Training \n",
    "            for e in range(MAX_EPOCH):\n",
    "                # TRAINING MOOD\n",
    "                model.train()\n",
    "                train_iter = tqdm(train_loader)\n",
    "                train_loss = 0.0\n",
    "                train_correct = 0\n",
    "                train_total = 0\n",
    "                valid_correct = 0\n",
    "                valid_total = 0  # Reset valid_total here\n",
    "                for batch in train_iter:\n",
    "                    model.zero_grad()\n",
    "                    t, v, a, y, l = batch\n",
    "                    batch_size = t.size(0)\n",
    "                    if CUDA:\n",
    "                        t = t.cuda()\n",
    "                        v = v.cuda()\n",
    "                        a = a.cuda()\n",
    "                        y = y.cuda()\n",
    "                        l = l.cuda()\n",
    "                    y_tilde = model(t, v, a, l)\n",
    "                    loss = criterion(y_tilde, y)\n",
    "                    loss.backward()\n",
    "                    torch.nn.utils.clip_grad_value_([param for param in model.parameters() if param.requires_grad], grad_clip_value)\n",
    "                    optimizer.step()\n",
    "                    \n",
    "                    # Calculate accuracy\n",
    "                    accuracy = calculate_accuracy(y_tilde, y)\n",
    "                    train_total += batch_size\n",
    "                    train_correct += accuracy * batch_size\n",
    "                    train_iter.set_description(f\"Epoch {e}/{MAX_EPOCH}, current batch loss: {round(loss.item()/batch_size, 4)}\")\n",
    "                    train_loss += loss.item()\n",
    "                    wandb.log({\"Batch Loss\": round(loss.item()/batch_size, 4)})\n",
    "                    wandb.log({\"Batch Accuracy\": accuracy})\n",
    "\n",
    "\n",
    "\n",
    "                train_loss = train_loss / len(train)\n",
    "                train_losses.append(train_loss)\n",
    "                train_accuracy = train_correct / train_total\n",
    "\n",
    "                # Training tracks metrics per epoch\n",
    "                wandb.log({\"Training Loss\": train_loss})\n",
    "                wandb.log({\"Training Accuracy\": train_accuracy})\n",
    "                wandb.log({\"Epoch\": e})\n",
    "                print(f\"[-] Training loss: {round(train_loss, 4)}\")\n",
    "                print(f\"[-] Training accuracy: {train_accuracy}\")\n",
    "\n",
    "                # VALIDATION MOOD\n",
    "                model.eval()\n",
    "                with torch.no_grad():\n",
    "                    valid_loss = 0.0\n",
    "                    for batch in validation_loader:\n",
    "                        model.zero_grad()\n",
    "                        t, v, a, y, l = batch\n",
    "                        if CUDA:\n",
    "                            t = t.cuda()\n",
    "                            v = v.cuda()\n",
    "                            a = a.cuda()\n",
    "                            y = y.cuda()\n",
    "                            l = l.cuda()\n",
    "                        y_tilde = model(t, v, a, l)\n",
    "                        loss = criterion(y_tilde, y)\n",
    "                        # calculate accuracy in validation and log in wandb\n",
    "                        valid_total += batch_size  # Reset valid_total at the beginning of each epoch\n",
    "                        valid_loss += loss.item()\n",
    "                        accuracy = calculate_accuracy(y_tilde, y)\n",
    "                        valid_correct += accuracy * batch_size\n",
    "\n",
    "                valid_loss = valid_loss/len(validation)\n",
    "                valid_losses.append(valid_loss)\n",
    "                valid_accuracy = valid_correct / valid_total\n",
    "\n",
    "                wandb.log({\"Validation Accuracy\": valid_accuracy})\n",
    "                wandb.log({\"Validation Loss\": valid_loss})\n",
    "                print(f\"Validation loss: {round(valid_loss, 4)}\")\n",
    "                print(f\"Validation accuracy: {valid_accuracy}\")\n",
    "                print(f\"Current patience: {curr_patience}, current trial: {num_trials}.\")\n",
    "\n",
    "\n",
    "                if valid_loss <= best_valid_loss:\n",
    "                    best_valid_loss = valid_loss\n",
    "                    print(\"Found new best model on dev set!\")\n",
    "                    torch.save(model.state_dict(), 'model.std')\n",
    "                    torch.save(optimizer.state_dict(), 'optim.std')\n",
    "                    curr_patience = patience\n",
    "                else:\n",
    "                    curr_patience -= 1\n",
    "                    if curr_patience <= -1:\n",
    "                        print(\"Running out of patience, loading previous best model.\")\n",
    "                        num_trials -= 1\n",
    "                        curr_patience = patience\n",
    "                        model.load_state_dict(torch.load('model.std'))\n",
    "                        optimizer.load_state_dict(torch.load('optim.std'))\n",
    "                        lr_scheduler.step()\n",
    "                        print(f\"Current learning rate: {optimizer.state_dict()['param_groups'][0]['lr']}\")\n",
    "\n",
    "                if num_trials <= 0:\n",
    "                    print(\"Running out of patience, early stopping.\")\n",
    "                    break\n",
    "\n",
    "            model.load_state_dict(torch.load('model.std'))\n",
    "\n",
    "\n",
    "            # TEST MODE\n",
    "            y_true = []\n",
    "            y_pred = []\n",
    "\n",
    "            # Test\n",
    "            model.eval()\n",
    "            with torch.no_grad():\n",
    "                test_loss = 0.0\n",
    "                for batch in test_loader:\n",
    "                    model.zero_grad()\n",
    "                    t, v, a, y, l = batch\n",
    "                    if CUDA:\n",
    "                        t = t.cuda()\n",
    "                        v = v.cuda()\n",
    "                        a = a.cuda()\n",
    "                        y = y.cuda()\n",
    "                        l = l.cuda()\n",
    "                    y_tilde = model(t, v, a, l)\n",
    "                    loss = criterion_test(y_tilde, y)\n",
    "                    y_true.append(y_tilde.detach().cpu().numpy())\n",
    "                    y_pred.append(y.detach().cpu().numpy())\n",
    "                    test_loss += loss.item()\n",
    "\n",
    "            print(f\"Test set performance: {test_loss/len(test)}\")\n",
    "            y_true = np.concatenate(y_true, axis=0)\n",
    "            y_pred = np.concatenate(y_pred, axis=0)\n",
    "\n",
    "            y_true_bin = y_true >= 0\n",
    "            y_pred_bin = y_pred >= 0\n",
    "            bin_acc = accuracy_score(y_true_bin, y_pred_bin)\n",
    "            wandb.log({\"Test Loss\": test_loss/len(test), \"Test Accuracy\": bin_acc})\n",
    "            print(f\"Test set accuracy is {bin_acc}\")\n",
    "            \n",
    "            wandb.finish()\n"
   ]
  },
  {
   "cell_type": "code",
   "execution_count": 29,
   "metadata": {},
   "outputs": [
    {
     "data": {
      "text/html": [
       "Waiting for W&B process to finish... <strong style=\"color:green\">(success).</strong>"
      ],
      "text/plain": [
       "<IPython.core.display.HTML object>"
      ]
     },
     "metadata": {},
     "output_type": "display_data"
    },
    {
     "name": "stderr",
     "output_type": "stream",
     "text": [
      "wandb: WARNING Source type is set to 'repo' but some required information is missing from the environment. A job will not be created from this run. See https://docs.wandb.ai/guides/launch/create-job\n"
     ]
    },
    {
     "data": {
      "application/vnd.jupyter.widget-view+json": {
       "model_id": "f2f93d7a7af944c4b7ab2cdc4cf5ba1c",
       "version_major": 2,
       "version_minor": 0
      },
      "text/plain": [
       "VBox(children=(Label(value='0.001 MB of 0.001 MB uploaded (0.000 MB deduped)\\r'), FloatProgress(value=1.0, max…"
      ]
     },
     "metadata": {},
     "output_type": "display_data"
    },
    {
     "data": {
      "text/html": [
       " View run <strong style=\"color:#cdcd00\">zany-wildflower-77</strong> at: <a href='https://wandb.ai/ejbejaranos22/Baseline-multimodal/runs/z8mqacd1' target=\"_blank\">https://wandb.ai/ejbejaranos22/Baseline-multimodal/runs/z8mqacd1</a><br/>Synced 6 W&B file(s), 0 media file(s), 0 artifact file(s) and 0 other file(s)"
      ],
      "text/plain": [
       "<IPython.core.display.HTML object>"
      ]
     },
     "metadata": {},
     "output_type": "display_data"
    },
    {
     "data": {
      "text/html": [
       "Find logs at: <code>./wandb/run-20230925_163047-z8mqacd1/logs</code>"
      ],
      "text/plain": [
       "<IPython.core.display.HTML object>"
      ]
     },
     "metadata": {},
     "output_type": "display_data"
    }
   ],
   "source": [
    "wandb.finish()"
   ]
  }
 ],
 "metadata": {
  "kernelspec": {
   "display_name": "emotionunify",
   "language": "python",
   "name": "python3"
  },
  "language_info": {
   "codemirror_mode": {
    "name": "ipython",
    "version": 3
   },
   "file_extension": ".py",
   "mimetype": "text/x-python",
   "name": "python",
   "nbconvert_exporter": "python",
   "pygments_lexer": "ipython3",
   "version": "3.11.5"
  },
  "orig_nbformat": 4
 },
 "nbformat": 4,
 "nbformat_minor": 2
}
