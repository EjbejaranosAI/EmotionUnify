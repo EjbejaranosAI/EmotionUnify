{
 "cells": [
  {
   "cell_type": "code",
   "execution_count": 38,
   "metadata": {},
   "outputs": [
    {
     "name": "stdout",
     "output_type": "stream",
     "text": [
      "LICENSE       README.md     \u001b[31mclean.sh\u001b[m\u001b[m      \u001b[34mmmsdk\u001b[m\u001b[m         \u001b[34mrelated_repos\u001b[m\u001b[m\n",
      "LICENSE.txt   __init_.py    \u001b[34mexamples\u001b[m\u001b[m      next_steps.md\n"
     ]
    }
   ],
   "source": [
    "import os\n",
    "import re\n",
    "from typing import Optional\n",
    "\n",
    "# path to the SDK folder\n",
    "SDK_PATH: Optional[str] = None\n",
    "# path to the folder where you want to store data\n",
    "DATA_PATH: Optional[str] = '.src/datasets/CMU-MultimodalSDK/data/'\n",
    "# path to a pretrained word embedding file\n",
    "WORD_EMB_PATH: Optional[str] = None\n",
    "# path to loaded word embedding matrix and corresponding word2id mapping\n",
    "CACHE_PATH: Optional[str] = '.src/datasets/CMU-MultimodalSDK/data/embedding_and_mapping.pt'\n",
    "\n",
    "\n",
    "\n",
    "!ls"
   ]
  },
  {
   "cell_type": "code",
   "execution_count": 2,
   "metadata": {},
   "outputs": [],
   "source": [
    "# path to the folder where you want to store data\n",
    "os.chdir('./src/datasets/CMU-MultimodalSDK')"
   ]
  },
  {
   "cell_type": "code",
   "execution_count": 3,
   "metadata": {},
   "outputs": [
    {
     "name": "stdout",
     "output_type": "stream",
     "text": [
      "LICENSE       README.md     \u001b[31mclean.sh\u001b[m\u001b[m      \u001b[34mmmsdk\u001b[m\u001b[m         \u001b[34mrelated_repos\u001b[m\u001b[m\n",
      "LICENSE.txt   __init_.py    \u001b[34mexamples\u001b[m\u001b[m      next_steps.md\n"
     ]
    }
   ],
   "source": [
    "!ls\n",
    "import sys\n",
    "import mmsdk\n",
    "from mmsdk import mmdatasdk as md\n",
    "from subprocess import check_call, CalledProcessError"
   ]
  },
  {
   "cell_type": "code",
   "execution_count": 4,
   "metadata": {},
   "outputs": [
    {
     "name": "stdout",
     "output_type": "stream",
     "text": [
      "LICENSE       README.md     \u001b[31mclean.sh\u001b[m\u001b[m      \u001b[34mmmsdk\u001b[m\u001b[m         \u001b[34mrelated_repos\u001b[m\u001b[m\n",
      "LICENSE.txt   __init_.py    \u001b[34mexamples\u001b[m\u001b[m      next_steps.md\n"
     ]
    },
    {
     "name": "stdout",
     "output_type": "stream",
     "text": [
      "SDK path is not specified! Please specify first in constants/paths.py\n"
     ]
    },
    {
     "ename": "",
     "evalue": "",
     "output_type": "error",
     "traceback": [
      "\u001b[1;31mEl Kernel se bloqueó al ejecutar código en la celda actual o en una celda anterior. Revise el código de las celdas para identificar una posible causa del error. Haga clic <a href='https://aka.ms/vscodeJupyterKernelCrash'>aquí</a> para obtener más información. Vea el [registro] de Jupyter (command:jupyter.viewOutput) para obtener más detalles."
     ]
    }
   ],
   "source": [
    "\n",
    "\n",
    "if SDK_PATH is None:\n",
    "    print(\"SDK path is not specified! Please specify first in constants/paths.py\")\n",
    "    exit(0)\n",
    "else:\n",
    "    sys.path.append(SDK_PATH)\n",
    "\n",
    "# create folders for storing the data\n",
    "if not os.path.exists(DATA_PATH):\n",
    "    check_call(' '.join(['mkdir', '-p', DATA_PATH]), shell=True)\n"
   ]
  },
  {
   "cell_type": "code",
   "execution_count": 4,
   "metadata": {},
   "outputs": [
    {
     "name": "stdout",
     "output_type": "stream",
     "text": [
      "\u001b[94m\u001b[1m[2023-09-22 09:51:16.977] | Status  | \u001b[0mDownloading from http://immortal.multicomp.cs.cmu.edu/CMU-MOSI/language/CMU_MOSI_TimestampedWordVectors.csd to .src/datasets/CMU-MultimodalSDK/data/CMU_MOSI_TimestampedWordVectors.csd...\n"
     ]
    },
    {
     "name": "stderr",
     "output_type": "stream",
     "text": [
      "                                                                     \r"
     ]
    },
    {
     "name": "stdout",
     "output_type": "stream",
     "text": [
      "\u001b[92m\u001b[1m[2023-09-22 09:52:32.837] | Success | \u001b[0mDownload complete!\n",
      "\u001b[92m\u001b[1m[2023-09-22 09:52:32.846] | Success | \u001b[0mComputational sequence read from file .src/datasets/CMU-MultimodalSDK/data/CMU_MOSI_TimestampedWordVectors.csd ...\n",
      "\u001b[94m\u001b[1m[2023-09-22 09:52:32.863] | Status  | \u001b[0mChecking the integrity of the <glove_vectors> computational sequence ...\n",
      "\u001b[94m\u001b[1m[2023-09-22 09:52:32.863] | Status  | \u001b[0mChecking the format of the data in <glove_vectors> computational sequence ...\n"
     ]
    },
    {
     "name": "stderr",
     "output_type": "stream",
     "text": [
      "                                                                   \r"
     ]
    },
    {
     "name": "stdout",
     "output_type": "stream",
     "text": [
      "\u001b[92m\u001b[1m[2023-09-22 09:52:32.891] | Success | \u001b[0m<glove_vectors> computational sequence data in correct format.\n",
      "\u001b[94m\u001b[1m[2023-09-22 09:52:32.891] | Status  | \u001b[0mChecking the format of the metadata in <glove_vectors> computational sequence ...\n",
      "\u001b[93m\u001b[1m[2023-09-22 09:52:32.891] | Warning | \u001b[0m<glove_vectors> computational sequence does not have all the required metadata ... continuing \n",
      "\u001b[94m\u001b[1m[2023-09-22 09:52:33.138] | Status  | \u001b[0mDownloading from http://immortal.multicomp.cs.cmu.edu/CMU-MOSI/visual/CMU_MOSI_Visual_Facet_41.csd to .src/datasets/CMU-MultimodalSDK/data/CMU_MOSI_Visual_Facet_41.csd...\n"
     ]
    },
    {
     "name": "stderr",
     "output_type": "stream",
     "text": [
      "                                                                     \r"
     ]
    },
    {
     "name": "stdout",
     "output_type": "stream",
     "text": [
      "\u001b[92m\u001b[1m[2023-09-22 09:53:56.671] | Success | \u001b[0mDownload complete!\n",
      "\u001b[92m\u001b[1m[2023-09-22 09:53:56.675] | Success | \u001b[0mComputational sequence read from file .src/datasets/CMU-MultimodalSDK/data/CMU_MOSI_Visual_Facet_41.csd ...\n",
      "\u001b[94m\u001b[1m[2023-09-22 09:53:56.692] | Status  | \u001b[0mChecking the integrity of the <FACET_4.1> computational sequence ...\n",
      "\u001b[94m\u001b[1m[2023-09-22 09:53:56.692] | Status  | \u001b[0mChecking the format of the data in <FACET_4.1> computational sequence ...\n"
     ]
    },
    {
     "name": "stderr",
     "output_type": "stream",
     "text": [
      "                                                                   \r"
     ]
    },
    {
     "name": "stdout",
     "output_type": "stream",
     "text": [
      "\u001b[92m\u001b[1m[2023-09-22 09:53:56.726] | Success | \u001b[0m<FACET_4.1> computational sequence data in correct format.\n",
      "\u001b[94m\u001b[1m[2023-09-22 09:53:56.726] | Status  | \u001b[0mChecking the format of the metadata in <FACET_4.1> computational sequence ...\n",
      "\u001b[93m\u001b[1m[2023-09-22 09:53:56.726] | Warning | \u001b[0m<FACET_4.1> computational sequence does not have all the required metadata ... continuing \n",
      "\u001b[94m\u001b[1m[2023-09-22 09:53:56.987] | Status  | \u001b[0mDownloading from http://immortal.multicomp.cs.cmu.edu/CMU-MOSI/visual/CMU_MOSI_Visual_Facet_42.csd to .src/datasets/CMU-MultimodalSDK/data/CMU_MOSI_Visual_Facet_42.csd...\n"
     ]
    },
    {
     "name": "stderr",
     "output_type": "stream",
     "text": [
      "                                                                     \r"
     ]
    },
    {
     "name": "stdout",
     "output_type": "stream",
     "text": [
      "\u001b[92m\u001b[1m[2023-09-22 09:55:02.927] | Success | \u001b[0mDownload complete!\n",
      "\u001b[92m\u001b[1m[2023-09-22 09:55:02.929] | Success | \u001b[0mComputational sequence read from file .src/datasets/CMU-MultimodalSDK/data/CMU_MOSI_Visual_Facet_42.csd ...\n",
      "\u001b[94m\u001b[1m[2023-09-22 09:55:02.941] | Status  | \u001b[0mChecking the integrity of the <FACET_4.2> computational sequence ...\n",
      "\u001b[94m\u001b[1m[2023-09-22 09:55:02.941] | Status  | \u001b[0mChecking the format of the data in <FACET_4.2> computational sequence ...\n"
     ]
    },
    {
     "name": "stderr",
     "output_type": "stream",
     "text": [
      "                                                                   \r"
     ]
    },
    {
     "name": "stdout",
     "output_type": "stream",
     "text": [
      "\u001b[92m\u001b[1m[2023-09-22 09:55:02.974] | Success | \u001b[0m<FACET_4.2> computational sequence data in correct format.\n",
      "\u001b[94m\u001b[1m[2023-09-22 09:55:02.974] | Status  | \u001b[0mChecking the format of the metadata in <FACET_4.2> computational sequence ...\n",
      "\u001b[93m\u001b[1m[2023-09-22 09:55:02.974] | Warning | \u001b[0m<FACET_4.2> computational sequence does not have all the required metadata ... continuing \n",
      "\u001b[94m\u001b[1m[2023-09-22 09:55:03.239] | Status  | \u001b[0mDownloading from http://immortal.multicomp.cs.cmu.edu/CMU-MOSI/acoustic/CMU_MOSI_OpenSmile_EB10.csd to .src/datasets/CMU-MultimodalSDK/data/CMU_MOSI_OpenSmile_EB10.csd...\n"
     ]
    },
    {
     "name": "stderr",
     "output_type": "stream",
     "text": [
      "                                                                    \r"
     ]
    },
    {
     "name": "stdout",
     "output_type": "stream",
     "text": [
      "\u001b[92m\u001b[1m[2023-09-22 09:55:19.269] | Success | \u001b[0mDownload complete!\n",
      "\u001b[92m\u001b[1m[2023-09-22 09:55:19.270] | Success | \u001b[0mComputational sequence read from file .src/datasets/CMU-MultimodalSDK/data/CMU_MOSI_OpenSmile_EB10.csd ...\n",
      "\u001b[94m\u001b[1m[2023-09-22 09:55:19.274] | Status  | \u001b[0mChecking the integrity of the <OpenSmile_emobase2010> computational sequence ...\n",
      "\u001b[94m\u001b[1m[2023-09-22 09:55:19.274] | Status  | \u001b[0mChecking the format of the data in <OpenSmile_emobase2010> computational sequence ...\n"
     ]
    },
    {
     "name": "stderr",
     "output_type": "stream",
     "text": [
      "                                                                   \r"
     ]
    },
    {
     "name": "stdout",
     "output_type": "stream",
     "text": [
      "\u001b[92m\u001b[1m[2023-09-22 09:55:19.295] | Success | \u001b[0m<OpenSmile_emobase2010> computational sequence data in correct format.\n",
      "\u001b[94m\u001b[1m[2023-09-22 09:55:19.295] | Status  | \u001b[0mChecking the format of the metadata in <OpenSmile_emobase2010> computational sequence ...\n",
      "\u001b[93m\u001b[1m[2023-09-22 09:55:19.295] | Warning | \u001b[0m<OpenSmile_emobase2010> computational sequence does not have all the required metadata ... continuing \n",
      "\u001b[94m\u001b[1m[2023-09-22 09:55:19.551] | Status  | \u001b[0mDownloading from http://immortal.multicomp.cs.cmu.edu/CMU-MOSI/acoustic/CMU_MOSI_openSMILE_IS09.csd to .src/datasets/CMU-MultimodalSDK/data/CMU_MOSI_openSMILE_IS09.csd...\n"
     ]
    },
    {
     "name": "stderr",
     "output_type": "stream",
     "text": [
      "                                                                        \r"
     ]
    },
    {
     "name": "stdout",
     "output_type": "stream",
     "text": [
      "\u001b[92m\u001b[1m[2023-09-22 10:05:27.038] | Success | \u001b[0mDownload complete!\n",
      "\u001b[92m\u001b[1m[2023-09-22 10:05:27.040] | Success | \u001b[0mComputational sequence read from file .src/datasets/CMU-MultimodalSDK/data/CMU_MOSI_openSMILE_IS09.csd ...\n",
      "\u001b[94m\u001b[1m[2023-09-22 10:05:27.052] | Status  | \u001b[0mChecking the integrity of the <b'OpenSMILE'> computational sequence ...\n",
      "\u001b[94m\u001b[1m[2023-09-22 10:05:27.052] | Status  | \u001b[0mChecking the format of the data in <b'OpenSMILE'> computational sequence ...\n"
     ]
    },
    {
     "name": "stderr",
     "output_type": "stream",
     "text": [
      "                                                                   \r"
     ]
    },
    {
     "name": "stdout",
     "output_type": "stream",
     "text": [
      "\u001b[92m\u001b[1m[2023-09-22 10:05:27.072] | Success | \u001b[0m<b'OpenSMILE'> computational sequence data in correct format.\n",
      "\u001b[94m\u001b[1m[2023-09-22 10:05:27.072] | Status  | \u001b[0mChecking the format of the metadata in <b'OpenSMILE'> computational sequence ...\n",
      "\u001b[93m\u001b[1m[2023-09-22 10:05:27.072] | Warning | \u001b[0m<b'OpenSMILE'> computational sequence does not have all the required metadata ... continuing \n",
      "\u001b[94m\u001b[1m[2023-09-22 10:05:27.340] | Status  | \u001b[0mDownloading from http://immortal.multicomp.cs.cmu.edu/CMU-MOSI/visual/CMU_MOSI_Visual_OpenFace_1.csd to .src/datasets/CMU-MultimodalSDK/data/CMU_MOSI_Visual_OpenFace_1.csd...\n"
     ]
    },
    {
     "name": "stderr",
     "output_type": "stream",
     "text": [
      "                                                                       \r"
     ]
    },
    {
     "name": "stdout",
     "output_type": "stream",
     "text": [
      "\u001b[92m\u001b[1m[2023-09-22 10:17:06.541] | Success | \u001b[0mDownload complete!\n",
      "\u001b[92m\u001b[1m[2023-09-22 10:17:06.545] | Success | \u001b[0mComputational sequence read from file .src/datasets/CMU-MultimodalSDK/data/CMU_MOSI_Visual_OpenFace_1.csd ...\n",
      "\u001b[94m\u001b[1m[2023-09-22 10:17:06.561] | Status  | \u001b[0mChecking the integrity of the <OpenFace_1> computational sequence ...\n",
      "\u001b[94m\u001b[1m[2023-09-22 10:17:06.561] | Status  | \u001b[0mChecking the format of the data in <OpenFace_1> computational sequence ...\n"
     ]
    },
    {
     "name": "stderr",
     "output_type": "stream",
     "text": [
      "                                                                   \r"
     ]
    },
    {
     "name": "stdout",
     "output_type": "stream",
     "text": [
      "\u001b[92m\u001b[1m[2023-09-22 10:17:06.596] | Success | \u001b[0m<OpenFace_1> computational sequence data in correct format.\n",
      "\u001b[94m\u001b[1m[2023-09-22 10:17:06.596] | Status  | \u001b[0mChecking the format of the metadata in <OpenFace_1> computational sequence ...\n",
      "\u001b[93m\u001b[1m[2023-09-22 10:17:06.596] | Warning | \u001b[0m<OpenFace_1> computational sequence does not have all the required metadata ... continuing \n",
      "\u001b[94m\u001b[1m[2023-09-22 10:17:06.977] | Status  | \u001b[0mDownloading from http://immortal.multicomp.cs.cmu.edu/CMU-MOSI/visual/CMU_MOSI_Visual_OpenFace_2.csd to .src/datasets/CMU-MultimodalSDK/data/CMU_MOSI_Visual_OpenFace_2.csd...\n"
     ]
    },
    {
     "name": "stderr",
     "output_type": "stream",
     "text": [
      "                                                                       \r"
     ]
    },
    {
     "name": "stdout",
     "output_type": "stream",
     "text": [
      "\u001b[92m\u001b[1m[2023-09-22 10:29:44.959] | Success | \u001b[0mDownload complete!\n",
      "\u001b[92m\u001b[1m[2023-09-22 10:29:44.974] | Success | \u001b[0mComputational sequence read from file .src/datasets/CMU-MultimodalSDK/data/CMU_MOSI_Visual_OpenFace_2.csd ...\n",
      "\u001b[94m\u001b[1m[2023-09-22 10:29:44.991] | Status  | \u001b[0mChecking the integrity of the <OpenFace_2> computational sequence ...\n",
      "\u001b[94m\u001b[1m[2023-09-22 10:29:44.991] | Status  | \u001b[0mChecking the format of the data in <OpenFace_2> computational sequence ...\n"
     ]
    },
    {
     "name": "stderr",
     "output_type": "stream",
     "text": [
      "                                                                   \r"
     ]
    },
    {
     "name": "stdout",
     "output_type": "stream",
     "text": [
      "\u001b[92m\u001b[1m[2023-09-22 10:29:45.011] | Success | \u001b[0m<OpenFace_2> computational sequence data in correct format.\n",
      "\u001b[94m\u001b[1m[2023-09-22 10:29:45.011] | Status  | \u001b[0mChecking the format of the metadata in <OpenFace_2> computational sequence ...\n",
      "\u001b[93m\u001b[1m[2023-09-22 10:29:45.011] | Warning | \u001b[0m<OpenFace_2> computational sequence does not have all the required metadata ... continuing \n",
      "\u001b[94m\u001b[1m[2023-09-22 10:29:45.266] | Status  | \u001b[0mDownloading from http://immortal.multicomp.cs.cmu.edu/CMU-MOSI/acoustic/CMU_MOSI_COVAREP.csd to .src/datasets/CMU-MultimodalSDK/data/CMU_MOSI_COVAREP.csd...\n"
     ]
    },
    {
     "name": "stderr",
     "output_type": "stream",
     "text": [
      "                                                                       \r"
     ]
    },
    {
     "name": "stdout",
     "output_type": "stream",
     "text": [
      "\u001b[92m\u001b[1m[2023-09-22 10:36:35.141] | Success | \u001b[0mDownload complete!\n",
      "\u001b[92m\u001b[1m[2023-09-22 10:36:35.145] | Success | \u001b[0mComputational sequence read from file .src/datasets/CMU-MultimodalSDK/data/CMU_MOSI_COVAREP.csd ...\n",
      "\u001b[94m\u001b[1m[2023-09-22 10:36:35.159] | Status  | \u001b[0mChecking the integrity of the <COVAREP> computational sequence ...\n",
      "\u001b[94m\u001b[1m[2023-09-22 10:36:35.159] | Status  | \u001b[0mChecking the format of the data in <COVAREP> computational sequence ...\n"
     ]
    },
    {
     "name": "stderr",
     "output_type": "stream",
     "text": [
      "                                                                   \r"
     ]
    },
    {
     "name": "stdout",
     "output_type": "stream",
     "text": [
      "\u001b[92m\u001b[1m[2023-09-22 10:36:35.194] | Success | \u001b[0m<COVAREP> computational sequence data in correct format.\n",
      "\u001b[94m\u001b[1m[2023-09-22 10:36:35.194] | Status  | \u001b[0mChecking the format of the metadata in <COVAREP> computational sequence ...\n",
      "\u001b[93m\u001b[1m[2023-09-22 10:36:35.194] | Warning | \u001b[0m<COVAREP> computational sequence does not have all the required metadata ... continuing \n",
      "\u001b[92m\u001b[1m[2023-09-22 10:36:35.194] | Success | \u001b[0mDataset initialized successfully ... \n",
      "\u001b[94m\u001b[1m[2023-09-22 10:36:35.457] | Status  | \u001b[0mDownloading from http://immortal.multicomp.cs.cmu.edu/CMU-MOSI/language/CMU_MOSI_TimestampedWords.csd to .src/datasets/CMU-MultimodalSDK/data/CMU_MOSI_TimestampedWords.csd...\n"
     ]
    },
    {
     "name": "stderr",
     "output_type": "stream",
     "text": [
      "                                                                 \r"
     ]
    },
    {
     "name": "stdout",
     "output_type": "stream",
     "text": [
      "\u001b[92m\u001b[1m[2023-09-22 10:36:44.206] | Success | \u001b[0mDownload complete!\n",
      "\u001b[92m\u001b[1m[2023-09-22 10:36:44.207] | Success | \u001b[0mComputational sequence read from file .src/datasets/CMU-MultimodalSDK/data/CMU_MOSI_TimestampedWords.csd ...\n",
      "\u001b[94m\u001b[1m[2023-09-22 10:36:44.212] | Status  | \u001b[0mChecking the integrity of the <words> computational sequence ...\n",
      "\u001b[94m\u001b[1m[2023-09-22 10:36:44.212] | Status  | \u001b[0mChecking the format of the data in <words> computational sequence ...\n"
     ]
    },
    {
     "name": "stderr",
     "output_type": "stream",
     "text": [
      "                                                                   \r"
     ]
    },
    {
     "name": "stdout",
     "output_type": "stream",
     "text": [
      "\u001b[92m\u001b[1m[2023-09-22 10:36:44.241] | Success | \u001b[0m<words> computational sequence data in correct format.\n",
      "\u001b[94m\u001b[1m[2023-09-22 10:36:44.241] | Status  | \u001b[0mChecking the format of the metadata in <words> computational sequence ...\n",
      "\u001b[93m\u001b[1m[2023-09-22 10:36:44.241] | Warning | \u001b[0m<words> computational sequence does not have all the required metadata ... continuing \n",
      "\u001b[94m\u001b[1m[2023-09-22 10:36:44.530] | Status  | \u001b[0mDownloading from http://immortal.multicomp.cs.cmu.edu/CMU-MOSI/language/CMU_MOSI_TimestampedPhones.csd to .src/datasets/CMU-MultimodalSDK/data/CMU_MOSI_TimestampedPhones.csd...\n"
     ]
    },
    {
     "name": "stderr",
     "output_type": "stream",
     "text": [
      "                                                                   \r"
     ]
    },
    {
     "name": "stdout",
     "output_type": "stream",
     "text": [
      "\u001b[92m\u001b[1m[2023-09-22 10:36:47.505] | Success | \u001b[0mDownload complete!\n",
      "\u001b[92m\u001b[1m[2023-09-22 10:36:47.506] | Success | \u001b[0mComputational sequence read from file .src/datasets/CMU-MultimodalSDK/data/CMU_MOSI_TimestampedPhones.csd ...\n",
      "\u001b[94m\u001b[1m[2023-09-22 10:36:47.513] | Status  | \u001b[0mChecking the integrity of the <phoneme> computational sequence ...\n",
      "\u001b[94m\u001b[1m[2023-09-22 10:36:47.513] | Status  | \u001b[0mChecking the format of the data in <phoneme> computational sequence ...\n"
     ]
    },
    {
     "name": "stderr",
     "output_type": "stream",
     "text": [
      "                                                                   \r"
     ]
    },
    {
     "name": "stdout",
     "output_type": "stream",
     "text": [
      "\u001b[92m\u001b[1m[2023-09-22 10:36:47.542] | Success | \u001b[0m<phoneme> computational sequence data in correct format.\n",
      "\u001b[94m\u001b[1m[2023-09-22 10:36:47.542] | Status  | \u001b[0mChecking the format of the metadata in <phoneme> computational sequence ...\n",
      "\u001b[93m\u001b[1m[2023-09-22 10:36:47.542] | Warning | \u001b[0m<phoneme> computational sequence does not have all the required metadata ... continuing \n",
      "\u001b[92m\u001b[1m[2023-09-22 10:36:47.542] | Success | \u001b[0mDataset initialized successfully ... \n",
      "\u001b[94m\u001b[1m[2023-09-22 10:36:47.802] | Status  | \u001b[0mDownloading from http://immortal.multicomp.cs.cmu.edu/CMU-MOSI/labels/CMU_MOSI_Opinion_Labels.csd to .src/datasets/CMU-MultimodalSDK/data/CMU_MOSI_Opinion_Labels.csd...\n"
     ]
    },
    {
     "name": "stderr",
     "output_type": "stream",
     "text": [
      "                                                                \r"
     ]
    },
    {
     "name": "stdout",
     "output_type": "stream",
     "text": [
      "\u001b[92m\u001b[1m[2023-09-22 10:36:48.798] | Success | \u001b[0mDownload complete!\n",
      "\u001b[92m\u001b[1m[2023-09-22 10:36:48.799] | Success | \u001b[0mComputational sequence read from file .src/datasets/CMU-MultimodalSDK/data/CMU_MOSI_Opinion_Labels.csd ...\n",
      "\u001b[94m\u001b[1m[2023-09-22 10:36:48.805] | Status  | \u001b[0mChecking the integrity of the <Opinion Segment Labels> computational sequence ...\n",
      "\u001b[94m\u001b[1m[2023-09-22 10:36:48.805] | Status  | \u001b[0mChecking the format of the data in <Opinion Segment Labels> computational sequence ...\n"
     ]
    },
    {
     "name": "stderr",
     "output_type": "stream",
     "text": [
      "                                                                   "
     ]
    },
    {
     "name": "stdout",
     "output_type": "stream",
     "text": [
      "\u001b[92m\u001b[1m[2023-09-22 10:36:48.833] | Success | \u001b[0m<Opinion Segment Labels> computational sequence data in correct format.\n",
      "\u001b[94m\u001b[1m[2023-09-22 10:36:48.833] | Status  | \u001b[0mChecking the format of the metadata in <Opinion Segment Labels> computational sequence ...\n",
      "\u001b[93m\u001b[1m[2023-09-22 10:36:48.833] | Warning | \u001b[0m<Opinion Segment Labels> computational sequence does not have all the required metadata ... continuing \n",
      "\u001b[92m\u001b[1m[2023-09-22 10:36:48.833] | Success | \u001b[0mDataset initialized successfully ... \n"
     ]
    },
    {
     "name": "stderr",
     "output_type": "stream",
     "text": [
      "\r"
     ]
    }
   ],
   "source": [
    "# MOSI DATASET\n",
    "DATASET = md.cmu_mosi\n",
    "\n",
    "try:\n",
    "    md.mmdataset(DATASET.highlevel, DATA_PATH)\n",
    "except RuntimeError:\n",
    "    print(\"High-level features have been downloaded previously.\")\n",
    "\n",
    "try:\n",
    "    md.mmdataset(DATASET.raw, DATA_PATH)\n",
    "except RuntimeError:\n",
    "    print(\"Raw data have been downloaded previously.\")\n",
    "\n",
    "try:\n",
    "    md.mmdataset(DATASET.labels, DATA_PATH)\n",
    "except RuntimeError:\n",
    "    print(\"Labels have been downloaded previously.\")\n",
    "\n",
    "!wget https://github.com/Justin1904/CMU-MultimodalSDK-Tutorials/blob/master/data/CMU_MOSI_ModifiedTimestampedWords.csd -O .src/datasets/CMU-MultimodalSDK/data/CMU_MOSI_ModifiedTimestampedWords.csd\n",
    "data_files = os.listdir(DATA_PATH)\n",
    "\n",
    "print(\"Downloaded data: \",'\\n'.join(data_files))\n"
   ]
  },
  {
   "cell_type": "code",
   "execution_count": 31,
   "metadata": {},
   "outputs": [
    {
     "name": "stdout",
     "output_type": "stream",
     "text": [
      "Downloaded data:  CMU_MOSI_ModifiedTimestampedWords.csd\n",
      "CMU_MOSI_OpenSmile_EB10.csd\n",
      "CMU_MOSI_openSMILE_IS09.csd\n",
      "CMU_MOSI_Opinion_Labels.csd\n",
      "CMU_MOSI_TimestampedWords.csd\n",
      "CMU_MOSI_Visual_OpenFace_2.csd\n",
      "CMU_MOSI_TimestampedWordVectors.csd\n",
      "CMU_MOSI_Visual_OpenFace_1.csd\n",
      "CMU_MOSI_Visual_Facet_41.csd\n",
      "CMU_MOSI_TimestampedPhones.csd\n",
      "CMU_MOSI_Visual_Facet_42.csd\n",
      "CMU_MOSI_COVAREP.csd\n"
     ]
    }
   ],
   "source": [
    "data_files = os.listdir(DATA_PATH)\n",
    "\n",
    "print(\"Downloaded data: \",'\\n'.join(data_files))"
   ]
  },
  {
   "cell_type": "code",
   "execution_count": 40,
   "metadata": {},
   "outputs": [
    {
     "name": "stdout",
     "output_type": "stream",
     "text": [
      "\u001b[92m\u001b[1m[2023-09-22 11:28:38.999] | Success | \u001b[0mComputational sequence read from file .src/datasets/CMU-MultimodalSDK/data/CMU_MOSI_TimestampedWords.csd ...\n",
      "\u001b[94m\u001b[1m[2023-09-22 11:28:39.076] | Status  | \u001b[0mChecking the integrity of the <words> computational sequence ...\n",
      "\u001b[94m\u001b[1m[2023-09-22 11:28:39.076] | Status  | \u001b[0mChecking the format of the data in <words> computational sequence ...\n"
     ]
    },
    {
     "name": "stderr",
     "output_type": "stream",
     "text": [
      "                                                                   \r"
     ]
    },
    {
     "name": "stdout",
     "output_type": "stream",
     "text": [
      "\u001b[92m\u001b[1m[2023-09-22 11:28:39.106] | Success | \u001b[0m<words> computational sequence data in correct format.\n",
      "\u001b[94m\u001b[1m[2023-09-22 11:28:39.106] | Status  | \u001b[0mChecking the format of the metadata in <words> computational sequence ...\n",
      "\u001b[93m\u001b[1m[2023-09-22 11:28:39.106] | Warning | \u001b[0m<words> computational sequence does not have all the required metadata ... continuing \n",
      "\u001b[92m\u001b[1m[2023-09-22 11:28:39.108] | Success | \u001b[0mComputational sequence read from file .src/datasets/CMU-MultimodalSDK/data/CMU_MOSI_Visual_Facet_41.csd ...\n",
      "\u001b[94m\u001b[1m[2023-09-22 11:28:39.119] | Status  | \u001b[0mChecking the integrity of the <FACET_4.1> computational sequence ...\n",
      "\u001b[94m\u001b[1m[2023-09-22 11:28:39.119] | Status  | \u001b[0mChecking the format of the data in <FACET_4.1> computational sequence ...\n"
     ]
    },
    {
     "name": "stderr",
     "output_type": "stream",
     "text": [
      "                                                                   \r"
     ]
    },
    {
     "name": "stdout",
     "output_type": "stream",
     "text": [
      "\u001b[92m\u001b[1m[2023-09-22 11:28:39.147] | Success | \u001b[0m<FACET_4.1> computational sequence data in correct format.\n",
      "\u001b[94m\u001b[1m[2023-09-22 11:28:39.147] | Status  | \u001b[0mChecking the format of the metadata in <FACET_4.1> computational sequence ...\n",
      "\u001b[93m\u001b[1m[2023-09-22 11:28:39.147] | Warning | \u001b[0m<FACET_4.1> computational sequence does not have all the required metadata ... continuing \n",
      "\u001b[92m\u001b[1m[2023-09-22 11:28:39.147] | Success | \u001b[0mComputational sequence read from file .src/datasets/CMU-MultimodalSDK/data/CMU_MOSI_COVAREP.csd ...\n",
      "\u001b[94m\u001b[1m[2023-09-22 11:28:39.156] | Status  | \u001b[0mChecking the integrity of the <COVAREP> computational sequence ...\n",
      "\u001b[94m\u001b[1m[2023-09-22 11:28:39.156] | Status  | \u001b[0mChecking the format of the data in <COVAREP> computational sequence ...\n"
     ]
    },
    {
     "name": "stderr",
     "output_type": "stream",
     "text": [
      "                                                                   "
     ]
    },
    {
     "name": "stdout",
     "output_type": "stream",
     "text": [
      "\u001b[92m\u001b[1m[2023-09-22 11:28:39.185] | Success | \u001b[0m<COVAREP> computational sequence data in correct format.\n",
      "\u001b[94m\u001b[1m[2023-09-22 11:28:39.185] | Status  | \u001b[0mChecking the format of the metadata in <COVAREP> computational sequence ...\n",
      "\u001b[93m\u001b[1m[2023-09-22 11:28:39.185] | Warning | \u001b[0m<COVAREP> computational sequence does not have all the required metadata ... continuing \n",
      "\u001b[92m\u001b[1m[2023-09-22 11:28:39.185] | Success | \u001b[0mDataset initialized successfully ... \n"
     ]
    },
    {
     "name": "stderr",
     "output_type": "stream",
     "text": [
      "\r"
     ]
    }
   ],
   "source": [
    "visual_field = 'CMU_MOSI_Visual_Facet_41'\n",
    "acoustic_field = 'CMU_MOSI_COVAREP'\n",
    "text_field = 'CMU_MOSI_TimestampedWords'\n",
    "\n",
    "\n",
    "features = [\n",
    "    text_field,\n",
    "    visual_field,\n",
    "    acoustic_field\n",
    "]\n",
    "\n",
    "recipe = {feat: os.path.join(DATA_PATH, feat) + '.csd' for feat in features}\n",
    "dataset = md.mmdataset(recipe)"
   ]
  },
  {
   "cell_type": "code",
   "execution_count": 45,
   "metadata": {},
   "outputs": [
    {
     "name": "stdout",
     "output_type": "stream",
     "text": [
      "================================================================================\n",
      "Dataset keys: ['CMU_MOSI_TimestampedWords', 'CMU_MOSI_Visual_Facet_41', 'CMU_MOSI_COVAREP']\n",
      "================================================================================\n",
      "IDs: ['03bSnISJMiM', '0h-zjBukYpk', '1DmNV9C1hbY', '1iG0909rllw', '2WGyTLYerpo']\n",
      "================================================================================\n",
      "Into IDs: ['features', 'intervals']\n",
      "Shape: [5404, 2]\n",
      "================================================================================\n",
      "Shape visual features: [5404, 47]\n",
      "Shape text features: [645, 1]\n",
      "Shape acoustic features: [18009, 74]\n",
      "Different modalities have different number of time steps!\n"
     ]
    }
   ],
   "source": [
    "print(\"=\" * 80)\n",
    "print(f\"Dataset keys: {list(dataset.keys())}\")\n",
    "print(\"=\" * 80)\n",
    "\n",
    "print(f\"IDs: {list(dataset[visual_field].keys())[:5]}\")\n",
    "print(\"=\" * 80)\n",
    "\n",
    "some_id = list(dataset[visual_field].keys())[15]\n",
    "print(f\"Into IDs: {list(dataset[visual_field][some_id].keys())}\")\n",
    "print(f\"Shape: {list(dataset[visual_field][some_id]['intervals'].shape)}\")\n",
    "print(\"=\" * 80)\n",
    "\n",
    "print(f\"Shape visual features: {list(dataset[visual_field][some_id]['features'].shape)}\")\n",
    "print(f\"Shape text features: {list(dataset[text_field][some_id]['features'].shape)}\")\n",
    "print(f\"Shape acoustic features: {list(dataset[acoustic_field][some_id]['features'].shape)}\")\n",
    "print(\"Different modalities have different number of time steps!\")"
   ]
  },
  {
   "cell_type": "code",
   "execution_count": 46,
   "metadata": {},
   "outputs": [
    {
     "name": "stdout",
     "output_type": "stream",
     "text": [
      "\u001b[94m\u001b[1m[2023-09-22 11:41:23.911] | Status  | \u001b[0mUnify was called ...\n",
      "\u001b[92m\u001b[1m[2023-09-22 11:41:23.912] | Success | \u001b[0mUnify completed ...\n",
      "\u001b[94m\u001b[1m[2023-09-22 11:41:23.912] | Status  | \u001b[0mPre-alignment based on <CMU_MOSI_TimestampedWords> computational sequence started ...\n",
      "\u001b[94m\u001b[1m[2023-09-22 11:41:24.949] | Status  | \u001b[0mPre-alignment done for <CMU_MOSI_Visual_Facet_41> ...\n",
      "\u001b[94m\u001b[1m[2023-09-22 11:41:29.553] | Status  | \u001b[0mPre-alignment done for <CMU_MOSI_COVAREP> ...\n",
      "\u001b[94m\u001b[1m[2023-09-22 11:41:29.580] | Status  | \u001b[0mAlignment starting ...\n"
     ]
    },
    {
     "name": "stderr",
     "output_type": "stream",
     "text": [
      "                                                                                              \r"
     ]
    },
    {
     "name": "stdout",
     "output_type": "stream",
     "text": [
      "\u001b[92m\u001b[1m[2023-09-22 11:42:01.971] | Success | \u001b[0mAlignment to <CMU_MOSI_TimestampedWords> complete.\n",
      "\u001b[94m\u001b[1m[2023-09-22 11:42:01.971] | Status  | \u001b[0mReplacing dataset content with aligned computational sequences\n",
      "\u001b[92m\u001b[1m[2023-09-22 11:42:01.986] | Success | \u001b[0mInitialized empty <CMU_MOSI_TimestampedWords> computational sequence.\n",
      "\u001b[94m\u001b[1m[2023-09-22 11:42:01.987] | Status  | \u001b[0mChecking the format of the data in <CMU_MOSI_TimestampedWords> computational sequence ...\n"
     ]
    },
    {
     "name": "stderr",
     "output_type": "stream",
     "text": [
      "                                                                      \r"
     ]
    },
    {
     "name": "stdout",
     "output_type": "stream",
     "text": [
      "\u001b[92m\u001b[1m[2023-09-22 11:42:02.049] | Success | \u001b[0m<CMU_MOSI_TimestampedWords> computational sequence data in correct format.\n",
      "\u001b[94m\u001b[1m[2023-09-22 11:42:02.049] | Status  | \u001b[0mChecking the format of the metadata in <CMU_MOSI_TimestampedWords> computational sequence ...\n",
      "\u001b[93m\u001b[1m[2023-09-22 11:42:02.049] | Warning | \u001b[0m<CMU_MOSI_TimestampedWords> computational sequence does not have all the required metadata ... continuing \n",
      "\u001b[92m\u001b[1m[2023-09-22 11:42:02.049] | Success | \u001b[0mInitialized empty <CMU_MOSI_Visual_Facet_41> computational sequence.\n",
      "\u001b[94m\u001b[1m[2023-09-22 11:42:02.049] | Status  | \u001b[0mChecking the format of the data in <CMU_MOSI_Visual_Facet_41> computational sequence ...\n"
     ]
    },
    {
     "name": "stderr",
     "output_type": "stream",
     "text": [
      "                                                                      \r"
     ]
    },
    {
     "name": "stdout",
     "output_type": "stream",
     "text": [
      "\u001b[92m\u001b[1m[2023-09-22 11:42:02.081] | Success | \u001b[0m<CMU_MOSI_Visual_Facet_41> computational sequence data in correct format.\n",
      "\u001b[94m\u001b[1m[2023-09-22 11:42:02.081] | Status  | \u001b[0mChecking the format of the metadata in <CMU_MOSI_Visual_Facet_41> computational sequence ...\n",
      "\u001b[93m\u001b[1m[2023-09-22 11:42:02.081] | Warning | \u001b[0m<CMU_MOSI_Visual_Facet_41> computational sequence does not have all the required metadata ... continuing \n",
      "\u001b[92m\u001b[1m[2023-09-22 11:42:02.081] | Success | \u001b[0mInitialized empty <CMU_MOSI_COVAREP> computational sequence.\n",
      "\u001b[94m\u001b[1m[2023-09-22 11:42:02.081] | Status  | \u001b[0mChecking the format of the data in <CMU_MOSI_COVAREP> computational sequence ...\n"
     ]
    },
    {
     "name": "stderr",
     "output_type": "stream",
     "text": [
      "                                                                      \r"
     ]
    },
    {
     "name": "stdout",
     "output_type": "stream",
     "text": [
      "\u001b[92m\u001b[1m[2023-09-22 11:42:02.111] | Success | \u001b[0m<CMU_MOSI_COVAREP> computational sequence data in correct format.\n",
      "\u001b[94m\u001b[1m[2023-09-22 11:42:02.111] | Status  | \u001b[0mChecking the format of the metadata in <CMU_MOSI_COVAREP> computational sequence ...\n",
      "\u001b[93m\u001b[1m[2023-09-22 11:42:02.111] | Warning | \u001b[0m<CMU_MOSI_COVAREP> computational sequence does not have all the required metadata ... continuing \n"
     ]
    }
   ],
   "source": [
    "import numpy as np\n",
    "def avg(intervals: np.array, features: np.array) -> np.array:\n",
    "    try:\n",
    "        return np.average(features, axis=0)\n",
    "    except:\n",
    "        return features\n",
    "dataset.align(text_field, collapse_functions=[avg])\n"
   ]
  },
  {
   "cell_type": "code",
   "execution_count": null,
   "metadata": {},
   "outputs": [],
   "source": []
  }
 ],
 "metadata": {
  "kernelspec": {
   "display_name": "emotionunify",
   "language": "python",
   "name": "python3"
  },
  "language_info": {
   "codemirror_mode": {
    "name": "ipython",
    "version": 3
   },
   "file_extension": ".py",
   "mimetype": "text/x-python",
   "name": "python",
   "nbconvert_exporter": "python",
   "pygments_lexer": "ipython3",
   "version": "3.11.5"
  },
  "orig_nbformat": 4
 },
 "nbformat": 4,
 "nbformat_minor": 2
}
